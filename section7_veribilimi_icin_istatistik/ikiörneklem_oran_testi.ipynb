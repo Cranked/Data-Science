{
 "cells": [
  {
   "cell_type": "markdown",
   "id": "28de5e05-7393-4b34-8c80-6655d685662e",
   "metadata": {},
   "source": [
    "### İki Örneklem Oran Testi"
   ]
  },
  {
   "cell_type": "code",
   "execution_count": 2,
   "id": "6de2d0f2-0d84-46d5-bf50-0a7888f42ff7",
   "metadata": {},
   "outputs": [],
   "source": [
    "import numpy as np\n",
    "from statsmodels.stats.proportion import proportions_ztest"
   ]
  },
  {
   "cell_type": "code",
   "execution_count": 3,
   "id": "b39776f2-6121-4806-bc09-1b05db8793af",
   "metadata": {},
   "outputs": [],
   "source": [
    "basari_Sayisi=np.array([300,250])"
   ]
  },
  {
   "cell_type": "code",
   "execution_count": 4,
   "id": "9b2d7447-843d-4d24-9520-b7ef6a3d7bb7",
   "metadata": {},
   "outputs": [],
   "source": [
    "gozlem_sayilari=np.array([1000,1100])"
   ]
  },
  {
   "cell_type": "code",
   "execution_count": 5,
   "id": "e3f839da-8387-455a-848a-ffae4fcd4d24",
   "metadata": {},
   "outputs": [
    {
     "data": {
      "text/plain": [
       "(3.7857863233209255, 0.0001532232957772221)"
      ]
     },
     "execution_count": 5,
     "metadata": {},
     "output_type": "execute_result"
    }
   ],
   "source": [
    "proportions_ztest(count=basari_Sayisi,nobs=gozlem_sayilari)"
   ]
  },
  {
   "cell_type": "code",
   "execution_count": null,
   "id": "683bb879-34a1-4055-bbc5-617945c917e9",
   "metadata": {},
   "outputs": [],
   "source": [
    " "
   ]
  }
 ],
 "metadata": {
  "kernelspec": {
   "display_name": "Python 3 (ipykernel)",
   "language": "python",
   "name": "python3"
  },
  "language_info": {
   "codemirror_mode": {
    "name": "ipython",
    "version": 3
   },
   "file_extension": ".py",
   "mimetype": "text/x-python",
   "name": "python",
   "nbconvert_exporter": "python",
   "pygments_lexer": "ipython3",
   "version": "3.9.7"
  }
 },
 "nbformat": 4,
 "nbformat_minor": 5
}
