{
 "cells": [
  {
   "cell_type": "markdown",
   "id": "c7d24a7c-bfa2-431c-a73a-fda76de8fe19",
   "metadata": {},
   "source": [
    "# Olasılık Dağılımı "
   ]
  },
  {
   "cell_type": "markdown",
   "id": "640a460e-9aac-47d5-8c11-2662e630a0cf",
   "metadata": {},
   "source": [
    "Bernoulli Dağılımı"
   ]
  },
  {
   "cell_type": "markdown",
   "id": "3d8e363e-4089-429b-b7c9-8fa6fb8e677c",
   "metadata": {},
   "source": [
    "${\\displaystyle f(k;p)=p^{k}(1-p)^{1-k}\\quad {\\text{for }}k\\in \\{0,1\\}}$\n",
    "\n",
    "\n",
    "${\\displaystyle \\operatorname {E} \\left(X\\right)=p}$\n",
    "\n",
    "$\\operatorname {Var} [X]=pq=p(1-p)$"
   ]
  },
  {
   "cell_type": "code",
   "execution_count": 2,
   "id": "60e8debd-0ff8-450d-af2a-d4978eedc4b3",
   "metadata": {},
   "outputs": [],
   "source": [
    "from scipy.stats import bernoulli"
   ]
  },
  {
   "cell_type": "code",
   "execution_count": 3,
   "id": "d2ad240a-3791-4412-896d-09c0b99f77b5",
   "metadata": {},
   "outputs": [],
   "source": [
    "p=0.6"
   ]
  },
  {
   "cell_type": "code",
   "execution_count": 4,
   "id": "13a6b6e1-ab39-46a3-ad85-67b66233796b",
   "metadata": {},
   "outputs": [
    {
     "data": {
      "text/plain": [
       "0.4"
      ]
     },
     "execution_count": 4,
     "metadata": {},
     "output_type": "execute_result"
    }
   ],
   "source": [
    "rv=bernoulli(p)\n",
    "#pmf probabilitiy mass function açılımı\n",
    "rv.pmf(k=0)"
   ]
  },
  {
   "cell_type": "code",
   "execution_count": 5,
   "id": "81a9aa2e-16d9-4cf4-8985-854a30840014",
   "metadata": {},
   "outputs": [
    {
     "data": {
      "text/plain": [
       "0.6"
      ]
     },
     "execution_count": 5,
     "metadata": {},
     "output_type": "execute_result"
    }
   ],
   "source": [
    "rv.pmf(k=1)"
   ]
  },
  {
   "cell_type": "code",
   "execution_count": null,
   "id": "4dd75ae1-06b3-4210-b930-7af217648004",
   "metadata": {},
   "outputs": [],
   "source": []
  }
 ],
 "metadata": {
  "kernelspec": {
   "display_name": "Python 3 (ipykernel)",
   "language": "python",
   "name": "python3"
  },
  "language_info": {
   "codemirror_mode": {
    "name": "ipython",
    "version": 3
   },
   "file_extension": ".py",
   "mimetype": "text/x-python",
   "name": "python",
   "nbconvert_exporter": "python",
   "pygments_lexer": "ipython3",
   "version": "3.9.7"
  }
 },
 "nbformat": 4,
 "nbformat_minor": 5
}
