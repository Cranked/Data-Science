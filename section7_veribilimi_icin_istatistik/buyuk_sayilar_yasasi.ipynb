{
 "cells": [
  {
   "cell_type": "markdown",
   "id": "4ae42e74-319c-4fb1-817e-21e5b8d8aa51",
   "metadata": {},
   "source": [
    "# Büyük Sayılar Yasası"
   ]
  },
  {
   "cell_type": "markdown",
   "id": "77c5384d-10d4-49ce-bbdf-3d855d999cb3",
   "metadata": {},
   "source": [
    "**Bir rassal  değişkenin  uzun vadeli kararlılığını  tanımlayan olasılık teorimidir.**"
   ]
  },
  {
   "cell_type": "code",
   "execution_count": 9,
   "id": "0756ff90-ca07-4386-a94d-e8a083227734",
   "metadata": {
    "tags": []
   },
   "outputs": [
    {
     "name": "stdout",
     "output_type": "stream",
     "text": [
      "Atış Sayısı :2 Yazı Olasılığı : 0.5\n",
      "Atış Sayısı :4 Yazı Olasılığı : 0.0\n",
      "Atış Sayısı :8 Yazı Olasılığı : 0.625\n",
      "Atış Sayısı :16 Yazı Olasılığı : 0.4375\n",
      "Atış Sayısı :32 Yazı Olasılığı : 0.46875\n",
      "Atış Sayısı :64 Yazı Olasılığı : 0.5625\n",
      "Atış Sayısı :128 Yazı Olasılığı : 0.5078125\n",
      "Atış Sayısı :256 Yazı Olasılığı : 0.52734375\n",
      "Atış Sayısı :512 Yazı Olasılığı : 0.529296875\n",
      "Atış Sayısı :1024 Yazı Olasılığı : 0.501953125\n",
      "Atış Sayısı :2048 Yazı Olasılığı : 0.48583984375\n",
      "Atış Sayısı :4096 Yazı Olasılığı : 0.494873046875\n",
      "Atış Sayısı :8192 Yazı Olasılığı : 0.495849609375\n",
      "Atış Sayısı :16384 Yazı Olasılığı : 0.49957275390625\n",
      "Atış Sayısı :32768 Yazı Olasılığı : 0.5\n",
      "Atış Sayısı :65536 Yazı Olasılığı : 0.4967803955078125\n",
      "Atış Sayısı :131072 Yazı Olasılığı : 0.49973297119140625\n",
      "Atış Sayısı :262144 Yazı Olasılığı : 0.5012550354003906\n",
      "Atış Sayısı :524288 Yazı Olasılığı : 0.5001296997070312\n",
      "Atış Sayısı :1048576 Yazı Olasılığı : 0.5009002685546875\n"
     ]
    }
   ],
   "source": [
    "import numpy as np\n",
    "rng=np.random.RandomState(123)\n",
    "for i in np.arange(1,21):\n",
    "    deney_sayisi=2**i\n",
    "    yazı_turalar=rng.randint(0,2,size=deney_sayisi)\n",
    "    yazı_olasiliklari=np.mean(yazı_turalar)\n",
    "    print((\"Atış Sayısı :{ds}\"+\" Yazı Olasılığı : {yo}\").format(ds=deney_sayisi,yo=yazı_olasiliklari))"
   ]
  },
  {
   "cell_type": "code",
   "execution_count": null,
   "id": "ea6849dc-fdd9-4b8b-a0e2-8007c5c1d2b8",
   "metadata": {},
   "outputs": [],
   "source": []
  }
 ],
 "metadata": {
  "kernelspec": {
   "display_name": "Python 3 (ipykernel)",
   "language": "python",
   "name": "python3"
  },
  "language_info": {
   "codemirror_mode": {
    "name": "ipython",
    "version": 3
   },
   "file_extension": ".py",
   "mimetype": "text/x-python",
   "name": "python",
   "nbconvert_exporter": "python",
   "pygments_lexer": "ipython3",
   "version": "3.9.7"
  }
 },
 "nbformat": 4,
 "nbformat_minor": 5
}
