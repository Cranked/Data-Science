{
 "cells": [
  {
   "cell_type": "markdown",
   "id": "7c0ae92f-b2a2-41ef-90b0-eb9561229b0a",
   "metadata": {},
   "source": [
    "# **Normal Dağılım**"
   ]
  },
  {
   "cell_type": "markdown",
   "id": "99a8f204-d7ee-4564-9d7a-7621fc034fdc",
   "metadata": {},
   "source": [
    "${\\displaystyle f(x\\mid \\mu ,\\sigma ^{2})={\\frac {1}{\\sqrt {2\\pi \\sigma ^{2}}}}e^{-{\\frac {(x-\\mu )^{2}}{2\\sigma ^{2}}}}}$\n",
    "\n",
    "* $\\mu$  ortalama ya da dağılımın beklenen değeri\n",
    "\n",
    "* ${\\displaystyle \\sigma }$  standart sapma\n",
    "\n",
    "* ${\\displaystyle \\sigma ^{2}}$ varyans"
   ]
  },
  {
   "cell_type": "markdown",
   "id": "dcf22306-ef3a-48e7-ab5b-a3d098796747",
   "metadata": {},
   "source": [
    "Dağılımın normal olduğu biliniyor.Aylık ortalama satışı 80k,standart sapması 5k,90k'dan fazla satış yapma olasılığı nedir ?"
   ]
  },
  {
   "cell_type": "code",
   "execution_count": 1,
   "id": "1f4bdbd5-b57b-47d0-819f-2231bde173bd",
   "metadata": {},
   "outputs": [],
   "source": [
    "from scipy.stats import norm\n",
    "# 90'dan fazla olması\n",
    "# 70'den fazla olması\n",
    "# 73'den az olması\n",
    "# 85 ile 90 arasında olması"
   ]
  },
  {
   "cell_type": "code",
   "execution_count": 4,
   "id": "0195a77d-8b0f-4774-842e-cccf58060f4d",
   "metadata": {},
   "outputs": [
    {
     "data": {
      "text/plain": [
       "0.02275013194817921"
      ]
     },
     "execution_count": 4,
     "metadata": {},
     "output_type": "execute_result"
    }
   ],
   "source": [
    "#90'dan fazla olması\n",
    "1-norm.cdf(90, 80, 5)"
   ]
  },
  {
   "cell_type": "code",
   "execution_count": 5,
   "id": "a286980e-2cfd-4a67-920e-01b1311be54c",
   "metadata": {},
   "outputs": [
    {
     "data": {
      "text/plain": [
       "0.9772498680518208"
      ]
     },
     "execution_count": 5,
     "metadata": {},
     "output_type": "execute_result"
    }
   ],
   "source": [
    "#70'den fazla olması\n",
    "1-norm.cdf(70, 80, 5)"
   ]
  },
  {
   "cell_type": "code",
   "execution_count": 6,
   "id": "331c88fd-ca02-465a-b829-772a4ad6c9de",
   "metadata": {},
   "outputs": [
    {
     "data": {
      "text/plain": [
       "0.08075665923377107"
      ]
     },
     "execution_count": 6,
     "metadata": {},
     "output_type": "execute_result"
    }
   ],
   "source": [
    "# 73'den az olması\n",
    "norm.cdf(73, 80, 5)"
   ]
  },
  {
   "cell_type": "code",
   "execution_count": 7,
   "id": "8d68b90a-4f4a-44e3-9036-d36cee6eec62",
   "metadata": {},
   "outputs": [
    {
     "data": {
      "text/plain": [
       "0.13590512198327787"
      ]
     },
     "execution_count": 7,
     "metadata": {},
     "output_type": "execute_result"
    }
   ],
   "source": [
    "# 85 ile 90 arasında olması\n",
    "norm.cdf(90, 80, 5)-norm.cdf(85, 80, 5)"
   ]
  },
  {
   "cell_type": "code",
   "execution_count": null,
   "id": "6a4fc0d8-fdfc-46ba-b0c9-75c37ca23a85",
   "metadata": {},
   "outputs": [],
   "source": []
  }
 ],
 "metadata": {
  "kernelspec": {
   "display_name": "Python 3 (ipykernel)",
   "language": "python",
   "name": "python3"
  },
  "language_info": {
   "codemirror_mode": {
    "name": "ipython",
    "version": 3
   },
   "file_extension": ".py",
   "mimetype": "text/x-python",
   "name": "python",
   "nbconvert_exporter": "python",
   "pygments_lexer": "ipython3",
   "version": "3.9.7"
  }
 },
 "nbformat": 4,
 "nbformat_minor": 5
}
