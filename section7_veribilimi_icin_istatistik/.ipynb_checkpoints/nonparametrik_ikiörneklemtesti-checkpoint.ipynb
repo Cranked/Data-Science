{
 "cells": [
  {
   "cell_type": "code",
   "execution_count": 23,
   "id": "e9eefddc-eaab-4cfd-8bbd-96d1a983850f",
   "metadata": {},
   "outputs": [],
   "source": [
    "import pandas as pd\n",
    "import numpy as np \n",
    "import scipy.stats as stats"
   ]
  },
  {
   "cell_type": "code",
   "execution_count": 2,
   "id": "cf764115-d23f-4857-8544-e4b0854f9b1e",
   "metadata": {},
   "outputs": [],
   "source": [
    "oncesi = pd.DataFrame([123,119,119,116,123,123,121,120,117,118,121,121,123,119,\n",
    "            121,118,124,121,125,115,115,119,118,121,117,117,120,120,\n",
    "            121,117,118,117,123,118,124,121,115,118,125,115])\n",
    "\n",
    "sonrasi = pd.DataFrame([118,127,122,132,129,123,129,132,128,130,128,138,140,130,\n",
    "             134,134,124,140,134,129,129,138,134,124,122,126,133,127,\n",
    "             130,130,130,132,117,130,125,129,133,120,127,123])"
   ]
  },
  {
   "cell_type": "code",
   "execution_count": 24,
   "id": "12766df0-467a-4093-a51d-8242aaa49f27",
   "metadata": {},
   "outputs": [],
   "source": [
    "#BIRINCI VERI SETI\n",
    "AYRIK = pd.concat([oncesi, sonrasi], axis = 1)\n",
    "AYRIK.columns = [\"ONCESI\",\"SONRASI\"]"
   ]
  },
  {
   "cell_type": "code",
   "execution_count": 6,
   "id": "b01b8b27-33b5-45ac-b295-179f3165d98c",
   "metadata": {
    "tags": []
   },
   "outputs": [],
   "source": [
    "grup_oncesi=np.arange(len(oncesi))\n",
    "grup_oncesi=pd.DataFrame(grup_oncesi)"
   ]
  },
  {
   "cell_type": "code",
   "execution_count": 26,
   "id": "e55144c6-58f0-4e4e-8779-b06f62407c5e",
   "metadata": {},
   "outputs": [],
   "source": [
    "grup_oncesi[:]=\"ONCESI\"\n",
    "A=pd.concat([oncesi,grup_oncesi],axis=1)"
   ]
  },
  {
   "cell_type": "code",
   "execution_count": 22,
   "id": "acb00af1-4eae-40e9-a101-07bd5b0d06a0",
   "metadata": {},
   "outputs": [
    {
     "data": {
      "text/html": [
       "<div>\n",
       "<style scoped>\n",
       "    .dataframe tbody tr th:only-of-type {\n",
       "        vertical-align: middle;\n",
       "    }\n",
       "\n",
       "    .dataframe tbody tr th {\n",
       "        vertical-align: top;\n",
       "    }\n",
       "\n",
       "    .dataframe thead th {\n",
       "        text-align: right;\n",
       "    }\n",
       "</style>\n",
       "<table border=\"1\" class=\"dataframe\">\n",
       "  <thead>\n",
       "    <tr style=\"text-align: right;\">\n",
       "      <th></th>\n",
       "      <th>PERFORMANS</th>\n",
       "      <th>ONCESIVESONRASI</th>\n",
       "    </tr>\n",
       "  </thead>\n",
       "  <tbody>\n",
       "    <tr>\n",
       "      <th>0</th>\n",
       "      <td>123</td>\n",
       "      <td>ÖNCESİ</td>\n",
       "    </tr>\n",
       "    <tr>\n",
       "      <th>1</th>\n",
       "      <td>119</td>\n",
       "      <td>ÖNCESİ</td>\n",
       "    </tr>\n",
       "    <tr>\n",
       "      <th>2</th>\n",
       "      <td>119</td>\n",
       "      <td>ÖNCESİ</td>\n",
       "    </tr>\n",
       "    <tr>\n",
       "      <th>3</th>\n",
       "      <td>116</td>\n",
       "      <td>ÖNCESİ</td>\n",
       "    </tr>\n",
       "    <tr>\n",
       "      <th>4</th>\n",
       "      <td>123</td>\n",
       "      <td>ÖNCESİ</td>\n",
       "    </tr>\n",
       "    <tr>\n",
       "      <th>...</th>\n",
       "      <td>...</td>\n",
       "      <td>...</td>\n",
       "    </tr>\n",
       "    <tr>\n",
       "      <th>35</th>\n",
       "      <td>129</td>\n",
       "      <td>SONRASI</td>\n",
       "    </tr>\n",
       "    <tr>\n",
       "      <th>36</th>\n",
       "      <td>133</td>\n",
       "      <td>SONRASI</td>\n",
       "    </tr>\n",
       "    <tr>\n",
       "      <th>37</th>\n",
       "      <td>120</td>\n",
       "      <td>SONRASI</td>\n",
       "    </tr>\n",
       "    <tr>\n",
       "      <th>38</th>\n",
       "      <td>127</td>\n",
       "      <td>SONRASI</td>\n",
       "    </tr>\n",
       "    <tr>\n",
       "      <th>39</th>\n",
       "      <td>123</td>\n",
       "      <td>SONRASI</td>\n",
       "    </tr>\n",
       "  </tbody>\n",
       "</table>\n",
       "<p>80 rows × 2 columns</p>\n",
       "</div>"
      ],
      "text/plain": [
       "    PERFORMANS ONCESIVESONRASI\n",
       "0          123          ÖNCESİ\n",
       "1          119          ÖNCESİ\n",
       "2          119          ÖNCESİ\n",
       "3          116          ÖNCESİ\n",
       "4          123          ÖNCESİ\n",
       "..         ...             ...\n",
       "35         129         SONRASI\n",
       "36         133         SONRASI\n",
       "37         120         SONRASI\n",
       "38         127         SONRASI\n",
       "39         123         SONRASI\n",
       "\n",
       "[80 rows x 2 columns]"
      ]
     },
     "execution_count": 22,
     "metadata": {},
     "output_type": "execute_result"
    }
   ],
   "source": [
    "grup_sonrası=np.arange(len(sonrasi))\n",
    "grup_sonrası=pd.DataFrame(grup_sonrası)\n",
    "grup_sonrası[:]=\"SONRASI\"\n",
    "B=pd.concat([sonrasi,grup_sonrası],axis=1)\n",
    "B\n",
    "A_B=pd.concat([A,B])\n",
    "A_B.columns=[\"PERFORMANS\",\"ONCESIVESONRASI\"]\n",
    "A_B"
   ]
  },
  {
   "cell_type": "markdown",
   "id": "dd4ef54f-d562-432b-a620-502deb9858f4",
   "metadata": {},
   "source": [
    "### Nonparametrik Bağımlı İki Örneklem Testi"
   ]
  },
  {
   "cell_type": "code",
   "execution_count": 27,
   "id": "034933ea-7622-4260-a3cd-a2f969138dd6",
   "metadata": {},
   "outputs": [
    {
     "data": {
      "text/plain": [
       "WilcoxonResult(statistic=15.0, pvalue=2.491492033374464e-07)"
      ]
     },
     "execution_count": 27,
     "metadata": {},
     "output_type": "execute_result"
    }
   ],
   "source": [
    "stats.wilcoxon(AYRIK.ONCESI,AYRIK.SONRASI)"
   ]
  },
  {
   "cell_type": "code",
   "execution_count": 28,
   "id": "af04c6f2-b510-4041-b6ae-ee1559aacbdb",
   "metadata": {},
   "outputs": [
    {
     "data": {
      "text/plain": [
       "'Test İstatistiği : 15.0 /np-değeri: 2.491492033374464e-07 '"
      ]
     },
     "execution_count": 28,
     "metadata": {},
     "output_type": "execute_result"
    }
   ],
   "source": [
    "test_istatistiği,pvalue=stats.wilcoxon(AYRIK.ONCESI,AYRIK.SONRASI)\n",
    "(\"Test İstatistiği : {} \"+ \"/n\"+ \"p-değeri: {} \").format(test_istatistiği,pvalue)"
   ]
  },
  {
   "cell_type": "code",
   "execution_count": null,
   "id": "0011a452-9186-411e-8d17-92ae60e749ff",
   "metadata": {},
   "outputs": [],
   "source": []
  }
 ],
 "metadata": {
  "kernelspec": {
   "display_name": "Python 3 (ipykernel)",
   "language": "python",
   "name": "python3"
  },
  "language_info": {
   "codemirror_mode": {
    "name": "ipython",
    "version": 3
   },
   "file_extension": ".py",
   "mimetype": "text/x-python",
   "name": "python",
   "nbconvert_exporter": "python",
   "pygments_lexer": "ipython3",
   "version": "3.9.7"
  }
 },
 "nbformat": 4,
 "nbformat_minor": 5
}
