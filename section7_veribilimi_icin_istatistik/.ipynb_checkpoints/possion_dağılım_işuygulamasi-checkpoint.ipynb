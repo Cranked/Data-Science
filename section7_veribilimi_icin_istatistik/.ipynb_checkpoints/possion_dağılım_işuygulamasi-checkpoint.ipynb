{
 "cells": [
  {
   "cell_type": "markdown",
   "id": "815f00fb-f651-4ab4-826e-b58c4cab6fa0",
   "metadata": {},
   "source": [
    "## Poisson Dağılımı\n",
    "\n",
    "${\\displaystyle f(x,\\lambda )={\\frac {\\lambda ^{x}e^{-\\lambda }}{x!}}\\,\\!}$,  x = 0,1,2,...,n"
   ]
  },
  {
   "cell_type": "code",
   "execution_count": 1,
   "id": "d4f2baf8-7b1f-463e-af52-90cb5f72ac66",
   "metadata": {},
   "outputs": [],
   "source": [
    "from scipy.stats import poisson"
   ]
  },
  {
   "cell_type": "code",
   "execution_count": 3,
   "id": "ebf03e43-9624-4280-aa1f-aaf408f53343",
   "metadata": {},
   "outputs": [],
   "source": [
    "lambda_=0.1"
   ]
  },
  {
   "cell_type": "code",
   "execution_count": 7,
   "id": "9cab47ec-1093-4497-9874-a30de82d96b4",
   "metadata": {},
   "outputs": [
    {
     "name": "stdout",
     "output_type": "stream",
     "text": [
      "0.9048374180359595\n",
      "0.00015080623633932676\n",
      "7.54031181696634e-08\n"
     ]
    }
   ],
   "source": [
    "rv=poisson(mu=lambda_)\n",
    "print(rv.pmf(k=0))\n",
    "print(rv.pmf(k=3))\n",
    "print(rv.pmf(k=5))"
   ]
  },
  {
   "cell_type": "code",
   "execution_count": null,
   "id": "e4b42807-d2d3-4f7d-ae72-3c40e071caf5",
   "metadata": {},
   "outputs": [],
   "source": []
  }
 ],
 "metadata": {
  "kernelspec": {
   "display_name": "Python 3 (ipykernel)",
   "language": "python",
   "name": "python3"
  },
  "language_info": {
   "codemirror_mode": {
    "name": "ipython",
    "version": 3
   },
   "file_extension": ".py",
   "mimetype": "text/x-python",
   "name": "python",
   "nbconvert_exporter": "python",
   "pygments_lexer": "ipython3",
   "version": "3.9.7"
  }
 },
 "nbformat": 4,
 "nbformat_minor": 5
}
