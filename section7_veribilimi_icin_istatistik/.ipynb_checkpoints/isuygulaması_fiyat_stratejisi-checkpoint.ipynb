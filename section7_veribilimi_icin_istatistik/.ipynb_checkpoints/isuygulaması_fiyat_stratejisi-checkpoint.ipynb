{
 "cells": [
  {
   "cell_type": "markdown",
   "id": "3d9b163d-e876-4a0b-a8fd-b80219619840",
   "metadata": {},
   "source": [
    "# İş Uygulaması : Fiyat Stratejisi Karar Destek"
   ]
  },
  {
   "cell_type": "code",
   "execution_count": 3,
   "id": "8fb0022b-f62e-4ae5-80f7-d904162028b3",
   "metadata": {},
   "outputs": [
    {
     "data": {
      "text/plain": [
       "59.808"
      ]
     },
     "execution_count": 3,
     "metadata": {},
     "output_type": "execute_result"
    }
   ],
   "source": [
    "import numpy as np\n",
    "fiyatlar=np.random.randint(10,110,1000)\n",
    "fiyatlar.mean()"
   ]
  },
  {
   "cell_type": "code",
   "execution_count": 4,
   "id": "8cca6a56-3c75-449c-a203-39d7cae5265c",
   "metadata": {},
   "outputs": [],
   "source": [
    "import statsmodels.stats.api as sms"
   ]
  },
  {
   "cell_type": "code",
   "execution_count": 5,
   "id": "b7b816fc-dc85-4613-8df0-446dcbddfdfd",
   "metadata": {},
   "outputs": [
    {
     "data": {
      "text/plain": [
       "(58.07351615601487, 61.54248384398513)"
      ]
     },
     "execution_count": 5,
     "metadata": {},
     "output_type": "execute_result"
    }
   ],
   "source": [
    "sms.DescrStatsW(fiyatlar).tconfint_mean()"
   ]
  },
  {
   "cell_type": "code",
   "execution_count": null,
   "id": "816043fa-2c81-4c72-b4f0-31c0bdaaddb7",
   "metadata": {},
   "outputs": [],
   "source": []
  }
 ],
 "metadata": {
  "kernelspec": {
   "display_name": "Python 3 (ipykernel)",
   "language": "python",
   "name": "python3"
  },
  "language_info": {
   "codemirror_mode": {
    "name": "ipython",
    "version": 3
   },
   "file_extension": ".py",
   "mimetype": "text/x-python",
   "name": "python",
   "nbconvert_exporter": "python",
   "pygments_lexer": "ipython3",
   "version": "3.9.7"
  }
 },
 "nbformat": 4,
 "nbformat_minor": 5
}
