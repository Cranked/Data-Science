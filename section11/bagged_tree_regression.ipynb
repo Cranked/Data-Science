{
 "cells": [
  {
   "cell_type": "markdown",
   "id": "8a30c3ed-4aeb-4627-ab52-e011d664bc3b",
   "metadata": {},
   "source": [
    "# Bagged Tree Regression"
   ]
  },
  {
   "cell_type": "code",
   "execution_count": 1,
   "id": "ea0997f6-3ce9-4a9f-89bb-b7268deb32a7",
   "metadata": {},
   "outputs": [],
   "source": [
    "import numpy as np\n",
    "import pandas as pd \n",
    "from sklearn.model_selection import train_test_split, GridSearchCV,cross_val_score\n",
    "from sklearn.metrics import mean_squared_error, r2_score\n",
    "import matplotlib.pyplot as plt\n",
    "from sklearn.preprocessing import scale \n",
    "from sklearn import model_selection\n",
    "from sklearn.tree import DecisionTreeRegressor, DecisionTreeClassifier\n",
    "from sklearn.neighbors import KNeighborsRegressor\n",
    "from sklearn.ensemble import BaggingRegressor\n",
    "\n",
    "from warnings import filterwarnings\n",
    "filterwarnings('ignore')"
   ]
  },
  {
   "cell_type": "code",
   "execution_count": 2,
   "id": "97bbcf2f-28fb-4e46-ae84-15735750f6e0",
   "metadata": {},
   "outputs": [],
   "source": [
    "hit = pd.read_csv(\"Hitters.csv\")\n",
    "df = hit.copy()\n",
    "df = df.dropna()\n",
    "dms = pd.get_dummies(df[['League', 'Division', 'NewLeague']])\n",
    "y = df[\"Salary\"]\n",
    "X_ = df.drop(['Salary', 'League', 'Division', 'NewLeague'], axis=1).astype('float64')\n",
    "X = pd.concat([X_, dms[['League_N', 'Division_W', 'NewLeague_N']]], axis=1)\n",
    "X_train, X_test, y_train, y_test = train_test_split(X, y, \n",
    "                                                    test_size=0.25, \n",
    "                                                    random_state=42)"
   ]
  },
  {
   "cell_type": "code",
   "execution_count": 3,
   "id": "d57835c9-fe34-4126-8ded-40fb0b4a019b",
   "metadata": {},
   "outputs": [],
   "source": [
    "bag_model=BaggingRegressor(bootstrap_features=True)"
   ]
  },
  {
   "cell_type": "code",
   "execution_count": 4,
   "id": "44a28e62-8b1d-4258-a971-3d9bcc8db4ad",
   "metadata": {},
   "outputs": [
    {
     "data": {
      "text/plain": [
       "BaggingRegressor(bootstrap_features=True)"
      ]
     },
     "execution_count": 4,
     "metadata": {},
     "output_type": "execute_result"
    }
   ],
   "source": [
    "bag_model.fit(X_train,y_train)"
   ]
  },
  {
   "cell_type": "code",
   "execution_count": 5,
   "id": "f0770258-0868-411c-b956-f7d60710b3d9",
   "metadata": {},
   "outputs": [
    {
     "data": {
      "text/plain": [
       "[DecisionTreeRegressor(random_state=645807840),\n",
       " DecisionTreeRegressor(random_state=1965859853),\n",
       " DecisionTreeRegressor(random_state=7635885),\n",
       " DecisionTreeRegressor(random_state=1349109735),\n",
       " DecisionTreeRegressor(random_state=1107287120),\n",
       " DecisionTreeRegressor(random_state=315637402),\n",
       " DecisionTreeRegressor(random_state=1573485830),\n",
       " DecisionTreeRegressor(random_state=65754825),\n",
       " DecisionTreeRegressor(random_state=531016858),\n",
       " DecisionTreeRegressor(random_state=1723100518)]"
      ]
     },
     "execution_count": 5,
     "metadata": {},
     "output_type": "execute_result"
    }
   ],
   "source": [
    "bag_model.estimators_"
   ]
  },
  {
   "cell_type": "code",
   "execution_count": 6,
   "id": "8edd94ed-c03e-4796-b0fe-95876bc04a30",
   "metadata": {},
   "outputs": [
    {
     "data": {
      "text/plain": [
       "10"
      ]
     },
     "execution_count": 6,
     "metadata": {},
     "output_type": "execute_result"
    }
   ],
   "source": [
    "bag_model.n_estimators"
   ]
  },
  {
   "cell_type": "code",
   "execution_count": 7,
   "id": "4483a609-f836-4df1-94dd-4ba38027468e",
   "metadata": {},
   "outputs": [
    {
     "data": {
      "text/plain": [
       "[array([ 85,  33,  90, 102,  37, 179,  73, 152,   3, 173,  97,  68, 189,\n",
       "        191,  98,  12, 187, 162, 128,   7, 157, 186,  32, 115, 136,  68,\n",
       "        176,  70,  76,  47, 122,  94, 185,  12,  85, 188,  27, 152, 182,\n",
       "         46, 168, 123, 120,  84,  58, 124, 158,  96, 125, 182, 175,  96,\n",
       "          0, 115, 165, 182, 162, 185,  93,  54,  68,  88, 110, 191,  12,\n",
       "        193, 156, 169,  31,  23, 186,  85,  76, 145,  36, 194,  62, 106,\n",
       "         64,  66,  94,  92,  80,  46,  80,  20, 107, 131, 109,  50,  23,\n",
       "        166, 173, 176, 194,  10, 153,  24,  46,  61, 195, 166, 192,  13,\n",
       "         45,  32, 154,   9,  34, 123,  52,  36,  72, 157, 146, 151, 111,\n",
       "         56,   3,   1, 192, 109,  30, 189, 183, 187,  19,  96,  82, 192,\n",
       "         53,  69,  91, 195,  95, 127,  91,  79, 136, 167,  67,  19, 181,\n",
       "        172,   9,   3,  68,  22, 131,  73,  88,  85, 171,  34,  10, 111,\n",
       "         23,  51, 164,   2,  47, 169,  29,  53,  73,  53,  18,  57,  52,\n",
       "        176,  58, 104, 100,  60, 102,  29,  40,  76, 130, 137, 127,  68,\n",
       "         84,  70,  83,  32, 166, 107, 167, 155,   5, 157, 100,  72,  42,\n",
       "        149,  35]),\n",
       " array([118, 192,  67,  16, 139, 100,  95, 114, 127, 100, 118, 161, 190,\n",
       "         88,  45,  68, 121, 128, 185,  44, 103,   9,  68, 125, 194,  11,\n",
       "        110,   5,  84,  27,  64, 147,   7, 115,   6,  86,  18, 121,  27,\n",
       "        181,  69, 102,  25, 176,   5,  12,  76,  48, 110, 110, 116, 172,\n",
       "        191, 100, 174,  72, 127, 123,  20, 176, 185,  87,  90, 185, 121,\n",
       "        195, 154, 102, 120, 190,   6, 173,  48, 179, 130, 162,  77,  88,\n",
       "        140, 183, 191,  20, 105, 171,  80, 160, 138, 163, 191,   1,  65,\n",
       "        137, 138, 164, 146,  94, 142, 168,  29,  87, 135,  57,  15, 124,\n",
       "        180, 175,  81,  51,  29,  44, 159, 175, 129, 170, 182, 144, 152,\n",
       "        163, 146, 122, 101,  93, 174,  30, 167, 184, 125,  15,  68, 124,\n",
       "         96, 102,  43,   7, 169,  89, 157,  98, 118, 157, 129,  99, 154,\n",
       "         51,  91, 142, 174, 153, 190, 131, 130,  38, 118, 124, 146,  26,\n",
       "        104,  60, 133,  35, 187,  55, 124,  99, 116,  30,  15,  46,  84,\n",
       "         15, 158,  34,  36,  44, 119,  26,  11,  51, 134,  72,  18,  44,\n",
       "        175, 176,  78, 125,  17,  84, 194, 176, 104,  83, 154,  87, 126,\n",
       "        121, 177]),\n",
       " array([187, 120, 164, 121,  86,  10,  40,  72, 111,  28,  31,  62,  69,\n",
       "        172,  18, 123, 172,  86, 154, 195, 102,   5, 140, 169, 114,  78,\n",
       "         18, 136, 155,   5, 191, 145, 159, 161,  47,   0,  16, 179, 102,\n",
       "         19,  73, 193, 163,  70, 160, 175, 176,  70,  62, 183,  95,  99,\n",
       "        157, 170,  14, 146,  22,  51, 151, 193,  30,  22, 192, 150,  51,\n",
       "        138,  59, 181,  36,  78, 117, 176,  62,  21,  75,  39,  74, 151,\n",
       "        195, 144, 124, 107,  17,  43, 167,  84,  34,  38,  25,  24, 190,\n",
       "         74, 195,  49,  81, 172,  55, 124, 123, 113,  37,  81, 111,  11,\n",
       "        176, 142, 108,  79,   0,  30, 184,   6, 124, 124, 144, 145, 136,\n",
       "         43,  55, 158,  56, 135,  89,  20,  48,  42, 176,  14, 124,  21,\n",
       "         17, 193,  93, 109, 126,  64, 140,  10, 180, 136,  40, 194,  59,\n",
       "        177, 153, 131,  90, 195,  99, 187,   9,  96,  63, 119,  98,  16,\n",
       "         85,  69, 188,  40,  92, 135, 151,  73,  41,  23, 194, 192,  47,\n",
       "        186,  75,  42, 160,   7, 137, 150, 166, 121,  91, 152,  56, 142,\n",
       "         66, 134,  21, 114,  66, 166,  62,  62,  33,  59, 106, 170, 143,\n",
       "         12,  25]),\n",
       " array([188, 132,  25, 156,  41,  77,  15,  37, 164, 171, 135, 111,  60,\n",
       "        128, 114, 194, 187,  44,  79, 156, 142, 175,   7, 174,  87,  82,\n",
       "         76, 159,  80, 187,  80,   2, 178, 147, 181,  13, 168,  93,  33,\n",
       "         39, 196,  23, 180,  38, 166, 186,  37, 160,  91, 188, 190,  70,\n",
       "        145,  58,   4, 181,  71, 153,  93,  77, 159,  28,  76, 108, 161,\n",
       "         77,  52,  40,  58,  87, 139, 110,  85, 185, 129, 173, 102,  23,\n",
       "         16,  14,   0, 189, 137, 169, 151, 153, 113, 101, 186,  86, 132,\n",
       "        105,  94,  35, 176,  93,  82,  55, 147, 150,   4,  66, 170, 154,\n",
       "         67,  19, 159,  77, 140,  73, 113,  55,  40, 104, 147,  27,  88,\n",
       "         15, 149,   0,  99,  33,  21, 113, 139,  20,  80, 108, 156, 145,\n",
       "         92, 140,  34,  35, 196, 112,  13, 164, 148, 174,  35,   8, 122,\n",
       "         94,  63, 170, 140, 191, 186,  42,  60, 101, 133,  94,  37, 141,\n",
       "        121,  95, 152, 152, 149,  47,  34, 175,  47, 182, 146,  17,  81,\n",
       "         79,  57,   4,  58, 153, 172,  22, 179,  41,  69,  90,  76,  14,\n",
       "        104,  70, 162,  47,  80,  53, 160,  73,  23, 162, 191, 164, 151,\n",
       "         82, 168]),\n",
       " array([ 41,  14,  65, 183,  77, 158,  40,  99, 194,  58, 122,  93,  63,\n",
       "        149,  44,  33,   8,  95, 176,  36, 164,  84, 193,  68,  18,  88,\n",
       "         42,  83,  45,  26, 105,  95,  42,  25, 173,  33,   6, 112,  67,\n",
       "         40,  50,  84, 133,  55, 105, 121, 165, 137,  95,  98,  44,   0,\n",
       "         44,  81,  55,  48,  47,  48,  60,  50,  35, 158,  28,  99, 149,\n",
       "        187, 165, 155, 122,  21, 149,  57,  17, 138, 184,  89, 151, 159,\n",
       "        104, 149, 183, 179,  63, 140,  40, 154, 161, 120, 100, 106, 106,\n",
       "        174,  89,  93,  76,  79,  77,  68,  43,   8, 187,  93, 119, 150,\n",
       "         21,  44,  48,  36, 169, 106,  81,  74,  42, 127,  55,  62, 156,\n",
       "        145, 194,  72,  91, 100, 145,  82,  52,  54, 138,  64,  46,  15,\n",
       "        153,  53, 112, 153,   1, 158,  51, 115,  15,  19, 184,  90,  89,\n",
       "         55,  82,  16, 125,  66,  98,  78,  64,  64, 121,  10, 131, 168,\n",
       "         75, 101,  56, 135, 149, 120, 160,  14, 103, 136, 162,  58,  50,\n",
       "        111, 189, 163,  58, 111, 156,  54,  66, 174, 191, 142,  75,  87,\n",
       "         17,  62, 121, 152,  46, 134, 187, 156,  33,  10, 174, 173,  88,\n",
       "         71, 189]),\n",
       " array([103,   7,  83, 163, 118,  13, 123,  65, 161, 123, 162,  67,  42,\n",
       "        129, 184, 183, 122,   5, 165, 118, 138,  23,  93,  44, 101,   7,\n",
       "         83,  59, 195, 127,  28,  59, 148, 196, 167,  15, 190,  40, 106,\n",
       "         78, 180,  92,  50, 150, 136, 183, 120, 172, 101,  12,  70,   8,\n",
       "        176, 188,  73,  35,  27,  36,  16, 187,  99, 133, 152,  55, 168,\n",
       "         34, 162, 159, 140,  48,  52,   3, 175, 111,   0, 109,  97, 193,\n",
       "        169,  78,   2,  16,  58, 185, 130,  38, 163,  81, 138, 131, 131,\n",
       "        102,  59,  46, 133, 123,  77, 150,  87,  90,  65, 195, 118,  42,\n",
       "        162,  92, 124,  93, 110,  99,  10,  84,  13,   7,  83,  48, 150,\n",
       "         48, 195, 170, 140, 159, 116, 103,  53, 105, 107,  73,  62,  93,\n",
       "         10, 173, 116,  99, 164, 166,  35,  31, 107,  11, 103, 132,  67,\n",
       "         35,  66, 179, 193,  72, 108, 147,  46,  52, 123,  94, 145, 115,\n",
       "        161, 194, 170,   9,  61, 110,   1,  89, 179,  26,  61,  74,  73,\n",
       "         76,  76,  71,  84, 143,  96,  81,  48,   4,  91, 150,  96,  24,\n",
       "         38,  64,  50, 159,  39, 113, 179, 117,  48, 126, 166, 102, 117,\n",
       "         57, 188]),\n",
       " array([ 30, 191,  60,  99,  18, 125, 118, 196,  24,  40, 167, 196, 193,\n",
       "         54, 109, 145, 124,  49, 133,  45, 171, 102, 142, 191, 117,  86,\n",
       "        177,  17,  61, 196,  93, 181, 105, 134, 143,  36,  22, 129, 180,\n",
       "         50,  71,  18, 148,  51,  21,  72,  80, 162, 126,  85, 186, 190,\n",
       "         78,   9,  84,  60, 184,  10,   9, 132,  12,  50, 196, 170, 126,\n",
       "        180, 145,  28, 175,  10,  72, 131,  19,  58, 128,  55, 122,  49,\n",
       "        146, 105, 196,  79,  60,  18, 109,   3, 191, 125,  63,  86,  79,\n",
       "        180,  92,  77,  79,  19,   6,  56, 103,  83, 116, 155,  48,  72,\n",
       "         17,  25, 160,  59,  31,  74,  32,   8, 167,  33, 147,   5,  40,\n",
       "        185, 174, 169,  21,  89, 142, 122, 132,  32, 176,  29,  57, 157,\n",
       "         70,  93, 118, 165, 173,   0, 136,  88, 143, 122, 195, 178, 102,\n",
       "        169, 174, 105,  49, 172, 151, 131,  97,  18, 157, 142, 147, 161,\n",
       "         62, 167, 161, 130, 129, 154, 132,  99,   5,  84,  69, 155, 142,\n",
       "        169,  51, 166,  79,   1,  88,  28, 109, 166, 192, 121,   5,  48,\n",
       "          0, 109,  83, 169, 190,  77,  50, 139, 184,  92,  27,  70, 152,\n",
       "         64, 132]),\n",
       " array([ 43, 180, 187, 139, 148,  57, 162,  65, 131,  96,  19,  56,  62,\n",
       "          7,  90,  51, 133,  82,  76, 104, 192, 153,  40,  54,  45, 127,\n",
       "         41, 167, 160, 159, 173, 171,  29, 155, 106, 113,  98,  95, 107,\n",
       "        113,  26, 127,  53, 157,  52,  38,  88, 136,  49,  88,  31, 147,\n",
       "        163, 174, 184,   8, 141, 154,  36, 196, 148,  40, 112,   8,  42,\n",
       "         53,  29, 121, 186,  75,  72, 100,  75,  89,  52,  96,  96, 139,\n",
       "          4, 105,  35, 157,  65,  66, 156, 109, 196, 194,  85,  67, 151,\n",
       "        154,   1, 162, 110, 156, 135, 154, 108, 155, 117, 102, 122,  75,\n",
       "         30, 102, 181,  36, 121, 158,  92,  81, 106, 145,  30,   4,  80,\n",
       "        135, 181, 159, 193, 159,  86,   3, 158, 134,   4, 135,  59, 121,\n",
       "        172,   6,  61, 117, 113, 130, 178, 152,   8,   3,  27, 126, 176,\n",
       "         87,  70,   8,   7, 127,  93,  55,   0, 114, 194,  60, 153,  44,\n",
       "        154, 136, 125, 139,  29,   8,  14, 152,  33,  68,  19, 102, 129,\n",
       "         85, 168, 113,  78,  23,  24, 136,  24, 150,  11,  23,  70,  33,\n",
       "         75,  14, 162, 180,  67, 162,  13, 134, 138, 131,  60,  93,  39,\n",
       "         99, 152]),\n",
       " array([ 35,  82,  17, 145,  14, 110,  25, 171,  41, 196, 111, 183, 131,\n",
       "          2, 175,  71, 126, 189,  30, 193, 127, 163, 186,  55,  65,  35,\n",
       "         63,  62, 155,  88,  64,  67,  64,  53,  83,  70, 120, 173, 130,\n",
       "         42,  41,  54,  95, 171,  21,  80, 169,  43, 133, 104,  56, 164,\n",
       "         70,  94,   9,  58,  42, 130, 170, 107,  77,  47,  48, 177,  28,\n",
       "         24, 122, 134,  77, 102,  57,  20,  24,  80, 117,  95,  53, 172,\n",
       "        106, 101,  13,  12, 127, 101,  17,  85, 185, 179, 111,  71,  79,\n",
       "        103,  64, 170, 163,  99,  65, 115, 158, 108,  78,  70,  96,  42,\n",
       "        158,  22,  84, 117,  66,  62,  71,  17, 145, 118,  63,  66, 109,\n",
       "        164,  70,  85,  77, 194, 168,  44, 150,   2, 105,  39, 162,  10,\n",
       "          2,  86,   3, 116,  95, 131,   7, 108, 183, 159,  17, 111, 186,\n",
       "        109, 147, 135, 100, 141, 141,  62,  97,  29,  39, 137, 142,   8,\n",
       "        142,  80,  22, 122,   4, 193,  92, 171,  32,  41, 125, 179,  57,\n",
       "        136, 146,  14,  42, 124, 150,   0,  72, 117, 105,  74, 161,  34,\n",
       "        189,  93,  61,  98, 103, 119, 153, 155,  59, 174,  76, 143, 119,\n",
       "        150, 126]),\n",
       " array([109,  67,  24, 148, 150, 148, 172, 174, 113,  51,  86, 186, 108,\n",
       "        144,  10, 147, 182, 174,  24,  31,  65,  38, 178,  77, 105,  27,\n",
       "          3,  69, 116, 154,  39, 153, 169,  58,   1, 102, 150, 181, 166,\n",
       "          1, 158, 104,  83,  90, 104, 153,  97, 131, 154, 100,  62,  64,\n",
       "         19,  37,  35,  15,  86, 115,  64, 192, 182,  58, 131,  57, 101,\n",
       "         98,  94,  32,  26, 108,  28, 142,  51, 151, 132, 125, 151, 176,\n",
       "        117,  83,  93, 179,  49, 142, 103, 127,  64,   8,  79,  36,  54,\n",
       "         88, 190,  78, 109,   3, 178,  48, 186, 193, 139,  56,  19, 141,\n",
       "        153, 196, 114, 165, 143, 124, 171, 167, 112, 157, 101,  69,  15,\n",
       "         58, 157,  69,  64,  48,  71,  31,  78,   6, 152,  77,  90,  87,\n",
       "        155, 150,  34,  72,  18,  91,  74,  71,  80,  79,  12, 171, 178,\n",
       "        111, 123,  68,  85,  66, 109, 132,  35,  39, 117, 179, 183,   3,\n",
       "         13,   8,  13, 158,  69, 173,  62,  58,  34,  83,  93,  65, 109,\n",
       "         92,  88, 129,  29,  20, 146,  23,  13,  48,  55, 147,  44, 123,\n",
       "          9,  93,  15, 181, 195,  65, 146,  49, 151, 164, 188,  35, 154,\n",
       "        190, 146])]"
      ]
     },
     "execution_count": 7,
     "metadata": {},
     "output_type": "execute_result"
    }
   ],
   "source": [
    "bag_model.estimators_samples_"
   ]
  },
  {
   "cell_type": "code",
   "execution_count": 8,
   "id": "35e5ad11-3848-4621-85f1-57fad8d928f5",
   "metadata": {},
   "outputs": [
    {
     "data": {
      "text/plain": [
       "[array([ 0, 11, 14,  1, 16, 15,  2, 11, 13,  1,  6,  8, 12, 10,  1,  3,  8,\n",
       "         7, 11]),\n",
       " array([13, 10, 12, 12, 16, 14,  9,  1, 12,  4, 13, 13, 13, 15,  5, 17,  9,\n",
       "        14,  2]),\n",
       " array([13, 11, 18, 11,  9,  9,  9,  0, 12,  1,  0,  7, 15, 17, 15,  2,  3,\n",
       "        16, 11]),\n",
       " array([ 7, 13,  0, 14, 18,  9,  9, 15,  6, 10, 18,  9, 13, 12, 13, 16, 18,\n",
       "        18, 15]),\n",
       " array([16,  1, 17,  5, 11, 17,  2, 18, 18,  6, 16,  0,  9,  1, 15,  7,  6,\n",
       "        13,  0]),\n",
       " array([ 5,  4,  6, 12, 17,  4, 15, 12,  8, 11,  6,  5,  5, 15, 15,  4,  2,\n",
       "         6,  3]),\n",
       " array([ 6,  6,  7,  2,  3,  5, 12,  0, 14, 13,  1,  1, 16, 17,  6,  2,  3,\n",
       "        12, 13]),\n",
       " array([ 9,  5,  0,  9,  8, 14, 14, 15, 11,  6, 17,  9,  7, 18, 16, 17, 12,\n",
       "        17,  7]),\n",
       " array([ 4,  8,  7, 11,  6, 17,  7,  3, 17,  0, 11, 17, 18, 11,  9, 12,  9,\n",
       "         3,  0]),\n",
       " array([ 6,  4, 10, 12,  0, 10,  1,  0,  5,  9,  0, 16,  7,  5, 12, 12, 18,\n",
       "        11,  7])]"
      ]
     },
     "execution_count": 8,
     "metadata": {},
     "output_type": "execute_result"
    }
   ],
   "source": [
    "bag_model.estimators_features_"
   ]
  },
  {
   "cell_type": "code",
   "execution_count": 9,
   "id": "ea41d755-9f21-4766-a477-0a7efdd8ad74",
   "metadata": {},
   "outputs": [
    {
     "data": {
      "text/plain": [
       "DecisionTreeRegressor(random_state=1965859853)"
      ]
     },
     "execution_count": 9,
     "metadata": {},
     "output_type": "execute_result"
    }
   ],
   "source": [
    "bag_model.estimators_[1]"
   ]
  },
  {
   "cell_type": "markdown",
   "id": "c0adc70a-3fd1-46c8-8854-803810ffef32",
   "metadata": {},
   "source": [
    "## Tahmin"
   ]
  },
  {
   "cell_type": "code",
   "execution_count": 10,
   "id": "dd29d45e-b05a-4ce4-8749-43a40fd80d5f",
   "metadata": {},
   "outputs": [],
   "source": [
    "y_pred=bag_model.predict(X_test)"
   ]
  },
  {
   "cell_type": "code",
   "execution_count": 11,
   "id": "48f4a016-3dd5-4078-97e3-499de6dc8156",
   "metadata": {},
   "outputs": [
    {
     "data": {
      "text/plain": [
       "352.3263994458733"
      ]
     },
     "execution_count": 11,
     "metadata": {},
     "output_type": "execute_result"
    }
   ],
   "source": [
    "np.sqrt(mean_squared_error(y_test,y_pred))"
   ]
  },
  {
   "cell_type": "code",
   "execution_count": 12,
   "id": "04505a72-2898-4713-82a4-7bac7dbb3532",
   "metadata": {},
   "outputs": [],
   "source": [
    "iki_y_pred=bag_model.estimators_[1].fit(X_train,y_train).predict(X_test)"
   ]
  },
  {
   "cell_type": "code",
   "execution_count": 13,
   "id": "5467d4a4-9cf4-4ac4-ae9f-4106be850749",
   "metadata": {},
   "outputs": [
    {
     "data": {
      "text/plain": [
       "464.11406691512815"
      ]
     },
     "execution_count": 13,
     "metadata": {},
     "output_type": "execute_result"
    }
   ],
   "source": [
    "np.sqrt(mean_squared_error(iki_y_pred,y_test))"
   ]
  },
  {
   "cell_type": "markdown",
   "id": "852b2827-ded5-43ee-a70e-9752caedb1a6",
   "metadata": {},
   "source": [
    "# Model Tunning"
   ]
  },
  {
   "cell_type": "code",
   "execution_count": 14,
   "id": "6dc2422f-8090-4bb6-ae0f-fa9bc37e5aad",
   "metadata": {},
   "outputs": [],
   "source": [
    "bag_model=BaggingRegressor(bootstrap_features=True)"
   ]
  },
  {
   "cell_type": "code",
   "execution_count": 15,
   "id": "ba802704-f4cf-4e36-bc30-0eab9c4c1a95",
   "metadata": {},
   "outputs": [
    {
     "data": {
      "text/plain": [
       "BaggingRegressor(bootstrap_features=True)"
      ]
     },
     "execution_count": 15,
     "metadata": {},
     "output_type": "execute_result"
    }
   ],
   "source": [
    "bag_model.fit(X_train,y_train)"
   ]
  },
  {
   "cell_type": "code",
   "execution_count": 16,
   "id": "359f5492-24fc-4ae2-be28-61247731c89e",
   "metadata": {},
   "outputs": [],
   "source": [
    "bag_params={\"n_estimators\":range(2,20)}"
   ]
  },
  {
   "cell_type": "code",
   "execution_count": 17,
   "id": "4a08d3a2-78d2-4e59-b934-131cf51fe197",
   "metadata": {},
   "outputs": [],
   "source": [
    "bag_cv_model=GridSearchCV(bag_model,bag_params,cv=10)"
   ]
  },
  {
   "cell_type": "code",
   "execution_count": 18,
   "id": "348c11eb-9f04-4e81-b9c6-d1bd54766f1a",
   "metadata": {},
   "outputs": [
    {
     "data": {
      "text/plain": [
       "GridSearchCV(cv=10, estimator=BaggingRegressor(bootstrap_features=True),\n",
       "             param_grid={'n_estimators': range(2, 20)})"
      ]
     },
     "execution_count": 18,
     "metadata": {},
     "output_type": "execute_result"
    }
   ],
   "source": [
    "bag_cv_model.fit(X_train,y_train)"
   ]
  },
  {
   "cell_type": "code",
   "execution_count": 19,
   "id": "a3cbac72-5e9e-42d1-aac9-f6a24e1b7bed",
   "metadata": {},
   "outputs": [
    {
     "data": {
      "text/plain": [
       "{'n_estimators': 18}"
      ]
     },
     "execution_count": 19,
     "metadata": {},
     "output_type": "execute_result"
    }
   ],
   "source": [
    "bag_cv_model.best_params_"
   ]
  },
  {
   "cell_type": "code",
   "execution_count": 21,
   "id": "2a3e5be5-a520-46d7-a937-873579c2393c",
   "metadata": {},
   "outputs": [],
   "source": [
    "bag_tuned=BaggingRegressor(n_estimators=bag_cv_model.best_params_[\"n_estimators\"],random_state=45)"
   ]
  },
  {
   "cell_type": "code",
   "execution_count": 22,
   "id": "11067466-c8d5-4017-99ab-d981697591e4",
   "metadata": {},
   "outputs": [
    {
     "data": {
      "text/plain": [
       "BaggingRegressor(n_estimators=18, random_state=45)"
      ]
     },
     "execution_count": 22,
     "metadata": {},
     "output_type": "execute_result"
    }
   ],
   "source": [
    "bag_tuned.fit(X_train,y_train)"
   ]
  },
  {
   "cell_type": "code",
   "execution_count": 23,
   "id": "a8e22565-022e-425d-bfba-96dc148e4835",
   "metadata": {},
   "outputs": [],
   "source": [
    "y_pred=bag_tuned.predict(X_test)"
   ]
  },
  {
   "cell_type": "code",
   "execution_count": 24,
   "id": "0ed80666-8fc0-4f91-9d17-606bddd7ee01",
   "metadata": {},
   "outputs": [
    {
     "data": {
      "text/plain": [
       "338.6015890705578"
      ]
     },
     "execution_count": 24,
     "metadata": {},
     "output_type": "execute_result"
    }
   ],
   "source": [
    "np.sqrt(mean_squared_error(y_test,y_pred))"
   ]
  },
  {
   "cell_type": "code",
   "execution_count": null,
   "id": "1cec495f-3244-466a-b8cd-9d9a7c865eb7",
   "metadata": {},
   "outputs": [],
   "source": []
  },
  {
   "cell_type": "code",
   "execution_count": null,
   "id": "381873dd-88da-4bbd-a972-418add766813",
   "metadata": {},
   "outputs": [],
   "source": []
  }
 ],
 "metadata": {
  "kernelspec": {
   "display_name": "Python 3 (ipykernel)",
   "language": "python",
   "name": "python3"
  },
  "language_info": {
   "codemirror_mode": {
    "name": "ipython",
    "version": 3
   },
   "file_extension": ".py",
   "mimetype": "text/x-python",
   "name": "python",
   "nbconvert_exporter": "python",
   "pygments_lexer": "ipython3",
   "version": "3.9.7"
  }
 },
 "nbformat": 4,
 "nbformat_minor": 5
}
