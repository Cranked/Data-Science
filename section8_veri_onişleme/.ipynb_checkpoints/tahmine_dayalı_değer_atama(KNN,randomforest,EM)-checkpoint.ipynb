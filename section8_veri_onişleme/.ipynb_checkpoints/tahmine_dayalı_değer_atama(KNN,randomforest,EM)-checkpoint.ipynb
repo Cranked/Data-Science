{
 "cells": [
  {
   "cell_type": "markdown",
   "id": "d754e0ef-f7ac-44b1-9fbd-cc872bfc971a",
   "metadata": {},
   "source": [
    "## Tahmine Dayalı Değer Atama İşlemleri (KNN,Random Forest,EM)"
   ]
  },
  {
   "cell_type": "code",
   "execution_count": 78,
   "id": "02afc338-d3ec-48d2-af40-a514332de907",
   "metadata": {},
   "outputs": [],
   "source": [
    "import seaborn as sns\n",
    "import missingno as msno\n",
    "import numpy as np\n",
    "import pandas as pd"
   ]
  },
  {
   "cell_type": "code",
   "execution_count": 79,
   "id": "eacd58da-c452-4d44-867e-237a4912bd10",
   "metadata": {},
   "outputs": [],
   "source": [
    "df=sns.load_dataset(\"titanic\")\n",
    "df=df.select_dtypes(include=['int64','float64'])"
   ]
  },
  {
   "cell_type": "code",
   "execution_count": 80,
   "id": "37e75de5-a491-498c-bdc0-676aaa258a10",
   "metadata": {},
   "outputs": [
    {
     "name": "stdout",
     "output_type": "stream",
     "text": [
      "   survived  pclass   age  sibsp  parch     fare\n",
      "0         0       3  22.0      1      0   7.2500\n",
      "1         1       1  38.0      1      0  71.2833\n",
      "2         1       3  26.0      0      0   7.9250\n",
      "3         1       1  35.0      1      0  53.1000\n",
      "4         0       3  35.0      0      0   8.0500\n"
     ]
    }
   ],
   "source": [
    "print(df.head())"
   ]
  },
  {
   "cell_type": "code",
   "execution_count": 81,
   "id": "de91bdec-7e37-4fbe-a9e3-62509247e969",
   "metadata": {},
   "outputs": [
    {
     "data": {
      "text/plain": [
       "survived      0\n",
       "pclass        0\n",
       "age         177\n",
       "sibsp         0\n",
       "parch         0\n",
       "fare          0\n",
       "dtype: int64"
      ]
     },
     "execution_count": 81,
     "metadata": {},
     "output_type": "execute_result"
    }
   ],
   "source": [
    "df.isnull().sum()"
   ]
  },
  {
   "cell_type": "code",
   "execution_count": 82,
   "id": "40e29b6b-22e8-46d1-91d1-32351cacec7d",
   "metadata": {},
   "outputs": [
    {
     "name": "stdout",
     "output_type": "stream",
     "text": [
      "Requirement already satisfied: ycimpute in d:\\anaconda\\lib\\site-packages (0.2)\n",
      "Requirement already satisfied: scikit-learn>=0.17.1 in d:\\anaconda\\lib\\site-packages (from ycimpute) (0.24.2)\n",
      "Requirement already satisfied: numpy>=1.10 in d:\\anaconda\\lib\\site-packages (from ycimpute) (1.20.3)\n",
      "Requirement already satisfied: six in d:\\anaconda\\lib\\site-packages (from ycimpute) (1.16.0)\n",
      "Requirement already satisfied: scipy in d:\\anaconda\\lib\\site-packages (from ycimpute) (1.7.1)\n",
      "Requirement already satisfied: torch>=1.1.0 in d:\\anaconda\\lib\\site-packages (from ycimpute) (1.10.2)\n",
      "Requirement already satisfied: joblib>=0.11 in d:\\anaconda\\lib\\site-packages (from scikit-learn>=0.17.1->ycimpute) (1.1.0)\n",
      "Requirement already satisfied: threadpoolctl>=2.0.0 in d:\\anaconda\\lib\\site-packages (from scikit-learn>=0.17.1->ycimpute) (2.2.0)\n",
      "Requirement already satisfied: typing-extensions in d:\\anaconda\\lib\\site-packages (from torch>=1.1.0->ycimpute) (3.10.0.2)\n"
     ]
    }
   ],
   "source": [
    "!pip install ycimpute"
   ]
  },
  {
   "cell_type": "code",
   "execution_count": 83,
   "id": "323a2212-c03e-4687-8c90-c8cb902cd030",
   "metadata": {},
   "outputs": [],
   "source": [
    "from ycimpute.imputer import knnimput"
   ]
  },
  {
   "cell_type": "code",
   "execution_count": 84,
   "id": "4ab0e94e-c8e3-434a-b4dc-d06fda3f1273",
   "metadata": {},
   "outputs": [],
   "source": [
    "var_names=list(df)"
   ]
  },
  {
   "cell_type": "code",
   "execution_count": 85,
   "id": "8ecdbfa6-04fb-43ca-9b6c-290c8de37c4d",
   "metadata": {},
   "outputs": [],
   "source": [
    "n_df=np.array(df)"
   ]
  },
  {
   "cell_type": "code",
   "execution_count": 86,
   "id": "2f166731-9277-4ff3-9c57-c01a486126c8",
   "metadata": {},
   "outputs": [
    {
     "data": {
      "text/plain": [
       "array([[ 0.    ,  3.    , 22.    ,  1.    ,  0.    ,  7.25  ],\n",
       "       [ 1.    ,  1.    , 38.    ,  1.    ,  0.    , 71.2833],\n",
       "       [ 1.    ,  3.    , 26.    ,  0.    ,  0.    ,  7.925 ],\n",
       "       [ 1.    ,  1.    , 35.    ,  1.    ,  0.    , 53.1   ],\n",
       "       [ 0.    ,  3.    , 35.    ,  0.    ,  0.    ,  8.05  ],\n",
       "       [ 0.    ,  3.    ,     nan,  0.    ,  0.    ,  8.4583],\n",
       "       [ 0.    ,  1.    , 54.    ,  0.    ,  0.    , 51.8625],\n",
       "       [ 0.    ,  3.    ,  2.    ,  3.    ,  1.    , 21.075 ],\n",
       "       [ 1.    ,  3.    , 27.    ,  0.    ,  2.    , 11.1333],\n",
       "       [ 1.    ,  2.    , 14.    ,  1.    ,  0.    , 30.0708]])"
      ]
     },
     "execution_count": 86,
     "metadata": {},
     "output_type": "execute_result"
    }
   ],
   "source": [
    "n_df[0:10]"
   ]
  },
  {
   "cell_type": "code",
   "execution_count": 87,
   "id": "598d240f-06f2-41ef-9c6c-428ea819ff5e",
   "metadata": {},
   "outputs": [
    {
     "data": {
      "text/plain": [
       "(891, 6)"
      ]
     },
     "execution_count": 87,
     "metadata": {},
     "output_type": "execute_result"
    }
   ],
   "source": [
    "n_df.shape"
   ]
  },
  {
   "cell_type": "code",
   "execution_count": 88,
   "id": "026a4138-5eb5-4ba2-88ec-265ec0bad3a8",
   "metadata": {},
   "outputs": [
    {
     "name": "stdout",
     "output_type": "stream",
     "text": [
      "Imputing row 1/891 with 0 missing, elapsed time: 0.090\n",
      "Imputing row 101/891 with 0 missing, elapsed time: 0.091\n",
      "Imputing row 201/891 with 0 missing, elapsed time: 0.092\n",
      "Imputing row 301/891 with 1 missing, elapsed time: 0.092\n",
      "Imputing row 401/891 with 0 missing, elapsed time: 0.093\n",
      "Imputing row 501/891 with 0 missing, elapsed time: 0.094\n",
      "Imputing row 601/891 with 0 missing, elapsed time: 0.095\n",
      "Imputing row 701/891 with 0 missing, elapsed time: 0.095\n",
      "Imputing row 801/891 with 0 missing, elapsed time: 0.096\n"
     ]
    }
   ],
   "source": [
    "dff=knnimput.KNN(k=4).complete(n_df)"
   ]
  },
  {
   "cell_type": "code",
   "execution_count": 89,
   "id": "eb2eb504-731c-4ac2-8c10-93cdb5ad659c",
   "metadata": {},
   "outputs": [
    {
     "data": {
      "text/plain": [
       "numpy.ndarray"
      ]
     },
     "execution_count": 89,
     "metadata": {},
     "output_type": "execute_result"
    }
   ],
   "source": [
    "type(dff)"
   ]
  },
  {
   "cell_type": "code",
   "execution_count": 90,
   "id": "c885f8f4-9388-496f-9967-97057ab50290",
   "metadata": {},
   "outputs": [],
   "source": [
    "dff=pd.DataFrame(dff,columns=var_names)\n"
   ]
  },
  {
   "cell_type": "markdown",
   "id": "287bd582-d6a4-4af7-a071-2833c7181bb6",
   "metadata": {},
   "source": [
    "### Random Forest"
   ]
  },
  {
   "cell_type": "code",
   "execution_count": 91,
   "id": "7650a886-2d66-42ea-bd37-446896ec97c0",
   "metadata": {},
   "outputs": [],
   "source": [
    "from ycimpute.imputer import iterforest\n",
    "df=sns.load_dataset(\"titanic\")\n",
    "df=df.select_dtypes(include=['int64','float64'])"
   ]
  },
  {
   "cell_type": "code",
   "execution_count": 92,
   "id": "e5321042-0e2e-4137-9861-09c5cd29b1c2",
   "metadata": {},
   "outputs": [
    {
     "data": {
      "text/plain": [
       "survived      0\n",
       "pclass        0\n",
       "age         177\n",
       "sibsp         0\n",
       "parch         0\n",
       "fare          0\n",
       "dtype: int64"
      ]
     },
     "execution_count": 92,
     "metadata": {},
     "output_type": "execute_result"
    }
   ],
   "source": [
    "df.isnull().sum()"
   ]
  },
  {
   "cell_type": "code",
   "execution_count": 93,
   "id": "acf98690-d798-4c8d-97f4-dc2aedf227db",
   "metadata": {},
   "outputs": [],
   "source": [
    "var_names=list(df)"
   ]
  },
  {
   "cell_type": "code",
   "execution_count": 94,
   "id": "eb94fc3c-ad18-42bf-b934-29aeeeb87c41",
   "metadata": {},
   "outputs": [],
   "source": [
    "n_df=np.array(df)"
   ]
  },
  {
   "cell_type": "code",
   "execution_count": 95,
   "id": "9919c797-c285-4c9f-ad4f-ab52fba7c102",
   "metadata": {},
   "outputs": [],
   "source": [
    "dff = pd.DataFrame(dff, columns = var_names)"
   ]
  },
  {
   "cell_type": "code",
   "execution_count": 96,
   "id": "ac1f5f0e-f0b9-43d7-82fb-8d03e3c3aab3",
   "metadata": {},
   "outputs": [
    {
     "data": {
      "text/plain": [
       "survived    0\n",
       "pclass      0\n",
       "age         0\n",
       "sibsp       0\n",
       "parch       0\n",
       "fare        0\n",
       "dtype: int64"
      ]
     },
     "execution_count": 96,
     "metadata": {},
     "output_type": "execute_result"
    }
   ],
   "source": [
    "dff.isnull().sum()"
   ]
  },
  {
   "cell_type": "code",
   "execution_count": null,
   "id": "dea200ea-d7a8-4437-a0dd-5994678a24fd",
   "metadata": {},
   "outputs": [],
   "source": []
  },
  {
   "cell_type": "code",
   "execution_count": null,
   "id": "571a2b2f-e606-4d9e-8333-8291415bf07c",
   "metadata": {},
   "outputs": [],
   "source": []
  }
 ],
 "metadata": {
  "kernelspec": {
   "display_name": "Python 3 (ipykernel)",
   "language": "python",
   "name": "python3"
  },
  "language_info": {
   "codemirror_mode": {
    "name": "ipython",
    "version": 3
   },
   "file_extension": ".py",
   "mimetype": "text/x-python",
   "name": "python",
   "nbconvert_exporter": "python",
   "pygments_lexer": "ipython3",
   "version": "3.9.7"
  }
 },
 "nbformat": 4,
 "nbformat_minor": 5
}
