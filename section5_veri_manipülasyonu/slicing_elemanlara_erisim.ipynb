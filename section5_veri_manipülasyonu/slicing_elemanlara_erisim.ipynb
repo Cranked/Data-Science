{
 "cells": [
  {
   "cell_type": "markdown",
   "id": "ccf4f6e9-a09f-4a58-bfaf-155781371e4b",
   "metadata": {},
   "source": [
    "# **Slicing ile Elemanlara Erişmek(Array Alt Kümesine Erişmek)**"
   ]
  },
  {
   "cell_type": "code",
   "execution_count": 2,
   "id": "ea44aae3-aa84-4437-a8b0-48e7deab0de6",
   "metadata": {},
   "outputs": [],
   "source": [
    "import numpy as np"
   ]
  },
  {
   "cell_type": "code",
   "execution_count": 7,
   "id": "ecef1030-1c41-4a51-bdfd-2d95a7075765",
   "metadata": {},
   "outputs": [],
   "source": [
    "a=np.arange(20,30)"
   ]
  },
  {
   "cell_type": "code",
   "execution_count": 8,
   "id": "4f3a2e17-9b9b-47a4-adc4-6bd7994977a5",
   "metadata": {},
   "outputs": [
    {
     "data": {
      "text/plain": [
       "array([20, 21, 22, 23, 24, 25, 26, 27, 28, 29])"
      ]
     },
     "execution_count": 8,
     "metadata": {},
     "output_type": "execute_result"
    }
   ],
   "source": [
    "a"
   ]
  },
  {
   "cell_type": "code",
   "execution_count": 9,
   "id": "33d6ab1f-7773-425c-86d4-2cd39e7c1196",
   "metadata": {},
   "outputs": [
    {
     "data": {
      "text/plain": [
       "array([20, 21, 22])"
      ]
     },
     "execution_count": 9,
     "metadata": {},
     "output_type": "execute_result"
    }
   ],
   "source": [
    "a[0:3]"
   ]
  },
  {
   "cell_type": "code",
   "execution_count": 10,
   "id": "d19760e7-fd34-44aa-a651-021b3420f61d",
   "metadata": {},
   "outputs": [
    {
     "data": {
      "text/plain": [
       "array([21, 23, 25, 27, 29])"
      ]
     },
     "execution_count": 10,
     "metadata": {},
     "output_type": "execute_result"
    }
   ],
   "source": [
    "a[1::2]"
   ]
  },
  {
   "cell_type": "markdown",
   "id": "94b355ef-255f-4f63-a91d-7255bf742061",
   "metadata": {},
   "source": [
    "# İki Boyutlu Slice İşlemleri"
   ]
  },
  {
   "cell_type": "code",
   "execution_count": 13,
   "id": "da52b999-ced1-48c8-8581-f43fcf47f727",
   "metadata": {},
   "outputs": [
    {
     "data": {
      "text/plain": [
       "array([[1, 2, 8, 0, 4],\n",
       "       [2, 3, 6, 9, 4],\n",
       "       [9, 1, 2, 4, 2],\n",
       "       [3, 6, 8, 3, 4],\n",
       "       [1, 7, 0, 6, 1]])"
      ]
     },
     "execution_count": 13,
     "metadata": {},
     "output_type": "execute_result"
    }
   ],
   "source": [
    "m=np.random.randint(10,size=(5,5))\n",
    "m"
   ]
  },
  {
   "cell_type": "code",
   "execution_count": 14,
   "id": "973c1fde-d7d4-4937-96dc-d2bfe00d3d7b",
   "metadata": {},
   "outputs": [
    {
     "data": {
      "text/plain": [
       "array([1, 2, 9, 3, 1])"
      ]
     },
     "execution_count": 14,
     "metadata": {},
     "output_type": "execute_result"
    }
   ],
   "source": [
    "m[:,0]"
   ]
  },
  {
   "cell_type": "code",
   "execution_count": 15,
   "id": "58df2dba-94b7-492a-9219-352b4ce18f0a",
   "metadata": {},
   "outputs": [
    {
     "data": {
      "text/plain": [
       "array([[1, 2, 8],\n",
       "       [2, 3, 6],\n",
       "       [9, 1, 2],\n",
       "       [3, 6, 8],\n",
       "       [1, 7, 0]])"
      ]
     },
     "execution_count": 15,
     "metadata": {},
     "output_type": "execute_result"
    }
   ],
   "source": [
    "m[:,0:3]"
   ]
  },
  {
   "cell_type": "code",
   "execution_count": 16,
   "id": "c6139189-4a3d-430b-bef9-c8ccebd376d3",
   "metadata": {},
   "outputs": [
    {
     "data": {
      "text/plain": [
       "array([[8, 0],\n",
       "       [6, 9],\n",
       "       [2, 4],\n",
       "       [8, 3],\n",
       "       [0, 6]])"
      ]
     },
     "execution_count": 16,
     "metadata": {},
     "output_type": "execute_result"
    }
   ],
   "source": [
    "m[:,2:4]"
   ]
  },
  {
   "cell_type": "code",
   "execution_count": 17,
   "id": "4fffa339-d96c-4d5f-904e-fd2607fa5791",
   "metadata": {},
   "outputs": [
    {
     "data": {
      "text/plain": [
       "array([[2, 3, 6],\n",
       "       [9, 1, 2]])"
      ]
     },
     "execution_count": 17,
     "metadata": {},
     "output_type": "execute_result"
    }
   ],
   "source": [
    "m[1:3,0:3]"
   ]
  },
  {
   "cell_type": "code",
   "execution_count": null,
   "id": "d0346734-9cea-470e-8d7f-71b7ed476737",
   "metadata": {},
   "outputs": [],
   "source": []
  }
 ],
 "metadata": {
  "kernelspec": {
   "display_name": "Python 3 (ipykernel)",
   "language": "python",
   "name": "python3"
  },
  "language_info": {
   "codemirror_mode": {
    "name": "ipython",
    "version": 3
   },
   "file_extension": ".py",
   "mimetype": "text/x-python",
   "name": "python",
   "nbconvert_exporter": "python",
   "pygments_lexer": "ipython3",
   "version": "3.9.7"
  }
 },
 "nbformat": 4,
 "nbformat_minor": 5
}
