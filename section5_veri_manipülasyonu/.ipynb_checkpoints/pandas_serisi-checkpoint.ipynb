{
 "cells": [
  {
   "cell_type": "markdown",
   "id": "d30124bf-c354-439d-95c8-e526ad8a2394",
   "metadata": {
    "tags": []
   },
   "source": [
    "# Pandas Serisi Oluşturmak"
   ]
  },
  {
   "cell_type": "code",
   "execution_count": 5,
   "id": "a998d8ae-ab83-4d23-9be0-4681b36af296",
   "metadata": {},
   "outputs": [],
   "source": [
    "import pandas as pd "
   ]
  },
  {
   "cell_type": "code",
   "execution_count": 2,
   "id": "fd013b9c-0ab6-4be8-8475-6cd853595da7",
   "metadata": {},
   "outputs": [
    {
     "data": {
      "text/plain": [
       "0    1\n",
       "1    2\n",
       "2    3\n",
       "3    4\n",
       "4    5\n",
       "dtype: int64"
      ]
     },
     "execution_count": 2,
     "metadata": {},
     "output_type": "execute_result"
    }
   ],
   "source": [
    "pd.Series([1,2,3,4,5])"
   ]
  },
  {
   "cell_type": "code",
   "execution_count": 7,
   "id": "3fb28eb2-e765-4546-b9d7-f5847ada58a5",
   "metadata": {},
   "outputs": [],
   "source": [
    "seri=pd.Series([1,2,3,4,5])"
   ]
  },
  {
   "cell_type": "code",
   "execution_count": 4,
   "id": "79faa995-f5a8-4924-b21b-4d05c613f2f8",
   "metadata": {},
   "outputs": [
    {
     "data": {
      "text/plain": [
       "pandas.core.series.Series"
      ]
     },
     "execution_count": 4,
     "metadata": {},
     "output_type": "execute_result"
    }
   ],
   "source": [
    "type(seri)"
   ]
  },
  {
   "cell_type": "code",
   "execution_count": 5,
   "id": "ade4e57a-15ef-4750-9d7c-ce232f6dcfd7",
   "metadata": {},
   "outputs": [
    {
     "data": {
      "text/plain": [
       "[RangeIndex(start=0, stop=5, step=1)]"
      ]
     },
     "execution_count": 5,
     "metadata": {},
     "output_type": "execute_result"
    }
   ],
   "source": [
    "seri.axes"
   ]
  },
  {
   "cell_type": "code",
   "execution_count": 6,
   "id": "47277c5b-b1ef-4d2d-8bb6-2fcd856334e9",
   "metadata": {},
   "outputs": [
    {
     "data": {
      "text/plain": [
       "dtype('int64')"
      ]
     },
     "execution_count": 6,
     "metadata": {},
     "output_type": "execute_result"
    }
   ],
   "source": [
    "seri.dtype"
   ]
  },
  {
   "cell_type": "code",
   "execution_count": 7,
   "id": "981b22b0-580f-4d35-96bb-928bfd6155b1",
   "metadata": {},
   "outputs": [
    {
     "data": {
      "text/plain": [
       "5"
      ]
     },
     "execution_count": 7,
     "metadata": {},
     "output_type": "execute_result"
    }
   ],
   "source": [
    "seri.size"
   ]
  },
  {
   "cell_type": "code",
   "execution_count": 8,
   "id": "5168e961-d02f-47f8-817d-8afe2c2a6805",
   "metadata": {},
   "outputs": [
    {
     "data": {
      "text/plain": [
       "1"
      ]
     },
     "execution_count": 8,
     "metadata": {},
     "output_type": "execute_result"
    }
   ],
   "source": [
    "seri.ndim"
   ]
  },
  {
   "cell_type": "code",
   "execution_count": 9,
   "id": "82bfd102-cce9-46e1-9d6e-23ce389a7c9c",
   "metadata": {},
   "outputs": [
    {
     "data": {
      "text/plain": [
       "(5,)"
      ]
     },
     "execution_count": 9,
     "metadata": {},
     "output_type": "execute_result"
    }
   ],
   "source": [
    "seri.shape"
   ]
  },
  {
   "cell_type": "code",
   "execution_count": 10,
   "id": "681cbec2-17d4-46a3-95dc-3b9a6ed0a117",
   "metadata": {},
   "outputs": [
    {
     "data": {
      "text/plain": [
       "array([1, 2, 3, 4, 5], dtype=int64)"
      ]
     },
     "execution_count": 10,
     "metadata": {},
     "output_type": "execute_result"
    }
   ],
   "source": [
    "seri.values"
   ]
  },
  {
   "cell_type": "code",
   "execution_count": 8,
   "id": "14819953-4b06-46ab-9e57-9120dc49c197",
   "metadata": {},
   "outputs": [
    {
     "data": {
      "text/plain": [
       "0    1\n",
       "1    2\n",
       "2    3\n",
       "dtype: int64"
      ]
     },
     "execution_count": 8,
     "metadata": {},
     "output_type": "execute_result"
    }
   ],
   "source": [
    "seri.head(3)"
   ]
  },
  {
   "cell_type": "code",
   "execution_count": 9,
   "id": "d4ba93da-26af-4ef5-9b2f-4a887be4ebfc",
   "metadata": {},
   "outputs": [
    {
     "data": {
      "text/plain": [
       "2    3\n",
       "3    4\n",
       "4    5\n",
       "dtype: int64"
      ]
     },
     "execution_count": 9,
     "metadata": {},
     "output_type": "execute_result"
    }
   ],
   "source": [
    "seri.tail(3)"
   ]
  },
  {
   "cell_type": "markdown",
   "id": "0e40900b-5001-441d-ba81-e088f435633b",
   "metadata": {},
   "source": [
    "# Index İsimlendirmesi"
   ]
  },
  {
   "cell_type": "code",
   "execution_count": 12,
   "id": "27562615-c014-4607-81a7-4df96cfe7a34",
   "metadata": {},
   "outputs": [
    {
     "data": {
      "text/plain": [
       "1     78\n",
       "3    265\n",
       "5      3\n",
       "7      4\n",
       "9      5\n",
       "dtype: int64"
      ]
     },
     "execution_count": 12,
     "metadata": {},
     "output_type": "execute_result"
    }
   ],
   "source": [
    "pd.Series([78,265,3,4,5],index= [1,3,5,7,9])"
   ]
  },
  {
   "cell_type": "code",
   "execution_count": 16,
   "id": "9ededc80-d0c4-4a2a-80cc-1a7c8e1576e3",
   "metadata": {},
   "outputs": [
    {
     "data": {
      "text/plain": [
       "a     78\n",
       "b    265\n",
       "c      3\n",
       "d      4\n",
       "e      5\n",
       "dtype: int64"
      ]
     },
     "execution_count": 16,
     "metadata": {},
     "output_type": "execute_result"
    }
   ],
   "source": [
    "seri=pd.Series([78,265,3,4,5],index= [\"a\",\"b\",\"c\",\"d\",\"e\"])\n",
    "seri"
   ]
  },
  {
   "cell_type": "code",
   "execution_count": 17,
   "id": "e9540eed-2250-4add-9ecc-ee12622285df",
   "metadata": {},
   "outputs": [
    {
     "data": {
      "text/plain": [
       "78"
      ]
     },
     "execution_count": 17,
     "metadata": {},
     "output_type": "execute_result"
    }
   ],
   "source": [
    "seri[\"a\"]"
   ]
  },
  {
   "cell_type": "code",
   "execution_count": 19,
   "id": "8fffce74-e09c-4cbd-9e4e-08af961447b5",
   "metadata": {},
   "outputs": [
    {
     "data": {
      "text/plain": [
       "a     78\n",
       "b    265\n",
       "c      3\n",
       "dtype: int64"
      ]
     },
     "execution_count": 19,
     "metadata": {},
     "output_type": "execute_result"
    }
   ],
   "source": [
    "seri[\"a\":\"c\"]"
   ]
  },
  {
   "cell_type": "markdown",
   "id": "a3d4ea43-3ebe-4e99-a120-fa4bcbd15914",
   "metadata": {},
   "source": [
    "# Sözlük üzerinden Liste oluşturmak"
   ]
  },
  {
   "cell_type": "code",
   "execution_count": null,
   "id": "f328a09a-18ab-4db0-9989-3ba2e585315b",
   "metadata": {},
   "outputs": [],
   "source": [
    "sozluk={\"reg\":10,\"log\":11,\"cart\":12}"
   ]
  },
  {
   "cell_type": "code",
   "execution_count": 21,
   "id": "dde7c633-93b2-4256-a91f-05f0863ef1a4",
   "metadata": {},
   "outputs": [],
   "source": [
    "seri=pd.Series(sozluk)"
   ]
  },
  {
   "cell_type": "code",
   "execution_count": 23,
   "id": "6359551b-bd83-43b8-aefc-2dfa253e284c",
   "metadata": {},
   "outputs": [
    {
     "data": {
      "text/plain": [
       "a     78\n",
       "b    265\n",
       "c      3\n",
       "d      4\n",
       "e      5\n",
       "dtype: int64"
      ]
     },
     "execution_count": 23,
     "metadata": {},
     "output_type": "execute_result"
    }
   ],
   "source": [
    "seri"
   ]
  },
  {
   "cell_type": "markdown",
   "id": "cf324747-986c-459b-a131-931df347276c",
   "metadata": {},
   "source": [
    "# İki Seriyi birleştirerek seri oluşturma"
   ]
  },
  {
   "cell_type": "code",
   "execution_count": 24,
   "id": "ae19ecda-9cc6-47ff-99d8-020324ab3c39",
   "metadata": {},
   "outputs": [
    {
     "data": {
      "text/plain": [
       "a     78\n",
       "b    265\n",
       "c      3\n",
       "d      4\n",
       "e      5\n",
       "a     78\n",
       "b    265\n",
       "c      3\n",
       "d      4\n",
       "e      5\n",
       "dtype: int64"
      ]
     },
     "execution_count": 24,
     "metadata": {},
     "output_type": "execute_result"
    }
   ],
   "source": [
    "pd.concat([seri,seri])"
   ]
  },
  {
   "cell_type": "code",
   "execution_count": null,
   "id": "c8b2ae8f-690c-41fd-9f11-f0588219c8c7",
   "metadata": {},
   "outputs": [],
   "source": []
  }
 ],
 "metadata": {
  "kernelspec": {
   "display_name": "Python 3 (ipykernel)",
   "language": "python",
   "name": "python3"
  },
  "language_info": {
   "codemirror_mode": {
    "name": "ipython",
    "version": 3
   },
   "file_extension": ".py",
   "mimetype": "text/x-python",
   "name": "python",
   "nbconvert_exporter": "python",
   "pygments_lexer": "ipython3",
   "version": "3.9.7"
  }
 },
 "nbformat": 4,
 "nbformat_minor": 5
}
