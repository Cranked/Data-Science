{
 "cells": [
  {
   "cell_type": "markdown",
   "id": "0175923c-c273-4cae-8e09-3a03b80b0c39",
   "metadata": {},
   "source": [
    "# Fancy Index ile Elemanlara Erişmek"
   ]
  },
  {
   "cell_type": "code",
   "execution_count": 1,
   "id": "9072227f-0f8b-4f27-b19c-b4700684453e",
   "metadata": {},
   "outputs": [],
   "source": [
    "import numpy as np"
   ]
  },
  {
   "cell_type": "code",
   "execution_count": 2,
   "id": "259b8a7f-8638-4e3c-8240-999a3c0a4455",
   "metadata": {},
   "outputs": [],
   "source": [
    "v=np.arange(0,30,3)"
   ]
  },
  {
   "cell_type": "code",
   "execution_count": 3,
   "id": "5633c5cc-3a0b-4a57-95c6-4974e2d2170c",
   "metadata": {},
   "outputs": [
    {
     "data": {
      "text/plain": [
       "array([ 0,  3,  6,  9, 12, 15, 18, 21, 24, 27])"
      ]
     },
     "execution_count": 3,
     "metadata": {},
     "output_type": "execute_result"
    }
   ],
   "source": [
    "v"
   ]
  },
  {
   "cell_type": "code",
   "execution_count": 4,
   "id": "550b46e0-9dca-46d2-a8a7-dcf4b6109104",
   "metadata": {},
   "outputs": [
    {
     "data": {
      "text/plain": [
       "3"
      ]
     },
     "execution_count": 4,
     "metadata": {},
     "output_type": "execute_result"
    }
   ],
   "source": [
    "v[1]"
   ]
  },
  {
   "cell_type": "code",
   "execution_count": 5,
   "id": "8971fdde-5744-464b-80ad-7367a9ef10c6",
   "metadata": {},
   "outputs": [],
   "source": [
    "al_getir=[1,3,5]"
   ]
  },
  {
   "cell_type": "code",
   "execution_count": 6,
   "id": "8c7e2dcf-ca6d-4d51-bb9c-79634820c279",
   "metadata": {},
   "outputs": [
    {
     "data": {
      "text/plain": [
       "[1, 3, 5]"
      ]
     },
     "execution_count": 6,
     "metadata": {},
     "output_type": "execute_result"
    }
   ],
   "source": [
    "al_getir"
   ]
  },
  {
   "cell_type": "code",
   "execution_count": 7,
   "id": "c65c4127-5d74-42db-ac95-c35ebbfc79ab",
   "metadata": {},
   "outputs": [
    {
     "data": {
      "text/plain": [
       "array([ 3,  9, 15])"
      ]
     },
     "execution_count": 7,
     "metadata": {},
     "output_type": "execute_result"
    }
   ],
   "source": [
    "v[al_getir]"
   ]
  },
  {
   "cell_type": "markdown",
   "id": "efc73b01-11d1-441a-8998-fd65160ebac4",
   "metadata": {},
   "source": [
    "# İki boyutta Fancy"
   ]
  },
  {
   "cell_type": "code",
   "execution_count": 8,
   "id": "69315eae-2dab-4bf8-a773-384f5a46b08b",
   "metadata": {},
   "outputs": [],
   "source": [
    "m=np.arange(9).reshape((3,3))"
   ]
  },
  {
   "cell_type": "code",
   "execution_count": 9,
   "id": "aa69bdf9-3285-470c-8050-258a97c39c5e",
   "metadata": {},
   "outputs": [
    {
     "data": {
      "text/plain": [
       "array([[0, 1, 2],\n",
       "       [3, 4, 5],\n",
       "       [6, 7, 8]])"
      ]
     },
     "execution_count": 9,
     "metadata": {},
     "output_type": "execute_result"
    }
   ],
   "source": [
    "m"
   ]
  },
  {
   "cell_type": "code",
   "execution_count": 10,
   "id": "b2112b25-4b7e-4c83-86a6-ca6fe7ff8dfc",
   "metadata": {},
   "outputs": [],
   "source": [
    "satir=np.array([0,1])"
   ]
  },
  {
   "cell_type": "code",
   "execution_count": 11,
   "id": "1545635c-9ab4-4dae-aabd-9e47631c4a8e",
   "metadata": {},
   "outputs": [],
   "source": [
    "sutun=np.array([1,2])"
   ]
  },
  {
   "cell_type": "code",
   "execution_count": 14,
   "id": "9c02a339-0199-4aff-8404-f780c9635fc0",
   "metadata": {},
   "outputs": [
    {
     "data": {
      "text/plain": [
       "array([1, 5])"
      ]
     },
     "execution_count": 14,
     "metadata": {},
     "output_type": "execute_result"
    }
   ],
   "source": [
    "m[satir,sutun]"
   ]
  },
  {
   "cell_type": "markdown",
   "id": "bcfb6f81-65d9-4571-b2f3-577db0602314",
   "metadata": {},
   "source": [
    "# Basit Index ile Fancy Index"
   ]
  },
  {
   "cell_type": "code",
   "execution_count": 19,
   "id": "52cc66ce-6418-4805-b75e-2950a9ac113a",
   "metadata": {},
   "outputs": [
    {
     "data": {
      "text/plain": [
       "array([7, 8])"
      ]
     },
     "execution_count": 19,
     "metadata": {},
     "output_type": "execute_result"
    }
   ],
   "source": [
    "m[2,[1,2]]"
   ]
  },
  {
   "cell_type": "markdown",
   "id": "041e4e64-033e-4d90-990e-091f9dc05d83",
   "metadata": {},
   "source": [
    "# Slice ile fancy"
   ]
  },
  {
   "cell_type": "code",
   "execution_count": 20,
   "id": "6d52a4a7-238b-48bb-94e2-055944e62ae0",
   "metadata": {},
   "outputs": [
    {
     "data": {
      "text/plain": [
       "array([[1, 2],\n",
       "       [4, 5],\n",
       "       [7, 8]])"
      ]
     },
     "execution_count": 20,
     "metadata": {},
     "output_type": "execute_result"
    }
   ],
   "source": [
    "m[0:,[1,2]]"
   ]
  },
  {
   "cell_type": "code",
   "execution_count": null,
   "id": "c95c1ede-5609-4859-9891-0fbb81ad0b47",
   "metadata": {},
   "outputs": [],
   "source": []
  }
 ],
 "metadata": {
  "kernelspec": {
   "display_name": "Python 3 (ipykernel)",
   "language": "python",
   "name": "python3"
  },
  "language_info": {
   "codemirror_mode": {
    "name": "ipython",
    "version": 3
   },
   "file_extension": ".py",
   "mimetype": "text/x-python",
   "name": "python",
   "nbconvert_exporter": "python",
   "pygments_lexer": "ipython3",
   "version": "3.9.7"
  }
 },
 "nbformat": 4,
 "nbformat_minor": 5
}
