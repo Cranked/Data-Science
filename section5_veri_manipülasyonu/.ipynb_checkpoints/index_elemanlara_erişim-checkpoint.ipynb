{
 "cells": [
  {
   "cell_type": "markdown",
   "id": "73f17765-9d6f-41ef-89eb-bb6aa1548cbf",
   "metadata": {},
   "source": [
    "# Index ile elemanlara erişmek"
   ]
  },
  {
   "cell_type": "code",
   "execution_count": 1,
   "id": "a6a3d081-1c6b-42fc-919e-37efffc72c1c",
   "metadata": {},
   "outputs": [],
   "source": [
    "import numpy as np"
   ]
  },
  {
   "cell_type": "code",
   "execution_count": 2,
   "id": "bb5bb00c-719f-41b5-98c7-2e2a35ffe103",
   "metadata": {},
   "outputs": [],
   "source": [
    "a=np.random.randint(10,size=10)"
   ]
  },
  {
   "cell_type": "code",
   "execution_count": 3,
   "id": "fb4c49bd-45e4-47be-9c97-f4c5fec40554",
   "metadata": {},
   "outputs": [
    {
     "data": {
      "text/plain": [
       "array([9, 3, 5, 5, 0, 3, 9, 6, 7, 2])"
      ]
     },
     "execution_count": 3,
     "metadata": {},
     "output_type": "execute_result"
    }
   ],
   "source": [
    "a"
   ]
  },
  {
   "cell_type": "code",
   "execution_count": 4,
   "id": "0e99f9ac-e200-4e66-8da0-948d6a6ebd9f",
   "metadata": {},
   "outputs": [
    {
     "data": {
      "text/plain": [
       "9"
      ]
     },
     "execution_count": 4,
     "metadata": {},
     "output_type": "execute_result"
    }
   ],
   "source": [
    "a[0]"
   ]
  },
  {
   "cell_type": "code",
   "execution_count": 5,
   "id": "516f04f3-bea3-41bc-9be0-45ed722ac006",
   "metadata": {},
   "outputs": [
    {
     "data": {
      "text/plain": [
       "2"
      ]
     },
     "execution_count": 5,
     "metadata": {},
     "output_type": "execute_result"
    }
   ],
   "source": [
    "a[-1]"
   ]
  },
  {
   "cell_type": "code",
   "execution_count": 6,
   "id": "c314f81d-fba1-4de2-bb50-2bd91ec1dc32",
   "metadata": {},
   "outputs": [],
   "source": [
    "m=np.random.randint(10,size=(3,5))"
   ]
  },
  {
   "cell_type": "code",
   "execution_count": 7,
   "id": "d0852111-77a7-470e-bac1-dc5b9c535d0e",
   "metadata": {},
   "outputs": [
    {
     "data": {
      "text/plain": [
       "array([[0, 6, 4, 9, 5],\n",
       "       [8, 2, 7, 5, 0],\n",
       "       [6, 7, 9, 7, 1]])"
      ]
     },
     "execution_count": 7,
     "metadata": {},
     "output_type": "execute_result"
    }
   ],
   "source": [
    "m"
   ]
  },
  {
   "cell_type": "code",
   "execution_count": 8,
   "id": "e96b3116-6fdd-4171-87f6-6c71ded1004a",
   "metadata": {},
   "outputs": [
    {
     "data": {
      "text/plain": [
       "0"
      ]
     },
     "execution_count": 8,
     "metadata": {},
     "output_type": "execute_result"
    }
   ],
   "source": [
    "m[0,0]"
   ]
  },
  {
   "cell_type": "code",
   "execution_count": 9,
   "id": "92c4d577-a55e-41b0-b0ae-14ca8f46a175",
   "metadata": {},
   "outputs": [
    {
     "data": {
      "text/plain": [
       "2"
      ]
     },
     "execution_count": 9,
     "metadata": {},
     "output_type": "execute_result"
    }
   ],
   "source": [
    "m[1,1]"
   ]
  },
  {
   "cell_type": "code",
   "execution_count": 10,
   "id": "b6028040-cc8a-48eb-9888-eff08220db31",
   "metadata": {},
   "outputs": [],
   "source": [
    "m[1,1]=99"
   ]
  },
  {
   "cell_type": "code",
   "execution_count": 11,
   "id": "35b45149-75d1-483e-b6fa-26ee53a1db7f",
   "metadata": {},
   "outputs": [
    {
     "data": {
      "text/plain": [
       "array([[ 0,  6,  4,  9,  5],\n",
       "       [ 8, 99,  7,  5,  0],\n",
       "       [ 6,  7,  9,  7,  1]])"
      ]
     },
     "execution_count": 11,
     "metadata": {},
     "output_type": "execute_result"
    }
   ],
   "source": [
    "m"
   ]
  },
  {
   "cell_type": "code",
   "execution_count": 12,
   "id": "daf9edb2-47fa-47ea-9245-b51b7f6dc060",
   "metadata": {},
   "outputs": [],
   "source": [
    "m[1,1]=2.2"
   ]
  },
  {
   "cell_type": "markdown",
   "id": "b7ae8db2-0e92-4ee9-906c-484c58b8da2b",
   "metadata": {},
   "source": [
    "# **Burada array basta integer oldugu için tipi integer oldu.Bir eleman eklenip veya değiştirildiğinde integer olarak dönüştürüldü.Değiştirilen değer float fakat matris integer oldugundan 2 olarak değiştirildi.**"
   ]
  },
  {
   "cell_type": "code",
   "execution_count": 13,
   "id": "a4092cbc-b65c-4886-8aba-9c25a997d574",
   "metadata": {},
   "outputs": [
    {
     "data": {
      "text/plain": [
       "array([[0, 6, 4, 9, 5],\n",
       "       [8, 2, 7, 5, 0],\n",
       "       [6, 7, 9, 7, 1]])"
      ]
     },
     "execution_count": 13,
     "metadata": {},
     "output_type": "execute_result"
    }
   ],
   "source": [
    "m"
   ]
  },
  {
   "cell_type": "code",
   "execution_count": null,
   "id": "d0188ca7-687c-4d59-83b6-01090611846d",
   "metadata": {},
   "outputs": [],
   "source": []
  }
 ],
 "metadata": {
  "kernelspec": {
   "display_name": "Python 3 (ipykernel)",
   "language": "python",
   "name": "python3"
  },
  "language_info": {
   "codemirror_mode": {
    "name": "ipython",
    "version": 3
   },
   "file_extension": ".py",
   "mimetype": "text/x-python",
   "name": "python",
   "nbconvert_exporter": "python",
   "pygments_lexer": "ipython3",
   "version": "3.9.7"
  }
 },
 "nbformat": 4,
 "nbformat_minor": 5
}
