{
 "cells": [
  {
   "cell_type": "markdown",
   "id": "25098bd5-d050-4946-919a-86958019d143",
   "metadata": {},
   "source": [
    "# Eleman İşlemleri"
   ]
  },
  {
   "cell_type": "code",
   "execution_count": 4,
   "id": "e0ac9dc0-b5e2-4478-b365-062d88d27a65",
   "metadata": {},
   "outputs": [],
   "source": [
    "import numpy as np\n",
    "import pandas as pd"
   ]
  },
  {
   "cell_type": "code",
   "execution_count": 5,
   "id": "989a85f2-02dd-4699-b092-a0ae39e85f84",
   "metadata": {},
   "outputs": [
    {
     "data": {
      "text/plain": [
       "0      1\n",
       "1    222\n",
       "2      3\n",
       "3      4\n",
       "4     45\n",
       "dtype: int32"
      ]
     },
     "execution_count": 5,
     "metadata": {},
     "output_type": "execute_result"
    }
   ],
   "source": [
    "a=np.array([1,222,3,4,45])\n",
    "seri=pd.Series(a)\n",
    "seri"
   ]
  },
  {
   "cell_type": "code",
   "execution_count": 6,
   "id": "00737b28-aa00-4ee0-bb3a-2459e9d2da71",
   "metadata": {},
   "outputs": [
    {
     "data": {
      "text/plain": [
       "1"
      ]
     },
     "execution_count": 6,
     "metadata": {},
     "output_type": "execute_result"
    }
   ],
   "source": [
    "seri[0]"
   ]
  },
  {
   "cell_type": "code",
   "execution_count": 7,
   "id": "bb7d5781-7ef8-49f8-86ac-731b929f506f",
   "metadata": {},
   "outputs": [
    {
     "data": {
      "text/plain": [
       "0      1\n",
       "1    222\n",
       "2      3\n",
       "dtype: int32"
      ]
     },
     "execution_count": 7,
     "metadata": {},
     "output_type": "execute_result"
    }
   ],
   "source": [
    "seri[0:3]"
   ]
  },
  {
   "cell_type": "code",
   "execution_count": 8,
   "id": "a0f9d528-8cf7-49c5-ba0b-4e315e9a3f3e",
   "metadata": {},
   "outputs": [],
   "source": [
    "sozluk_serisi=pd.Series([12,3,78,99],index=[\"reg\",\"loj\",\"cart\",\"rf\"])"
   ]
  },
  {
   "cell_type": "code",
   "execution_count": 9,
   "id": "f927709a-48c6-431f-9914-47212692d680",
   "metadata": {},
   "outputs": [
    {
     "data": {
      "text/plain": [
       "reg     12\n",
       "loj      3\n",
       "cart    78\n",
       "rf      99\n",
       "dtype: int64"
      ]
     },
     "execution_count": 9,
     "metadata": {},
     "output_type": "execute_result"
    }
   ],
   "source": [
    "sozluk_serisi"
   ]
  },
  {
   "cell_type": "code",
   "execution_count": 10,
   "id": "cadbe489-3528-4cad-8d9b-5f5ff1bd20c2",
   "metadata": {},
   "outputs": [
    {
     "data": {
      "text/plain": [
       "Index(['reg', 'loj', 'cart', 'rf'], dtype='object')"
      ]
     },
     "execution_count": 10,
     "metadata": {},
     "output_type": "execute_result"
    }
   ],
   "source": [
    "sozluk_serisi.index"
   ]
  },
  {
   "cell_type": "code",
   "execution_count": 11,
   "id": "2d51cbb2-109e-4354-9ccf-7abe03f616b3",
   "metadata": {},
   "outputs": [
    {
     "data": {
      "text/plain": [
       "<bound method Series.keys of reg     12\n",
       "loj      3\n",
       "cart    78\n",
       "rf      99\n",
       "dtype: int64>"
      ]
     },
     "execution_count": 11,
     "metadata": {},
     "output_type": "execute_result"
    }
   ],
   "source": [
    "sozluk_serisi.keys"
   ]
  },
  {
   "cell_type": "code",
   "execution_count": 13,
   "id": "b8176b07-da37-4edd-a487-9cba36662706",
   "metadata": {},
   "outputs": [
    {
     "data": {
      "text/plain": [
       "[('reg', 12), ('loj', 3), ('cart', 78), ('rf', 99)]"
      ]
     },
     "execution_count": 13,
     "metadata": {},
     "output_type": "execute_result"
    }
   ],
   "source": [
    "list(sozluk_serisi.items())"
   ]
  },
  {
   "cell_type": "code",
   "execution_count": 14,
   "id": "28593a1e-4e11-405e-86ea-3a252be5b4c5",
   "metadata": {},
   "outputs": [
    {
     "data": {
      "text/plain": [
       "array([12,  3, 78, 99], dtype=int64)"
      ]
     },
     "execution_count": 14,
     "metadata": {},
     "output_type": "execute_result"
    }
   ],
   "source": [
    "sozluk_serisi.values"
   ]
  },
  {
   "cell_type": "markdown",
   "id": "ae9301f2-8e72-4a16-9026-b9c062f3ed55",
   "metadata": {},
   "source": [
    "# Eleman Sorgulama"
   ]
  },
  {
   "cell_type": "code",
   "execution_count": 16,
   "id": "73389567-4622-46ab-a434-c932d82acd02",
   "metadata": {},
   "outputs": [
    {
     "data": {
      "text/plain": [
       "True"
      ]
     },
     "execution_count": 16,
     "metadata": {},
     "output_type": "execute_result"
    }
   ],
   "source": [
    "\"reg\" in sozluk_serisi"
   ]
  },
  {
   "cell_type": "markdown",
   "id": "622c0c9b-f15d-48b2-bbe4-fb91337510be",
   "metadata": {},
   "source": [
    "# Fancy Eleman"
   ]
  },
  {
   "cell_type": "code",
   "execution_count": 18,
   "id": "a96d0a3e-d090-4a04-9346-66bc1ed8be0a",
   "metadata": {},
   "outputs": [
    {
     "data": {
      "text/plain": [
       "rf     99\n",
       "reg    12\n",
       "dtype: int64"
      ]
     },
     "execution_count": 18,
     "metadata": {},
     "output_type": "execute_result"
    }
   ],
   "source": [
    "sozluk_serisi[[\"rf\",\"reg\"]]"
   ]
  },
  {
   "cell_type": "code",
   "execution_count": 22,
   "id": "b048335d-711c-428f-bfc1-3addb32c6302",
   "metadata": {},
   "outputs": [],
   "source": [
    "sozluk_serisi[\"reg\"]=130"
   ]
  },
  {
   "cell_type": "code",
   "execution_count": 23,
   "id": "a17a5161-05ad-4ee2-998b-4c5faddb24ab",
   "metadata": {},
   "outputs": [],
   "source": [
    "sozluk_serisi[\"reg\"]=99"
   ]
  },
  {
   "cell_type": "code",
   "execution_count": 24,
   "id": "cf88995d-1690-4d73-ac84-81020c3e9894",
   "metadata": {},
   "outputs": [
    {
     "data": {
      "text/plain": [
       "reg     99\n",
       "loj      3\n",
       "cart    78\n",
       "rf      99\n",
       "dtype: int64"
      ]
     },
     "execution_count": 24,
     "metadata": {},
     "output_type": "execute_result"
    }
   ],
   "source": [
    "sozluk_serisi"
   ]
  },
  {
   "cell_type": "code",
   "execution_count": 26,
   "id": "7570448f-c64d-4adf-be41-3c81b570fb2a",
   "metadata": {},
   "outputs": [
    {
     "data": {
      "text/plain": [
       "reg    99\n",
       "loj     3\n",
       "dtype: int64"
      ]
     },
     "execution_count": 26,
     "metadata": {},
     "output_type": "execute_result"
    }
   ],
   "source": [
    "sozluk_serisi[\"reg\":\"loj\"]"
   ]
  },
  {
   "cell_type": "code",
   "execution_count": null,
   "id": "4a32e3e4-728d-44c1-b8ec-2cc54d4dfac5",
   "metadata": {},
   "outputs": [],
   "source": []
  }
 ],
 "metadata": {
  "kernelspec": {
   "display_name": "Python 3 (ipykernel)",
   "language": "python",
   "name": "python3"
  },
  "language_info": {
   "codemirror_mode": {
    "name": "ipython",
    "version": 3
   },
   "file_extension": ".py",
   "mimetype": "text/x-python",
   "name": "python",
   "nbconvert_exporter": "python",
   "pygments_lexer": "ipython3",
   "version": "3.9.7"
  }
 },
 "nbformat": 4,
 "nbformat_minor": 5
}
