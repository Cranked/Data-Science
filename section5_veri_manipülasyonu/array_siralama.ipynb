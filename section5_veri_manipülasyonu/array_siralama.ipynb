{
 "cells": [
  {
   "cell_type": "markdown",
   "id": "4ee5e38b-40e1-4603-b3ef-99d4818f8daf",
   "metadata": {},
   "source": [
    "# Array Sıralama(Sorting)"
   ]
  },
  {
   "cell_type": "code",
   "execution_count": 1,
   "id": "ba3cdd68-8459-462e-b2a2-d6efcba3aa02",
   "metadata": {},
   "outputs": [],
   "source": [
    "import numpy as np"
   ]
  },
  {
   "cell_type": "code",
   "execution_count": 2,
   "id": "4fd8fc89-e2de-4f31-a868-d45b6aa58377",
   "metadata": {},
   "outputs": [],
   "source": [
    "v=np.array([2,12,4,5,7])"
   ]
  },
  {
   "cell_type": "code",
   "execution_count": 3,
   "id": "d59597bb-3e03-4e6e-bd14-e96372f70a56",
   "metadata": {},
   "outputs": [
    {
     "data": {
      "text/plain": [
       "array([ 2, 12,  4,  5,  7])"
      ]
     },
     "execution_count": 3,
     "metadata": {},
     "output_type": "execute_result"
    }
   ],
   "source": [
    "v"
   ]
  },
  {
   "cell_type": "code",
   "execution_count": 4,
   "id": "7eb712cb-1b41-4d74-94e2-532be380088e",
   "metadata": {},
   "outputs": [
    {
     "data": {
      "text/plain": [
       "array([ 2,  4,  5,  7, 12])"
      ]
     },
     "execution_count": 4,
     "metadata": {},
     "output_type": "execute_result"
    }
   ],
   "source": [
    "np.sort(v)"
   ]
  },
  {
   "cell_type": "code",
   "execution_count": 5,
   "id": "1302adc9-f042-40c4-9a3a-4ec145c415ce",
   "metadata": {},
   "outputs": [],
   "source": [
    "v.sort()"
   ]
  },
  {
   "cell_type": "code",
   "execution_count": 6,
   "id": "24c0d77a-fb7f-4075-92de-2154ae5a32f0",
   "metadata": {},
   "outputs": [
    {
     "data": {
      "text/plain": [
       "array([ 2,  4,  5,  7, 12])"
      ]
     },
     "execution_count": 6,
     "metadata": {},
     "output_type": "execute_result"
    }
   ],
   "source": [
    "v"
   ]
  },
  {
   "cell_type": "code",
   "execution_count": 8,
   "id": "4f476caa-e372-4332-b7c0-9a8a8bae6010",
   "metadata": {},
   "outputs": [],
   "source": [
    "m=np.random.normal(20,5,(3,3))"
   ]
  },
  {
   "cell_type": "code",
   "execution_count": 9,
   "id": "68a67fba-9787-4d00-bbe4-62ae4bddc346",
   "metadata": {},
   "outputs": [
    {
     "data": {
      "text/plain": [
       "array([[17.14138913, 21.17798601, 16.23510559],\n",
       "       [22.85292837, 18.21661035, 20.33558655],\n",
       "       [27.21392711, 18.91585628, 20.32294884]])"
      ]
     },
     "execution_count": 9,
     "metadata": {},
     "output_type": "execute_result"
    }
   ],
   "source": [
    "m"
   ]
  },
  {
   "cell_type": "code",
   "execution_count": 10,
   "id": "1691b00a-1c7b-4da8-a597-c6520e865816",
   "metadata": {},
   "outputs": [
    {
     "data": {
      "text/plain": [
       "array([[16.23510559, 17.14138913, 21.17798601],\n",
       "       [18.21661035, 20.33558655, 22.85292837],\n",
       "       [18.91585628, 20.32294884, 27.21392711]])"
      ]
     },
     "execution_count": 10,
     "metadata": {},
     "output_type": "execute_result"
    }
   ],
   "source": [
    "np.sort(m,axis=1)"
   ]
  },
  {
   "cell_type": "code",
   "execution_count": 11,
   "id": "fd1b0216-d11e-4a05-b45a-e779b9e37b6a",
   "metadata": {},
   "outputs": [
    {
     "data": {
      "text/plain": [
       "array([[17.14138913, 18.21661035, 16.23510559],\n",
       "       [22.85292837, 18.91585628, 20.32294884],\n",
       "       [27.21392711, 21.17798601, 20.33558655]])"
      ]
     },
     "execution_count": 11,
     "metadata": {},
     "output_type": "execute_result"
    }
   ],
   "source": [
    "np.sort(m,axis=0)"
   ]
  },
  {
   "cell_type": "code",
   "execution_count": null,
   "id": "4889a67d-48d1-420b-96f1-d9bd248d5ffc",
   "metadata": {},
   "outputs": [],
   "source": []
  }
 ],
 "metadata": {
  "kernelspec": {
   "display_name": "Python 3 (ipykernel)",
   "language": "python",
   "name": "python3"
  },
  "language_info": {
   "codemirror_mode": {
    "name": "ipython",
    "version": 3
   },
   "file_extension": ".py",
   "mimetype": "text/x-python",
   "name": "python",
   "nbconvert_exporter": "python",
   "pygments_lexer": "ipython3",
   "version": "3.9.7"
  }
 },
 "nbformat": 4,
 "nbformat_minor": 5
}
