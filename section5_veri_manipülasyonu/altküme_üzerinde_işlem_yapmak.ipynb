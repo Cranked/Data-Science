{
 "cells": [
  {
   "cell_type": "markdown",
   "id": "cc45c6b4-d1ea-48af-b30f-883efe4ed532",
   "metadata": {},
   "source": [
    "# Altküme Üzerinde İşlem Yapmak"
   ]
  },
  {
   "cell_type": "code",
   "execution_count": 1,
   "id": "67ac60fa-c932-42ec-a72b-d5efa7e29beb",
   "metadata": {},
   "outputs": [],
   "source": [
    "import numpy as np"
   ]
  },
  {
   "cell_type": "code",
   "execution_count": 2,
   "id": "b68c292a-39a3-4887-8e2b-d121273049ee",
   "metadata": {},
   "outputs": [],
   "source": [
    "a=np.random.randint(10,size=(5,5))"
   ]
  },
  {
   "cell_type": "code",
   "execution_count": 3,
   "id": "108c8e84-46e3-4842-8aed-c29237217a13",
   "metadata": {},
   "outputs": [
    {
     "data": {
      "text/plain": [
       "array([[2, 2, 7, 8, 1],\n",
       "       [4, 2, 7, 7, 7],\n",
       "       [9, 8, 9, 0, 1],\n",
       "       [2, 3, 3, 6, 7],\n",
       "       [2, 8, 3, 5, 8]])"
      ]
     },
     "execution_count": 3,
     "metadata": {},
     "output_type": "execute_result"
    }
   ],
   "source": [
    "a"
   ]
  },
  {
   "cell_type": "code",
   "execution_count": 4,
   "id": "f802f6ee-c33f-4c66-937a-d182511738e3",
   "metadata": {},
   "outputs": [],
   "source": [
    "alt_a=a[0:3,0:2]"
   ]
  },
  {
   "cell_type": "code",
   "execution_count": 5,
   "id": "90144d4a-fc48-4a9a-87f4-f47f16244b1f",
   "metadata": {},
   "outputs": [],
   "source": [
    "alt_a[0,0]=99999\n",
    "alt_a[1,1]=888"
   ]
  },
  {
   "cell_type": "code",
   "execution_count": 6,
   "id": "10c4b5fd-7877-40ab-bf4b-246a1f513674",
   "metadata": {},
   "outputs": [
    {
     "data": {
      "text/plain": [
       "array([[99999,     2],\n",
       "       [    4,   888],\n",
       "       [    9,     8]])"
      ]
     },
     "execution_count": 6,
     "metadata": {},
     "output_type": "execute_result"
    }
   ],
   "source": [
    "alt_a"
   ]
  },
  {
   "cell_type": "code",
   "execution_count": 7,
   "id": "1ea7d999-638d-4818-843e-f3c44898a6d0",
   "metadata": {},
   "outputs": [
    {
     "data": {
      "text/plain": [
       "array([[99999,     2,     7,     8,     1],\n",
       "       [    4,   888,     7,     7,     7],\n",
       "       [    9,     8,     9,     0,     1],\n",
       "       [    2,     3,     3,     6,     7],\n",
       "       [    2,     8,     3,     5,     8]])"
      ]
     },
     "execution_count": 7,
     "metadata": {},
     "output_type": "execute_result"
    }
   ],
   "source": [
    "a"
   ]
  },
  {
   "cell_type": "code",
   "execution_count": 12,
   "id": "83570d78-1321-4150-93e8-1cafc40f3170",
   "metadata": {},
   "outputs": [],
   "source": [
    "m=np.random.randint(10,size=(5,5))"
   ]
  },
  {
   "cell_type": "code",
   "execution_count": 13,
   "id": "d8888f31-ea59-4963-91b1-1c6676e04c01",
   "metadata": {},
   "outputs": [
    {
     "data": {
      "text/plain": [
       "array([[6, 5, 0, 7, 4],\n",
       "       [9, 9, 9, 9, 8],\n",
       "       [1, 2, 4, 9, 8],\n",
       "       [1, 3, 8, 5, 0],\n",
       "       [1, 3, 9, 8, 3]])"
      ]
     },
     "execution_count": 13,
     "metadata": {},
     "output_type": "execute_result"
    }
   ],
   "source": [
    "m"
   ]
  },
  {
   "cell_type": "code",
   "execution_count": 14,
   "id": "7ef7226e-beeb-43de-bac7-7cc82f83d524",
   "metadata": {},
   "outputs": [],
   "source": [
    "alt_b=m[0:3,0:2].copy()"
   ]
  },
  {
   "cell_type": "code",
   "execution_count": 15,
   "id": "2f575396-7eab-4563-8023-97bd5d338690",
   "metadata": {},
   "outputs": [
    {
     "data": {
      "text/plain": [
       "array([[6, 5],\n",
       "       [9, 9],\n",
       "       [1, 2]])"
      ]
     },
     "execution_count": 15,
     "metadata": {},
     "output_type": "execute_result"
    }
   ],
   "source": [
    "alt_b"
   ]
  },
  {
   "cell_type": "code",
   "execution_count": null,
   "id": "a20d4291-6c66-45ab-bee6-b5bc75ce1264",
   "metadata": {},
   "outputs": [],
   "source": []
  }
 ],
 "metadata": {
  "kernelspec": {
   "display_name": "Python 3 (ipykernel)",
   "language": "python",
   "name": "python3"
  },
  "language_info": {
   "codemirror_mode": {
    "name": "ipython",
    "version": 3
   },
   "file_extension": ".py",
   "mimetype": "text/x-python",
   "name": "python",
   "nbconvert_exporter": "python",
   "pygments_lexer": "ipython3",
   "version": "3.9.7"
  }
 },
 "nbformat": 4,
 "nbformat_minor": 5
}
