{
 "cells": [
  {
   "cell_type": "markdown",
   "id": "b54016f6-85bd-4bf0-8cdd-eb2b775480ab",
   "metadata": {},
   "source": [
    "# Neden Numpy"
   ]
  },
  {
   "cell_type": "markdown",
   "id": "b6f5f2d0-1e88-4c67-b292-d7afc8a9eb12",
   "metadata": {},
   "source": [
    "## Bu bir alt baslıktır"
   ]
  },
  {
   "cell_type": "code",
   "execution_count": 13,
   "id": "3b458965-d33a-475b-88cd-2bc68e6dbdb7",
   "metadata": {},
   "outputs": [],
   "source": [
    "from sys import getsizeof\n",
    "a=[1,2,3,4]\n",
    "b=[2,3,4,5]\n",
    "\n"
   ]
  },
  {
   "cell_type": "code",
   "execution_count": 14,
   "id": "04cc0674-a3d3-45ee-8513-97c5c0fc09d7",
   "metadata": {},
   "outputs": [
    {
     "data": {
      "text/plain": [
       "88"
      ]
     },
     "execution_count": 20,
     "metadata": {},
     "output_type": "execute_result"
    }
   ],
   "source": [
    "ab=[]\n",
    "for i in range(len(a)):\n",
    "    ab.append(a[i]*b[i])\n",
    "    \n",
    "ab\n",
    "getsizeof(ab)"
   ]
  },
  {
   "cell_type": "code",
   "execution_count": 11,
   "id": "254b6dda-827e-43f4-b735-c993645de5d3",
   "metadata": {},
   "outputs": [],
   "source": [
    "import numpy as np\n",
    "first_array=np.array(a)\n",
    "second_array=np.array(b)"
   ]
  },
  {
   "cell_type": "code",
   "execution_count": 16,
   "id": "4ce12276-6364-4e79-ab54-d6d33292120e",
   "metadata": {},
   "outputs": [],
   "source": [
    "result=first_array*second_array"
   ]
  },
  {
   "cell_type": "code",
   "execution_count": 21,
   "id": "45d02af6-8533-4411-a1d5-16fbf2f602cc",
   "metadata": {},
   "outputs": [
    {
     "data": {
      "text/plain": [
       "120"
      ]
     },
     "execution_count": 21,
     "metadata": {},
     "output_type": "execute_result"
    }
   ],
   "source": [
    "getsizeof(result)"
   ]
  },
  {
   "cell_type": "code",
   "execution_count": null,
   "id": "0f50c057-6196-4273-9019-ee59ca72f649",
   "metadata": {},
   "outputs": [],
   "source": []
  }
 ],
 "metadata": {
  "kernelspec": {
   "display_name": "Python 3 (ipykernel)",
   "language": "python",
   "name": "python3"
  },
  "language_info": {
   "codemirror_mode": {
    "name": "ipython",
    "version": 3
   },
   "file_extension": ".py",
   "mimetype": "text/x-python",
   "name": "python",
   "nbconvert_exporter": "python",
   "pygments_lexer": "ipython3",
   "version": "3.9.7"
  },
  "toc-autonumbering": true,
  "toc-showcode": true,
  "toc-showmarkdowntxt": true
 },
 "nbformat": 4,
 "nbformat_minor": 5
}
