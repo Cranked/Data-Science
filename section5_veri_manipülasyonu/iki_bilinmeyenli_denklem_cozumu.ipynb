{
 "cells": [
  {
   "cell_type": "markdown",
   "id": "e225475f-590a-478f-aa56-c15e6226634b",
   "metadata": {},
   "source": [
    "# Numpy ile 2 Bilinmeyenli Denklem Çözümü"
   ]
  },
  {
   "cell_type": "code",
   "execution_count": 1,
   "id": "86a74005-9e7b-4018-80ae-25fb999656d0",
   "metadata": {},
   "outputs": [],
   "source": [
    "import numpy as np"
   ]
  },
  {
   "cell_type": "markdown",
   "id": "2485a618-524f-4a66-a49c-da3852ace2cf",
   "metadata": {},
   "source": [
    "5*x0+x1=12\n",
    "x0+3*x1=10"
   ]
  },
  {
   "cell_type": "code",
   "execution_count": 4,
   "id": "3fc29ce8-ada4-41b1-8534-e78add9b4976",
   "metadata": {},
   "outputs": [
    {
     "data": {
      "text/plain": [
       "array([[5, 1],\n",
       "       [1, 3]])"
      ]
     },
     "execution_count": 4,
     "metadata": {},
     "output_type": "execute_result"
    }
   ],
   "source": [
    "a=np.array([[5,1],[1,3]])\n",
    "a"
   ]
  },
  {
   "cell_type": "code",
   "execution_count": 5,
   "id": "fe89ee99-b8ae-464d-bf69-66dc0472e872",
   "metadata": {},
   "outputs": [],
   "source": [
    "b=np.array([12,10])"
   ]
  },
  {
   "cell_type": "code",
   "execution_count": 6,
   "id": "05d49c83-348f-443b-a0ea-18fde71e4307",
   "metadata": {},
   "outputs": [],
   "source": [
    "x=np.linalg.solve(a,b)"
   ]
  },
  {
   "cell_type": "code",
   "execution_count": 7,
   "id": "d4776b5d-10a8-4109-bebe-dd94ccf2f939",
   "metadata": {},
   "outputs": [
    {
     "data": {
      "text/plain": [
       "array([1.85714286, 2.71428571])"
      ]
     },
     "execution_count": 7,
     "metadata": {},
     "output_type": "execute_result"
    }
   ],
   "source": [
    "x"
   ]
  },
  {
   "cell_type": "code",
   "execution_count": null,
   "id": "7436dbf8-7d07-49e8-aaf7-c38389ff761f",
   "metadata": {},
   "outputs": [],
   "source": []
  }
 ],
 "metadata": {
  "kernelspec": {
   "display_name": "Python 3 (ipykernel)",
   "language": "python",
   "name": "python3"
  },
  "language_info": {
   "codemirror_mode": {
    "name": "ipython",
    "version": 3
   },
   "file_extension": ".py",
   "mimetype": "text/x-python",
   "name": "python",
   "nbconvert_exporter": "python",
   "pygments_lexer": "ipython3",
   "version": "3.9.7"
  }
 },
 "nbformat": 4,
 "nbformat_minor": 5
}
