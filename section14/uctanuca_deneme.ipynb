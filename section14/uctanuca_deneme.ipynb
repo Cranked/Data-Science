{
 "cells": [
  {
   "cell_type": "code",
   "execution_count": 1,
   "id": "ce5abf0b-1877-4e57-82fe-55534eb33e33",
   "metadata": {},
   "outputs": [
    {
     "name": "stdout",
     "output_type": "stream",
     "text": [
      "Requirement already satisfied: findspark in d:\\anaconda\\lib\\site-packages (2.0.1)\n"
     ]
    }
   ],
   "source": [
    "!pip install findspark"
   ]
  },
  {
   "cell_type": "code",
   "execution_count": 4,
   "id": "78b04891-f73a-4131-b6e0-c1a9243309c5",
   "metadata": {},
   "outputs": [],
   "source": [
    "import findspark\n",
    "findspark.init(\"C:\\\\spark\")"
   ]
  },
  {
   "cell_type": "code",
   "execution_count": 6,
   "id": "b0380c06-75f3-4e5d-b4a2-ecbeb5e34a3d",
   "metadata": {},
   "outputs": [],
   "source": [
    "import pyspark\n",
    "from pyspark.sql import SparkSession\n",
    "from pyspark.conf import SparkConf\n",
    "from pyspark.context import SparkContext"
   ]
  },
  {
   "cell_type": "code",
   "execution_count": 7,
   "id": "5f69d0a1-2e63-4c43-8f50-fb386f4122cd",
   "metadata": {},
   "outputs": [
    {
     "data": {
      "text/html": [
       "\n",
       "        <div>\n",
       "            <p><b>SparkContext</b></p>\n",
       "\n",
       "            <p><a href=\"http://DESKTOP-1C2H9TE:4041\">Spark UI</a></p>\n",
       "\n",
       "            <dl>\n",
       "              <dt>Version</dt>\n",
       "                <dd><code>v3.2.1</code></dd>\n",
       "              <dt>Master</dt>\n",
       "                <dd><code>local</code></dd>\n",
       "              <dt>AppName</dt>\n",
       "                <dd><code>churn_modellemesi</code></dd>\n",
       "            </dl>\n",
       "        </div>\n",
       "        "
      ],
      "text/plain": [
       "<SparkContext master=local appName=churn_modellemesi>"
      ]
     },
     "execution_count": 7,
     "metadata": {},
     "output_type": "execute_result"
    }
   ],
   "source": [
    "spark=SparkSession.builder \\\n",
    "                .master(\"local\") \\\n",
    "                .appName(\"diabet-spark\") \\\n",
    "                .config(\"spark.executer.memory\",\"10gb\") \\\n",
    "                .getOrCreate()\n",
    "sc=spark.sparkContext\n",
    "sc"
   ]
  },
  {
   "cell_type": "code",
   "execution_count": 9,
   "id": "97e12d8b-aedb-4d30-b330-0b897b811fdf",
   "metadata": {},
   "outputs": [
    {
     "name": "stdout",
     "output_type": "stream",
     "text": [
      "+---+--------+---+---+\n",
      "|  0|    Will| 33|385|\n",
      "+---+--------+---+---+\n",
      "|  1|Jean-Luc| 26|  2|\n",
      "|  2|    Hugh| 55|221|\n",
      "|  3|  Deanna| 40|465|\n",
      "|  4|   Quark| 68| 21|\n",
      "|  5|  Weyoun| 59|318|\n",
      "|  6|  Gowron| 37|220|\n",
      "|  7|    Will| 54|307|\n",
      "|  8|  Jadzia| 38|380|\n",
      "|  9|    Hugh| 27|181|\n",
      "| 10|     Odo| 53|191|\n",
      "| 11|     Ben| 57|372|\n",
      "| 12|   Keiko| 54|253|\n",
      "| 13|Jean-Luc| 56|444|\n",
      "| 14|    Hugh| 43| 49|\n",
      "| 15|     Rom| 36| 49|\n",
      "| 16|  Weyoun| 22|323|\n",
      "| 17|     Odo| 35| 13|\n",
      "| 18|Jean-Luc| 45|455|\n",
      "| 19|  Geordi| 60|246|\n",
      "| 20|     Odo| 67|220|\n",
      "+---+--------+---+---+\n",
      "only showing top 20 rows\n",
      "\n"
     ]
    }
   ],
   "source": [
    "spark_df=spark.read.csv(\"fakefriends.csv\",header=True,inferSchema=True,sep=\",\")\n",
    "spark_df.show()"
   ]
  },
  {
   "cell_type": "code",
   "execution_count": 10,
   "id": "96eaabac-635d-4919-9c33-8317db708042",
   "metadata": {},
   "outputs": [
    {
     "data": {
      "text/plain": [
       "DataFrame[0: int, Will: string, 33: int, 385: int]"
      ]
     },
     "execution_count": 10,
     "metadata": {},
     "output_type": "execute_result"
    }
   ],
   "source": [
    "spark_df.cache()"
   ]
  },
  {
   "cell_type": "code",
   "execution_count": 11,
   "id": "ae7bd306-e8c4-4bef-831c-8cf795e8af20",
   "metadata": {},
   "outputs": [
    {
     "name": "stdout",
     "output_type": "stream",
     "text": [
      "root\n",
      " |-- 0: integer (nullable = true)\n",
      " |-- Will: string (nullable = true)\n",
      " |-- 33: integer (nullable = true)\n",
      " |-- 385: integer (nullable = true)\n",
      "\n"
     ]
    }
   ],
   "source": [
    "spark_df.printSchema()"
   ]
  },
  {
   "cell_type": "code",
   "execution_count": 15,
   "id": "061d2c66-2757-471d-bd9d-4abaa783c4c7",
   "metadata": {},
   "outputs": [
    {
     "name": "stdout",
     "output_type": "stream",
     "text": [
      "+-----+--------+---+---+\n",
      "|index|    Will| 33|385|\n",
      "+-----+--------+---+---+\n",
      "|    1|Jean-Luc| 26|  2|\n",
      "|    2|    Hugh| 55|221|\n",
      "|    3|  Deanna| 40|465|\n",
      "|    4|   Quark| 68| 21|\n",
      "|    5|  Weyoun| 59|318|\n",
      "+-----+--------+---+---+\n",
      "only showing top 5 rows\n",
      "\n"
     ]
    }
   ],
   "source": [
    "spark_df=spark_df.withColumnRenamed(\"0\",\"index\")\n",
    "spark_df.show(5)"
   ]
  },
  {
   "cell_type": "code",
   "execution_count": 18,
   "id": "cfaea57a-bb7a-4f06-b55d-4c0707160140",
   "metadata": {},
   "outputs": [
    {
     "name": "stdout",
     "output_type": "stream",
     "text": [
      "+-----+--------+---+---+\n",
      "|index|    will| 33|385|\n",
      "+-----+--------+---+---+\n",
      "|    1|Jean-Luc| 26|  2|\n",
      "|    2|    Hugh| 55|221|\n",
      "|    3|  Deanna| 40|465|\n",
      "|    4|   Quark| 68| 21|\n",
      "|    5|  Weyoun| 59|318|\n",
      "+-----+--------+---+---+\n",
      "only showing top 5 rows\n",
      "\n"
     ]
    }
   ],
   "source": [
    "spark_df=spark_df.toDF(*[index.lower() for index in spark_df.columns])\n",
    "spark_df.show(5)"
   ]
  },
  {
   "cell_type": "code",
   "execution_count": 19,
   "id": "8484de6c-7ab3-4c30-b15d-09bf75224794",
   "metadata": {},
   "outputs": [
    {
     "data": {
      "text/plain": [
       "30"
      ]
     },
     "execution_count": 19,
     "metadata": {},
     "output_type": "execute_result"
    }
   ],
   "source": [
    "spark_df.select(\"will\").distinct().count()"
   ]
  },
  {
   "cell_type": "code",
   "execution_count": 20,
   "id": "f026b7aa-70f9-4db2-9d3f-d837dd6ceb4b",
   "metadata": {},
   "outputs": [
    {
     "data": {
      "text/plain": [
       "499"
      ]
     },
     "execution_count": 20,
     "metadata": {},
     "output_type": "execute_result"
    }
   ],
   "source": [
    "spark_df.count()"
   ]
  },
  {
   "cell_type": "code",
   "execution_count": 32,
   "id": "f8e856d3-649f-4fed-8418-4b0ab7e58897",
   "metadata": {},
   "outputs": [
    {
     "name": "stdout",
     "output_type": "stream",
     "text": [
      "+--------+-----+\n",
      "|    will|count|\n",
      "+--------+-----+\n",
      "|    Data|   25|\n",
      "|     Nog|   22|\n",
      "|   Brunt|   22|\n",
      "|   Keiko|   21|\n",
      "|   Dukat|   21|\n",
      "|   Quark|   21|\n",
      "| Beverly|   20|\n",
      "|  Geordi|   20|\n",
      "|    Hugh|   20|\n",
      "|    Ezri|   20|\n",
      "|   Nerys|   19|\n",
      "|  Kasidy|   19|\n",
      "|    Will|   18|\n",
      "|     Ben|   17|\n",
      "|  Deanna|   17|\n",
      "|Jean-Luc|   16|\n",
      "|    Morn|   16|\n",
      "|  Weyoun|   15|\n",
      "|     Odo|   15|\n",
      "|   Leeta|   15|\n",
      "|    Worf|   14|\n",
      "|     Rom|   12|\n",
      "|  Guinan|   12|\n",
      "| Lwaxana|   12|\n",
      "|  Julian|   12|\n",
      "|  Jadzia|   12|\n",
      "|  Gowron|   12|\n",
      "|  Martok|   12|\n",
      "|    Elim|   12|\n",
      "|   Miles|   10|\n",
      "+--------+-----+\n",
      "\n"
     ]
    }
   ],
   "source": [
    "spark_df.groupby(\"will\").count().sort(\"count\",ascending=False).show(30)"
   ]
  },
  {
   "cell_type": "markdown",
   "id": "a853351f-0a87-4abc-98c1-55ab0bb29ad4",
   "metadata": {},
   "source": [
    "## Keşifçi Veri Analizi"
   ]
  },
  {
   "cell_type": "code",
   "execution_count": 36,
   "id": "533a0afa-b26f-4528-80e5-5614b3a4588f",
   "metadata": {},
   "outputs": [
    {
     "name": "stdout",
     "output_type": "stream",
     "text": [
      "+-------+------------------+----+-----------------+------------------+\n",
      "|summary|             index|will|               33|               385|\n",
      "+-------+------------------+----+-----------------+------------------+\n",
      "|  count|               499| 499|              499|               499|\n",
      "|   mean|             250.0|null|43.72945891783567|248.25851703406815|\n",
      "| stddev|144.19315748906627|null|14.87150296066446| 147.2422780876163|\n",
      "|    min|                 1| Ben|               18|                 1|\n",
      "|    max|               499|Worf|               69|               499|\n",
      "+-------+------------------+----+-----------------+------------------+\n",
      "\n"
     ]
    }
   ],
   "source": [
    "spark_df.describe().show()"
   ]
  },
  {
   "cell_type": "code",
   "execution_count": null,
   "id": "b2ea76c1-0ca7-44e5-8319-f915da18eab0",
   "metadata": {},
   "outputs": [],
   "source": []
  }
 ],
 "metadata": {
  "kernelspec": {
   "display_name": "Python 3 (ipykernel)",
   "language": "python",
   "name": "python3"
  },
  "language_info": {
   "codemirror_mode": {
    "name": "ipython",
    "version": 3
   },
   "file_extension": ".py",
   "mimetype": "text/x-python",
   "name": "python",
   "nbconvert_exporter": "python",
   "pygments_lexer": "ipython3",
   "version": "3.9.7"
  }
 },
 "nbformat": 4,
 "nbformat_minor": 5
}
