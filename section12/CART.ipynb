{
 "cells": [
  {
   "cell_type": "markdown",
   "id": "e0f13441-2e9a-4802-b937-7ce2be7abd00",
   "metadata": {},
   "source": [
    "## CART "
   ]
  },
  {
   "cell_type": "markdown",
   "id": "6f1ad757-c889-40ad-8029-0ff7da10727a",
   "metadata": {},
   "source": [
    "#### Model & Prediction"
   ]
  },
  {
   "cell_type": "code",
   "execution_count": 52,
   "id": "240afb10-bc9a-4c64-b64f-2da1deae7389",
   "metadata": {},
   "outputs": [],
   "source": [
    "import numpy as np\n",
    "import pandas as pd \n",
    "import statsmodels.api as sm\n",
    "import statsmodels.formula.api as smf\n",
    "import seaborn as sns\n",
    "from sklearn.preprocessing import scale,StandardScaler\n",
    "from sklearn.model_selection import train_test_split, GridSearchCV, cross_val_score\n",
    "from sklearn.metrics import confusion_matrix, accuracy_score, classification_report\n",
    "from sklearn.metrics import roc_auc_score,roc_curve\n",
    "import statsmodels.formula.api as smf\n",
    "import matplotlib.pyplot as plt\n",
    "from sklearn.neighbors import KNeighborsClassifier\n",
    "from sklearn.discriminant_analysis import LinearDiscriminantAnalysis\n",
    "from sklearn.linear_model import LogisticRegression\n",
    "from sklearn.svm import SVC\n",
    "from sklearn.naive_bayes import GaussianNB\n",
    "from sklearn import tree\n",
    "from sklearn.ensemble import RandomForestClassifier\n",
    "from sklearn.ensemble import GradientBoostingClassifier\n",
    "from xgboost import XGBClassifier\n",
    "from lightgbm import LGBMClassifier\n",
    "from catboost import CatBoostClassifier\n",
    "\n",
    "from warnings import filterwarnings\n",
    "filterwarnings('ignore')"
   ]
  },
  {
   "cell_type": "code",
   "execution_count": 53,
   "id": "e5dc350e-cb7f-4bde-944c-83b87983200f",
   "metadata": {},
   "outputs": [
    {
     "data": {
      "text/html": [
       "<div>\n",
       "<style scoped>\n",
       "    .dataframe tbody tr th:only-of-type {\n",
       "        vertical-align: middle;\n",
       "    }\n",
       "\n",
       "    .dataframe tbody tr th {\n",
       "        vertical-align: top;\n",
       "    }\n",
       "\n",
       "    .dataframe thead th {\n",
       "        text-align: right;\n",
       "    }\n",
       "</style>\n",
       "<table border=\"1\" class=\"dataframe\">\n",
       "  <thead>\n",
       "    <tr style=\"text-align: right;\">\n",
       "      <th></th>\n",
       "      <th>Pregnancies</th>\n",
       "      <th>Glucose</th>\n",
       "      <th>BloodPressure</th>\n",
       "      <th>SkinThickness</th>\n",
       "      <th>Insulin</th>\n",
       "      <th>BMI</th>\n",
       "      <th>DiabetesPedigreeFunction</th>\n",
       "      <th>Age</th>\n",
       "      <th>Outcome</th>\n",
       "    </tr>\n",
       "  </thead>\n",
       "  <tbody>\n",
       "    <tr>\n",
       "      <th>0</th>\n",
       "      <td>6</td>\n",
       "      <td>148</td>\n",
       "      <td>72</td>\n",
       "      <td>35</td>\n",
       "      <td>0</td>\n",
       "      <td>33.6</td>\n",
       "      <td>0.627</td>\n",
       "      <td>50</td>\n",
       "      <td>1</td>\n",
       "    </tr>\n",
       "    <tr>\n",
       "      <th>1</th>\n",
       "      <td>1</td>\n",
       "      <td>85</td>\n",
       "      <td>66</td>\n",
       "      <td>29</td>\n",
       "      <td>0</td>\n",
       "      <td>26.6</td>\n",
       "      <td>0.351</td>\n",
       "      <td>31</td>\n",
       "      <td>0</td>\n",
       "    </tr>\n",
       "    <tr>\n",
       "      <th>2</th>\n",
       "      <td>8</td>\n",
       "      <td>183</td>\n",
       "      <td>64</td>\n",
       "      <td>0</td>\n",
       "      <td>0</td>\n",
       "      <td>23.3</td>\n",
       "      <td>0.672</td>\n",
       "      <td>32</td>\n",
       "      <td>1</td>\n",
       "    </tr>\n",
       "    <tr>\n",
       "      <th>3</th>\n",
       "      <td>1</td>\n",
       "      <td>89</td>\n",
       "      <td>66</td>\n",
       "      <td>23</td>\n",
       "      <td>94</td>\n",
       "      <td>28.1</td>\n",
       "      <td>0.167</td>\n",
       "      <td>21</td>\n",
       "      <td>0</td>\n",
       "    </tr>\n",
       "    <tr>\n",
       "      <th>4</th>\n",
       "      <td>0</td>\n",
       "      <td>137</td>\n",
       "      <td>40</td>\n",
       "      <td>35</td>\n",
       "      <td>168</td>\n",
       "      <td>43.1</td>\n",
       "      <td>2.288</td>\n",
       "      <td>33</td>\n",
       "      <td>1</td>\n",
       "    </tr>\n",
       "  </tbody>\n",
       "</table>\n",
       "</div>"
      ],
      "text/plain": [
       "   Pregnancies  Glucose  BloodPressure  SkinThickness  Insulin   BMI  \\\n",
       "0            6      148             72             35        0  33.6   \n",
       "1            1       85             66             29        0  26.6   \n",
       "2            8      183             64              0        0  23.3   \n",
       "3            1       89             66             23       94  28.1   \n",
       "4            0      137             40             35      168  43.1   \n",
       "\n",
       "   DiabetesPedigreeFunction  Age  Outcome  \n",
       "0                     0.627   50        1  \n",
       "1                     0.351   31        0  \n",
       "2                     0.672   32        1  \n",
       "3                     0.167   21        0  \n",
       "4                     2.288   33        1  "
      ]
     },
     "execution_count": 53,
     "metadata": {},
     "output_type": "execute_result"
    }
   ],
   "source": [
    "diabetes = pd.read_csv(\"diabetes.csv\")\n",
    "df = diabetes.copy()\n",
    "df = df.dropna()\n",
    "df.head()"
   ]
  },
  {
   "cell_type": "code",
   "execution_count": 54,
   "id": "024e4f0f-7b85-4080-aa23-f6ebf056c9e7",
   "metadata": {},
   "outputs": [],
   "source": [
    "df = diabetes.copy()\n",
    "df = df.dropna()\n",
    "y = df[\"Outcome\"]\n",
    "X = df.drop(['Outcome'], axis=1)\n",
    "# X = df[\"Pregnancies\"]\n",
    "X = pd.DataFrame(X)\n",
    "X_train, X_test, y_train, y_test = train_test_split(X, y, \n",
    "                                                    test_size=0.30, \n",
    "                                                    random_state=42)"
   ]
  },
  {
   "cell_type": "code",
   "execution_count": 55,
   "id": "748458cc-a6af-47a1-b3e7-124082b39a48",
   "metadata": {},
   "outputs": [],
   "source": [
    "from sklearn.tree import DecisionTreeClassifier"
   ]
  },
  {
   "cell_type": "code",
   "execution_count": 56,
   "id": "ba10820e-4e03-43a7-8470-542d2e0dd740",
   "metadata": {},
   "outputs": [
    {
     "data": {
      "text/plain": [
       "DecisionTreeClassifier()"
      ]
     },
     "execution_count": 56,
     "metadata": {},
     "output_type": "execute_result"
    }
   ],
   "source": [
    "cart=DecisionTreeClassifier()\n",
    "cart_model=cart.fit(X_train,y_train)\n",
    "cart_model"
   ]
  },
  {
   "cell_type": "code",
   "execution_count": 57,
   "id": "d699be5e-9ad5-4bcc-8536-b5af220de14f",
   "metadata": {},
   "outputs": [],
   "source": [
    "# !pip install SKompiler[full]"
   ]
  },
  {
   "cell_type": "code",
   "execution_count": 80,
   "id": "75a92a3d-8341-45e6-b686-795f7f90a2aa",
   "metadata": {},
   "outputs": [],
   "source": [
    "from skompiler import skompile"
   ]
  },
  {
   "cell_type": "code",
   "execution_count": 81,
   "id": "ee546f43-291c-4e39-80b8-57f7c03d38a2",
   "metadata": {},
   "outputs": [
    {
     "name": "stdout",
     "output_type": "stream",
     "text": [
      "((((((0 if x[6] <= 0.671999990940094 else 1 if x[6] <= 0.6974999904632568 else\n",
      "    0) if x[5] <= 31.40000057220459 else ((0 if x[3] <= 40.5 else 1) if x[1\n",
      "    ] <= 111.5 else ((1 if x[1] <= 123.0 else 0) if x[2] <= 65.0 else 0) if\n",
      "    x[2] <= 72.0 else 1) if x[4] <= 9.0 else (0 if x[6] <= \n",
      "    0.6395000219345093 else 1 if x[6] <= 0.6759999990463257 else 0) if x[0] <=\n",
      "    4.5 else 1 if x[7] <= 26.5 else 0) if x[5] <= 49.10000038146973 else 1) if\n",
      "    x[1] <= 127.5 else 1 if x[2] <= 56.0 else (0 if x[7] <= 27.5 else 1 if \n",
      "    x[5] <= 28.149999618530273 else 0) if x[5] <= 30.300000190734863 else 1 if\n",
      "    x[5] <= 32.000000953674316 else ((0 if x[5] <= 33.75 else 1) if x[0] <=\n",
      "    0.5 else 1 if x[5] <= 32.45000076293945 else 0) if x[2] <= 85.0 else 1) if\n",
      "    x[7] <= 28.5 else (1 if x[7] <= 29.5 else (0 if x[1] <= 133.0 else (1 if\n",
      "    x[2] <= 73.0 else 0) if x[1] <= 135.0 else 0) if x[2] <= 94.0 else 1 if\n",
      "    x[6] <= 0.6269999742507935 else 0) if x[5] <= 26.949999809265137 else (\n",
      "    1 if x[1] <= 28.5 else 0 if x[0] <= 9.5 else 0 if x[3] <= 27.0 else 1 if\n",
      "    x[4] <= 27.0 else 0) if x[1] <= 94.5 else ((((0 if x[6] <= \n",
      "    0.24950000643730164 else 1 if x[1] <= 126.5 else 0) if x[5] <= \n",
      "    28.34999942779541 else 1 if x[5] <= 31.15000057220459 else 1 if x[2] <=\n",
      "    67.0 else 0 if x[7] <= 36.5 else 0 if x[2] <= 71.0 else (1 if x[2] <= \n",
      "    77.0 else 0) if x[6] <= 0.21000000089406967 else 1) if x[3] <= 26.5 else\n",
      "    ((0 if x[1] <= 101.5 else 0 if x[6] <= 0.19299999624490738 else 1) if x\n",
      "    [2] <= 67.0 else 0 if x[2] <= 80.0 else 1 if x[6] <= \n",
      "    0.27300000190734863 else 0) if x[1] <= 127.5 else (0 if x[6] <= \n",
      "    0.318000003695488 else 1) if x[3] <= 31.0 else 1) if x[2] <= 83.0 else \n",
      "    ((0 if x[3] <= 39.5 else 0 if x[4] <= 44.0 else 1) if x[5] <= \n",
      "    41.19999885559082 else 1) if x[4] <= 124.0 else 0 if x[3] <= 19.5 else \n",
      "    1) if x[6] <= 0.527999997138977 else ((((0 if x[1] <= 108.5 else 1) if \n",
      "    x[7] <= 32.5 else 1) if x[1] <= 132.0 else 0) if x[5] <= \n",
      "    29.09999942779541 else 0 if x[7] <= 50.0 else 1) if x[5] <= \n",
      "    31.600000381469727 else ((1 if x[2] <= 87.0 else 0 if x[6] <= \n",
      "    0.7305000126361847 else 1) if x[3] <= 54.5 else 0) if x[6] <= \n",
      "    1.1489999890327454 else 1 if x[7] <= 36.0 else 0) if x[1] <= 154.5 else\n",
      "    (1 if x[5] <= 25.350000381469727 else 0 if x[6] <= 0.3684999942779541 else\n",
      "    1 if x[1] <= 179.5 else 0 if x[1] <= 195.5 else 1) if x[5] <= \n",
      "    28.700000762939453 else (((0 if x[7] <= 24.5 else 0 if x[6] <= \n",
      "    0.14100000262260437 else 1) if x[1] <= 164.5 else 0) if x[1] <= 165.5 else\n",
      "    (1 if x[6] <= 0.2695000022649765 else 0) if x[6] <= 0.2744999974966049 else\n",
      "    1) if x[6] <= 1.4275000095367432 else 1 if x[0] <= 3.5 else 0)\n",
      "\n"
     ]
    }
   ],
   "source": [
    "print(skompile(cart_model.predict).to(\"python/code\"))"
   ]
  },
  {
   "cell_type": "code",
   "execution_count": 82,
   "id": "aae80626-87a5-4b68-9279-6fdd7864d1b8",
   "metadata": {},
   "outputs": [],
   "source": [
    "x=[14]"
   ]
  },
  {
   "cell_type": "code",
   "execution_count": 79,
   "id": "48b8cb7b-ab5b-4de4-803d-db9f7cc993a6",
   "metadata": {},
   "outputs": [
    {
     "data": {
      "text/plain": [
       "1"
      ]
     },
     "execution_count": 79,
     "metadata": {},
     "output_type": "execute_result"
    }
   ],
   "source": [
    "((0 if x[0] <= 2.5 else 0) if x[0] <= 6.5 else 1 if x[0] <= 13.5 else 1)\n"
   ]
  },
  {
   "cell_type": "code",
   "execution_count": 62,
   "id": "6ed55887-3101-4556-8ae2-a2d5e0dd65c2",
   "metadata": {},
   "outputs": [],
   "source": [
    "scaler = StandardScaler()"
   ]
  },
  {
   "cell_type": "code",
   "execution_count": 63,
   "id": "ef6b599b-7efa-4873-9a65-5fc4d0545894",
   "metadata": {},
   "outputs": [],
   "source": [
    "scaler.fit(X_train)\n",
    "X_train_scaled = scaler.transform(X_train)\n",
    "X_test_scaled = scaler.transform(X_test)"
   ]
  },
  {
   "cell_type": "code",
   "execution_count": 64,
   "id": "b7c01b04-42bb-4316-b187-28d0f335cb43",
   "metadata": {},
   "outputs": [],
   "source": [
    "y_pred=cart_model.predict(X_test_scaled)"
   ]
  },
  {
   "cell_type": "code",
   "execution_count": 65,
   "id": "e31a633e-fa2e-4c6f-8aa8-9d644760f64e",
   "metadata": {},
   "outputs": [
    {
     "data": {
      "text/plain": [
       "0.6536796536796536"
      ]
     },
     "execution_count": 65,
     "metadata": {},
     "output_type": "execute_result"
    }
   ],
   "source": [
    "accuracy_score(y_test,y_pred)"
   ]
  },
  {
   "cell_type": "markdown",
   "id": "7c619fc0-320a-4a5a-b0e1-412a970d1c3f",
   "metadata": {},
   "source": [
    "## Model Tunning"
   ]
  },
  {
   "cell_type": "code",
   "execution_count": 83,
   "id": "c2713dd1-28a9-4c36-89b2-f076117e8f2c",
   "metadata": {},
   "outputs": [
    {
     "data": {
      "text/plain": [
       "DecisionTreeClassifier()"
      ]
     },
     "execution_count": 83,
     "metadata": {},
     "output_type": "execute_result"
    }
   ],
   "source": [
    "cart_model"
   ]
  },
  {
   "cell_type": "code",
   "execution_count": 84,
   "id": "37576835-d79f-4b75-9200-d3e760b2e84f",
   "metadata": {},
   "outputs": [],
   "source": [
    "cart_grid={\"max_depth\":list(range(1,10)),\n",
    "           \"min_samples_split\":list(range(2,50))\n",
    "           \n",
    "          }"
   ]
  },
  {
   "cell_type": "code",
   "execution_count": 85,
   "id": "a01c8af9-84b1-479e-8e3a-d767192a7c72",
   "metadata": {},
   "outputs": [],
   "source": [
    "cart=tree.DecisionTreeClassifier()"
   ]
  },
  {
   "cell_type": "code",
   "execution_count": 86,
   "id": "4c889822-d1b7-4372-9931-9a89f8828367",
   "metadata": {},
   "outputs": [],
   "source": [
    "cart_cv=GridSearchCV(cart,cart_grid,cv=10,n_jobs=-1,verbose=2)"
   ]
  },
  {
   "cell_type": "code",
   "execution_count": 87,
   "id": "c95b24be-09df-41ae-b4d9-c5595e900fe6",
   "metadata": {},
   "outputs": [
    {
     "name": "stdout",
     "output_type": "stream",
     "text": [
      "Fitting 10 folds for each of 432 candidates, totalling 4320 fits\n"
     ]
    }
   ],
   "source": [
    "cart_cv_model=cart_cv.fit(X_train,y_train)"
   ]
  },
  {
   "cell_type": "code",
   "execution_count": 88,
   "id": "d146d266-027a-4d42-aa72-ea8d0f6f11b5",
   "metadata": {},
   "outputs": [
    {
     "data": {
      "text/plain": [
       "{'max_depth': 5, 'min_samples_split': 19}"
      ]
     },
     "execution_count": 88,
     "metadata": {},
     "output_type": "execute_result"
    }
   ],
   "source": [
    "cart_cv_model.best_params_"
   ]
  },
  {
   "cell_type": "code",
   "execution_count": 90,
   "id": "5e1d3be9-9fe5-4d8a-8e99-36a65fac9a34",
   "metadata": {},
   "outputs": [],
   "source": [
    "max_depth=cart_cv_model.best_params_[\"max_depth\"]\n",
    "min_samples_split=cart_cv_model.best_params_[\"min_samples_split\"]"
   ]
  },
  {
   "cell_type": "code",
   "execution_count": 91,
   "id": "e1c6be0e-7a91-4d25-a359-1d1b77bc9b04",
   "metadata": {},
   "outputs": [],
   "source": [
    "cart=tree.DecisionTreeClassifier(max_depth=max_depth,min_samples_split=min_samples_split)"
   ]
  },
  {
   "cell_type": "code",
   "execution_count": 92,
   "id": "2042931a-4f8d-48b7-b245-4cdfc654afbd",
   "metadata": {},
   "outputs": [],
   "source": [
    "cart_tuned=cart.fit(X_train,y_train)"
   ]
  },
  {
   "cell_type": "code",
   "execution_count": 93,
   "id": "6735ef89-88cc-4202-a7cf-99c2cbd180fa",
   "metadata": {},
   "outputs": [],
   "source": [
    "y_pred=cart_tuned.predict(X_test)"
   ]
  },
  {
   "cell_type": "code",
   "execution_count": 94,
   "id": "9e97efa6-e555-40e9-b142-26283a19294e",
   "metadata": {},
   "outputs": [
    {
     "data": {
      "text/plain": [
       "0.7532467532467533"
      ]
     },
     "execution_count": 94,
     "metadata": {},
     "output_type": "execute_result"
    }
   ],
   "source": [
    "accuracy_score(y_test,y_pred)"
   ]
  },
  {
   "cell_type": "code",
   "execution_count": null,
   "id": "fe4aeeb8-c717-4d75-a7b2-eab6de012092",
   "metadata": {},
   "outputs": [],
   "source": []
  }
 ],
 "metadata": {
  "kernelspec": {
   "display_name": "Python 3 (ipykernel)",
   "language": "python",
   "name": "python3"
  },
  "language_info": {
   "codemirror_mode": {
    "name": "ipython",
    "version": 3
   },
   "file_extension": ".py",
   "mimetype": "text/x-python",
   "name": "python",
   "nbconvert_exporter": "python",
   "pygments_lexer": "ipython3",
   "version": "3.9.7"
  }
 },
 "nbformat": 4,
 "nbformat_minor": 5
}
