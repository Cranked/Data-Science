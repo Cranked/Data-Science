{
 "cells": [
  {
   "cell_type": "markdown",
   "id": "1a6494e1-8d44-4db2-827a-c404aa4706b0",
   "metadata": {
    "tags": []
   },
   "source": [
    "# Sınıflandırma Problemleri"
   ]
  },
  {
   "cell_type": "code",
   "execution_count": 1,
   "id": "aca0384f-eed2-4876-85cf-41c082729697",
   "metadata": {},
   "outputs": [],
   "source": [
    "import numpy as np\n",
    "import pandas as pd \n",
    "import statsmodels.api as sm\n",
    "import statsmodels.formula.api as smf\n",
    "import seaborn as sns\n",
    "from sklearn.preprocessing import scale \n",
    "from sklearn.model_selection import train_test_split, GridSearchCV, cross_val_score\n",
    "from sklearn.metrics import confusion_matrix, accuracy_score, classification_report\n",
    "from sklearn.metrics import roc_auc_score,roc_curve\n",
    "import statsmodels.formula.api as smf\n",
    "import matplotlib.pyplot as plt\n",
    "from sklearn.neighbors import KNeighborsClassifier\n",
    "from sklearn.discriminant_analysis import LinearDiscriminantAnalysis\n",
    "from sklearn.linear_model import LogisticRegression\n",
    "from sklearn.svm import SVC\n",
    "from sklearn.naive_bayes import GaussianNB\n",
    "from sklearn import tree\n",
    "from sklearn.ensemble import RandomForestClassifier\n",
    "from sklearn.ensemble import GradientBoostingClassifier\n",
    "from xgboost import XGBClassifier\n",
    "from lightgbm import LGBMClassifier\n",
    "from catboost import CatBoostClassifier\n",
    "\n",
    "from warnings import filterwarnings\n",
    "filterwarnings('ignore')"
   ]
  },
  {
   "cell_type": "markdown",
   "id": "391dfe47-e44a-466e-a6d7-56ca95c0df60",
   "metadata": {},
   "source": [
    "# Lojistik Regresyon "
   ]
  },
  {
   "cell_type": "markdown",
   "id": "c22576f7-99dd-43de-8546-60218594dd74",
   "metadata": {},
   "source": [
    "## Model "
   ]
  },
  {
   "cell_type": "code",
   "execution_count": 2,
   "id": "d947cae0-9e16-4155-8072-72234b1c9df7",
   "metadata": {},
   "outputs": [
    {
     "data": {
      "text/html": [
       "<div>\n",
       "<style scoped>\n",
       "    .dataframe tbody tr th:only-of-type {\n",
       "        vertical-align: middle;\n",
       "    }\n",
       "\n",
       "    .dataframe tbody tr th {\n",
       "        vertical-align: top;\n",
       "    }\n",
       "\n",
       "    .dataframe thead th {\n",
       "        text-align: right;\n",
       "    }\n",
       "</style>\n",
       "<table border=\"1\" class=\"dataframe\">\n",
       "  <thead>\n",
       "    <tr style=\"text-align: right;\">\n",
       "      <th></th>\n",
       "      <th>Pregnancies</th>\n",
       "      <th>Glucose</th>\n",
       "      <th>BloodPressure</th>\n",
       "      <th>SkinThickness</th>\n",
       "      <th>Insulin</th>\n",
       "      <th>BMI</th>\n",
       "      <th>DiabetesPedigreeFunction</th>\n",
       "      <th>Age</th>\n",
       "      <th>Outcome</th>\n",
       "    </tr>\n",
       "  </thead>\n",
       "  <tbody>\n",
       "    <tr>\n",
       "      <th>0</th>\n",
       "      <td>6</td>\n",
       "      <td>148</td>\n",
       "      <td>72</td>\n",
       "      <td>35</td>\n",
       "      <td>0</td>\n",
       "      <td>33.6</td>\n",
       "      <td>0.627</td>\n",
       "      <td>50</td>\n",
       "      <td>1</td>\n",
       "    </tr>\n",
       "    <tr>\n",
       "      <th>1</th>\n",
       "      <td>1</td>\n",
       "      <td>85</td>\n",
       "      <td>66</td>\n",
       "      <td>29</td>\n",
       "      <td>0</td>\n",
       "      <td>26.6</td>\n",
       "      <td>0.351</td>\n",
       "      <td>31</td>\n",
       "      <td>0</td>\n",
       "    </tr>\n",
       "    <tr>\n",
       "      <th>2</th>\n",
       "      <td>8</td>\n",
       "      <td>183</td>\n",
       "      <td>64</td>\n",
       "      <td>0</td>\n",
       "      <td>0</td>\n",
       "      <td>23.3</td>\n",
       "      <td>0.672</td>\n",
       "      <td>32</td>\n",
       "      <td>1</td>\n",
       "    </tr>\n",
       "    <tr>\n",
       "      <th>3</th>\n",
       "      <td>1</td>\n",
       "      <td>89</td>\n",
       "      <td>66</td>\n",
       "      <td>23</td>\n",
       "      <td>94</td>\n",
       "      <td>28.1</td>\n",
       "      <td>0.167</td>\n",
       "      <td>21</td>\n",
       "      <td>0</td>\n",
       "    </tr>\n",
       "    <tr>\n",
       "      <th>4</th>\n",
       "      <td>0</td>\n",
       "      <td>137</td>\n",
       "      <td>40</td>\n",
       "      <td>35</td>\n",
       "      <td>168</td>\n",
       "      <td>43.1</td>\n",
       "      <td>2.288</td>\n",
       "      <td>33</td>\n",
       "      <td>1</td>\n",
       "    </tr>\n",
       "  </tbody>\n",
       "</table>\n",
       "</div>"
      ],
      "text/plain": [
       "   Pregnancies  Glucose  BloodPressure  SkinThickness  Insulin   BMI  \\\n",
       "0            6      148             72             35        0  33.6   \n",
       "1            1       85             66             29        0  26.6   \n",
       "2            8      183             64              0        0  23.3   \n",
       "3            1       89             66             23       94  28.1   \n",
       "4            0      137             40             35      168  43.1   \n",
       "\n",
       "   DiabetesPedigreeFunction  Age  Outcome  \n",
       "0                     0.627   50        1  \n",
       "1                     0.351   31        0  \n",
       "2                     0.672   32        1  \n",
       "3                     0.167   21        0  \n",
       "4                     2.288   33        1  "
      ]
     },
     "execution_count": 2,
     "metadata": {},
     "output_type": "execute_result"
    }
   ],
   "source": [
    "diabetes = pd.read_csv(\"diabetes.csv\")\n",
    "df = diabetes.copy()\n",
    "df = df.dropna()\n",
    "df.head()"
   ]
  },
  {
   "cell_type": "code",
   "execution_count": 3,
   "id": "2217d8f1-055f-4cce-bd0a-bb34be72738c",
   "metadata": {},
   "outputs": [
    {
     "name": "stdout",
     "output_type": "stream",
     "text": [
      "<class 'pandas.core.frame.DataFrame'>\n",
      "Int64Index: 768 entries, 0 to 767\n",
      "Data columns (total 9 columns):\n",
      " #   Column                    Non-Null Count  Dtype  \n",
      "---  ------                    --------------  -----  \n",
      " 0   Pregnancies               768 non-null    int64  \n",
      " 1   Glucose                   768 non-null    int64  \n",
      " 2   BloodPressure             768 non-null    int64  \n",
      " 3   SkinThickness             768 non-null    int64  \n",
      " 4   Insulin                   768 non-null    int64  \n",
      " 5   BMI                       768 non-null    float64\n",
      " 6   DiabetesPedigreeFunction  768 non-null    float64\n",
      " 7   Age                       768 non-null    int64  \n",
      " 8   Outcome                   768 non-null    int64  \n",
      "dtypes: float64(2), int64(7)\n",
      "memory usage: 60.0 KB\n"
     ]
    }
   ],
   "source": [
    "df.info()"
   ]
  },
  {
   "cell_type": "code",
   "execution_count": 4,
   "id": "245fa24d-31b8-4920-a96e-77c2c6ec2be0",
   "metadata": {},
   "outputs": [
    {
     "data": {
      "text/plain": [
       "0    500\n",
       "1    268\n",
       "Name: Outcome, dtype: int64"
      ]
     },
     "execution_count": 4,
     "metadata": {},
     "output_type": "execute_result"
    }
   ],
   "source": [
    "df[\"Outcome\"].value_counts()"
   ]
  },
  {
   "cell_type": "code",
   "execution_count": 5,
   "id": "c10fe580-21bd-4f66-9e15-1d32d00f55cd",
   "metadata": {},
   "outputs": [
    {
     "data": {
      "image/png": "[encoded data removed]",
      "text/plain": [
       "<Figure size 432x288 with 1 Axes>"
      ]
     },
     "metadata": {
      "needs_background": "light"
     },
     "output_type": "display_data"
    }
   ],
   "source": [
    "df[\"Outcome\"].value_counts().plot.barh();"
   ]
  },
  {
   "cell_type": "code",
   "execution_count": 6,
   "id": "4bd6537d-ff98-4dec-b35a-e8559f2cdee8",
   "metadata": {},
   "outputs": [
    {
     "data": {
      "text/html": [
       "<div>\n",
       "<style scoped>\n",
       "    .dataframe tbody tr th:only-of-type {\n",
       "        vertical-align: middle;\n",
       "    }\n",
       "\n",
       "    .dataframe tbody tr th {\n",
       "        vertical-align: top;\n",
       "    }\n",
       "\n",
       "    .dataframe thead th {\n",
       "        text-align: right;\n",
       "    }\n",
       "</style>\n",
       "<table border=\"1\" class=\"dataframe\">\n",
       "  <thead>\n",
       "    <tr style=\"text-align: right;\">\n",
       "      <th></th>\n",
       "      <th>count</th>\n",
       "      <th>mean</th>\n",
       "      <th>std</th>\n",
       "      <th>min</th>\n",
       "      <th>25%</th>\n",
       "      <th>50%</th>\n",
       "      <th>75%</th>\n",
       "      <th>max</th>\n",
       "    </tr>\n",
       "  </thead>\n",
       "  <tbody>\n",
       "    <tr>\n",
       "      <th>Pregnancies</th>\n",
       "      <td>768.0</td>\n",
       "      <td>3.845052</td>\n",
       "      <td>3.369578</td>\n",
       "      <td>0.000</td>\n",
       "      <td>1.00000</td>\n",
       "      <td>3.0000</td>\n",
       "      <td>6.00000</td>\n",
       "      <td>17.00</td>\n",
       "    </tr>\n",
       "    <tr>\n",
       "      <th>Glucose</th>\n",
       "      <td>768.0</td>\n",
       "      <td>120.894531</td>\n",
       "      <td>31.972618</td>\n",
       "      <td>0.000</td>\n",
       "      <td>99.00000</td>\n",
       "      <td>117.0000</td>\n",
       "      <td>140.25000</td>\n",
       "      <td>199.00</td>\n",
       "    </tr>\n",
       "    <tr>\n",
       "      <th>BloodPressure</th>\n",
       "      <td>768.0</td>\n",
       "      <td>69.105469</td>\n",
       "      <td>19.355807</td>\n",
       "      <td>0.000</td>\n",
       "      <td>62.00000</td>\n",
       "      <td>72.0000</td>\n",
       "      <td>80.00000</td>\n",
       "      <td>122.00</td>\n",
       "    </tr>\n",
       "    <tr>\n",
       "      <th>SkinThickness</th>\n",
       "      <td>768.0</td>\n",
       "      <td>20.536458</td>\n",
       "      <td>15.952218</td>\n",
       "      <td>0.000</td>\n",
       "      <td>0.00000</td>\n",
       "      <td>23.0000</td>\n",
       "      <td>32.00000</td>\n",
       "      <td>99.00</td>\n",
       "    </tr>\n",
       "    <tr>\n",
       "      <th>Insulin</th>\n",
       "      <td>768.0</td>\n",
       "      <td>79.799479</td>\n",
       "      <td>115.244002</td>\n",
       "      <td>0.000</td>\n",
       "      <td>0.00000</td>\n",
       "      <td>30.5000</td>\n",
       "      <td>127.25000</td>\n",
       "      <td>846.00</td>\n",
       "    </tr>\n",
       "    <tr>\n",
       "      <th>BMI</th>\n",
       "      <td>768.0</td>\n",
       "      <td>31.992578</td>\n",
       "      <td>7.884160</td>\n",
       "      <td>0.000</td>\n",
       "      <td>27.30000</td>\n",
       "      <td>32.0000</td>\n",
       "      <td>36.60000</td>\n",
       "      <td>67.10</td>\n",
       "    </tr>\n",
       "    <tr>\n",
       "      <th>DiabetesPedigreeFunction</th>\n",
       "      <td>768.0</td>\n",
       "      <td>0.471876</td>\n",
       "      <td>0.331329</td>\n",
       "      <td>0.078</td>\n",
       "      <td>0.24375</td>\n",
       "      <td>0.3725</td>\n",
       "      <td>0.62625</td>\n",
       "      <td>2.42</td>\n",
       "    </tr>\n",
       "    <tr>\n",
       "      <th>Age</th>\n",
       "      <td>768.0</td>\n",
       "      <td>33.240885</td>\n",
       "      <td>11.760232</td>\n",
       "      <td>21.000</td>\n",
       "      <td>24.00000</td>\n",
       "      <td>29.0000</td>\n",
       "      <td>41.00000</td>\n",
       "      <td>81.00</td>\n",
       "    </tr>\n",
       "    <tr>\n",
       "      <th>Outcome</th>\n",
       "      <td>768.0</td>\n",
       "      <td>0.348958</td>\n",
       "      <td>0.476951</td>\n",
       "      <td>0.000</td>\n",
       "      <td>0.00000</td>\n",
       "      <td>0.0000</td>\n",
       "      <td>1.00000</td>\n",
       "      <td>1.00</td>\n",
       "    </tr>\n",
       "  </tbody>\n",
       "</table>\n",
       "</div>"
      ],
      "text/plain": [
       "                          count        mean         std     min       25%  \\\n",
       "Pregnancies               768.0    3.845052    3.369578   0.000   1.00000   \n",
       "Glucose                   768.0  120.894531   31.972618   0.000  99.00000   \n",
       "BloodPressure             768.0   69.105469   19.355807   0.000  62.00000   \n",
       "SkinThickness             768.0   20.536458   15.952218   0.000   0.00000   \n",
       "Insulin                   768.0   79.799479  115.244002   0.000   0.00000   \n",
       "BMI                       768.0   31.992578    7.884160   0.000  27.30000   \n",
       "DiabetesPedigreeFunction  768.0    0.471876    0.331329   0.078   0.24375   \n",
       "Age                       768.0   33.240885   11.760232  21.000  24.00000   \n",
       "Outcome                   768.0    0.348958    0.476951   0.000   0.00000   \n",
       "\n",
       "                               50%        75%     max  \n",
       "Pregnancies                 3.0000    6.00000   17.00  \n",
       "Glucose                   117.0000  140.25000  199.00  \n",
       "BloodPressure              72.0000   80.00000  122.00  \n",
       "SkinThickness              23.0000   32.00000   99.00  \n",
       "Insulin                    30.5000  127.25000  846.00  \n",
       "BMI                        32.0000   36.60000   67.10  \n",
       "DiabetesPedigreeFunction    0.3725    0.62625    2.42  \n",
       "Age                        29.0000   41.00000   81.00  \n",
       "Outcome                     0.0000    1.00000    1.00  "
      ]
     },
     "execution_count": 6,
     "metadata": {},
     "output_type": "execute_result"
    }
   ],
   "source": [
    "df.describe().T"
   ]
  },
  {
   "cell_type": "code",
   "execution_count": 7,
   "id": "15c2daea-ea44-4bfe-a21b-7344e721c209",
   "metadata": {},
   "outputs": [],
   "source": [
    "y = df[\"Outcome\"]\n",
    "X = df.drop([\"Outcome\"], axis=1)"
   ]
  },
  {
   "cell_type": "code",
   "execution_count": 8,
   "id": "b527fcb8-8e7a-416a-8fe7-8d1b0d65c170",
   "metadata": {},
   "outputs": [],
   "source": [
    "#statsmodels"
   ]
  },
  {
   "cell_type": "code",
   "execution_count": 9,
   "id": "99e03c33-ccf5-454e-8fbc-09b2385b9ce7",
   "metadata": {},
   "outputs": [
    {
     "name": "stdout",
     "output_type": "stream",
     "text": [
      "Optimization terminated successfully.\n",
      "         Current function value: 0.608498\n",
      "         Iterations 5\n"
     ]
    },
    {
     "data": {
      "text/html": [
       "<table class=\"simpletable\">\n",
       "<caption>Logit Regression Results</caption>\n",
       "<tr>\n",
       "  <th>Dep. Variable:</th>        <td>Outcome</td>     <th>  No. Observations:  </th>  <td>   768</td>  \n",
       "</tr>\n",
       "<tr>\n",
       "  <th>Model:</th>                 <td>Logit</td>      <th>  Df Residuals:      </th>  <td>   760</td>  \n",
       "</tr>\n",
       "<tr>\n",
       "  <th>Method:</th>                 <td>MLE</td>       <th>  Df Model:          </th>  <td>     7</td>  \n",
       "</tr>\n",
       "<tr>\n",
       "  <th>Date:</th>            <td>Sun, 27 Feb 2022</td> <th>  Pseudo R-squ.:     </th>  <td>0.05922</td> \n",
       "</tr>\n",
       "<tr>\n",
       "  <th>Time:</th>                <td>18:34:03</td>     <th>  Log-Likelihood:    </th> <td> -467.33</td> \n",
       "</tr>\n",
       "<tr>\n",
       "  <th>converged:</th>             <td>True</td>       <th>  LL-Null:           </th> <td> -496.74</td> \n",
       "</tr>\n",
       "<tr>\n",
       "  <th>Covariance Type:</th>     <td>nonrobust</td>    <th>  LLR p-value:       </th> <td>2.583e-10</td>\n",
       "</tr>\n",
       "</table>\n",
       "<table class=\"simpletable\">\n",
       "<tr>\n",
       "              <td></td>                <th>coef</th>     <th>std err</th>      <th>z</th>      <th>P>|z|</th>  <th>[0.025</th>    <th>0.975]</th>  \n",
       "</tr>\n",
       "<tr>\n",
       "  <th>Pregnancies</th>              <td>    0.1284</td> <td>    0.029</td> <td>    4.484</td> <td> 0.000</td> <td>    0.072</td> <td>    0.185</td>\n",
       "</tr>\n",
       "<tr>\n",
       "  <th>Glucose</th>                  <td>    0.0129</td> <td>    0.003</td> <td>    4.757</td> <td> 0.000</td> <td>    0.008</td> <td>    0.018</td>\n",
       "</tr>\n",
       "<tr>\n",
       "  <th>BloodPressure</th>            <td>   -0.0303</td> <td>    0.005</td> <td>   -6.481</td> <td> 0.000</td> <td>   -0.039</td> <td>   -0.021</td>\n",
       "</tr>\n",
       "<tr>\n",
       "  <th>SkinThickness</th>            <td>    0.0002</td> <td>    0.006</td> <td>    0.032</td> <td> 0.974</td> <td>   -0.012</td> <td>    0.012</td>\n",
       "</tr>\n",
       "<tr>\n",
       "  <th>Insulin</th>                  <td>    0.0007</td> <td>    0.001</td> <td>    0.942</td> <td> 0.346</td> <td>   -0.001</td> <td>    0.002</td>\n",
       "</tr>\n",
       "<tr>\n",
       "  <th>BMI</th>                      <td>   -0.0048</td> <td>    0.011</td> <td>   -0.449</td> <td> 0.653</td> <td>   -0.026</td> <td>    0.016</td>\n",
       "</tr>\n",
       "<tr>\n",
       "  <th>DiabetesPedigreeFunction</th> <td>    0.3203</td> <td>    0.240</td> <td>    1.335</td> <td> 0.182</td> <td>   -0.150</td> <td>    0.790</td>\n",
       "</tr>\n",
       "<tr>\n",
       "  <th>Age</th>                      <td>   -0.0156</td> <td>    0.008</td> <td>   -1.852</td> <td> 0.064</td> <td>   -0.032</td> <td>    0.001</td>\n",
       "</tr>\n",
       "</table>"
      ],
      "text/plain": [
       "<class 'statsmodels.iolib.summary.Summary'>\n",
       "\"\"\"\n",
       "                           Logit Regression Results                           \n",
       "==============================================================================\n",
       "Dep. Variable:                Outcome   No. Observations:                  768\n",
       "Model:                          Logit   Df Residuals:                      760\n",
       "Method:                           MLE   Df Model:                            7\n",
       "Date:                Sun, 27 Feb 2022   Pseudo R-squ.:                 0.05922\n",
       "Time:                        18:34:03   Log-Likelihood:                -467.33\n",
       "converged:                       True   LL-Null:                       -496.74\n",
       "Covariance Type:            nonrobust   LLR p-value:                 2.583e-10\n",
       "============================================================================================\n",
       "                               coef    std err          z      P>|z|      [0.025      0.975]\n",
       "--------------------------------------------------------------------------------------------\n",
       "Pregnancies                  0.1284      0.029      4.484      0.000       0.072       0.185\n",
       "Glucose                      0.0129      0.003      4.757      0.000       0.008       0.018\n",
       "BloodPressure               -0.0303      0.005     -6.481      0.000      -0.039      -0.021\n",
       "SkinThickness                0.0002      0.006      0.032      0.974      -0.012       0.012\n",
       "Insulin                      0.0007      0.001      0.942      0.346      -0.001       0.002\n",
       "BMI                         -0.0048      0.011     -0.449      0.653      -0.026       0.016\n",
       "DiabetesPedigreeFunction     0.3203      0.240      1.335      0.182      -0.150       0.790\n",
       "Age                         -0.0156      0.008     -1.852      0.064      -0.032       0.001\n",
       "============================================================================================\n",
       "\"\"\""
      ]
     },
     "execution_count": 9,
     "metadata": {},
     "output_type": "execute_result"
    }
   ],
   "source": [
    "loj = sm.Logit(y, X)\n",
    "loj_model= loj.fit()\n",
    "loj_model.summary()"
   ]
  },
  {
   "cell_type": "code",
   "execution_count": 10,
   "id": "35dc10fc-5d66-40af-aff2-edd21901fa86",
   "metadata": {},
   "outputs": [],
   "source": [
    "#scikit-learn"
   ]
  },
  {
   "cell_type": "code",
   "execution_count": 11,
   "id": "0395264f-5a94-43e7-a341-28ff13fb7c05",
   "metadata": {},
   "outputs": [
    {
     "data": {
      "text/plain": [
       "LogisticRegression(solver='liblinear')"
      ]
     },
     "execution_count": 11,
     "metadata": {},
     "output_type": "execute_result"
    }
   ],
   "source": [
    "from sklearn.linear_model import LogisticRegression\n",
    "loj = LogisticRegression(solver = \"liblinear\")\n",
    "loj_model = loj.fit(X,y)\n",
    "loj_model"
   ]
  },
  {
   "cell_type": "code",
   "execution_count": 12,
   "id": "05d5a124-93b8-4b68-84eb-11fe9c4a8160",
   "metadata": {},
   "outputs": [
    {
     "data": {
      "text/plain": [
       "array([-5.88679617])"
      ]
     },
     "execution_count": 12,
     "metadata": {},
     "output_type": "execute_result"
    }
   ],
   "source": [
    "loj_model.intercept_"
   ]
  },
  {
   "cell_type": "code",
   "execution_count": 13,
   "id": "a9f69819-a082-4b07-9e4b-a97874695b1a",
   "metadata": {},
   "outputs": [
    {
     "data": {
      "text/plain": [
       "array([[ 1.16994476e-01,  2.83733435e-02, -1.68981359e-02,\n",
       "         7.55145090e-04, -6.41407258e-04,  5.97201268e-02,\n",
       "         6.76128123e-01,  7.23498971e-03]])"
      ]
     },
     "execution_count": 13,
     "metadata": {},
     "output_type": "execute_result"
    }
   ],
   "source": [
    "loj_model.coef_"
   ]
  },
  {
   "cell_type": "markdown",
   "id": "092d17f0-aad7-47b9-9408-d3797a6f2716",
   "metadata": {},
   "source": [
    "## Tahmin & Model Tuning"
   ]
  },
  {
   "cell_type": "code",
   "execution_count": 14,
   "id": "7a10adb6-c016-4817-bc9a-34d892fd5bd2",
   "metadata": {},
   "outputs": [],
   "source": [
    "y_pred = loj_model.predict(X)"
   ]
  },
  {
   "cell_type": "code",
   "execution_count": 15,
   "id": "6d8ef560-a86d-44b2-8b8c-e4dd5433e2d9",
   "metadata": {},
   "outputs": [
    {
     "data": {
      "text/plain": [
       "array([[448,  52],\n",
       "       [121, 147]], dtype=int64)"
      ]
     },
     "execution_count": 15,
     "metadata": {},
     "output_type": "execute_result"
    }
   ],
   "source": [
    "confusion_matrix(y, y_pred)"
   ]
  },
  {
   "cell_type": "code",
   "execution_count": 16,
   "id": "a4842076-f496-4092-94c9-9a58804ff946",
   "metadata": {},
   "outputs": [
    {
     "data": {
      "text/plain": [
       "0.7747395833333334"
      ]
     },
     "execution_count": 16,
     "metadata": {},
     "output_type": "execute_result"
    }
   ],
   "source": [
    "accuracy_score(y, y_pred)"
   ]
  },
  {
   "cell_type": "code",
   "execution_count": 17,
   "id": "695285a8-5ae3-445e-ad96-1286d301995f",
   "metadata": {},
   "outputs": [
    {
     "name": "stdout",
     "output_type": "stream",
     "text": [
      "              precision    recall  f1-score   support\n",
      "\n",
      "           0       0.79      0.90      0.84       500\n",
      "           1       0.74      0.55      0.63       268\n",
      "\n",
      "    accuracy                           0.77       768\n",
      "   macro avg       0.76      0.72      0.73       768\n",
      "weighted avg       0.77      0.77      0.77       768\n",
      "\n"
     ]
    }
   ],
   "source": [
    "print(classification_report(y, y_pred))"
   ]
  },
  {
   "cell_type": "code",
   "execution_count": 18,
   "id": "d2cecbaa-1d9d-40f6-aea8-b60e68efffcb",
   "metadata": {},
   "outputs": [
    {
     "data": {
      "text/plain": [
       "array([1, 0, 1, 0, 1, 0, 0, 1, 1, 0], dtype=int64)"
      ]
     },
     "execution_count": 18,
     "metadata": {},
     "output_type": "execute_result"
    }
   ],
   "source": [
    "loj_model.predict(X)[0:10]"
   ]
  },
  {
   "cell_type": "code",
   "execution_count": 19,
   "id": "f965e434-24e1-416d-a495-7bf2c9b1cd32",
   "metadata": {},
   "outputs": [
    {
     "data": {
      "text/plain": [
       "array([[0.3505852 , 0.6494148 ],\n",
       "       [0.91692518, 0.08307482],\n",
       "       [0.22489628, 0.77510372],\n",
       "       [0.92127453, 0.07872547],\n",
       "       [0.16759435, 0.83240565],\n",
       "       [0.79886109, 0.20113891],\n",
       "       [0.8800353 , 0.1199647 ],\n",
       "       [0.27795677, 0.72204323],\n",
       "       [0.32053464, 0.67946536],\n",
       "       [0.92264521, 0.07735479]])"
      ]
     },
     "execution_count": 19,
     "metadata": {},
     "output_type": "execute_result"
    }
   ],
   "source": [
    "loj_model.predict_proba(X)[0:10][:,0:2]"
   ]
  },
  {
   "cell_type": "code",
   "execution_count": 20,
   "id": "62938b74-4312-43fc-8740-7cc9fa7fb86a",
   "metadata": {},
   "outputs": [
    {
     "data": {
      "text/plain": [
       "0    1\n",
       "1    0\n",
       "2    1\n",
       "3    0\n",
       "4    1\n",
       "5    0\n",
       "6    1\n",
       "7    0\n",
       "8    1\n",
       "9    1\n",
       "Name: Outcome, dtype: int64"
      ]
     },
     "execution_count": 20,
     "metadata": {},
     "output_type": "execute_result"
    }
   ],
   "source": [
    "y[0:10]"
   ]
  },
  {
   "cell_type": "code",
   "execution_count": 21,
   "id": "ac6ab635-6eae-440a-9270-4d0a30194a30",
   "metadata": {},
   "outputs": [],
   "source": [
    "y_probs = loj_model.predict_proba(X)\n",
    "y_probs = y_probs[:,1]"
   ]
  },
  {
   "cell_type": "code",
   "execution_count": 22,
   "id": "4df92904-57d8-43fe-a1df-a94e73915492",
   "metadata": {},
   "outputs": [
    {
     "data": {
      "text/plain": [
       "array([0.6494148 , 0.08307482, 0.77510372, 0.07872547, 0.83240565,\n",
       "       0.20113891, 0.1199647 , 0.72204323, 0.67946536, 0.07735479])"
      ]
     },
     "execution_count": 22,
     "metadata": {},
     "output_type": "execute_result"
    }
   ],
   "source": [
    "y_probs[0:10]"
   ]
  },
  {
   "cell_type": "code",
   "execution_count": 23,
   "id": "ecbfeaac-5644-442c-a84a-38a537859f5e",
   "metadata": {},
   "outputs": [],
   "source": [
    "y_pred = [1 if i > 0.5 else 0 for i in y_probs]"
   ]
  },
  {
   "cell_type": "code",
   "execution_count": 24,
   "id": "c0b04e59-0008-4c6b-ba52-a9f292defd3d",
   "metadata": {},
   "outputs": [
    {
     "data": {
      "text/plain": [
       "[1, 0, 1, 0, 1, 0, 0, 1, 1, 0]"
      ]
     },
     "execution_count": 24,
     "metadata": {},
     "output_type": "execute_result"
    }
   ],
   "source": [
    "y_pred[0:10]"
   ]
  },
  {
   "cell_type": "code",
   "execution_count": 25,
   "id": "7d5ffdcf-e6b1-4883-890d-97f983066e8f",
   "metadata": {},
   "outputs": [
    {
     "data": {
      "text/plain": [
       "array([[448,  52],\n",
       "       [121, 147]], dtype=int64)"
      ]
     },
     "execution_count": 25,
     "metadata": {},
     "output_type": "execute_result"
    }
   ],
   "source": [
    "confusion_matrix(y, y_pred)"
   ]
  },
  {
   "cell_type": "code",
   "execution_count": 26,
   "id": "de3fc7de-7863-48c1-b643-39b2aa5cc6c3",
   "metadata": {},
   "outputs": [
    {
     "data": {
      "text/plain": [
       "0.7747395833333334"
      ]
     },
     "execution_count": 26,
     "metadata": {},
     "output_type": "execute_result"
    }
   ],
   "source": [
    "accuracy_score(y, y_pred)"
   ]
  },
  {
   "cell_type": "code",
   "execution_count": 27,
   "id": "70c5b722-89b7-4e25-b2f7-26beff55cab9",
   "metadata": {},
   "outputs": [
    {
     "name": "stdout",
     "output_type": "stream",
     "text": [
      "              precision    recall  f1-score   support\n",
      "\n",
      "           0       0.79      0.90      0.84       500\n",
      "           1       0.74      0.55      0.63       268\n",
      "\n",
      "    accuracy                           0.77       768\n",
      "   macro avg       0.76      0.72      0.73       768\n",
      "weighted avg       0.77      0.77      0.77       768\n",
      "\n"
     ]
    }
   ],
   "source": [
    "print(classification_report(y, y_pred))"
   ]
  },
  {
   "cell_type": "code",
   "execution_count": 28,
   "id": "4598b071-0899-4210-b9ba-51434d58bc68",
   "metadata": {},
   "outputs": [
    {
     "data": {
      "text/plain": [
       "array([0.6494148 , 0.08307482, 0.77510372, 0.07872547, 0.83240565])"
      ]
     },
     "execution_count": 28,
     "metadata": {},
     "output_type": "execute_result"
    }
   ],
   "source": [
    "loj_model.predict_proba(X)[:,1][0:5]"
   ]
  },
  {
   "cell_type": "code",
   "execution_count": 29,
   "id": "6ca67221-f800-461e-8d46-c16e70d774e8",
   "metadata": {},
   "outputs": [
    {
     "data": {
      "image/png": "[encoded data removed]",
      "text/plain": [
       "<Figure size 432x288 with 1 Axes>"
      ]
     },
     "metadata": {
      "needs_background": "light"
     },
     "output_type": "display_data"
    }
   ],
   "source": [
    "logit_roc_auc = roc_auc_score(y, loj_model.predict(X))\n",
    "\n",
    "fpr, tpr, thresholds = roc_curve(y, loj_model.predict_proba(X)[:,1])\n",
    "plt.figure()\n",
    "plt.plot(fpr, tpr, label='AUC (area = %0.2f)' % logit_roc_auc)\n",
    "plt.plot([0, 1], [0, 1],'r--')\n",
    "plt.xlim([0.0, 1.0])\n",
    "plt.ylim([0.0, 1.05])\n",
    "plt.xlabel('False Positive Oranı')\n",
    "plt.ylabel('True Positive Oranı')\n",
    "plt.title('ROC')\n",
    "plt.show()"
   ]
  },
  {
   "cell_type": "code",
   "execution_count": 30,
   "id": "3582af91-868b-4f0d-b2e0-993464be6c35",
   "metadata": {},
   "outputs": [],
   "source": [
    "X_train, X_test, y_train, y_test = train_test_split(X, y, \n",
    "                                                    test_size = 0.30, \n",
    "                                                    random_state = 42)\n"
   ]
  },
  {
   "cell_type": "code",
   "execution_count": 31,
   "id": "832bb297-0e50-411a-bd45-abb88a970844",
   "metadata": {},
   "outputs": [
    {
     "data": {
      "text/plain": [
       "LogisticRegression(solver='liblinear')"
      ]
     },
     "execution_count": 31,
     "metadata": {},
     "output_type": "execute_result"
    }
   ],
   "source": [
    "loj = LogisticRegression(solver = \"liblinear\")\n",
    "loj_model = loj.fit(X_train,y_train)\n",
    "loj_model"
   ]
  },
  {
   "cell_type": "code",
   "execution_count": 32,
   "id": "bb8cbedf-b66f-4d96-a139-63e2752f094d",
   "metadata": {},
   "outputs": [
    {
     "data": {
      "text/plain": [
       "0.7532467532467533"
      ]
     },
     "execution_count": 32,
     "metadata": {},
     "output_type": "execute_result"
    }
   ],
   "source": [
    "accuracy_score(y_test, loj_model.predict(X_test))"
   ]
  },
  {
   "cell_type": "code",
   "execution_count": 33,
   "id": "5a8a1bd5-740c-4276-bb6f-e3a116e7af0d",
   "metadata": {},
   "outputs": [
    {
     "data": {
      "text/plain": [
       "0.7704710144927536"
      ]
     },
     "execution_count": 33,
     "metadata": {},
     "output_type": "execute_result"
    }
   ],
   "source": [
    "cross_val_score(loj_model, X_test, y_test, cv = 10).mean()"
   ]
  },
  {
   "cell_type": "markdown",
   "id": "629c3923-8c04-4c2e-90e0-0e4b4fd7d7e8",
   "metadata": {},
   "source": [
    "# Gaussian Naive Bayes"
   ]
  },
  {
   "cell_type": "code",
   "execution_count": 34,
   "id": "7cabcee8-9e75-4727-9c59-8fbf67cd1dd5",
   "metadata": {},
   "outputs": [],
   "source": [
    "df = diabetes.copy()\n",
    "df = df.dropna()\n",
    "y = df[\"Outcome\"]\n",
    "X = df.drop(['Outcome'], axis=1)\n",
    "X_train, X_test, y_train, y_test = train_test_split(X, y, \n",
    "                                                    test_size=0.30, \n",
    "                                                    random_state=42)\n",
    "\n"
   ]
  },
  {
   "cell_type": "code",
   "execution_count": 35,
   "id": "937854dc-f81f-4a3a-bbc1-368c53a20991",
   "metadata": {},
   "outputs": [],
   "source": [
    "from sklearn.naive_bayes import GaussianNB"
   ]
  },
  {
   "cell_type": "code",
   "execution_count": 36,
   "id": "6b8d983a-a166-4a53-b2d2-cec662a12915",
   "metadata": {},
   "outputs": [
    {
     "data": {
      "text/plain": [
       "GaussianNB()"
      ]
     },
     "execution_count": 36,
     "metadata": {},
     "output_type": "execute_result"
    }
   ],
   "source": [
    "nb = GaussianNB()\n",
    "nb_model = nb.fit(X_train, y_train)\n",
    "nb_model"
   ]
  },
  {
   "cell_type": "code",
   "execution_count": 37,
   "id": "b542552f-ade4-4117-834c-656621f7ca6e",
   "metadata": {},
   "outputs": [
    {
     "data": {
      "text/plain": [
       "array([0, 0, 0, 0, 1, 1, 0, 0, 0, 1], dtype=int64)"
      ]
     },
     "execution_count": 37,
     "metadata": {},
     "output_type": "execute_result"
    }
   ],
   "source": [
    "nb_model.predict(X_test)[0:10]"
   ]
  },
  {
   "cell_type": "code",
   "execution_count": 38,
   "id": "64dd0273-ca70-4d16-934e-fb49a78b2312",
   "metadata": {},
   "outputs": [
    {
     "data": {
      "text/plain": [
       "array([[0.73815858, 0.26184142],\n",
       "       [0.94027894, 0.05972106],\n",
       "       [0.97242831, 0.02757169],\n",
       "       [0.82840069, 0.17159931],\n",
       "       [0.47153473, 0.52846527],\n",
       "       [0.47274458, 0.52725542],\n",
       "       [0.99607705, 0.00392295],\n",
       "       [0.69925055, 0.30074945],\n",
       "       [0.53838117, 0.46161883],\n",
       "       [0.25004536, 0.74995464]])"
      ]
     },
     "execution_count": 38,
     "metadata": {},
     "output_type": "execute_result"
    }
   ],
   "source": [
    "nb_model.predict_proba(X_test)[0:10]"
   ]
  },
  {
   "cell_type": "code",
   "execution_count": 39,
   "id": "a102395b-834e-4d32-9521-b5105edd541d",
   "metadata": {},
   "outputs": [],
   "source": [
    "y_pred = nb_model.predict(X_test)"
   ]
  },
  {
   "cell_type": "code",
   "execution_count": 40,
   "id": "34beba16-cdbd-41e2-a5d5-dfe2cf43b7ca",
   "metadata": {},
   "outputs": [
    {
     "data": {
      "text/plain": [
       "0.7445887445887446"
      ]
     },
     "execution_count": 40,
     "metadata": {},
     "output_type": "execute_result"
    }
   ],
   "source": [
    "accuracy_score(y_test, y_pred)"
   ]
  },
  {
   "cell_type": "code",
   "execution_count": 41,
   "id": "ea41e7b3-8a5e-4ed7-85c7-162b509c3f70",
   "metadata": {},
   "outputs": [
    {
     "data": {
      "text/plain": [
       "0.775"
      ]
     },
     "execution_count": 41,
     "metadata": {},
     "output_type": "execute_result"
    }
   ],
   "source": [
    "cross_val_score(nb_model, X_test, y_test, cv = 10).mean()"
   ]
  },
  {
   "cell_type": "markdown",
   "id": "aadb8f2e-27dd-4c11-ba84-fed36174cf9f",
   "metadata": {},
   "source": [
    "# KNN"
   ]
  },
  {
   "cell_type": "markdown",
   "id": "8aa5ae1a-983e-43f4-81e1-ae93adfdf5d6",
   "metadata": {},
   "source": [
    "## Model & Tahmin"
   ]
  },
  {
   "cell_type": "code",
   "execution_count": 42,
   "id": "e9bbd729-2642-4e50-a8d9-7edc37e9dd97",
   "metadata": {},
   "outputs": [],
   "source": [
    "df = diabetes.copy()\n",
    "df = df.dropna()\n",
    "y = df[\"Outcome\"]\n",
    "X = df.drop(['Outcome'], axis=1)\n",
    "X_train, X_test, y_train, y_test = train_test_split(X, y, \n",
    "                                                    test_size=0.30, \n",
    "                                                    random_state=42)"
   ]
  },
  {
   "cell_type": "code",
   "execution_count": 43,
   "id": "0a6c8a8e-de93-4c00-9221-33f82a953d66",
   "metadata": {},
   "outputs": [
    {
     "data": {
      "text/plain": [
       "KNeighborsClassifier()"
      ]
     },
     "execution_count": 43,
     "metadata": {},
     "output_type": "execute_result"
    }
   ],
   "source": [
    "knn = KNeighborsClassifier()\n",
    "knn_model = knn.fit(X_train, y_train)\n",
    "knn_model"
   ]
  },
  {
   "cell_type": "code",
   "execution_count": 44,
   "id": "41981dc6-0bee-4da1-8389-e491f783221e",
   "metadata": {},
   "outputs": [],
   "source": [
    "y_pred = knn_model.predict(X_test)"
   ]
  },
  {
   "cell_type": "code",
   "execution_count": 45,
   "id": "9c5902da-1eef-4ba1-b0b0-6d30f1ea471e",
   "metadata": {},
   "outputs": [
    {
     "data": {
      "text/plain": [
       "0.6883116883116883"
      ]
     },
     "execution_count": 45,
     "metadata": {},
     "output_type": "execute_result"
    }
   ],
   "source": [
    "accuracy_score(y_test, y_pred)"
   ]
  },
  {
   "cell_type": "code",
   "execution_count": 46,
   "id": "71ed6372-18b8-4b90-aa9e-9aaff2c106e9",
   "metadata": {},
   "outputs": [
    {
     "name": "stdout",
     "output_type": "stream",
     "text": [
      "              precision    recall  f1-score   support\n",
      "\n",
      "           0       0.77      0.75      0.76       151\n",
      "           1       0.55      0.56      0.56        80\n",
      "\n",
      "    accuracy                           0.69       231\n",
      "   macro avg       0.66      0.66      0.66       231\n",
      "weighted avg       0.69      0.69      0.69       231\n",
      "\n"
     ]
    }
   ],
   "source": [
    "print(classification_report(y_test, y_pred))"
   ]
  },
  {
   "cell_type": "markdown",
   "id": "81034d0a-c3ec-48aa-933e-0f7e7229a85c",
   "metadata": {},
   "source": [
    "## Model Tuning"
   ]
  },
  {
   "cell_type": "code",
   "execution_count": 47,
   "id": "78b7d02d-fb44-422d-9ece-7f916566310d",
   "metadata": {},
   "outputs": [],
   "source": [
    "knn_params = {\"n_neighbors\": np.arange(1,50)}"
   ]
  },
  {
   "cell_type": "code",
   "execution_count": 48,
   "id": "23c9cfab-0a8a-4e2c-b58e-b6e966b6fc14",
   "metadata": {},
   "outputs": [
    {
     "data": {
      "text/plain": [
       "GridSearchCV(cv=10, estimator=KNeighborsClassifier(),\n",
       "             param_grid={'n_neighbors': array([ 1,  2,  3,  4,  5,  6,  7,  8,  9, 10, 11, 12, 13, 14, 15, 16, 17,\n",
       "       18, 19, 20, 21, 22, 23, 24, 25, 26, 27, 28, 29, 30, 31, 32, 33, 34,\n",
       "       35, 36, 37, 38, 39, 40, 41, 42, 43, 44, 45, 46, 47, 48, 49])})"
      ]
     },
     "execution_count": 48,
     "metadata": {},
     "output_type": "execute_result"
    }
   ],
   "source": [
    "knn = KNeighborsClassifier()\n",
    "knn_cv = GridSearchCV(knn, knn_params, cv=10)\n",
    "knn_cv.fit(X_train, y_train)"
   ]
  },
  {
   "cell_type": "code",
   "execution_count": 49,
   "id": "f6988aed-ae73-4161-a12e-66404ff8898f",
   "metadata": {},
   "outputs": [
    {
     "name": "stdout",
     "output_type": "stream",
     "text": [
      "En iyi skor:0.748637316561845\n",
      "En iyi parametreler: {'n_neighbors': 11}\n"
     ]
    }
   ],
   "source": [
    "print(\"En iyi skor:\" + str(knn_cv.best_score_))\n",
    "print(\"En iyi parametreler: \" + str(knn_cv.best_params_))"
   ]
  },
  {
   "cell_type": "code",
   "execution_count": null,
   "id": "be35bfff-7b09-4140-9b8f-9192451c8373",
   "metadata": {},
   "outputs": [],
   "source": []
  },
  {
   "cell_type": "code",
   "execution_count": 50,
   "id": "91a0a341-287f-465a-bfdd-8fa3f7b3a0c4",
   "metadata": {},
   "outputs": [],
   "source": [
    "knn = KNeighborsClassifier(11)\n",
    "knn_tuned = knn.fit(X_train, y_train)"
   ]
  },
  {
   "cell_type": "code",
   "execution_count": 51,
   "id": "b902a767-8e2a-41c0-97e5-9b79fcc23524",
   "metadata": {},
   "outputs": [
    {
     "data": {
      "text/plain": [
       "0.7316017316017316"
      ]
     },
     "execution_count": 51,
     "metadata": {},
     "output_type": "execute_result"
    }
   ],
   "source": [
    "knn_tuned.score(X_test, y_test)"
   ]
  },
  {
   "cell_type": "code",
   "execution_count": 52,
   "id": "17e6b849-6787-4638-a0af-ca43b8d98714",
   "metadata": {},
   "outputs": [],
   "source": [
    "y_pred = knn_tuned.predict(X_test)"
   ]
  },
  {
   "cell_type": "code",
   "execution_count": 53,
   "id": "bc793d6a-5dd6-4837-a3e4-6fb2b4fbeb4a",
   "metadata": {},
   "outputs": [
    {
     "data": {
      "text/plain": [
       "0.7316017316017316"
      ]
     },
     "execution_count": 53,
     "metadata": {},
     "output_type": "execute_result"
    }
   ],
   "source": [
    "accuracy_score(y_test, y_pred)"
   ]
  },
  {
   "cell_type": "markdown",
   "id": "005ab49d-6428-459d-ac65-0b4efc30f1e8",
   "metadata": {},
   "source": [
    "# SVC"
   ]
  },
  {
   "cell_type": "markdown",
   "id": "68125fe4-e56c-4ad7-81f1-de2733ad242a",
   "metadata": {},
   "source": [
    "## Model & Tahmin"
   ]
  },
  {
   "cell_type": "code",
   "execution_count": 54,
   "id": "16fd6cca-77d3-4d05-b441-989bb5e33461",
   "metadata": {},
   "outputs": [],
   "source": [
    "df = diabetes.copy()\n",
    "df = df.dropna()\n",
    "y = df[\"Outcome\"]\n",
    "X = df.drop(['Outcome'], axis=1)\n",
    "X_train, X_test, y_train, y_test = train_test_split(X, y, \n",
    "                                                    test_size=0.30, \n",
    "                                                    random_state=42)"
   ]
  },
  {
   "cell_type": "code",
   "execution_count": 55,
   "id": "4b8d10d3-783f-407c-87f4-52d0fca4c8d6",
   "metadata": {},
   "outputs": [],
   "source": [
    "svm_model = SVC(kernel = \"linear\").fit(X_train, y_train)"
   ]
  },
  {
   "cell_type": "code",
   "execution_count": 56,
   "id": "a8eb1147-a2cf-4556-96f7-7b418158acb6",
   "metadata": {},
   "outputs": [
    {
     "data": {
      "text/plain": [
       "SVC(kernel='linear')"
      ]
     },
     "execution_count": 56,
     "metadata": {},
     "output_type": "execute_result"
    }
   ],
   "source": [
    "svm_model"
   ]
  },
  {
   "cell_type": "code",
   "execution_count": 57,
   "id": "0e39b5b6-c698-4357-a232-1ac40aaded8c",
   "metadata": {},
   "outputs": [],
   "source": [
    "y_pred = svm_model.predict(X_test)"
   ]
  },
  {
   "cell_type": "code",
   "execution_count": 58,
   "id": "f187904c-53ee-4919-91b3-fa3e71a6a3bd",
   "metadata": {},
   "outputs": [
    {
     "data": {
      "text/plain": [
       "0.7445887445887446"
      ]
     },
     "execution_count": 58,
     "metadata": {},
     "output_type": "execute_result"
    }
   ],
   "source": [
    "accuracy_score(y_test, y_pred)"
   ]
  },
  {
   "cell_type": "markdown",
   "id": "ee6f9063-987a-4e57-a482-95ffdbe93a49",
   "metadata": {},
   "source": [
    "## Model Tuning"
   ]
  },
  {
   "cell_type": "code",
   "execution_count": 59,
   "id": "389fa2d0-b5a9-4ac0-a2d8-db467b76782e",
   "metadata": {},
   "outputs": [
    {
     "name": "stdout",
     "output_type": "stream",
     "text": [
      "Fitting 10 folds for each of 9 candidates, totalling 90 fits\n"
     ]
    },
    {
     "data": {
      "text/plain": [
       "GridSearchCV(cv=10, estimator=SVC(kernel='linear'), n_jobs=-1,\n",
       "             param_grid={'C': array([1, 2, 3, 4, 5, 6, 7, 8, 9])}, verbose=2)"
      ]
     },
     "execution_count": 59,
     "metadata": {},
     "output_type": "execute_result"
    }
   ],
   "source": [
    "svc_params = {\"C\": np.arange(1,10)}\n",
    "\n",
    "svc = SVC(kernel = \"linear\")\n",
    "\n",
    "svc_cv_model = GridSearchCV(svc,svc_params, \n",
    "                            cv = 10, \n",
    "                            n_jobs = -1, \n",
    "                            verbose = 2 )\n",
    "\n",
    "svc_cv_model.fit(X_train, y_train)"
   ]
  },
  {
   "cell_type": "code",
   "execution_count": 60,
   "id": "be1ed424-5800-45bf-8e37-29701ce775cc",
   "metadata": {},
   "outputs": [
    {
     "name": "stdout",
     "output_type": "stream",
     "text": [
      "En iyi parametreler: {'C': 5}\n"
     ]
    }
   ],
   "source": [
    "print(\"En iyi parametreler: \" + str(svc_cv_model.best_params_))"
   ]
  },
  {
   "cell_type": "code",
   "execution_count": null,
   "id": "c2d413a6-2ab7-483e-b61e-304b2029a7aa",
   "metadata": {},
   "outputs": [],
   "source": []
  },
  {
   "cell_type": "code",
   "execution_count": 61,
   "id": "ca864d32-21a8-4262-b26d-f693b5d47292",
   "metadata": {},
   "outputs": [],
   "source": [
    "svc_tuned = SVC(kernel = \"linear\", C = 5).fit(X_train, y_train)"
   ]
  },
  {
   "cell_type": "code",
   "execution_count": 62,
   "id": "fa021731-fdc5-4366-be68-3158d3651151",
   "metadata": {},
   "outputs": [
    {
     "data": {
      "text/plain": [
       "0.7445887445887446"
      ]
     },
     "execution_count": 62,
     "metadata": {},
     "output_type": "execute_result"
    }
   ],
   "source": [
    "y_pred = svc_tuned.predict(X_test)\n",
    "accuracy_score(y_test, y_pred)"
   ]
  },
  {
   "cell_type": "markdown",
   "id": "15e25f9c-7a51-45ac-bfba-212a46e6f56e",
   "metadata": {},
   "source": [
    "# RBF SVC"
   ]
  },
  {
   "cell_type": "markdown",
   "id": "d5b499fc-dffb-4fd9-9829-fa17964c40a5",
   "metadata": {},
   "source": [
    "## Model & Tahmin"
   ]
  },
  {
   "cell_type": "code",
   "execution_count": 63,
   "id": "338bfea1-c855-4dcb-9188-5c108aed8c69",
   "metadata": {},
   "outputs": [],
   "source": [
    "df = diabetes.copy()\n",
    "df = df.dropna()\n",
    "y = df[\"Outcome\"]\n",
    "X = df.drop(['Outcome'], axis=1)\n",
    "X_train, X_test, y_train, y_test = train_test_split(X, y, \n",
    "                                                    test_size=0.30, \n",
    "                                                    random_state=42)"
   ]
  },
  {
   "cell_type": "code",
   "execution_count": 64,
   "id": "b6bfce41-8b59-4316-8877-11a5e66c28af",
   "metadata": {},
   "outputs": [],
   "source": [
    "svc_model = SVC(kernel = \"rbf\").fit(X_train, y_train)"
   ]
  },
  {
   "cell_type": "code",
   "execution_count": 65,
   "id": "7627b59e-798a-4dfe-a3d1-30aeda9b039b",
   "metadata": {},
   "outputs": [
    {
     "data": {
      "text/plain": [
       "SVC()"
      ]
     },
     "execution_count": 65,
     "metadata": {},
     "output_type": "execute_result"
    }
   ],
   "source": [
    "svc_model"
   ]
  },
  {
   "cell_type": "code",
   "execution_count": 66,
   "id": "8f05d53c-0d49-4d3b-98f6-3001c595f33c",
   "metadata": {},
   "outputs": [
    {
     "data": {
      "text/plain": [
       "0.7359307359307359"
      ]
     },
     "execution_count": 66,
     "metadata": {},
     "output_type": "execute_result"
    }
   ],
   "source": [
    "y_pred = svc_model.predict(X_test)\n",
    "accuracy_score(y_test, y_pred)"
   ]
  },
  {
   "cell_type": "markdown",
   "id": "29b366db-e1c2-4501-ae06-311fd620afc4",
   "metadata": {},
   "source": [
    "## Model Tuning"
   ]
  },
  {
   "cell_type": "code",
   "execution_count": 67,
   "id": "8037c9e6-13de-4279-8318-c1e335769d6e",
   "metadata": {},
   "outputs": [],
   "source": [
    "svc_params = {\"C\": [0.0001, 0.001, 0.1, 1, 5, 10 ,50 ,100],\n",
    "             \"gamma\": [0.0001, 0.001, 0.1, 1, 5, 10 ,50 ,100]}"
   ]
  },
  {
   "cell_type": "code",
   "execution_count": 68,
   "id": "376a4371-67a5-4707-a1d3-12d29803e2bb",
   "metadata": {},
   "outputs": [
    {
     "name": "stdout",
     "output_type": "stream",
     "text": [
      "Fitting 10 folds for each of 64 candidates, totalling 640 fits\n"
     ]
    },
    {
     "data": {
      "text/plain": [
       "GridSearchCV(cv=10, estimator=SVC(), n_jobs=-1,\n",
       "             param_grid={'C': [0.0001, 0.001, 0.1, 1, 5, 10, 50, 100],\n",
       "                         'gamma': [0.0001, 0.001, 0.1, 1, 5, 10, 50, 100]},\n",
       "             verbose=2)"
      ]
     },
     "execution_count": 68,
     "metadata": {},
     "output_type": "execute_result"
    }
   ],
   "source": [
    "svc = SVC()\n",
    "svc_cv_model = GridSearchCV(svc, svc_params, \n",
    "                         cv = 10, \n",
    "                         n_jobs = -1,\n",
    "                         verbose = 2)\n",
    "\n",
    "svc_cv_model.fit(X_train, y_train)"
   ]
  },
  {
   "cell_type": "code",
   "execution_count": 69,
   "id": "1d588903-78a3-42a1-b691-6c66765b3059",
   "metadata": {},
   "outputs": [
    {
     "name": "stdout",
     "output_type": "stream",
     "text": [
      "En iyi parametreler: {'C': 10, 'gamma': 0.0001}\n"
     ]
    }
   ],
   "source": [
    "print(\"En iyi parametreler: \" + str(svc_cv_model.best_params_))"
   ]
  },
  {
   "cell_type": "code",
   "execution_count": 70,
   "id": "098b2fa9-db99-425f-a495-a127f764b028",
   "metadata": {},
   "outputs": [],
   "source": [
    "svc_tuned = SVC(C = 10, gamma = 0.0001).fit(X_train, y_train)"
   ]
  },
  {
   "cell_type": "code",
   "execution_count": 71,
   "id": "74cbe41f-434a-4a64-85fc-57ebfbb2e878",
   "metadata": {},
   "outputs": [
    {
     "data": {
      "text/plain": [
       "0.7359307359307359"
      ]
     },
     "execution_count": 71,
     "metadata": {},
     "output_type": "execute_result"
    }
   ],
   "source": [
    "y_pred = svc_tuned.predict(X_test)\n",
    "accuracy_score(y_test, y_pred)"
   ]
  },
  {
   "cell_type": "markdown",
   "id": "5fc7024a-664c-45a4-b266-df8efd95b434",
   "metadata": {},
   "source": [
    "# Yapay Sinir Ağları"
   ]
  },
  {
   "cell_type": "markdown",
   "id": "8a0ca908-a85d-4866-baff-cc5a676a6370",
   "metadata": {},
   "source": [
    "## Model & Tahmin"
   ]
  },
  {
   "cell_type": "code",
   "execution_count": 72,
   "id": "1e778c09-83e4-4da8-b146-bc6a27edbb1b",
   "metadata": {},
   "outputs": [],
   "source": [
    "df = diabetes.copy()\n",
    "df = df.dropna()\n",
    "y = df[\"Outcome\"]\n",
    "X = df.drop(['Outcome'], axis=1)\n",
    "X_train, X_test, y_train, y_test = train_test_split(X, y, \n",
    "                                                    test_size=0.30, \n",
    "                                                    random_state=42)"
   ]
  },
  {
   "cell_type": "code",
   "execution_count": 73,
   "id": "eb262d7e-08fe-4da3-8efc-48c0690109dd",
   "metadata": {},
   "outputs": [],
   "source": [
    "from sklearn.preprocessing import StandardScaler  "
   ]
  },
  {
   "cell_type": "code",
   "execution_count": 74,
   "id": "8f9c69c1-7ba1-4eb4-8c0d-71200adaeb42",
   "metadata": {},
   "outputs": [],
   "source": [
    "scaler = StandardScaler()"
   ]
  },
  {
   "cell_type": "code",
   "execution_count": 75,
   "id": "1c60f0db-d824-4075-8036-3ba86cb9e74e",
   "metadata": {},
   "outputs": [],
   "source": [
    "scaler.fit(X_train)\n",
    "X_train_scaled = scaler.transform(X_train)\n",
    "X_test_scaled = scaler.transform(X_test)"
   ]
  },
  {
   "cell_type": "code",
   "execution_count": 76,
   "id": "e3d4b1bc-412e-4a91-9de2-c9451493570e",
   "metadata": {},
   "outputs": [
    {
     "data": {
      "text/plain": [
       "array([[ 0.69748316, -0.70719864, -0.64639893,  0.81207927,  0.95720244,\n",
       "         0.26575953, -0.11680393,  0.85019217],\n",
       "       [-0.52953881, -0.27388818,  0.29399563,  0.74746428, -0.6936878 ,\n",
       "         0.488933  , -0.94192338, -1.03426754],\n",
       "       [-0.52953881, -0.39769117, -0.31449497, -1.3202154 , -0.6936878 ,\n",
       "        -0.1543317 , -0.91266382, -1.03426754],\n",
       "       [ 1.31099414, -0.42864191,  0.57058226, -1.3202154 , -0.6936878 ,\n",
       "        -0.96825847,  1.12965312,  0.07927683],\n",
       "       [ 1.00423865,  0.46892976,  1.12375553, -1.3202154 , -0.6936878 ,\n",
       "        -0.27248236, -0.76051413,  1.44979298]])"
      ]
     },
     "execution_count": 76,
     "metadata": {},
     "output_type": "execute_result"
    }
   ],
   "source": [
    "X_test_scaled[0:5]"
   ]
  },
  {
   "cell_type": "code",
   "execution_count": 77,
   "id": "760d001b-60d3-48d7-a341-8302eb5ef930",
   "metadata": {},
   "outputs": [],
   "source": [
    "from sklearn.neural_network import MLPClassifier"
   ]
  },
  {
   "cell_type": "code",
   "execution_count": 78,
   "id": "43c38b26-d7c4-4d73-828a-8b4afbed60a1",
   "metadata": {},
   "outputs": [],
   "source": [
    "mlpc = MLPClassifier().fit(X_train_scaled, y_train)"
   ]
  },
  {
   "cell_type": "code",
   "execution_count": 79,
   "id": "3bf87fb7-58df-42c9-be50-a517e6fbdf0c",
   "metadata": {},
   "outputs": [
    {
     "data": {
      "text/plain": [
       "0.7316017316017316"
      ]
     },
     "execution_count": 79,
     "metadata": {},
     "output_type": "execute_result"
    }
   ],
   "source": [
    "y_pred = mlpc.predict(X_test_scaled)\n",
    "accuracy_score(y_test, y_pred)"
   ]
  },
  {
   "cell_type": "markdown",
   "id": "bcc3f10b-c14b-48d9-95db-549a9cb5c42f",
   "metadata": {},
   "source": [
    "## Model Tuning"
   ]
  },
  {
   "cell_type": "code",
   "execution_count": 80,
   "id": "826dfbcb-b4b3-42a7-9151-3049b41d1e0c",
   "metadata": {},
   "outputs": [
    {
     "data": {
      "text/plain": [
       "MLPClassifier()"
      ]
     },
     "execution_count": 80,
     "metadata": {},
     "output_type": "execute_result"
    }
   ],
   "source": [
    "mlpc"
   ]
  },
  {
   "cell_type": "code",
   "execution_count": 81,
   "id": "7ae2c2e1-7964-48d5-bea6-3d3099ad17f3",
   "metadata": {
    "collapsed": true,
    "jupyter": {
     "outputs_hidden": true
    },
    "tags": []
   },
   "outputs": [
    {
     "data": {
      "text/plain": [
       "\u001b[1;31mType:\u001b[0m        MLPClassifier\n",
       "\u001b[1;31mString form:\u001b[0m MLPClassifier()\n",
       "\u001b[1;31mFile:\u001b[0m        d:\\anaconda\\lib\\site-packages\\sklearn\\neural_network\\_multilayer_perceptron.py\n",
       "\u001b[1;31mDocstring:\u001b[0m  \n",
       "Multi-layer Perceptron classifier.\n",
       "\n",
       "This model optimizes the log-loss function using LBFGS or stochastic\n",
       "gradient descent.\n",
       "\n",
       ".. versionadded:: 0.18\n",
       "\n",
       "Parameters\n",
       "----------\n",
       "hidden_layer_sizes : tuple, length = n_layers - 2, default=(100,)\n",
       "    The ith element represents the number of neurons in the ith\n",
       "    hidden layer.\n",
       "\n",
       "activation : {'identity', 'logistic', 'tanh', 'relu'}, default='relu'\n",
       "    Activation function for the hidden layer.\n",
       "\n",
       "    - 'identity', no-op activation, useful to implement linear bottleneck,\n",
       "      returns f(x) = x\n",
       "\n",
       "    - 'logistic', the logistic sigmoid function,\n",
       "      returns f(x) = 1 / (1 + exp(-x)).\n",
       "\n",
       "    - 'tanh', the hyperbolic tan function,\n",
       "      returns f(x) = tanh(x).\n",
       "\n",
       "    - 'relu', the rectified linear unit function,\n",
       "      returns f(x) = max(0, x)\n",
       "\n",
       "solver : {'lbfgs', 'sgd', 'adam'}, default='adam'\n",
       "    The solver for weight optimization.\n",
       "\n",
       "    - 'lbfgs' is an optimizer in the family of quasi-Newton methods.\n",
       "\n",
       "    - 'sgd' refers to stochastic gradient descent.\n",
       "\n",
       "    - 'adam' refers to a stochastic gradient-based optimizer proposed\n",
       "      by Kingma, Diederik, and Jimmy Ba\n",
       "\n",
       "    Note: The default solver 'adam' works pretty well on relatively\n",
       "    large datasets (with thousands of training samples or more) in terms of\n",
       "    both training time and validation score.\n",
       "    For small datasets, however, 'lbfgs' can converge faster and perform\n",
       "    better.\n",
       "\n",
       "alpha : float, default=0.0001\n",
       "    L2 penalty (regularization term) parameter.\n",
       "\n",
       "batch_size : int, default='auto'\n",
       "    Size of minibatches for stochastic optimizers.\n",
       "    If the solver is 'lbfgs', the classifier will not use minibatch.\n",
       "    When set to \"auto\", `batch_size=min(200, n_samples)`\n",
       "\n",
       "learning_rate : {'constant', 'invscaling', 'adaptive'}, default='constant'\n",
       "    Learning rate schedule for weight updates.\n",
       "\n",
       "    - 'constant' is a constant learning rate given by\n",
       "      'learning_rate_init'.\n",
       "\n",
       "    - 'invscaling' gradually decreases the learning rate at each\n",
       "      time step 't' using an inverse scaling exponent of 'power_t'.\n",
       "      effective_learning_rate = learning_rate_init / pow(t, power_t)\n",
       "\n",
       "    - 'adaptive' keeps the learning rate constant to\n",
       "      'learning_rate_init' as long as training loss keeps decreasing.\n",
       "      Each time two consecutive epochs fail to decrease training loss by at\n",
       "      least tol, or fail to increase validation score by at least tol if\n",
       "      'early_stopping' is on, the current learning rate is divided by 5.\n",
       "\n",
       "    Only used when ``solver='sgd'``.\n",
       "\n",
       "learning_rate_init : double, default=0.001\n",
       "    The initial learning rate used. It controls the step-size\n",
       "    in updating the weights. Only used when solver='sgd' or 'adam'.\n",
       "\n",
       "power_t : double, default=0.5\n",
       "    The exponent for inverse scaling learning rate.\n",
       "    It is used in updating effective learning rate when the learning_rate\n",
       "    is set to 'invscaling'. Only used when solver='sgd'.\n",
       "\n",
       "max_iter : int, default=200\n",
       "    Maximum number of iterations. The solver iterates until convergence\n",
       "    (determined by 'tol') or this number of iterations. For stochastic\n",
       "    solvers ('sgd', 'adam'), note that this determines the number of epochs\n",
       "    (how many times each data point will be used), not the number of\n",
       "    gradient steps.\n",
       "\n",
       "shuffle : bool, default=True\n",
       "    Whether to shuffle samples in each iteration. Only used when\n",
       "    solver='sgd' or 'adam'.\n",
       "\n",
       "random_state : int, RandomState instance, default=None\n",
       "    Determines random number generation for weights and bias\n",
       "    initialization, train-test split if early stopping is used, and batch\n",
       "    sampling when solver='sgd' or 'adam'.\n",
       "    Pass an int for reproducible results across multiple function calls.\n",
       "    See :term:`Glossary <random_state>`.\n",
       "\n",
       "tol : float, default=1e-4\n",
       "    Tolerance for the optimization. When the loss or score is not improving\n",
       "    by at least ``tol`` for ``n_iter_no_change`` consecutive iterations,\n",
       "    unless ``learning_rate`` is set to 'adaptive', convergence is\n",
       "    considered to be reached and training stops.\n",
       "\n",
       "verbose : bool, default=False\n",
       "    Whether to print progress messages to stdout.\n",
       "\n",
       "warm_start : bool, default=False\n",
       "    When set to True, reuse the solution of the previous\n",
       "    call to fit as initialization, otherwise, just erase the\n",
       "    previous solution. See :term:`the Glossary <warm_start>`.\n",
       "\n",
       "momentum : float, default=0.9\n",
       "    Momentum for gradient descent update. Should be between 0 and 1. Only\n",
       "    used when solver='sgd'.\n",
       "\n",
       "nesterovs_momentum : bool, default=True\n",
       "    Whether to use Nesterov's momentum. Only used when solver='sgd' and\n",
       "    momentum > 0.\n",
       "\n",
       "early_stopping : bool, default=False\n",
       "    Whether to use early stopping to terminate training when validation\n",
       "    score is not improving. If set to true, it will automatically set\n",
       "    aside 10% of training data as validation and terminate training when\n",
       "    validation score is not improving by at least tol for\n",
       "    ``n_iter_no_change`` consecutive epochs. The split is stratified,\n",
       "    except in a multilabel setting.\n",
       "    If early stopping is False, then the training stops when the training\n",
       "    loss does not improve by more than tol for n_iter_no_change consecutive\n",
       "    passes over the training set.\n",
       "    Only effective when solver='sgd' or 'adam'\n",
       "\n",
       "validation_fraction : float, default=0.1\n",
       "    The proportion of training data to set aside as validation set for\n",
       "    early stopping. Must be between 0 and 1.\n",
       "    Only used if early_stopping is True\n",
       "\n",
       "beta_1 : float, default=0.9\n",
       "    Exponential decay rate for estimates of first moment vector in adam,\n",
       "    should be in [0, 1). Only used when solver='adam'\n",
       "\n",
       "beta_2 : float, default=0.999\n",
       "    Exponential decay rate for estimates of second moment vector in adam,\n",
       "    should be in [0, 1). Only used when solver='adam'\n",
       "\n",
       "epsilon : float, default=1e-8\n",
       "    Value for numerical stability in adam. Only used when solver='adam'\n",
       "\n",
       "n_iter_no_change : int, default=10\n",
       "    Maximum number of epochs to not meet ``tol`` improvement.\n",
       "    Only effective when solver='sgd' or 'adam'\n",
       "\n",
       "    .. versionadded:: 0.20\n",
       "\n",
       "max_fun : int, default=15000\n",
       "    Only used when solver='lbfgs'. Maximum number of loss function calls.\n",
       "    The solver iterates until convergence (determined by 'tol'), number\n",
       "    of iterations reaches max_iter, or this number of loss function calls.\n",
       "    Note that number of loss function calls will be greater than or equal\n",
       "    to the number of iterations for the `MLPClassifier`.\n",
       "\n",
       "    .. versionadded:: 0.22\n",
       "\n",
       "Attributes\n",
       "----------\n",
       "classes_ : ndarray or list of ndarray of shape (n_classes,)\n",
       "    Class labels for each output.\n",
       "\n",
       "loss_ : float\n",
       "    The current loss computed with the loss function.\n",
       "\n",
       "best_loss_ : float\n",
       "    The minimum loss reached by the solver throughout fitting.\n",
       "\n",
       "loss_curve_ : list of shape (`n_iter_`,)\n",
       "    The ith element in the list represents the loss at the ith iteration.\n",
       "\n",
       "t_ : int\n",
       "    The number of training samples seen by the solver during fitting.\n",
       "\n",
       "coefs_ : list of shape (n_layers - 1,)\n",
       "    The ith element in the list represents the weight matrix corresponding\n",
       "    to layer i.\n",
       "\n",
       "intercepts_ : list of shape (n_layers - 1,)\n",
       "    The ith element in the list represents the bias vector corresponding to\n",
       "    layer i + 1.\n",
       "\n",
       "n_iter_ : int\n",
       "    The number of iterations the solver has run.\n",
       "\n",
       "n_layers_ : int\n",
       "    Number of layers.\n",
       "\n",
       "n_outputs_ : int\n",
       "    Number of outputs.\n",
       "\n",
       "out_activation_ : str\n",
       "    Name of the output activation function.\n",
       "\n",
       "Examples\n",
       "--------\n",
       ">>> from sklearn.neural_network import MLPClassifier\n",
       ">>> from sklearn.datasets import make_classification\n",
       ">>> from sklearn.model_selection import train_test_split\n",
       ">>> X, y = make_classification(n_samples=100, random_state=1)\n",
       ">>> X_train, X_test, y_train, y_test = train_test_split(X, y, stratify=y,\n",
       "...                                                     random_state=1)\n",
       ">>> clf = MLPClassifier(random_state=1, max_iter=300).fit(X_train, y_train)\n",
       ">>> clf.predict_proba(X_test[:1])\n",
       "array([[0.038..., 0.961...]])\n",
       ">>> clf.predict(X_test[:5, :])\n",
       "array([1, 0, 1, 0, 1])\n",
       ">>> clf.score(X_test, y_test)\n",
       "0.8...\n",
       "\n",
       "Notes\n",
       "-----\n",
       "MLPClassifier trains iteratively since at each time step\n",
       "the partial derivatives of the loss function with respect to the model\n",
       "parameters are computed to update the parameters.\n",
       "\n",
       "It can also have a regularization term added to the loss function\n",
       "that shrinks model parameters to prevent overfitting.\n",
       "\n",
       "This implementation works with data represented as dense numpy arrays or\n",
       "sparse scipy arrays of floating point values.\n",
       "\n",
       "References\n",
       "----------\n",
       "Hinton, Geoffrey E.\n",
       "    \"Connectionist learning procedures.\" Artificial intelligence 40.1\n",
       "    (1989): 185-234.\n",
       "\n",
       "Glorot, Xavier, and Yoshua Bengio. \"Understanding the difficulty of\n",
       "    training deep feedforward neural networks.\" International Conference\n",
       "    on Artificial Intelligence and Statistics. 2010.\n",
       "\n",
       "He, Kaiming, et al. \"Delving deep into rectifiers: Surpassing human-level\n",
       "    performance on imagenet classification.\" arXiv preprint\n",
       "    arXiv:1502.01852 (2015).\n",
       "\n",
       "Kingma, Diederik, and Jimmy Ba. \"Adam: A method for stochastic\n",
       "    optimization.\" arXiv preprint arXiv:1412.6980 (2014).\n"
      ]
     },
     "metadata": {},
     "output_type": "display_data"
    }
   ],
   "source": [
    "?mlpc"
   ]
  },
  {
   "cell_type": "code",
   "execution_count": 82,
   "id": "22acde5a-e53a-4dcf-8605-cd748bdf927e",
   "metadata": {},
   "outputs": [],
   "source": [
    "mlpc_params = {\"alpha\": [0.1, 0.01, 0.02, 0.005, 0.0001,0.00001],\n",
    "              \"hidden_layer_sizes\": [(10,10,10),\n",
    "                                     (100,100,100),\n",
    "                                     (100,100),\n",
    "                                     (3,5), \n",
    "                                     (5, 3)],\n",
    "              \"solver\" : [\"lbfgs\",\"adam\",\"sgd\"],\n",
    "              \"activation\": [\"relu\",\"logistic\"]}\n"
   ]
  },
  {
   "cell_type": "code",
   "execution_count": 83,
   "id": "7fb043b8-0cd5-4964-aa1f-7670b82f1698",
   "metadata": {},
   "outputs": [
    {
     "name": "stdout",
     "output_type": "stream",
     "text": [
      "Fitting 10 folds for each of 180 candidates, totalling 1800 fits\n"
     ]
    },
    {
     "data": {
      "text/plain": [
       "GridSearchCV(cv=10, estimator=MLPClassifier(), n_jobs=-1,\n",
       "             param_grid={'activation': ['relu', 'logistic'],\n",
       "                         'alpha': [0.1, 0.01, 0.02, 0.005, 0.0001, 1e-05],\n",
       "                         'hidden_layer_sizes': [(10, 10, 10), (100, 100, 100),\n",
       "                                                (100, 100), (3, 5), (5, 3)],\n",
       "                         'solver': ['lbfgs', 'adam', 'sgd']},\n",
       "             verbose=2)"
      ]
     },
     "execution_count": 83,
     "metadata": {},
     "output_type": "execute_result"
    }
   ],
   "source": [
    "mlpc = MLPClassifier()\n",
    "mlpc_cv_model = GridSearchCV(mlpc, mlpc_params, \n",
    "                         cv = 10, \n",
    "                         n_jobs = -1,\n",
    "                         verbose = 2)\n",
    "\n",
    "mlpc_cv_model.fit(X_train_scaled, y_train)"
   ]
  },
  {
   "cell_type": "code",
   "execution_count": 84,
   "id": "a7f52f02-29ab-4957-b48f-565169e8e8db",
   "metadata": {},
   "outputs": [
    {
     "name": "stdout",
     "output_type": "stream",
     "text": [
      "En iyi parametreler: {'activation': 'relu', 'alpha': 1e-05, 'hidden_layer_sizes': (10, 10, 10), 'solver': 'adam'}\n"
     ]
    }
   ],
   "source": [
    "print(\"En iyi parametreler: \" + str(mlpc_cv_model.best_params_))"
   ]
  },
  {
   "cell_type": "code",
   "execution_count": 85,
   "id": "b738e725-7858-4d92-969a-5d992b0e0e2c",
   "metadata": {},
   "outputs": [],
   "source": [
    "mlpc_tuned = MLPClassifier(activation = \"logistic\", \n",
    "                           alpha = 0.1, \n",
    "                           hidden_layer_sizes = (100, 100, 100),\n",
    "                          solver = \"adam\")"
   ]
  },
  {
   "cell_type": "code",
   "execution_count": 86,
   "id": "25510f98-c2e1-408a-8c0a-5915e0f7e272",
   "metadata": {},
   "outputs": [
    {
     "data": {
      "text/plain": [
       "MLPClassifier(activation='logistic', alpha=0.1,\n",
       "              hidden_layer_sizes=(100, 100, 100))"
      ]
     },
     "execution_count": 86,
     "metadata": {},
     "output_type": "execute_result"
    }
   ],
   "source": [
    "mlpc_tuned.fit(X_train_scaled, y_train)"
   ]
  },
  {
   "cell_type": "code",
   "execution_count": 87,
   "id": "c4661977-ea6b-4747-9703-364f87835d53",
   "metadata": {},
   "outputs": [
    {
     "data": {
      "text/plain": [
       "0.7272727272727273"
      ]
     },
     "execution_count": 87,
     "metadata": {},
     "output_type": "execute_result"
    }
   ],
   "source": [
    "y_pred = mlpc_tuned.predict(X_test_scaled)\n",
    "accuracy_score(y_test, y_pred)"
   ]
  },
  {
   "cell_type": "markdown",
   "id": "3faba5d7-42c1-44ee-8377-04870e9ff89e",
   "metadata": {},
   "source": [
    "# CART"
   ]
  },
  {
   "cell_type": "markdown",
   "id": "371e9b5c-86fd-4e84-9380-5cc497a815a4",
   "metadata": {},
   "source": [
    "## Model & Tahmin"
   ]
  },
  {
   "cell_type": "code",
   "execution_count": 88,
   "id": "7665e86b-74d2-43f2-9eab-80f763bbeabe",
   "metadata": {},
   "outputs": [],
   "source": [
    "df = diabetes.copy()\n",
    "df = df.dropna()\n",
    "y = df[\"Outcome\"]\n",
    "X = df.drop(['Outcome'], axis=1)\n",
    "#X = df[\"Pregnancies\"]\n",
    "X = pd.DataFrame(X)\n",
    "X_train, X_test, y_train, y_test = train_test_split(X, y, \n",
    "                                                    test_size=0.30, \n",
    "                                                    random_state=42)"
   ]
  },
  {
   "cell_type": "code",
   "execution_count": 89,
   "id": "67570b6e-4362-4792-9207-e8e300d5b2ce",
   "metadata": {},
   "outputs": [],
   "source": [
    "from sklearn.tree import DecisionTreeClassifier"
   ]
  },
  {
   "cell_type": "code",
   "execution_count": 90,
   "id": "975cafe6-c730-4484-8748-f952da0937fa",
   "metadata": {},
   "outputs": [],
   "source": [
    "cart = DecisionTreeClassifier()\n",
    "cart_model = cart.fit(X_train, y_train)"
   ]
  },
  {
   "cell_type": "code",
   "execution_count": 91,
   "id": "467bd424-e907-435a-9136-4e8f46136cdb",
   "metadata": {},
   "outputs": [
    {
     "data": {
      "text/plain": [
       "DecisionTreeClassifier()"
      ]
     },
     "execution_count": 91,
     "metadata": {},
     "output_type": "execute_result"
    }
   ],
   "source": [
    "cart_model"
   ]
  },
  {
   "cell_type": "code",
   "execution_count": 92,
   "id": "b95b9ad7-1177-4ca3-ac82-3bfdf35d814f",
   "metadata": {},
   "outputs": [
    {
     "name": "stdout",
     "output_type": "stream",
     "text": [
      "((((((0 if x[6] <= 0.671999990940094 else 1 if x[6] <= 0.6974999904632568 else\n",
      "    0) if x[5] <= 31.40000057220459 else ((0 if x[3] <= 40.5 else 1) if x[1\n",
      "    ] <= 111.5 else ((0 if x[5] <= 32.59999942779541 else 1) if x[2] <= \n",
      "    65.0 else 0) if x[2] <= 72.0 else 1) if x[4] <= 9.0 else (0 if x[6] <= \n",
      "    0.6395000219345093 else 1 if x[6] <= 0.6759999990463257 else 0) if x[0] <=\n",
      "    4.5 else 0 if x[6] <= 0.39149999618530273 else 1) if x[5] <= \n",
      "    49.10000038146973 else 1) if x[1] <= 127.5 else 1 if x[2] <= 56.0 else \n",
      "    (0 if x[7] <= 27.5 else 1 if x[5] <= 28.149999618530273 else 0) if x[5] <=\n",
      "    30.300000190734863 else 1 if x[5] <= 32.000000953674316 else ((0 if x[5\n",
      "    ] <= 33.75 else 1) if x[0] <= 0.5 else 1 if x[5] <= 32.45000076293945 else\n",
      "    0) if x[2] <= 85.0 else 1) if x[7] <= 28.5 else (1 if x[7] <= 29.5 else\n",
      "    (1 if x[1] <= 130.5 else 0) if x[5] <= 9.649999618530273 else 0 if x[1] <=\n",
      "    133.0 else (0 if x[7] <= 57.5 else 1) if x[2] <= 73.0 else 0) if x[5] <=\n",
      "    26.949999809265137 else (1 if x[1] <= 28.5 else 0 if x[0] <= 9.5 else 0 if\n",
      "    x[3] <= 27.0 else 1 if x[5] <= 35.10000038146973 else 0) if x[1] <= \n",
      "    94.5 else ((((0 if x[6] <= 0.24950000643730164 else 1 if x[1] <= 126.5 else\n",
      "    0) if x[5] <= 28.34999942779541 else 1 if x[5] <= 31.15000057220459 else\n",
      "    (1 if x[6] <= 0.29499999433755875 else 0) if x[7] <= 36.5 else (0 if x[\n",
      "    0] <= 5.5 else 1) if x[6] <= 0.21000000089406967 else 1 if x[0] <= 9.0 else\n",
      "    0 if x[6] <= 0.26500000059604645 else 1) if x[3] <= 26.5 else ((0 if x[\n",
      "    1] <= 101.5 else 1 if x[5] <= 41.19999885559082 else 0) if x[2] <= 67.0\n",
      "     else 0 if x[2] <= 80.0 else 0 if x[0] <= 7.0 else 1) if x[1] <= 127.5 else\n",
      "    (0 if x[0] <= 12.0 else 1) if x[6] <= 0.3110000044107437 else 1) if x[2\n",
      "    ] <= 83.0 else ((0 if x[3] <= 39.5 else 1 if x[2] <= 87.0 else 0) if x[\n",
      "    5] <= 41.19999885559082 else 1) if x[4] <= 124.0 else 0 if x[3] <= 19.5\n",
      "     else 1) if x[6] <= 0.527999997138977 else ((((0 if x[6] <= \n",
      "    1.0524999797344208 else 1) if x[5] <= 27.34999942779541 else 1) if x[1] <=\n",
      "    132.0 else 0) if x[5] <= 29.09999942779541 else 0 if x[7] <= 50.0 else \n",
      "    1) if x[5] <= 31.600000381469727 else ((1 if x[2] <= 87.0 else 0 if x[6\n",
      "    ] <= 0.7305000126361847 else 1) if x[3] <= 54.5 else 0) if x[6] <= \n",
      "    1.1489999890327454 else 1 if x[7] <= 36.0 else 0) if x[1] <= 154.5 else\n",
      "    (1 if x[5] <= 25.350000381469727 else (0 if x[7] <= 25.5 else 1) if x[7\n",
      "    ] <= 52.5 else 0) if x[5] <= 28.700000762939453 else (((((1 if x[6] <= \n",
      "    0.2695000022649765 else 0) if x[4] <= 180.0 else 0) if x[4] <= 457.0 else\n",
      "    1) if x[7] <= 30.5 else 1) if x[6] <= 0.3044999986886978 else (1 if x[1\n",
      "    ] <= 164.5 else 0) if x[1] <= 165.5 else 1) if x[6] <= \n",
      "    1.4275000095367432 else 1 if x[1] <= 181.5 else 0)\n",
      "\n"
     ]
    }
   ],
   "source": [
    "#!pip install skompiler\n",
    "from skompiler import skompile\n",
    "print(skompile(cart_model.predict).to(\"python/code\"))"
   ]
  },
  {
   "cell_type": "code",
   "execution_count": 93,
   "id": "2f591b91-7e39-4532-9c35-e38cddd272db",
   "metadata": {},
   "outputs": [],
   "source": [
    "x = [9]"
   ]
  },
  {
   "cell_type": "code",
   "execution_count": 94,
   "id": "ac68f42d-6ae5-4a53-97ba-f6d73fd88190",
   "metadata": {},
   "outputs": [
    {
     "data": {
      "text/plain": [
       "1"
      ]
     },
     "execution_count": 94,
     "metadata": {},
     "output_type": "execute_result"
    }
   ],
   "source": [
    "((0 if x[0] <= 2.5 else 0) if x[0] <= 6.5 else 1 if x[0] <= 13.5 else 1)"
   ]
  },
  {
   "cell_type": "code",
   "execution_count": 95,
   "id": "d3e7c414-315e-459b-afa1-2d54320e04f9",
   "metadata": {},
   "outputs": [
    {
     "data": {
      "text/plain": [
       "0.70995670995671"
      ]
     },
     "execution_count": 95,
     "metadata": {},
     "output_type": "execute_result"
    }
   ],
   "source": [
    "y_pred = cart_model.predict(X_test)\n",
    "accuracy_score(y_test, y_pred)"
   ]
  },
  {
   "cell_type": "markdown",
   "id": "a41df3d3-2aa6-43b6-bfc7-0e4733194dcd",
   "metadata": {},
   "source": [
    "## Model Tuning"
   ]
  },
  {
   "cell_type": "code",
   "execution_count": 96,
   "id": "b6bc8c49-2e02-4558-85ea-5ca8c4f660db",
   "metadata": {},
   "outputs": [
    {
     "data": {
      "text/plain": [
       "DecisionTreeClassifier()"
      ]
     },
     "execution_count": 96,
     "metadata": {},
     "output_type": "execute_result"
    }
   ],
   "source": [
    "cart_model"
   ]
  },
  {
   "cell_type": "code",
   "execution_count": 97,
   "id": "c12cd6d4-cc72-4fac-9598-67abe8ffe931",
   "metadata": {
    "collapsed": true,
    "jupyter": {
     "outputs_hidden": true
    },
    "tags": []
   },
   "outputs": [
    {
     "data": {
      "text/plain": [
       "\u001b[1;31mType:\u001b[0m        DecisionTreeClassifier\n",
       "\u001b[1;31mString form:\u001b[0m DecisionTreeClassifier()\n",
       "\u001b[1;31mFile:\u001b[0m        d:\\anaconda\\lib\\site-packages\\sklearn\\tree\\_classes.py\n",
       "\u001b[1;31mDocstring:\u001b[0m  \n",
       "A decision tree classifier.\n",
       "\n",
       "Read more in the :ref:`User Guide <tree>`.\n",
       "\n",
       "Parameters\n",
       "----------\n",
       "criterion : {\"gini\", \"entropy\"}, default=\"gini\"\n",
       "    The function to measure the quality of a split. Supported criteria are\n",
       "    \"gini\" for the Gini impurity and \"entropy\" for the information gain.\n",
       "\n",
       "splitter : {\"best\", \"random\"}, default=\"best\"\n",
       "    The strategy used to choose the split at each node. Supported\n",
       "    strategies are \"best\" to choose the best split and \"random\" to choose\n",
       "    the best random split.\n",
       "\n",
       "max_depth : int, default=None\n",
       "    The maximum depth of the tree. If None, then nodes are expanded until\n",
       "    all leaves are pure or until all leaves contain less than\n",
       "    min_samples_split samples.\n",
       "\n",
       "min_samples_split : int or float, default=2\n",
       "    The minimum number of samples required to split an internal node:\n",
       "\n",
       "    - If int, then consider `min_samples_split` as the minimum number.\n",
       "    - If float, then `min_samples_split` is a fraction and\n",
       "      `ceil(min_samples_split * n_samples)` are the minimum\n",
       "      number of samples for each split.\n",
       "\n",
       "    .. versionchanged:: 0.18\n",
       "       Added float values for fractions.\n",
       "\n",
       "min_samples_leaf : int or float, default=1\n",
       "    The minimum number of samples required to be at a leaf node.\n",
       "    A split point at any depth will only be considered if it leaves at\n",
       "    least ``min_samples_leaf`` training samples in each of the left and\n",
       "    right branches.  This may have the effect of smoothing the model,\n",
       "    especially in regression.\n",
       "\n",
       "    - If int, then consider `min_samples_leaf` as the minimum number.\n",
       "    - If float, then `min_samples_leaf` is a fraction and\n",
       "      `ceil(min_samples_leaf * n_samples)` are the minimum\n",
       "      number of samples for each node.\n",
       "\n",
       "    .. versionchanged:: 0.18\n",
       "       Added float values for fractions.\n",
       "\n",
       "min_weight_fraction_leaf : float, default=0.0\n",
       "    The minimum weighted fraction of the sum total of weights (of all\n",
       "    the input samples) required to be at a leaf node. Samples have\n",
       "    equal weight when sample_weight is not provided.\n",
       "\n",
       "max_features : int, float or {\"auto\", \"sqrt\", \"log2\"}, default=None\n",
       "    The number of features to consider when looking for the best split:\n",
       "\n",
       "        - If int, then consider `max_features` features at each split.\n",
       "        - If float, then `max_features` is a fraction and\n",
       "          `int(max_features * n_features)` features are considered at each\n",
       "          split.\n",
       "        - If \"auto\", then `max_features=sqrt(n_features)`.\n",
       "        - If \"sqrt\", then `max_features=sqrt(n_features)`.\n",
       "        - If \"log2\", then `max_features=log2(n_features)`.\n",
       "        - If None, then `max_features=n_features`.\n",
       "\n",
       "    Note: the search for a split does not stop until at least one\n",
       "    valid partition of the node samples is found, even if it requires to\n",
       "    effectively inspect more than ``max_features`` features.\n",
       "\n",
       "random_state : int, RandomState instance or None, default=None\n",
       "    Controls the randomness of the estimator. The features are always\n",
       "    randomly permuted at each split, even if ``splitter`` is set to\n",
       "    ``\"best\"``. When ``max_features < n_features``, the algorithm will\n",
       "    select ``max_features`` at random at each split before finding the best\n",
       "    split among them. But the best found split may vary across different\n",
       "    runs, even if ``max_features=n_features``. That is the case, if the\n",
       "    improvement of the criterion is identical for several splits and one\n",
       "    split has to be selected at random. To obtain a deterministic behaviour\n",
       "    during fitting, ``random_state`` has to be fixed to an integer.\n",
       "    See :term:`Glossary <random_state>` for details.\n",
       "\n",
       "max_leaf_nodes : int, default=None\n",
       "    Grow a tree with ``max_leaf_nodes`` in best-first fashion.\n",
       "    Best nodes are defined as relative reduction in impurity.\n",
       "    If None then unlimited number of leaf nodes.\n",
       "\n",
       "min_impurity_decrease : float, default=0.0\n",
       "    A node will be split if this split induces a decrease of the impurity\n",
       "    greater than or equal to this value.\n",
       "\n",
       "    The weighted impurity decrease equation is the following::\n",
       "\n",
       "        N_t / N * (impurity - N_t_R / N_t * right_impurity\n",
       "                            - N_t_L / N_t * left_impurity)\n",
       "\n",
       "    where ``N`` is the total number of samples, ``N_t`` is the number of\n",
       "    samples at the current node, ``N_t_L`` is the number of samples in the\n",
       "    left child, and ``N_t_R`` is the number of samples in the right child.\n",
       "\n",
       "    ``N``, ``N_t``, ``N_t_R`` and ``N_t_L`` all refer to the weighted sum,\n",
       "    if ``sample_weight`` is passed.\n",
       "\n",
       "    .. versionadded:: 0.19\n",
       "\n",
       "min_impurity_split : float, default=0\n",
       "    Threshold for early stopping in tree growth. A node will split\n",
       "    if its impurity is above the threshold, otherwise it is a leaf.\n",
       "\n",
       "    .. deprecated:: 0.19\n",
       "       ``min_impurity_split`` has been deprecated in favor of\n",
       "       ``min_impurity_decrease`` in 0.19. The default value of\n",
       "       ``min_impurity_split`` has changed from 1e-7 to 0 in 0.23 and it\n",
       "       will be removed in 1.0 (renaming of 0.25).\n",
       "       Use ``min_impurity_decrease`` instead.\n",
       "\n",
       "class_weight : dict, list of dict or \"balanced\", default=None\n",
       "    Weights associated with classes in the form ``{class_label: weight}``.\n",
       "    If None, all classes are supposed to have weight one. For\n",
       "    multi-output problems, a list of dicts can be provided in the same\n",
       "    order as the columns of y.\n",
       "\n",
       "    Note that for multioutput (including multilabel) weights should be\n",
       "    defined for each class of every column in its own dict. For example,\n",
       "    for four-class multilabel classification weights should be\n",
       "    [{0: 1, 1: 1}, {0: 1, 1: 5}, {0: 1, 1: 1}, {0: 1, 1: 1}] instead of\n",
       "    [{1:1}, {2:5}, {3:1}, {4:1}].\n",
       "\n",
       "    The \"balanced\" mode uses the values of y to automatically adjust\n",
       "    weights inversely proportional to class frequencies in the input data\n",
       "    as ``n_samples / (n_classes * np.bincount(y))``\n",
       "\n",
       "    For multi-output, the weights of each column of y will be multiplied.\n",
       "\n",
       "    Note that these weights will be multiplied with sample_weight (passed\n",
       "    through the fit method) if sample_weight is specified.\n",
       "\n",
       "ccp_alpha : non-negative float, default=0.0\n",
       "    Complexity parameter used for Minimal Cost-Complexity Pruning. The\n",
       "    subtree with the largest cost complexity that is smaller than\n",
       "    ``ccp_alpha`` will be chosen. By default, no pruning is performed. See\n",
       "    :ref:`minimal_cost_complexity_pruning` for details.\n",
       "\n",
       "    .. versionadded:: 0.22\n",
       "\n",
       "Attributes\n",
       "----------\n",
       "classes_ : ndarray of shape (n_classes,) or list of ndarray\n",
       "    The classes labels (single output problem),\n",
       "    or a list of arrays of class labels (multi-output problem).\n",
       "\n",
       "feature_importances_ : ndarray of shape (n_features,)\n",
       "    The impurity-based feature importances.\n",
       "    The higher, the more important the feature.\n",
       "    The importance of a feature is computed as the (normalized)\n",
       "    total reduction of the criterion brought by that feature.  It is also\n",
       "    known as the Gini importance [4]_.\n",
       "\n",
       "    Warning: impurity-based feature importances can be misleading for\n",
       "    high cardinality features (many unique values). See\n",
       "    :func:`sklearn.inspection.permutation_importance` as an alternative.\n",
       "\n",
       "max_features_ : int\n",
       "    The inferred value of max_features.\n",
       "\n",
       "n_classes_ : int or list of int\n",
       "    The number of classes (for single output problems),\n",
       "    or a list containing the number of classes for each\n",
       "    output (for multi-output problems).\n",
       "\n",
       "n_features_ : int\n",
       "    The number of features when ``fit`` is performed.\n",
       "\n",
       "n_outputs_ : int\n",
       "    The number of outputs when ``fit`` is performed.\n",
       "\n",
       "tree_ : Tree instance\n",
       "    The underlying Tree object. Please refer to\n",
       "    ``help(sklearn.tree._tree.Tree)`` for attributes of Tree object and\n",
       "    :ref:`sphx_glr_auto_examples_tree_plot_unveil_tree_structure.py`\n",
       "    for basic usage of these attributes.\n",
       "\n",
       "See Also\n",
       "--------\n",
       "DecisionTreeRegressor : A decision tree regressor.\n",
       "\n",
       "Notes\n",
       "-----\n",
       "The default values for the parameters controlling the size of the trees\n",
       "(e.g. ``max_depth``, ``min_samples_leaf``, etc.) lead to fully grown and\n",
       "unpruned trees which can potentially be very large on some data sets. To\n",
       "reduce memory consumption, the complexity and size of the trees should be\n",
       "controlled by setting those parameter values.\n",
       "\n",
       "The :meth:`predict` method operates using the :func:`numpy.argmax`\n",
       "function on the outputs of :meth:`predict_proba`. This means that in\n",
       "case the highest predicted probabilities are tied, the classifier will\n",
       "predict the tied class with the lowest index in :term:`classes_`.\n",
       "\n",
       "References\n",
       "----------\n",
       "\n",
       ".. [1] https://en.wikipedia.org/wiki/Decision_tree_learning\n",
       "\n",
       ".. [2] L. Breiman, J. Friedman, R. Olshen, and C. Stone, \"Classification\n",
       "       and Regression Trees\", Wadsworth, Belmont, CA, 1984.\n",
       "\n",
       ".. [3] T. Hastie, R. Tibshirani and J. Friedman. \"Elements of Statistical\n",
       "       Learning\", Springer, 2009.\n",
       "\n",
       ".. [4] L. Breiman, and A. Cutler, \"Random Forests\",\n",
       "       https://www.stat.berkeley.edu/~breiman/RandomForests/cc_home.htm\n",
       "\n",
       "Examples\n",
       "--------\n",
       ">>> from sklearn.datasets import load_iris\n",
       ">>> from sklearn.model_selection import cross_val_score\n",
       ">>> from sklearn.tree import DecisionTreeClassifier\n",
       ">>> clf = DecisionTreeClassifier(random_state=0)\n",
       ">>> iris = load_iris()\n",
       ">>> cross_val_score(clf, iris.data, iris.target, cv=10)\n",
       "...                             # doctest: +SKIP\n",
       "...\n",
       "array([ 1.     ,  0.93...,  0.86...,  0.93...,  0.93...,\n",
       "        0.93...,  0.93...,  1.     ,  0.93...,  1.      ])\n"
      ]
     },
     "metadata": {},
     "output_type": "display_data"
    }
   ],
   "source": [
    "?cart_model"
   ]
  },
  {
   "cell_type": "code",
   "execution_count": 98,
   "id": "a32a0925-a187-47a4-af78-14e1e9bd4975",
   "metadata": {},
   "outputs": [],
   "source": [
    "cart_grid = {\"max_depth\": range(1,10),\n",
    "            \"min_samples_split\" : list(range(2,50)) }"
   ]
  },
  {
   "cell_type": "code",
   "execution_count": 99,
   "id": "9571bc04-c139-4030-9d2b-3d0e21414598",
   "metadata": {},
   "outputs": [
    {
     "name": "stdout",
     "output_type": "stream",
     "text": [
      "Fitting 10 folds for each of 432 candidates, totalling 4320 fits\n"
     ]
    }
   ],
   "source": [
    "cart = tree.DecisionTreeClassifier()\n",
    "cart_cv = GridSearchCV(cart, cart_grid, cv = 10, n_jobs = -1, verbose = 2)\n",
    "cart_cv_model = cart_cv.fit(X_train, y_train)"
   ]
  },
  {
   "cell_type": "code",
   "execution_count": 100,
   "id": "addd4b26-6062-4b4a-906f-2b19dbf969e1",
   "metadata": {},
   "outputs": [
    {
     "name": "stdout",
     "output_type": "stream",
     "text": [
      "En iyi parametreler: {'max_depth': 5, 'min_samples_split': 19}\n"
     ]
    }
   ],
   "source": [
    "print(\"En iyi parametreler: \" + str(cart_cv_model.best_params_))"
   ]
  },
  {
   "cell_type": "code",
   "execution_count": 101,
   "id": "f304117e-4886-45fc-a2c8-beddd0f8e300",
   "metadata": {},
   "outputs": [],
   "source": [
    "#final"
   ]
  },
  {
   "cell_type": "code",
   "execution_count": 102,
   "id": "bbe4666b-f2ee-4672-9584-ec1843404f0c",
   "metadata": {},
   "outputs": [],
   "source": [
    "cart = tree.DecisionTreeClassifier(max_depth = 5, min_samples_split = 19)\n",
    "cart_tuned = cart.fit(X_train, y_train)"
   ]
  },
  {
   "cell_type": "code",
   "execution_count": 103,
   "id": "d3a1c30d-4ded-429c-b9e7-3344a1ab2aae",
   "metadata": {},
   "outputs": [
    {
     "data": {
      "text/plain": [
       "0.7532467532467533"
      ]
     },
     "execution_count": 103,
     "metadata": {},
     "output_type": "execute_result"
    }
   ],
   "source": [
    "y_pred = cart_tuned.predict(X_test)\n",
    "accuracy_score(y_test, y_pred)"
   ]
  },
  {
   "cell_type": "markdown",
   "id": "b5cebb7e-ec51-4652-9401-4c2fec3c6727",
   "metadata": {},
   "source": [
    "# Random Forests"
   ]
  },
  {
   "cell_type": "code",
   "execution_count": 104,
   "id": "1e2eb68c-5de0-4a6c-aa51-5d71723eb17a",
   "metadata": {},
   "outputs": [],
   "source": [
    "df = diabetes.copy()\n",
    "df = df.dropna()\n",
    "y = df[\"Outcome\"]\n",
    "X = df.drop(['Outcome'], axis=1)\n",
    "#X = df[\"Pregnancies\"]\n",
    "X = pd.DataFrame(X)\n",
    "X_train, X_test, y_train, y_test = train_test_split(X, y, \n",
    "                                                    test_size=0.30, \n",
    "                                                    random_state=42)"
   ]
  },
  {
   "cell_type": "code",
   "execution_count": 105,
   "id": "d78e1092-6c8e-4c6a-b297-92c5b196dc7f",
   "metadata": {},
   "outputs": [],
   "source": [
    "from sklearn.ensemble import RandomForestClassifier"
   ]
  },
  {
   "cell_type": "code",
   "execution_count": 106,
   "id": "05bad7df-1fa2-4e8f-9259-256f38306065",
   "metadata": {},
   "outputs": [],
   "source": [
    "rf_model = RandomForestClassifier().fit(X_train, y_train)"
   ]
  },
  {
   "cell_type": "code",
   "execution_count": 107,
   "id": "63af2b45-c6c9-41e4-9805-2458af92bde7",
   "metadata": {},
   "outputs": [
    {
     "data": {
      "text/plain": [
       "RandomForestClassifier()"
      ]
     },
     "execution_count": 107,
     "metadata": {},
     "output_type": "execute_result"
    }
   ],
   "source": [
    "rf_model"
   ]
  },
  {
   "cell_type": "code",
   "execution_count": 108,
   "id": "1f0de64b-71ed-47c0-bb2b-e948ba1fcaa5",
   "metadata": {},
   "outputs": [
    {
     "data": {
      "text/plain": [
       "0.7489177489177489"
      ]
     },
     "execution_count": 108,
     "metadata": {},
     "output_type": "execute_result"
    }
   ],
   "source": [
    "y_pred = rf_model.predict(X_test)\n",
    "accuracy_score(y_test, y_pred)"
   ]
  },
  {
   "cell_type": "markdown",
   "id": "8597d252-9887-4501-8cee-a346ddf1bedb",
   "metadata": {},
   "source": [
    "## Model Tuning"
   ]
  },
  {
   "cell_type": "code",
   "execution_count": 109,
   "id": "b9fdc11d-262e-478d-bf2a-a9d8514b68fa",
   "metadata": {},
   "outputs": [
    {
     "data": {
      "text/plain": [
       "RandomForestClassifier()"
      ]
     },
     "execution_count": 109,
     "metadata": {},
     "output_type": "execute_result"
    }
   ],
   "source": [
    "rf_model"
   ]
  },
  {
   "cell_type": "code",
   "execution_count": 110,
   "id": "6714f581-a900-4235-9fa1-aeb2812aa938",
   "metadata": {
    "collapsed": true,
    "jupyter": {
     "outputs_hidden": true
    },
    "tags": []
   },
   "outputs": [
    {
     "data": {
      "text/plain": [
       "\u001b[1;31mType:\u001b[0m        RandomForestClassifier\n",
       "\u001b[1;31mString form:\u001b[0m RandomForestClassifier()\n",
       "\u001b[1;31mLength:\u001b[0m      100\n",
       "\u001b[1;31mFile:\u001b[0m        d:\\anaconda\\lib\\site-packages\\sklearn\\ensemble\\_forest.py\n",
       "\u001b[1;31mDocstring:\u001b[0m  \n",
       "A random forest classifier.\n",
       "\n",
       "A random forest is a meta estimator that fits a number of decision tree\n",
       "classifiers on various sub-samples of the dataset and uses averaging to\n",
       "improve the predictive accuracy and control over-fitting.\n",
       "The sub-sample size is controlled with the `max_samples` parameter if\n",
       "`bootstrap=True` (default), otherwise the whole dataset is used to build\n",
       "each tree.\n",
       "\n",
       "Read more in the :ref:`User Guide <forest>`.\n",
       "\n",
       "Parameters\n",
       "----------\n",
       "n_estimators : int, default=100\n",
       "    The number of trees in the forest.\n",
       "\n",
       "    .. versionchanged:: 0.22\n",
       "       The default value of ``n_estimators`` changed from 10 to 100\n",
       "       in 0.22.\n",
       "\n",
       "criterion : {\"gini\", \"entropy\"}, default=\"gini\"\n",
       "    The function to measure the quality of a split. Supported criteria are\n",
       "    \"gini\" for the Gini impurity and \"entropy\" for the information gain.\n",
       "    Note: this parameter is tree-specific.\n",
       "\n",
       "max_depth : int, default=None\n",
       "    The maximum depth of the tree. If None, then nodes are expanded until\n",
       "    all leaves are pure or until all leaves contain less than\n",
       "    min_samples_split samples.\n",
       "\n",
       "min_samples_split : int or float, default=2\n",
       "    The minimum number of samples required to split an internal node:\n",
       "\n",
       "    - If int, then consider `min_samples_split` as the minimum number.\n",
       "    - If float, then `min_samples_split` is a fraction and\n",
       "      `ceil(min_samples_split * n_samples)` are the minimum\n",
       "      number of samples for each split.\n",
       "\n",
       "    .. versionchanged:: 0.18\n",
       "       Added float values for fractions.\n",
       "\n",
       "min_samples_leaf : int or float, default=1\n",
       "    The minimum number of samples required to be at a leaf node.\n",
       "    A split point at any depth will only be considered if it leaves at\n",
       "    least ``min_samples_leaf`` training samples in each of the left and\n",
       "    right branches.  This may have the effect of smoothing the model,\n",
       "    especially in regression.\n",
       "\n",
       "    - If int, then consider `min_samples_leaf` as the minimum number.\n",
       "    - If float, then `min_samples_leaf` is a fraction and\n",
       "      `ceil(min_samples_leaf * n_samples)` are the minimum\n",
       "      number of samples for each node.\n",
       "\n",
       "    .. versionchanged:: 0.18\n",
       "       Added float values for fractions.\n",
       "\n",
       "min_weight_fraction_leaf : float, default=0.0\n",
       "    The minimum weighted fraction of the sum total of weights (of all\n",
       "    the input samples) required to be at a leaf node. Samples have\n",
       "    equal weight when sample_weight is not provided.\n",
       "\n",
       "max_features : {\"auto\", \"sqrt\", \"log2\"}, int or float, default=\"auto\"\n",
       "    The number of features to consider when looking for the best split:\n",
       "\n",
       "    - If int, then consider `max_features` features at each split.\n",
       "    - If float, then `max_features` is a fraction and\n",
       "      `round(max_features * n_features)` features are considered at each\n",
       "      split.\n",
       "    - If \"auto\", then `max_features=sqrt(n_features)`.\n",
       "    - If \"sqrt\", then `max_features=sqrt(n_features)` (same as \"auto\").\n",
       "    - If \"log2\", then `max_features=log2(n_features)`.\n",
       "    - If None, then `max_features=n_features`.\n",
       "\n",
       "    Note: the search for a split does not stop until at least one\n",
       "    valid partition of the node samples is found, even if it requires to\n",
       "    effectively inspect more than ``max_features`` features.\n",
       "\n",
       "max_leaf_nodes : int, default=None\n",
       "    Grow trees with ``max_leaf_nodes`` in best-first fashion.\n",
       "    Best nodes are defined as relative reduction in impurity.\n",
       "    If None then unlimited number of leaf nodes.\n",
       "\n",
       "min_impurity_decrease : float, default=0.0\n",
       "    A node will be split if this split induces a decrease of the impurity\n",
       "    greater than or equal to this value.\n",
       "\n",
       "    The weighted impurity decrease equation is the following::\n",
       "\n",
       "        N_t / N * (impurity - N_t_R / N_t * right_impurity\n",
       "                            - N_t_L / N_t * left_impurity)\n",
       "\n",
       "    where ``N`` is the total number of samples, ``N_t`` is the number of\n",
       "    samples at the current node, ``N_t_L`` is the number of samples in the\n",
       "    left child, and ``N_t_R`` is the number of samples in the right child.\n",
       "\n",
       "    ``N``, ``N_t``, ``N_t_R`` and ``N_t_L`` all refer to the weighted sum,\n",
       "    if ``sample_weight`` is passed.\n",
       "\n",
       "    .. versionadded:: 0.19\n",
       "\n",
       "min_impurity_split : float, default=None\n",
       "    Threshold for early stopping in tree growth. A node will split\n",
       "    if its impurity is above the threshold, otherwise it is a leaf.\n",
       "\n",
       "    .. deprecated:: 0.19\n",
       "       ``min_impurity_split`` has been deprecated in favor of\n",
       "       ``min_impurity_decrease`` in 0.19. The default value of\n",
       "       ``min_impurity_split`` has changed from 1e-7 to 0 in 0.23 and it\n",
       "       will be removed in 1.0 (renaming of 0.25).\n",
       "       Use ``min_impurity_decrease`` instead.\n",
       "\n",
       "bootstrap : bool, default=True\n",
       "    Whether bootstrap samples are used when building trees. If False, the\n",
       "    whole dataset is used to build each tree.\n",
       "\n",
       "oob_score : bool, default=False\n",
       "    Whether to use out-of-bag samples to estimate the generalization score.\n",
       "    Only available if bootstrap=True.\n",
       "\n",
       "n_jobs : int, default=None\n",
       "    The number of jobs to run in parallel. :meth:`fit`, :meth:`predict`,\n",
       "    :meth:`decision_path` and :meth:`apply` are all parallelized over the\n",
       "    trees. ``None`` means 1 unless in a :obj:`joblib.parallel_backend`\n",
       "    context. ``-1`` means using all processors. See :term:`Glossary\n",
       "    <n_jobs>` for more details.\n",
       "\n",
       "random_state : int, RandomState instance or None, default=None\n",
       "    Controls both the randomness of the bootstrapping of the samples used\n",
       "    when building trees (if ``bootstrap=True``) and the sampling of the\n",
       "    features to consider when looking for the best split at each node\n",
       "    (if ``max_features < n_features``).\n",
       "    See :term:`Glossary <random_state>` for details.\n",
       "\n",
       "verbose : int, default=0\n",
       "    Controls the verbosity when fitting and predicting.\n",
       "\n",
       "warm_start : bool, default=False\n",
       "    When set to ``True``, reuse the solution of the previous call to fit\n",
       "    and add more estimators to the ensemble, otherwise, just fit a whole\n",
       "    new forest. See :term:`the Glossary <warm_start>`.\n",
       "\n",
       "class_weight : {\"balanced\", \"balanced_subsample\"}, dict or list of dicts,             default=None\n",
       "    Weights associated with classes in the form ``{class_label: weight}``.\n",
       "    If not given, all classes are supposed to have weight one. For\n",
       "    multi-output problems, a list of dicts can be provided in the same\n",
       "    order as the columns of y.\n",
       "\n",
       "    Note that for multioutput (including multilabel) weights should be\n",
       "    defined for each class of every column in its own dict. For example,\n",
       "    for four-class multilabel classification weights should be\n",
       "    [{0: 1, 1: 1}, {0: 1, 1: 5}, {0: 1, 1: 1}, {0: 1, 1: 1}] instead of\n",
       "    [{1:1}, {2:5}, {3:1}, {4:1}].\n",
       "\n",
       "    The \"balanced\" mode uses the values of y to automatically adjust\n",
       "    weights inversely proportional to class frequencies in the input data\n",
       "    as ``n_samples / (n_classes * np.bincount(y))``\n",
       "\n",
       "    The \"balanced_subsample\" mode is the same as \"balanced\" except that\n",
       "    weights are computed based on the bootstrap sample for every tree\n",
       "    grown.\n",
       "\n",
       "    For multi-output, the weights of each column of y will be multiplied.\n",
       "\n",
       "    Note that these weights will be multiplied with sample_weight (passed\n",
       "    through the fit method) if sample_weight is specified.\n",
       "\n",
       "ccp_alpha : non-negative float, default=0.0\n",
       "    Complexity parameter used for Minimal Cost-Complexity Pruning. The\n",
       "    subtree with the largest cost complexity that is smaller than\n",
       "    ``ccp_alpha`` will be chosen. By default, no pruning is performed. See\n",
       "    :ref:`minimal_cost_complexity_pruning` for details.\n",
       "\n",
       "    .. versionadded:: 0.22\n",
       "\n",
       "max_samples : int or float, default=None\n",
       "    If bootstrap is True, the number of samples to draw from X\n",
       "    to train each base estimator.\n",
       "\n",
       "    - If None (default), then draw `X.shape[0]` samples.\n",
       "    - If int, then draw `max_samples` samples.\n",
       "    - If float, then draw `max_samples * X.shape[0]` samples. Thus,\n",
       "      `max_samples` should be in the interval `(0, 1)`.\n",
       "\n",
       "    .. versionadded:: 0.22\n",
       "\n",
       "Attributes\n",
       "----------\n",
       "base_estimator_ : DecisionTreeClassifier\n",
       "    The child estimator template used to create the collection of fitted\n",
       "    sub-estimators.\n",
       "\n",
       "estimators_ : list of DecisionTreeClassifier\n",
       "    The collection of fitted sub-estimators.\n",
       "\n",
       "classes_ : ndarray of shape (n_classes,) or a list of such arrays\n",
       "    The classes labels (single output problem), or a list of arrays of\n",
       "    class labels (multi-output problem).\n",
       "\n",
       "n_classes_ : int or list\n",
       "    The number of classes (single output problem), or a list containing the\n",
       "    number of classes for each output (multi-output problem).\n",
       "\n",
       "n_features_ : int\n",
       "    The number of features when ``fit`` is performed.\n",
       "\n",
       "n_outputs_ : int\n",
       "    The number of outputs when ``fit`` is performed.\n",
       "\n",
       "feature_importances_ : ndarray of shape (n_features,)\n",
       "    The impurity-based feature importances.\n",
       "    The higher, the more important the feature.\n",
       "    The importance of a feature is computed as the (normalized)\n",
       "    total reduction of the criterion brought by that feature.  It is also\n",
       "    known as the Gini importance.\n",
       "\n",
       "    Warning: impurity-based feature importances can be misleading for\n",
       "    high cardinality features (many unique values). See\n",
       "    :func:`sklearn.inspection.permutation_importance` as an alternative.\n",
       "\n",
       "oob_score_ : float\n",
       "    Score of the training dataset obtained using an out-of-bag estimate.\n",
       "    This attribute exists only when ``oob_score`` is True.\n",
       "\n",
       "oob_decision_function_ : ndarray of shape (n_samples, n_classes)\n",
       "    Decision function computed with out-of-bag estimate on the training\n",
       "    set. If n_estimators is small it might be possible that a data point\n",
       "    was never left out during the bootstrap. In this case,\n",
       "    `oob_decision_function_` might contain NaN. This attribute exists\n",
       "    only when ``oob_score`` is True.\n",
       "\n",
       "See Also\n",
       "--------\n",
       "DecisionTreeClassifier, ExtraTreesClassifier\n",
       "\n",
       "Notes\n",
       "-----\n",
       "The default values for the parameters controlling the size of the trees\n",
       "(e.g. ``max_depth``, ``min_samples_leaf``, etc.) lead to fully grown and\n",
       "unpruned trees which can potentially be very large on some data sets. To\n",
       "reduce memory consumption, the complexity and size of the trees should be\n",
       "controlled by setting those parameter values.\n",
       "\n",
       "The features are always randomly permuted at each split. Therefore,\n",
       "the best found split may vary, even with the same training data,\n",
       "``max_features=n_features`` and ``bootstrap=False``, if the improvement\n",
       "of the criterion is identical for several splits enumerated during the\n",
       "search of the best split. To obtain a deterministic behaviour during\n",
       "fitting, ``random_state`` has to be fixed.\n",
       "\n",
       "References\n",
       "----------\n",
       ".. [1] L. Breiman, \"Random Forests\", Machine Learning, 45(1), 5-32, 2001.\n",
       "\n",
       "Examples\n",
       "--------\n",
       ">>> from sklearn.ensemble import RandomForestClassifier\n",
       ">>> from sklearn.datasets import make_classification\n",
       ">>> X, y = make_classification(n_samples=1000, n_features=4,\n",
       "...                            n_informative=2, n_redundant=0,\n",
       "...                            random_state=0, shuffle=False)\n",
       ">>> clf = RandomForestClassifier(max_depth=2, random_state=0)\n",
       ">>> clf.fit(X, y)\n",
       "RandomForestClassifier(...)\n",
       ">>> print(clf.predict([[0, 0, 0, 0]]))\n",
       "[1]\n"
      ]
     },
     "metadata": {},
     "output_type": "display_data"
    }
   ],
   "source": [
    "?rf_model"
   ]
  },
  {
   "cell_type": "code",
   "execution_count": 111,
   "id": "f5644a9b-f458-463d-8823-894452551654",
   "metadata": {},
   "outputs": [],
   "source": [
    "rf_params = {\"max_depth\": [2,5,8,10],\n",
    "            \"max_features\": [2,5,8],\n",
    "            \"n_estimators\": [10,500,1000],\n",
    "            \"min_samples_split\": [2,5,10]}"
   ]
  },
  {
   "cell_type": "code",
   "execution_count": 112,
   "id": "ca3844aa-c598-47af-a2de-773845938829",
   "metadata": {},
   "outputs": [],
   "source": [
    "rf_model = RandomForestClassifier()\n",
    "\n",
    "rf_cv_model = GridSearchCV(rf_model, \n",
    "                           rf_params, \n",
    "                           cv = 10, \n",
    "                           n_jobs = -1, \n",
    "                           verbose = 2) "
   ]
  },
  {
   "cell_type": "code",
   "execution_count": 113,
   "id": "4f5c3a0e-72d7-4f06-b7dd-530c86f8ea55",
   "metadata": {},
   "outputs": [
    {
     "name": "stdout",
     "output_type": "stream",
     "text": [
      "Fitting 10 folds for each of 108 candidates, totalling 1080 fits\n"
     ]
    },
    {
     "data": {
      "text/plain": [
       "GridSearchCV(cv=10, estimator=RandomForestClassifier(), n_jobs=-1,\n",
       "             param_grid={'max_depth': [2, 5, 8, 10], 'max_features': [2, 5, 8],\n",
       "                         'min_samples_split': [2, 5, 10],\n",
       "                         'n_estimators': [10, 500, 1000]},\n",
       "             verbose=2)"
      ]
     },
     "execution_count": 113,
     "metadata": {},
     "output_type": "execute_result"
    }
   ],
   "source": [
    "rf_cv_model.fit(X_train, y_train)"
   ]
  },
  {
   "cell_type": "code",
   "execution_count": 114,
   "id": "f2bc62c1-727c-478c-ad78-e13bff868b5c",
   "metadata": {},
   "outputs": [
    {
     "name": "stdout",
     "output_type": "stream",
     "text": [
      "En iyi parametreler: {'max_depth': 8, 'max_features': 8, 'min_samples_split': 2, 'n_estimators': 500}\n"
     ]
    }
   ],
   "source": [
    "print(\"En iyi parametreler: \" + str(rf_cv_model.best_params_))"
   ]
  },
  {
   "cell_type": "code",
   "execution_count": 115,
   "id": "ef18ae5f-3944-4084-aaeb-ec7259ea92c3",
   "metadata": {},
   "outputs": [],
   "source": [
    "#final"
   ]
  },
  {
   "cell_type": "code",
   "execution_count": 116,
   "id": "0d20ab75-18bb-4347-96b2-9024bdddcf66",
   "metadata": {},
   "outputs": [
    {
     "data": {
      "text/plain": [
       "RandomForestClassifier(max_depth=10, max_features=8, min_samples_split=10,\n",
       "                       n_estimators=1000)"
      ]
     },
     "execution_count": 116,
     "metadata": {},
     "output_type": "execute_result"
    }
   ],
   "source": [
    "rf_tuned = RandomForestClassifier(max_depth = 10, \n",
    "                                  max_features = 8, \n",
    "                                  min_samples_split = 10,\n",
    "                                  n_estimators = 1000)\n",
    "\n",
    "rf_tuned.fit(X_train, y_train)"
   ]
  },
  {
   "cell_type": "code",
   "execution_count": 117,
   "id": "9a9a0c3c-7355-4b70-bc19-f0cb4ecd6fda",
   "metadata": {},
   "outputs": [
    {
     "data": {
      "text/plain": [
       "0.7575757575757576"
      ]
     },
     "execution_count": 117,
     "metadata": {},
     "output_type": "execute_result"
    }
   ],
   "source": [
    "y_pred = rf_tuned.predict(X_test)\n",
    "accuracy_score(y_test, y_pred)"
   ]
  },
  {
   "cell_type": "code",
   "execution_count": 118,
   "id": "e49c5b7b-7772-4e7e-b9df-d1a85c667771",
   "metadata": {},
   "outputs": [],
   "source": [
    "Importance = pd.DataFrame({\"Importance\": rf_tuned.feature_importances_*100},\n",
    "                         index = X_train.columns)"
   ]
  },
  {
   "cell_type": "code",
   "execution_count": 119,
   "id": "da23e37f-c076-487b-bb82-e4390ba2d3c1",
   "metadata": {},
   "outputs": [
    {
     "data": {
      "text/plain": [
       "Text(0.5, 0, 'Değişken Önem Düzeyleri')"
      ]
     },
     "execution_count": 119,
     "metadata": {},
     "output_type": "execute_result"
    },
    {
     "data": {
      "image/png": "[encoded data removed]",
      "text/plain": [
       "<Figure size 432x288 with 1 Axes>"
      ]
     },
     "metadata": {
      "needs_background": "light"
     },
     "output_type": "display_data"
    }
   ],
   "source": [
    "Importance.sort_values(by = \"Importance\", \n",
    "                       axis = 0, \n",
    "                       ascending = True).plot(kind =\"barh\", color = \"r\")\n",
    "\n",
    "plt.xlabel(\"Değişken Önem Düzeyleri\")"
   ]
  },
  {
   "cell_type": "markdown",
   "id": "7994285d-82e6-4054-a920-18bedd43b568",
   "metadata": {},
   "source": [
    "# Gradient Boosting Machines"
   ]
  },
  {
   "cell_type": "code",
   "execution_count": 120,
   "id": "67be2491-c7a2-4a5c-a1a8-c60a1fba8143",
   "metadata": {},
   "outputs": [],
   "source": [
    "df = diabetes.copy()\n",
    "df = df.dropna()\n",
    "y = df[\"Outcome\"]\n",
    "X = df.drop(['Outcome'], axis=1)\n",
    "#X = df[\"Pregnancies\"]\n",
    "X = pd.DataFrame(X)\n",
    "X_train, X_test, y_train, y_test = train_test_split(X, y, \n",
    "                                                    test_size=0.30, \n",
    "                                                    random_state=42)"
   ]
  },
  {
   "cell_type": "code",
   "execution_count": 121,
   "id": "25e7d2c3-e9ef-4674-b99d-b054266f015b",
   "metadata": {},
   "outputs": [],
   "source": [
    "from sklearn.ensemble import GradientBoostingClassifier"
   ]
  },
  {
   "cell_type": "code",
   "execution_count": 122,
   "id": "203fcdda-7692-42b4-9f03-755c875e4a29",
   "metadata": {},
   "outputs": [],
   "source": [
    "gbm_model = GradientBoostingClassifier().fit(X_train, y_train)"
   ]
  },
  {
   "cell_type": "code",
   "execution_count": 123,
   "id": "302110f8-d530-4bc2-a484-92cac0eefa69",
   "metadata": {},
   "outputs": [
    {
     "data": {
      "text/plain": [
       "0.7489177489177489"
      ]
     },
     "execution_count": 123,
     "metadata": {},
     "output_type": "execute_result"
    }
   ],
   "source": [
    "y_pred = gbm_model.predict(X_test)\n",
    "accuracy_score(y_test, y_pred)"
   ]
  },
  {
   "cell_type": "markdown",
   "id": "c3811a0e-de62-44cb-a227-ad169eca755f",
   "metadata": {},
   "source": [
    "## Model Tuning"
   ]
  },
  {
   "cell_type": "code",
   "execution_count": 124,
   "id": "ab20ce2b-cef1-4105-830e-47920d37538d",
   "metadata": {},
   "outputs": [
    {
     "data": {
      "text/plain": [
       "GradientBoostingClassifier()"
      ]
     },
     "execution_count": 124,
     "metadata": {},
     "output_type": "execute_result"
    }
   ],
   "source": [
    "gbm_model"
   ]
  },
  {
   "cell_type": "code",
   "execution_count": 125,
   "id": "9c14d715-1d90-46d1-a649-263d2c64a07b",
   "metadata": {
    "collapsed": true,
    "jupyter": {
     "outputs_hidden": true
    },
    "tags": []
   },
   "outputs": [
    {
     "data": {
      "text/plain": [
       "\u001b[1;31mType:\u001b[0m        GradientBoostingClassifier\n",
       "\u001b[1;31mString form:\u001b[0m GradientBoostingClassifier()\n",
       "\u001b[1;31mLength:\u001b[0m      100\n",
       "\u001b[1;31mFile:\u001b[0m        d:\\anaconda\\lib\\site-packages\\sklearn\\ensemble\\_gb.py\n",
       "\u001b[1;31mDocstring:\u001b[0m  \n",
       "Gradient Boosting for classification.\n",
       "\n",
       "GB builds an additive model in a\n",
       "forward stage-wise fashion; it allows for the optimization of\n",
       "arbitrary differentiable loss functions. In each stage ``n_classes_``\n",
       "regression trees are fit on the negative gradient of the\n",
       "binomial or multinomial deviance loss function. Binary classification\n",
       "is a special case where only a single regression tree is induced.\n",
       "\n",
       "Read more in the :ref:`User Guide <gradient_boosting>`.\n",
       "\n",
       "Parameters\n",
       "----------\n",
       "loss : {'deviance', 'exponential'}, default='deviance'\n",
       "    The loss function to be optimized. 'deviance' refers to\n",
       "    deviance (= logistic regression) for classification\n",
       "    with probabilistic outputs. For loss 'exponential' gradient\n",
       "    boosting recovers the AdaBoost algorithm.\n",
       "\n",
       "learning_rate : float, default=0.1\n",
       "    Learning rate shrinks the contribution of each tree by `learning_rate`.\n",
       "    There is a trade-off between learning_rate and n_estimators.\n",
       "\n",
       "n_estimators : int, default=100\n",
       "    The number of boosting stages to perform. Gradient boosting\n",
       "    is fairly robust to over-fitting so a large number usually\n",
       "    results in better performance.\n",
       "\n",
       "subsample : float, default=1.0\n",
       "    The fraction of samples to be used for fitting the individual base\n",
       "    learners. If smaller than 1.0 this results in Stochastic Gradient\n",
       "    Boosting. `subsample` interacts with the parameter `n_estimators`.\n",
       "    Choosing `subsample < 1.0` leads to a reduction of variance\n",
       "    and an increase in bias.\n",
       "\n",
       "criterion : {'friedman_mse', 'mse', 'mae'}, default='friedman_mse'\n",
       "    The function to measure the quality of a split. Supported criteria\n",
       "    are 'friedman_mse' for the mean squared error with improvement\n",
       "    score by Friedman, 'mse' for mean squared error, and 'mae' for\n",
       "    the mean absolute error. The default value of 'friedman_mse' is\n",
       "    generally the best as it can provide a better approximation in\n",
       "    some cases.\n",
       "\n",
       "    .. versionadded:: 0.18\n",
       "    .. deprecated:: 0.24\n",
       "        `criterion='mae'` is deprecated and will be removed in version\n",
       "        1.1 (renaming of 0.26). Use `criterion='friedman_mse'` or `'mse'`\n",
       "        instead, as trees should use a least-square criterion in\n",
       "        Gradient Boosting.\n",
       "\n",
       "min_samples_split : int or float, default=2\n",
       "    The minimum number of samples required to split an internal node:\n",
       "\n",
       "    - If int, then consider `min_samples_split` as the minimum number.\n",
       "    - If float, then `min_samples_split` is a fraction and\n",
       "      `ceil(min_samples_split * n_samples)` are the minimum\n",
       "      number of samples for each split.\n",
       "\n",
       "    .. versionchanged:: 0.18\n",
       "       Added float values for fractions.\n",
       "\n",
       "min_samples_leaf : int or float, default=1\n",
       "    The minimum number of samples required to be at a leaf node.\n",
       "    A split point at any depth will only be considered if it leaves at\n",
       "    least ``min_samples_leaf`` training samples in each of the left and\n",
       "    right branches.  This may have the effect of smoothing the model,\n",
       "    especially in regression.\n",
       "\n",
       "    - If int, then consider `min_samples_leaf` as the minimum number.\n",
       "    - If float, then `min_samples_leaf` is a fraction and\n",
       "      `ceil(min_samples_leaf * n_samples)` are the minimum\n",
       "      number of samples for each node.\n",
       "\n",
       "    .. versionchanged:: 0.18\n",
       "       Added float values for fractions.\n",
       "\n",
       "min_weight_fraction_leaf : float, default=0.0\n",
       "    The minimum weighted fraction of the sum total of weights (of all\n",
       "    the input samples) required to be at a leaf node. Samples have\n",
       "    equal weight when sample_weight is not provided.\n",
       "\n",
       "max_depth : int, default=3\n",
       "    The maximum depth of the individual regression estimators. The maximum\n",
       "    depth limits the number of nodes in the tree. Tune this parameter\n",
       "    for best performance; the best value depends on the interaction\n",
       "    of the input variables.\n",
       "\n",
       "min_impurity_decrease : float, default=0.0\n",
       "    A node will be split if this split induces a decrease of the impurity\n",
       "    greater than or equal to this value.\n",
       "\n",
       "    The weighted impurity decrease equation is the following::\n",
       "\n",
       "        N_t / N * (impurity - N_t_R / N_t * right_impurity\n",
       "                            - N_t_L / N_t * left_impurity)\n",
       "\n",
       "    where ``N`` is the total number of samples, ``N_t`` is the number of\n",
       "    samples at the current node, ``N_t_L`` is the number of samples in the\n",
       "    left child, and ``N_t_R`` is the number of samples in the right child.\n",
       "\n",
       "    ``N``, ``N_t``, ``N_t_R`` and ``N_t_L`` all refer to the weighted sum,\n",
       "    if ``sample_weight`` is passed.\n",
       "\n",
       "    .. versionadded:: 0.19\n",
       "\n",
       "min_impurity_split : float, default=None\n",
       "    Threshold for early stopping in tree growth. A node will split\n",
       "    if its impurity is above the threshold, otherwise it is a leaf.\n",
       "\n",
       "    .. deprecated:: 0.19\n",
       "       ``min_impurity_split`` has been deprecated in favor of\n",
       "       ``min_impurity_decrease`` in 0.19. The default value of\n",
       "       ``min_impurity_split`` has changed from 1e-7 to 0 in 0.23 and it\n",
       "       will be removed in 1.0 (renaming of 0.25).\n",
       "       Use ``min_impurity_decrease`` instead.\n",
       "\n",
       "init : estimator or 'zero', default=None\n",
       "    An estimator object that is used to compute the initial predictions.\n",
       "    ``init`` has to provide :meth:`fit` and :meth:`predict_proba`. If\n",
       "    'zero', the initial raw predictions are set to zero. By default, a\n",
       "    ``DummyEstimator`` predicting the classes priors is used.\n",
       "\n",
       "random_state : int, RandomState instance or None, default=None\n",
       "    Controls the random seed given to each Tree estimator at each\n",
       "    boosting iteration.\n",
       "    In addition, it controls the random permutation of the features at\n",
       "    each split (see Notes for more details).\n",
       "    It also controls the random spliting of the training data to obtain a\n",
       "    validation set if `n_iter_no_change` is not None.\n",
       "    Pass an int for reproducible output across multiple function calls.\n",
       "    See :term:`Glossary <random_state>`.\n",
       "\n",
       "max_features : {'auto', 'sqrt', 'log2'}, int or float, default=None\n",
       "    The number of features to consider when looking for the best split:\n",
       "\n",
       "    - If int, then consider `max_features` features at each split.\n",
       "    - If float, then `max_features` is a fraction and\n",
       "      `int(max_features * n_features)` features are considered at each\n",
       "      split.\n",
       "    - If 'auto', then `max_features=sqrt(n_features)`.\n",
       "    - If 'sqrt', then `max_features=sqrt(n_features)`.\n",
       "    - If 'log2', then `max_features=log2(n_features)`.\n",
       "    - If None, then `max_features=n_features`.\n",
       "\n",
       "    Choosing `max_features < n_features` leads to a reduction of variance\n",
       "    and an increase in bias.\n",
       "\n",
       "    Note: the search for a split does not stop until at least one\n",
       "    valid partition of the node samples is found, even if it requires to\n",
       "    effectively inspect more than ``max_features`` features.\n",
       "\n",
       "verbose : int, default=0\n",
       "    Enable verbose output. If 1 then it prints progress and performance\n",
       "    once in a while (the more trees the lower the frequency). If greater\n",
       "    than 1 then it prints progress and performance for every tree.\n",
       "\n",
       "max_leaf_nodes : int, default=None\n",
       "    Grow trees with ``max_leaf_nodes`` in best-first fashion.\n",
       "    Best nodes are defined as relative reduction in impurity.\n",
       "    If None then unlimited number of leaf nodes.\n",
       "\n",
       "warm_start : bool, default=False\n",
       "    When set to ``True``, reuse the solution of the previous call to fit\n",
       "    and add more estimators to the ensemble, otherwise, just erase the\n",
       "    previous solution. See :term:`the Glossary <warm_start>`.\n",
       "\n",
       "validation_fraction : float, default=0.1\n",
       "    The proportion of training data to set aside as validation set for\n",
       "    early stopping. Must be between 0 and 1.\n",
       "    Only used if ``n_iter_no_change`` is set to an integer.\n",
       "\n",
       "    .. versionadded:: 0.20\n",
       "\n",
       "n_iter_no_change : int, default=None\n",
       "    ``n_iter_no_change`` is used to decide if early stopping will be used\n",
       "    to terminate training when validation score is not improving. By\n",
       "    default it is set to None to disable early stopping. If set to a\n",
       "    number, it will set aside ``validation_fraction`` size of the training\n",
       "    data as validation and terminate training when validation score is not\n",
       "    improving in all of the previous ``n_iter_no_change`` numbers of\n",
       "    iterations. The split is stratified.\n",
       "\n",
       "    .. versionadded:: 0.20\n",
       "\n",
       "tol : float, default=1e-4\n",
       "    Tolerance for the early stopping. When the loss is not improving\n",
       "    by at least tol for ``n_iter_no_change`` iterations (if set to a\n",
       "    number), the training stops.\n",
       "\n",
       "    .. versionadded:: 0.20\n",
       "\n",
       "ccp_alpha : non-negative float, default=0.0\n",
       "    Complexity parameter used for Minimal Cost-Complexity Pruning. The\n",
       "    subtree with the largest cost complexity that is smaller than\n",
       "    ``ccp_alpha`` will be chosen. By default, no pruning is performed. See\n",
       "    :ref:`minimal_cost_complexity_pruning` for details.\n",
       "\n",
       "    .. versionadded:: 0.22\n",
       "\n",
       "Attributes\n",
       "----------\n",
       "n_estimators_ : int\n",
       "    The number of estimators as selected by early stopping (if\n",
       "    ``n_iter_no_change`` is specified). Otherwise it is set to\n",
       "    ``n_estimators``.\n",
       "\n",
       "    .. versionadded:: 0.20\n",
       "\n",
       "feature_importances_ : ndarray of shape (n_features,)\n",
       "    The impurity-based feature importances.\n",
       "    The higher, the more important the feature.\n",
       "    The importance of a feature is computed as the (normalized)\n",
       "    total reduction of the criterion brought by that feature.  It is also\n",
       "    known as the Gini importance.\n",
       "\n",
       "    Warning: impurity-based feature importances can be misleading for\n",
       "    high cardinality features (many unique values). See\n",
       "    :func:`sklearn.inspection.permutation_importance` as an alternative.\n",
       "\n",
       "oob_improvement_ : ndarray of shape (n_estimators,)\n",
       "    The improvement in loss (= deviance) on the out-of-bag samples\n",
       "    relative to the previous iteration.\n",
       "    ``oob_improvement_[0]`` is the improvement in\n",
       "    loss of the first stage over the ``init`` estimator.\n",
       "    Only available if ``subsample < 1.0``\n",
       "\n",
       "train_score_ : ndarray of shape (n_estimators,)\n",
       "    The i-th score ``train_score_[i]`` is the deviance (= loss) of the\n",
       "    model at iteration ``i`` on the in-bag sample.\n",
       "    If ``subsample == 1`` this is the deviance on the training data.\n",
       "\n",
       "loss_ : LossFunction\n",
       "    The concrete ``LossFunction`` object.\n",
       "\n",
       "init_ : estimator\n",
       "    The estimator that provides the initial predictions.\n",
       "    Set via the ``init`` argument or ``loss.init_estimator``.\n",
       "\n",
       "estimators_ : ndarray of DecisionTreeRegressor of shape (n_estimators, ``loss_.K``)\n",
       "    The collection of fitted sub-estimators. ``loss_.K`` is 1 for binary\n",
       "    classification, otherwise n_classes.\n",
       "\n",
       "classes_ : ndarray of shape (n_classes,)\n",
       "    The classes labels.\n",
       "\n",
       "n_features_ : int\n",
       "    The number of data features.\n",
       "\n",
       "n_classes_ : int\n",
       "    The number of classes.\n",
       "\n",
       "max_features_ : int\n",
       "    The inferred value of max_features.\n",
       "\n",
       "See Also\n",
       "--------\n",
       "HistGradientBoostingClassifier : Histogram-based Gradient Boosting\n",
       "    Classification Tree.\n",
       "sklearn.tree.DecisionTreeClassifier : A decision tree classifier.\n",
       "RandomForestClassifier : A meta-estimator that fits a number of decision\n",
       "    tree classifiers on various sub-samples of the dataset and uses\n",
       "    averaging to improve the predictive accuracy and control over-fitting.\n",
       "AdaBoostClassifier : A meta-estimator that begins by fitting a classifier\n",
       "    on the original dataset and then fits additional copies of the\n",
       "    classifier on the same dataset where the weights of incorrectly\n",
       "    classified instances are adjusted such that subsequent classifiers\n",
       "    focus more on difficult cases.\n",
       "\n",
       "Notes\n",
       "-----\n",
       "The features are always randomly permuted at each split. Therefore,\n",
       "the best found split may vary, even with the same training data and\n",
       "``max_features=n_features``, if the improvement of the criterion is\n",
       "identical for several splits enumerated during the search of the best\n",
       "split. To obtain a deterministic behaviour during fitting,\n",
       "``random_state`` has to be fixed.\n",
       "\n",
       "References\n",
       "----------\n",
       "J. Friedman, Greedy Function Approximation: A Gradient Boosting\n",
       "Machine, The Annals of Statistics, Vol. 29, No. 5, 2001.\n",
       "\n",
       "J. Friedman, Stochastic Gradient Boosting, 1999\n",
       "\n",
       "T. Hastie, R. Tibshirani and J. Friedman.\n",
       "Elements of Statistical Learning Ed. 2, Springer, 2009.\n",
       "\n",
       "Examples\n",
       "--------\n",
       "The following example shows how to fit a gradient boosting classifier with\n",
       "100 decision stumps as weak learners.\n",
       "\n",
       ">>> from sklearn.datasets import make_hastie_10_2\n",
       ">>> from sklearn.ensemble import GradientBoostingClassifier\n",
       "\n",
       ">>> X, y = make_hastie_10_2(random_state=0)\n",
       ">>> X_train, X_test = X[:2000], X[2000:]\n",
       ">>> y_train, y_test = y[:2000], y[2000:]\n",
       "\n",
       ">>> clf = GradientBoostingClassifier(n_estimators=100, learning_rate=1.0,\n",
       "...     max_depth=1, random_state=0).fit(X_train, y_train)\n",
       ">>> clf.score(X_test, y_test)\n",
       "0.913...\n"
      ]
     },
     "metadata": {},
     "output_type": "display_data"
    }
   ],
   "source": [
    "?gbm_model"
   ]
  },
  {
   "cell_type": "code",
   "execution_count": 126,
   "id": "70beb0cd-53e9-4d5b-978b-0a9f71c344ff",
   "metadata": {},
   "outputs": [],
   "source": [
    "gbm_params = {\"learning_rate\" : [0.001, 0.01, 0.1, 0.05],\n",
    "             \"n_estimators\": [100,500,100],\n",
    "             \"max_depth\": [3,5,10],\n",
    "             \"min_samples_split\": [2,5,10]}"
   ]
  },
  {
   "cell_type": "code",
   "execution_count": 127,
   "id": "8d7982c1-1924-4eee-8578-35ab7d3d147d",
   "metadata": {},
   "outputs": [],
   "source": [
    "gbm = GradientBoostingClassifier()\n",
    "\n",
    "gbm_cv = GridSearchCV(gbm, gbm_params, cv = 10, n_jobs = -1, verbose = 2)"
   ]
  },
  {
   "cell_type": "code",
   "execution_count": 128,
   "id": "476e50ee-773d-41ed-b7b4-785faa5f9819",
   "metadata": {},
   "outputs": [
    {
     "name": "stdout",
     "output_type": "stream",
     "text": [
      "Fitting 10 folds for each of 108 candidates, totalling 1080 fits\n"
     ]
    },
    {
     "data": {
      "text/plain": [
       "GridSearchCV(cv=10, estimator=GradientBoostingClassifier(), n_jobs=-1,\n",
       "             param_grid={'learning_rate': [0.001, 0.01, 0.1, 0.05],\n",
       "                         'max_depth': [3, 5, 10],\n",
       "                         'min_samples_split': [2, 5, 10],\n",
       "                         'n_estimators': [100, 500, 100]},\n",
       "             verbose=2)"
      ]
     },
     "execution_count": 128,
     "metadata": {},
     "output_type": "execute_result"
    }
   ],
   "source": [
    "gbm_cv.fit(X_train, y_train)"
   ]
  },
  {
   "cell_type": "code",
   "execution_count": 129,
   "id": "7e7929f3-df9f-425c-aa96-b21a429fe639",
   "metadata": {},
   "outputs": [
    {
     "name": "stdout",
     "output_type": "stream",
     "text": [
      "En iyi parametreler: {'learning_rate': 0.1, 'max_depth': 3, 'min_samples_split': 5, 'n_estimators': 100}\n"
     ]
    }
   ],
   "source": [
    "print(\"En iyi parametreler: \" + str(gbm_cv.best_params_))"
   ]
  },
  {
   "cell_type": "code",
   "execution_count": 130,
   "id": "23f10990-44e4-494e-b62e-0a6a946b6fe4",
   "metadata": {},
   "outputs": [],
   "source": [
    "gbm = GradientBoostingClassifier(learning_rate = 0.01, \n",
    "                                 max_depth = 3,\n",
    "                                min_samples_split = 5,\n",
    "                                n_estimators = 500)"
   ]
  },
  {
   "cell_type": "code",
   "execution_count": 131,
   "id": "2a96dc3c-eeee-48a2-a5bd-6e6c35589ab4",
   "metadata": {},
   "outputs": [],
   "source": [
    "gbm_tuned =  gbm.fit(X_train,y_train)"
   ]
  },
  {
   "cell_type": "code",
   "execution_count": 132,
   "id": "14944466-face-43e7-b482-883999b5fab0",
   "metadata": {},
   "outputs": [
    {
     "data": {
      "text/plain": [
       "0.7489177489177489"
      ]
     },
     "execution_count": 132,
     "metadata": {},
     "output_type": "execute_result"
    }
   ],
   "source": [
    "y_pred = gbm_tuned.predict(X_test)\n",
    "accuracy_score(y_test, y_pred)"
   ]
  },
  {
   "cell_type": "markdown",
   "id": "8fd65dd2-44c4-4359-89ea-4a708f517f34",
   "metadata": {},
   "source": [
    "# XGBoost"
   ]
  },
  {
   "cell_type": "code",
   "execution_count": 133,
   "id": "72be24c4-b5d0-4557-a4b2-7b6b953d10e7",
   "metadata": {},
   "outputs": [],
   "source": [
    "df = diabetes.copy()\n",
    "df = df.dropna()\n",
    "y = df[\"Outcome\"]\n",
    "X = df.drop(['Outcome'], axis=1)\n",
    "#X = df[\"Pregnancies\"]\n",
    "X = pd.DataFrame(X)\n",
    "X_train, X_test, y_train, y_test = train_test_split(X, y, \n",
    "                                                    test_size=0.30, \n",
    "                                                    random_state=42)"
   ]
  },
  {
   "cell_type": "code",
   "execution_count": 134,
   "id": "795523c3-da1b-456e-91c9-a4d336c15bff",
   "metadata": {},
   "outputs": [],
   "source": [
    "#!pip install xgboost\n",
    "from xgboost import XGBClassifier"
   ]
  },
  {
   "cell_type": "code",
   "execution_count": 135,
   "id": "a88b1c7f-962a-4ee8-aa9f-97234b6e6cab",
   "metadata": {},
   "outputs": [
    {
     "name": "stdout",
     "output_type": "stream",
     "text": [
      "[18:46:45] WARNING: C:/Users/Administrator/workspace/xgboost-win64_release_1.5.1/src/learner.cc:1115: Starting in XGBoost 1.3.0, the default evaluation metric used with the objective 'binary:logistic' was changed from 'error' to 'logloss'. Explicitly set eval_metric if you'd like to restore the old behavior.\n"
     ]
    }
   ],
   "source": [
    "xgb_model = XGBClassifier().fit(X_train, y_train)"
   ]
  },
  {
   "cell_type": "code",
   "execution_count": 136,
   "id": "e55642fd-49d6-433b-bfba-cae12424c5de",
   "metadata": {},
   "outputs": [
    {
     "data": {
      "text/plain": [
       "XGBClassifier(base_score=0.5, booster='gbtree', colsample_bylevel=1,\n",
       "              colsample_bynode=1, colsample_bytree=1, enable_categorical=False,\n",
       "              gamma=0, gpu_id=-1, importance_type=None,\n",
       "              interaction_constraints='', learning_rate=0.300000012,\n",
       "              max_delta_step=0, max_depth=6, min_child_weight=1, missing=nan,\n",
       "              monotone_constraints='()', n_estimators=100, n_jobs=8,\n",
       "              num_parallel_tree=1, predictor='auto', random_state=0,\n",
       "              reg_alpha=0, reg_lambda=1, scale_pos_weight=1, subsample=1,\n",
       "              tree_method='exact', validate_parameters=1, verbosity=None)"
      ]
     },
     "execution_count": 136,
     "metadata": {},
     "output_type": "execute_result"
    }
   ],
   "source": [
    "xgb_model"
   ]
  },
  {
   "cell_type": "code",
   "execution_count": 137,
   "id": "d9c9ef7a-3bce-40df-be32-b64bd6803790",
   "metadata": {},
   "outputs": [
    {
     "data": {
      "text/plain": [
       "0.7359307359307359"
      ]
     },
     "execution_count": 137,
     "metadata": {},
     "output_type": "execute_result"
    }
   ],
   "source": [
    "y_pred = xgb_model.predict(X_test)\n",
    "accuracy_score(y_test, y_pred)"
   ]
  },
  {
   "cell_type": "markdown",
   "id": "92773723-2982-4e04-baf4-cdf13cbdc18e",
   "metadata": {},
   "source": [
    "## Model Tuning"
   ]
  },
  {
   "cell_type": "code",
   "execution_count": 138,
   "id": "a6430a50-5da6-48d9-ba35-7f09996d8932",
   "metadata": {},
   "outputs": [
    {
     "data": {
      "text/plain": [
       "XGBClassifier(base_score=0.5, booster='gbtree', colsample_bylevel=1,\n",
       "              colsample_bynode=1, colsample_bytree=1, enable_categorical=False,\n",
       "              gamma=0, gpu_id=-1, importance_type=None,\n",
       "              interaction_constraints='', learning_rate=0.300000012,\n",
       "              max_delta_step=0, max_depth=6, min_child_weight=1, missing=nan,\n",
       "              monotone_constraints='()', n_estimators=100, n_jobs=8,\n",
       "              num_parallel_tree=1, predictor='auto', random_state=0,\n",
       "              reg_alpha=0, reg_lambda=1, scale_pos_weight=1, subsample=1,\n",
       "              tree_method='exact', validate_parameters=1, verbosity=None)"
      ]
     },
     "execution_count": 138,
     "metadata": {},
     "output_type": "execute_result"
    }
   ],
   "source": [
    "xgb_model"
   ]
  },
  {
   "cell_type": "code",
   "execution_count": 139,
   "id": "899bb609-84c9-4333-a534-0df9f654a226",
   "metadata": {
    "collapsed": true,
    "jupyter": {
     "outputs_hidden": true
    },
    "tags": []
   },
   "outputs": [
    {
     "data": {
      "text/plain": [
       "\u001b[1;31mType:\u001b[0m        XGBClassifier\n",
       "\u001b[1;31mString form:\u001b[0m\n",
       "XGBClassifier(base_score=0.5, booster='gbtree', colsample_bylevel=1,\n",
       "           colsample_byno <...> _weight=1, subsample=1,\n",
       "           tree_method='exact', validate_parameters=1, verbosity=None)\n",
       "\u001b[1;31mFile:\u001b[0m        d:\\anaconda\\lib\\site-packages\\xgboost\\sklearn.py\n",
       "\u001b[1;31mDocstring:\u001b[0m  \n",
       "Implementation of the scikit-learn API for XGBoost classification.\n",
       "\n",
       "\n",
       "Parameters\n",
       "----------\n",
       "\n",
       "    n_estimators : int\n",
       "        Number of boosting rounds.\n",
       "    use_label_encoder : bool\n",
       "        (Deprecated) Use the label encoder from scikit-learn to encode the labels. For new\n",
       "        code, we recommend that you set this parameter to False.\n",
       "\n",
       "    max_depth :  Optional[int]\n",
       "        Maximum tree depth for base learners.\n",
       "    learning_rate : Optional[float]\n",
       "        Boosting learning rate (xgb's \"eta\")\n",
       "    verbosity : Optional[int]\n",
       "        The degree of verbosity. Valid values are 0 (silent) - 3 (debug).\n",
       "    objective : typing.Union[str, typing.Callable[[numpy.ndarray, numpy.ndarray], typing.Tuple[numpy.ndarray, numpy.ndarray]], NoneType]\n",
       "        Specify the learning task and the corresponding learning objective or\n",
       "        a custom objective function to be used (see note below).\n",
       "    booster: Optional[str]\n",
       "        Specify which booster to use: gbtree, gblinear or dart.\n",
       "    tree_method: Optional[str]\n",
       "        Specify which tree method to use.  Default to auto.  If this parameter\n",
       "        is set to default, XGBoost will choose the most conservative option\n",
       "        available.  It's recommended to study this option from the parameters\n",
       "        document: https://xgboost.readthedocs.io/en/latest/treemethod.html.\n",
       "    n_jobs : Optional[int]\n",
       "        Number of parallel threads used to run xgboost.  When used with other Scikit-Learn\n",
       "        algorithms like grid search, you may choose which algorithm to parallelize and\n",
       "        balance the threads.  Creating thread contention will significantly slow down both\n",
       "        algorithms.\n",
       "    gamma : Optional[float]\n",
       "        Minimum loss reduction required to make a further partition on a leaf\n",
       "        node of the tree.\n",
       "    min_child_weight : Optional[float]\n",
       "        Minimum sum of instance weight(hessian) needed in a child.\n",
       "    max_delta_step : Optional[float]\n",
       "        Maximum delta step we allow each tree's weight estimation to be.\n",
       "    subsample : Optional[float]\n",
       "        Subsample ratio of the training instance.\n",
       "    colsample_bytree : Optional[float]\n",
       "        Subsample ratio of columns when constructing each tree.\n",
       "    colsample_bylevel : Optional[float]\n",
       "        Subsample ratio of columns for each level.\n",
       "    colsample_bynode : Optional[float]\n",
       "        Subsample ratio of columns for each split.\n",
       "    reg_alpha : Optional[float]\n",
       "        L1 regularization term on weights (xgb's alpha).\n",
       "    reg_lambda : Optional[float]\n",
       "        L2 regularization term on weights (xgb's lambda).\n",
       "    scale_pos_weight : Optional[float]\n",
       "        Balancing of positive and negative weights.\n",
       "    base_score : Optional[float]\n",
       "        The initial prediction score of all instances, global bias.\n",
       "    random_state : Optional[Union[numpy.random.RandomState, int]]\n",
       "        Random number seed.\n",
       "\n",
       "        .. note::\n",
       "\n",
       "           Using gblinear booster with shotgun updater is nondeterministic as\n",
       "           it uses Hogwild algorithm.\n",
       "\n",
       "    missing : float, default np.nan\n",
       "        Value in the data which needs to be present as a missing value.\n",
       "    num_parallel_tree: Optional[int]\n",
       "        Used for boosting random forest.\n",
       "    monotone_constraints : Optional[Union[Dict[str, int], str]]\n",
       "        Constraint of variable monotonicity.  See tutorial for more\n",
       "        information.\n",
       "    interaction_constraints : Optional[Union[str, List[Tuple[str]]]]\n",
       "        Constraints for interaction representing permitted interactions.  The\n",
       "        constraints must be specified in the form of a nest list, e.g. [[0, 1],\n",
       "        [2, 3, 4]], where each inner list is a group of indices of features\n",
       "        that are allowed to interact with each other.  See tutorial for more\n",
       "        information\n",
       "    importance_type: Optional[str]\n",
       "        The feature importance type for the feature_importances\\_ property:\n",
       "\n",
       "        * For tree model, it's either \"gain\", \"weight\", \"cover\", \"total_gain\" or\n",
       "          \"total_cover\".\n",
       "        * For linear model, only \"weight\" is defined and it's the normalized coefficients\n",
       "          without bias.\n",
       "\n",
       "    gpu_id : Optional[int]\n",
       "        Device ordinal.\n",
       "    validate_parameters : Optional[bool]\n",
       "        Give warnings for unknown parameter.\n",
       "    predictor : Optional[str]\n",
       "        Force XGBoost to use specific predictor, available choices are [cpu_predictor,\n",
       "        gpu_predictor].\n",
       "    enable_categorical : bool\n",
       "\n",
       "        .. versionadded:: 1.5.0\n",
       "\n",
       "        Experimental support for categorical data.  Do not set to true unless you are\n",
       "        interested in development. Only valid when `gpu_hist` and dataframe are used.\n",
       "\n",
       "    kwargs : dict, optional\n",
       "        Keyword arguments for XGBoost Booster object.  Full documentation of\n",
       "        parameters can be found here:\n",
       "        https://github.com/dmlc/xgboost/blob/master/doc/parameter.rst.\n",
       "        Attempting to set a parameter via the constructor args and \\*\\*kwargs\n",
       "        dict simultaneously will result in a TypeError.\n",
       "\n",
       "        .. note:: \\*\\*kwargs unsupported by scikit-learn\n",
       "\n",
       "            \\*\\*kwargs is unsupported by scikit-learn.  We do not guarantee\n",
       "            that parameters passed via this argument will interact properly\n",
       "            with scikit-learn.\n",
       "\n",
       "        .. note::  Custom objective function\n",
       "\n",
       "            A custom objective function can be provided for the ``objective``\n",
       "            parameter. In this case, it should have the signature\n",
       "            ``objective(y_true, y_pred) -> grad, hess``:\n",
       "\n",
       "            y_true: array_like of shape [n_samples]\n",
       "                The target values\n",
       "            y_pred: array_like of shape [n_samples]\n",
       "                The predicted values\n",
       "\n",
       "            grad: array_like of shape [n_samples]\n",
       "                The value of the gradient for each sample point.\n",
       "            hess: array_like of shape [n_samples]\n",
       "                The value of the second derivative for each sample point\n"
      ]
     },
     "metadata": {},
     "output_type": "display_data"
    }
   ],
   "source": [
    "?xgb_model"
   ]
  },
  {
   "cell_type": "code",
   "execution_count": 140,
   "id": "17cbae00-db7f-4311-98c5-fa3985ba04f9",
   "metadata": {},
   "outputs": [],
   "source": [
    "xgb_params = {\n",
    "        'n_estimators': [100, 500, 1000, 2000],\n",
    "        'subsample': [0.6, 0.8, 1.0],\n",
    "        'max_depth': [3, 4, 5,6],\n",
    "        'learning_rate': [0.1,0.01,0.02,0.05],\n",
    "        \"min_samples_split\": [2,5,10]}"
   ]
  },
  {
   "cell_type": "code",
   "execution_count": 141,
   "id": "94c6b8e5-a4f3-4e1c-8348-8c3b1966ab59",
   "metadata": {},
   "outputs": [],
   "source": [
    "xgb = XGBClassifier()\n",
    "\n",
    "xgb_cv_model = GridSearchCV(xgb, xgb_params, cv = 10, n_jobs = -1, verbose = 2)"
   ]
  },
  {
   "cell_type": "code",
   "execution_count": 142,
   "id": "7e9ea00d-b33c-4e81-9fb7-8cb5a5637fe7",
   "metadata": {},
   "outputs": [
    {
     "name": "stdout",
     "output_type": "stream",
     "text": [
      "Fitting 10 folds for each of 576 candidates, totalling 5760 fits\n",
      "[19:05:52] WARNING: C:/Users/Administrator/workspace/xgboost-win64_release_1.5.1/src/learner.cc:576: \n",
      "Parameters: { \"min_samples_split\" } might not be used.\n",
      "\n",
      "  This could be a false alarm, with some parameters getting used by language bindings but\n",
      "  then being mistakenly passed down to XGBoost core, or some parameter actually being used\n",
      "  but getting flagged wrongly here. Please open an issue if you find any such cases.\n",
      "\n",
      "\n",
      "[19:05:52] WARNING: C:/Users/Administrator/workspace/xgboost-win64_release_1.5.1/src/learner.cc:1115: Starting in XGBoost 1.3.0, the default evaluation metric used with the objective 'binary:logistic' was changed from 'error' to 'logloss'. Explicitly set eval_metric if you'd like to restore the old behavior.\n"
     ]
    },
    {
     "data": {
      "text/plain": [
       "GridSearchCV(cv=10,\n",
       "             estimator=XGBClassifier(base_score=None, booster=None,\n",
       "                                     colsample_bylevel=None,\n",
       "                                     colsample_bynode=None,\n",
       "                                     colsample_bytree=None,\n",
       "                                     enable_categorical=False, gamma=None,\n",
       "                                     gpu_id=None, importance_type=None,\n",
       "                                     interaction_constraints=None,\n",
       "                                     learning_rate=None, max_delta_step=None,\n",
       "                                     max_depth=None, min_child_weight=None,\n",
       "                                     missing=nan, monotone_constraints=None...\n",
       "                                     num_parallel_tree=None, predictor=None,\n",
       "                                     random_state=None, reg_alpha=None,\n",
       "                                     reg_lambda=None, scale_pos_weight=None,\n",
       "                                     subsample=None, tree_method=None,\n",
       "                                     validate_parameters=None, verbosity=None),\n",
       "             n_jobs=-1,\n",
       "             param_grid={'learning_rate': [0.1, 0.01, 0.02, 0.05],\n",
       "                         'max_depth': [3, 4, 5, 6],\n",
       "                         'min_samples_split': [2, 5, 10],\n",
       "                         'n_estimators': [100, 500, 1000, 2000],\n",
       "                         'subsample': [0.6, 0.8, 1.0]},\n",
       "             verbose=2)"
      ]
     },
     "execution_count": 142,
     "metadata": {},
     "output_type": "execute_result"
    }
   ],
   "source": [
    "xgb_cv_model.fit(X_train, y_train)"
   ]
  },
  {
   "cell_type": "code",
   "execution_count": 143,
   "id": "d8013bd2-2007-47cf-a773-8d6ba1ebf04f",
   "metadata": {},
   "outputs": [
    {
     "data": {
      "text/plain": [
       "{'learning_rate': 0.02,\n",
       " 'max_depth': 3,\n",
       " 'min_samples_split': 2,\n",
       " 'n_estimators': 100,\n",
       " 'subsample': 0.6}"
      ]
     },
     "execution_count": 143,
     "metadata": {},
     "output_type": "execute_result"
    }
   ],
   "source": [
    "xgb_cv_model.best_params_"
   ]
  },
  {
   "cell_type": "code",
   "execution_count": 144,
   "id": "11930428-9118-454d-b3ef-97f48e604b86",
   "metadata": {},
   "outputs": [],
   "source": [
    "xgb = XGBClassifier(learning_rate = 0.01, \n",
    "                    max_depth = 6,\n",
    "                    min_samples_split = 2,\n",
    "                    n_estimators = 100,\n",
    "                    subsample = 0.8)"
   ]
  },
  {
   "cell_type": "code",
   "execution_count": 145,
   "id": "7ab3af48-9659-4107-be6b-83ed45080443",
   "metadata": {},
   "outputs": [
    {
     "name": "stdout",
     "output_type": "stream",
     "text": [
      "[19:05:52] WARNING: C:/Users/Administrator/workspace/xgboost-win64_release_1.5.1/src/learner.cc:576: \n",
      "Parameters: { \"min_samples_split\" } might not be used.\n",
      "\n",
      "  This could be a false alarm, with some parameters getting used by language bindings but\n",
      "  then being mistakenly passed down to XGBoost core, or some parameter actually being used\n",
      "  but getting flagged wrongly here. Please open an issue if you find any such cases.\n",
      "\n",
      "\n",
      "[19:05:52] WARNING: C:/Users/Administrator/workspace/xgboost-win64_release_1.5.1/src/learner.cc:1115: Starting in XGBoost 1.3.0, the default evaluation metric used with the objective 'binary:logistic' was changed from 'error' to 'logloss'. Explicitly set eval_metric if you'd like to restore the old behavior.\n"
     ]
    }
   ],
   "source": [
    "xgb_tuned =  xgb.fit(X_train,y_train)"
   ]
  },
  {
   "cell_type": "code",
   "execution_count": 146,
   "id": "14717c70-da17-4529-8cc8-3ad65c8ad703",
   "metadata": {},
   "outputs": [
    {
     "data": {
      "text/plain": [
       "0.7445887445887446"
      ]
     },
     "execution_count": 146,
     "metadata": {},
     "output_type": "execute_result"
    }
   ],
   "source": [
    "y_pred = xgb_tuned.predict(X_test)\n",
    "accuracy_score(y_test, y_pred)"
   ]
  },
  {
   "cell_type": "markdown",
   "id": "75e6e20b-1259-467b-a252-78253a4d851f",
   "metadata": {},
   "source": [
    "# LightGBM"
   ]
  },
  {
   "cell_type": "code",
   "execution_count": 147,
   "id": "b253a152-39ba-4a2b-aaa8-4b799720114b",
   "metadata": {},
   "outputs": [],
   "source": [
    "df = diabetes.copy()\n",
    "df = df.dropna()\n",
    "y = df[\"Outcome\"]\n",
    "X = df.drop(['Outcome'], axis=1)\n",
    "#X = df[\"Pregnancies\"]\n",
    "X = pd.DataFrame(X)\n",
    "X_train, X_test, y_train, y_test = train_test_split(X, y, \n",
    "                                                    test_size=0.30, \n",
    "                                                    random_state=42)"
   ]
  },
  {
   "cell_type": "code",
   "execution_count": 148,
   "id": "396ad2c4-596e-4936-acfb-91027f1b7fa1",
   "metadata": {},
   "outputs": [],
   "source": [
    "#!conda install -c conda-forge lightgbm\n",
    "from lightgbm import LGBMClassifier"
   ]
  },
  {
   "cell_type": "code",
   "execution_count": 149,
   "id": "79eadd93-5df3-45f3-93f3-cb4f4860f832",
   "metadata": {},
   "outputs": [],
   "source": [
    "lgbm_model = LGBMClassifier().fit(X_train, y_train)"
   ]
  },
  {
   "cell_type": "code",
   "execution_count": 150,
   "id": "98788f3c-1709-42d9-8eca-4fd0f4f38f67",
   "metadata": {},
   "outputs": [
    {
     "data": {
      "text/plain": [
       "0.7229437229437229"
      ]
     },
     "execution_count": 150,
     "metadata": {},
     "output_type": "execute_result"
    }
   ],
   "source": [
    "y_pred = lgbm_model.predict(X_test)\n",
    "accuracy_score(y_test, y_pred)"
   ]
  },
  {
   "cell_type": "code",
   "execution_count": 151,
   "id": "46ec7954-1328-47af-b1a0-d0a2d4ed03dc",
   "metadata": {},
   "outputs": [],
   "source": [
    "## Model Tuning"
   ]
  },
  {
   "cell_type": "code",
   "execution_count": 152,
   "id": "824475e7-15f9-4685-ad03-2040711b5a3c",
   "metadata": {},
   "outputs": [
    {
     "data": {
      "text/plain": [
       "LGBMClassifier()"
      ]
     },
     "execution_count": 152,
     "metadata": {},
     "output_type": "execute_result"
    }
   ],
   "source": [
    "lgbm_model"
   ]
  },
  {
   "cell_type": "code",
   "execution_count": 153,
   "id": "80e0233d-8e9a-448d-bdce-779c04dbe827",
   "metadata": {
    "collapsed": true,
    "jupyter": {
     "outputs_hidden": true
    },
    "tags": []
   },
   "outputs": [
    {
     "data": {
      "text/plain": [
       "\u001b[1;31mType:\u001b[0m           LGBMClassifier\n",
       "\u001b[1;31mString form:\u001b[0m    LGBMClassifier()\n",
       "\u001b[1;31mFile:\u001b[0m           d:\\anaconda\\lib\\site-packages\\lightgbm\\sklearn.py\n",
       "\u001b[1;31mDocstring:\u001b[0m      LightGBM classifier.\n",
       "\u001b[1;31mInit docstring:\u001b[0m\n",
       "Construct a gradient boosting model.\n",
       "\n",
       "Parameters\n",
       "----------\n",
       "boosting_type : str, optional (default='gbdt')\n",
       "    'gbdt', traditional Gradient Boosting Decision Tree.\n",
       "    'dart', Dropouts meet Multiple Additive Regression Trees.\n",
       "    'goss', Gradient-based One-Side Sampling.\n",
       "    'rf', Random Forest.\n",
       "num_leaves : int, optional (default=31)\n",
       "    Maximum tree leaves for base learners.\n",
       "max_depth : int, optional (default=-1)\n",
       "    Maximum tree depth for base learners, <=0 means no limit.\n",
       "learning_rate : float, optional (default=0.1)\n",
       "    Boosting learning rate.\n",
       "    You can use ``callbacks`` parameter of ``fit`` method to shrink/adapt learning rate\n",
       "    in training using ``reset_parameter`` callback.\n",
       "    Note, that this will ignore the ``learning_rate`` argument in training.\n",
       "n_estimators : int, optional (default=100)\n",
       "    Number of boosted trees to fit.\n",
       "subsample_for_bin : int, optional (default=200000)\n",
       "    Number of samples for constructing bins.\n",
       "objective : str, callable or None, optional (default=None)\n",
       "    Specify the learning task and the corresponding learning objective or\n",
       "    a custom objective function to be used (see note below).\n",
       "    Default: 'regression' for LGBMRegressor, 'binary' or 'multiclass' for LGBMClassifier, 'lambdarank' for LGBMRanker.\n",
       "class_weight : dict, 'balanced' or None, optional (default=None)\n",
       "    Weights associated with classes in the form ``{class_label: weight}``.\n",
       "    Use this parameter only for multi-class classification task;\n",
       "    for binary classification task you may use ``is_unbalance`` or ``scale_pos_weight`` parameters.\n",
       "    Note, that the usage of all these parameters will result in poor estimates of the individual class probabilities.\n",
       "    You may want to consider performing probability calibration\n",
       "    (https://scikit-learn.org/stable/modules/calibration.html) of your model.\n",
       "    The 'balanced' mode uses the values of y to automatically adjust weights\n",
       "    inversely proportional to class frequencies in the input data as ``n_samples / (n_classes * np.bincount(y))``.\n",
       "    If None, all classes are supposed to have weight one.\n",
       "    Note, that these weights will be multiplied with ``sample_weight`` (passed through the ``fit`` method)\n",
       "    if ``sample_weight`` is specified.\n",
       "min_split_gain : float, optional (default=0.)\n",
       "    Minimum loss reduction required to make a further partition on a leaf node of the tree.\n",
       "min_child_weight : float, optional (default=1e-3)\n",
       "    Minimum sum of instance weight (hessian) needed in a child (leaf).\n",
       "min_child_samples : int, optional (default=20)\n",
       "    Minimum number of data needed in a child (leaf).\n",
       "subsample : float, optional (default=1.)\n",
       "    Subsample ratio of the training instance.\n",
       "subsample_freq : int, optional (default=0)\n",
       "    Frequency of subsample, <=0 means no enable.\n",
       "colsample_bytree : float, optional (default=1.)\n",
       "    Subsample ratio of columns when constructing each tree.\n",
       "reg_alpha : float, optional (default=0.)\n",
       "    L1 regularization term on weights.\n",
       "reg_lambda : float, optional (default=0.)\n",
       "    L2 regularization term on weights.\n",
       "random_state : int, RandomState object or None, optional (default=None)\n",
       "    Random number seed.\n",
       "    If int, this number is used to seed the C++ code.\n",
       "    If RandomState object (numpy), a random integer is picked based on its state to seed the C++ code.\n",
       "    If None, default seeds in C++ code are used.\n",
       "n_jobs : int, optional (default=-1)\n",
       "    Number of parallel threads.\n",
       "silent : bool, optional (default=True)\n",
       "    Whether to print messages while running boosting.\n",
       "importance_type : str, optional (default='split')\n",
       "    The type of feature importance to be filled into ``feature_importances_``.\n",
       "    If 'split', result contains numbers of times the feature is used in a model.\n",
       "    If 'gain', result contains total gains of splits which use the feature.\n",
       "**kwargs\n",
       "    Other parameters for the model.\n",
       "    Check http://lightgbm.readthedocs.io/en/latest/Parameters.html for more parameters.\n",
       "\n",
       "    .. warning::\n",
       "\n",
       "        \\*\\*kwargs is not supported in sklearn, it may cause unexpected issues.\n",
       "\n",
       "Note\n",
       "----\n",
       "A custom objective function can be provided for the ``objective`` parameter.\n",
       "In this case, it should have the signature\n",
       "``objective(y_true, y_pred) -> grad, hess`` or\n",
       "``objective(y_true, y_pred, group) -> grad, hess``:\n",
       "\n",
       "    y_true : array-like of shape = [n_samples]\n",
       "        The target values.\n",
       "    y_pred : array-like of shape = [n_samples] or shape = [n_samples * n_classes] (for multi-class task)\n",
       "        The predicted values.\n",
       "        Predicted values are returned before any transformation,\n",
       "        e.g. they are raw margin instead of probability of positive class for binary task.\n",
       "    group : array-like\n",
       "        Group/query data.\n",
       "        Only used in the learning-to-rank task.\n",
       "        sum(group) = n_samples.\n",
       "        For example, if you have a 100-document dataset with ``group = [10, 20, 40, 10, 10, 10]``, that means that you have 6 groups,\n",
       "        where the first 10 records are in the first group, records 11-30 are in the second group, records 31-70 are in the third group, etc.\n",
       "    grad : array-like of shape = [n_samples] or shape = [n_samples * n_classes] (for multi-class task)\n",
       "        The value of the first order derivative (gradient) of the loss\n",
       "        with respect to the elements of y_pred for each sample point.\n",
       "    hess : array-like of shape = [n_samples] or shape = [n_samples * n_classes] (for multi-class task)\n",
       "        The value of the second order derivative (Hessian) of the loss\n",
       "        with respect to the elements of y_pred for each sample point.\n",
       "\n",
       "For multi-class task, the y_pred is group by class_id first, then group by row_id.\n",
       "If you want to get i-th row y_pred in j-th class, the access way is y_pred[j * num_data + i]\n",
       "and you should group grad and hess in this way as well.\n"
      ]
     },
     "metadata": {},
     "output_type": "display_data"
    }
   ],
   "source": [
    "?lgbm_model"
   ]
  },
  {
   "cell_type": "code",
   "execution_count": 154,
   "id": "e53fa27b-786b-444e-8646-630f6d334722",
   "metadata": {},
   "outputs": [],
   "source": [
    "lgbm_params = {\n",
    "        'n_estimators': [100, 500, 1000, 2000],\n",
    "        'subsample': [0.6, 0.8, 1.0],\n",
    "        'max_depth': [3, 4, 5,6],\n",
    "        'learning_rate': [0.1,0.01,0.02,0.05],\n",
    "        \"min_child_samples\": [5,10,20]}"
   ]
  },
  {
   "cell_type": "code",
   "execution_count": 155,
   "id": "1801eaf5-ca17-4b3c-b2ab-f2966a2287d0",
   "metadata": {},
   "outputs": [],
   "source": [
    "lgbm = LGBMClassifier()\n",
    "\n",
    "lgbm_cv_model = GridSearchCV(lgbm, lgbm_params, \n",
    "                             cv = 10, \n",
    "                             n_jobs = -1, \n",
    "                             verbose = 2)\n",
    "\n"
   ]
  },
  {
   "cell_type": "code",
   "execution_count": 156,
   "id": "5bbc0924-3313-40ad-a59a-c60b17a1353d",
   "metadata": {},
   "outputs": [
    {
     "name": "stdout",
     "output_type": "stream",
     "text": [
      "Fitting 10 folds for each of 576 candidates, totalling 5760 fits\n"
     ]
    },
    {
     "data": {
      "text/plain": [
       "GridSearchCV(cv=10, estimator=LGBMClassifier(), n_jobs=-1,\n",
       "             param_grid={'learning_rate': [0.1, 0.01, 0.02, 0.05],\n",
       "                         'max_depth': [3, 4, 5, 6],\n",
       "                         'min_child_samples': [5, 10, 20],\n",
       "                         'n_estimators': [100, 500, 1000, 2000],\n",
       "                         'subsample': [0.6, 0.8, 1.0]},\n",
       "             verbose=2)"
      ]
     },
     "execution_count": 156,
     "metadata": {},
     "output_type": "execute_result"
    }
   ],
   "source": [
    "lgbm_cv_model.fit(X_train, y_train)"
   ]
  },
  {
   "cell_type": "code",
   "execution_count": 157,
   "id": "282196c8-edc6-4f0c-8466-36bd0c807afe",
   "metadata": {},
   "outputs": [
    {
     "data": {
      "text/plain": [
       "{'learning_rate': 0.05,\n",
       " 'max_depth': 3,\n",
       " 'min_child_samples': 20,\n",
       " 'n_estimators': 100,\n",
       " 'subsample': 0.6}"
      ]
     },
     "execution_count": 157,
     "metadata": {},
     "output_type": "execute_result"
    }
   ],
   "source": [
    "lgbm_cv_model.best_params_"
   ]
  },
  {
   "cell_type": "code",
   "execution_count": 158,
   "id": "feabe1dd-a994-4555-bfa5-6ff8f25eb225",
   "metadata": {},
   "outputs": [],
   "source": [
    "lgbm = LGBMClassifier(learning_rate = 0.01, \n",
    "                       max_depth = 3,\n",
    "                       subsample = 0.6,\n",
    "                       n_estimators = 500,\n",
    "                       min_child_samples = 20)"
   ]
  },
  {
   "cell_type": "code",
   "execution_count": 159,
   "id": "22427d79-e6e3-4214-8aa0-548db7328bcf",
   "metadata": {},
   "outputs": [],
   "source": [
    "lgbm_tuned = lgbm.fit(X_train,y_train)"
   ]
  },
  {
   "cell_type": "code",
   "execution_count": 160,
   "id": "9cb02ef8-4940-4e73-a910-fa8cb4a915d1",
   "metadata": {},
   "outputs": [
    {
     "data": {
      "text/plain": [
       "0.7532467532467533"
      ]
     },
     "execution_count": 160,
     "metadata": {},
     "output_type": "execute_result"
    }
   ],
   "source": [
    "y_pred = lgbm_tuned.predict(X_test)\n",
    "accuracy_score(y_test, y_pred)"
   ]
  },
  {
   "cell_type": "markdown",
   "id": "97add914-55dc-4ff2-9239-7c60e744447b",
   "metadata": {},
   "source": [
    "# CatBoost"
   ]
  },
  {
   "cell_type": "markdown",
   "id": "785a3a79-c2a6-4c8f-ad6d-95bd1eff1365",
   "metadata": {},
   "source": [
    "## Model & Tahmin"
   ]
  },
  {
   "cell_type": "code",
   "execution_count": 161,
   "id": "18e19345-ed64-4acc-ade0-1ec207384001",
   "metadata": {},
   "outputs": [],
   "source": [
    "df = diabetes.copy()\n",
    "df = df.dropna()\n",
    "y = df[\"Outcome\"]\n",
    "X = df.drop(['Outcome'], axis=1)\n",
    "#X = df[\"Pregnancies\"]\n",
    "X = pd.DataFrame(X)\n",
    "X_train, X_test, y_train, y_test = train_test_split(X, y, \n",
    "                                                    test_size=0.30, \n",
    "                                                    random_state=42)"
   ]
  },
  {
   "cell_type": "code",
   "execution_count": 162,
   "id": "936bda26-db8d-4d44-9c40-3fae5587276d",
   "metadata": {},
   "outputs": [],
   "source": [
    "#!pip install catboost\n",
    "from catboost import CatBoostClassifier"
   ]
  },
  {
   "cell_type": "code",
   "execution_count": 163,
   "id": "74ff1e30-cc54-4d88-9ec0-5c7eee0d6f83",
   "metadata": {
    "collapsed": true,
    "jupyter": {
     "outputs_hidden": true
    },
    "tags": []
   },
   "outputs": [
    {
     "name": "stdout",
     "output_type": "stream",
     "text": [
      "Learning rate set to 0.0079\n",
      "0:\tlearn: 0.6879744\ttotal: 144ms\tremaining: 2m 24s\n",
      "1:\tlearn: 0.6843414\ttotal: 146ms\tremaining: 1m 12s\n",
      "2:\tlearn: 0.6805760\ttotal: 147ms\tremaining: 48.9s\n",
      "3:\tlearn: 0.6765782\ttotal: 148ms\tremaining: 36.9s\n",
      "4:\tlearn: 0.6720829\ttotal: 150ms\tremaining: 29.8s\n",
      "5:\tlearn: 0.6681617\ttotal: 151ms\tremaining: 25s\n",
      "6:\tlearn: 0.6641912\ttotal: 152ms\tremaining: 21.6s\n",
      "7:\tlearn: 0.6602881\ttotal: 153ms\tremaining: 19s\n",
      "8:\tlearn: 0.6562626\ttotal: 154ms\tremaining: 17s\n",
      "9:\tlearn: 0.6528483\ttotal: 155ms\tremaining: 15.4s\n",
      "10:\tlearn: 0.6487823\ttotal: 157ms\tremaining: 14.1s\n",
      "11:\tlearn: 0.6454980\ttotal: 158ms\tremaining: 13s\n",
      "12:\tlearn: 0.6418953\ttotal: 159ms\tremaining: 12.1s\n",
      "13:\tlearn: 0.6374431\ttotal: 161ms\tremaining: 11.3s\n",
      "14:\tlearn: 0.6339676\ttotal: 162ms\tremaining: 10.6s\n",
      "15:\tlearn: 0.6304252\ttotal: 163ms\tremaining: 10.1s\n",
      "16:\tlearn: 0.6266998\ttotal: 165ms\tremaining: 9.53s\n",
      "17:\tlearn: 0.6237660\ttotal: 166ms\tremaining: 9.05s\n",
      "18:\tlearn: 0.6204394\ttotal: 167ms\tremaining: 8.64s\n",
      "19:\tlearn: 0.6170129\ttotal: 169ms\tremaining: 8.27s\n",
      "20:\tlearn: 0.6133404\ttotal: 170ms\tremaining: 7.94s\n",
      "21:\tlearn: 0.6104932\ttotal: 172ms\tremaining: 7.63s\n",
      "22:\tlearn: 0.6069523\ttotal: 173ms\tremaining: 7.34s\n",
      "23:\tlearn: 0.6036467\ttotal: 174ms\tremaining: 7.08s\n",
      "24:\tlearn: 0.6005392\ttotal: 175ms\tremaining: 6.84s\n",
      "25:\tlearn: 0.5977520\ttotal: 177ms\tremaining: 6.62s\n",
      "26:\tlearn: 0.5948189\ttotal: 178ms\tremaining: 6.41s\n",
      "27:\tlearn: 0.5919831\ttotal: 179ms\tremaining: 6.22s\n",
      "28:\tlearn: 0.5885065\ttotal: 180ms\tremaining: 6.04s\n",
      "29:\tlearn: 0.5848273\ttotal: 181ms\tremaining: 5.87s\n",
      "30:\tlearn: 0.5822076\ttotal: 183ms\tremaining: 5.71s\n",
      "31:\tlearn: 0.5790604\ttotal: 184ms\tremaining: 5.55s\n",
      "32:\tlearn: 0.5762252\ttotal: 185ms\tremaining: 5.41s\n",
      "33:\tlearn: 0.5745338\ttotal: 186ms\tremaining: 5.28s\n",
      "34:\tlearn: 0.5719085\ttotal: 187ms\tremaining: 5.15s\n",
      "35:\tlearn: 0.5693365\ttotal: 188ms\tremaining: 5.03s\n",
      "36:\tlearn: 0.5665486\ttotal: 189ms\tremaining: 4.92s\n",
      "37:\tlearn: 0.5647413\ttotal: 190ms\tremaining: 4.82s\n",
      "38:\tlearn: 0.5622430\ttotal: 191ms\tremaining: 4.72s\n",
      "39:\tlearn: 0.5600038\ttotal: 193ms\tremaining: 4.62s\n",
      "40:\tlearn: 0.5579786\ttotal: 194ms\tremaining: 4.53s\n",
      "41:\tlearn: 0.5555817\ttotal: 195ms\tremaining: 4.44s\n",
      "42:\tlearn: 0.5533884\ttotal: 196ms\tremaining: 4.36s\n",
      "43:\tlearn: 0.5503718\ttotal: 197ms\tremaining: 4.28s\n",
      "44:\tlearn: 0.5482587\ttotal: 198ms\tremaining: 4.21s\n",
      "45:\tlearn: 0.5458783\ttotal: 200ms\tremaining: 4.14s\n",
      "46:\tlearn: 0.5441370\ttotal: 201ms\tremaining: 4.07s\n",
      "47:\tlearn: 0.5422492\ttotal: 202ms\tremaining: 4s\n",
      "48:\tlearn: 0.5397111\ttotal: 203ms\tremaining: 3.94s\n",
      "49:\tlearn: 0.5378482\ttotal: 204ms\tremaining: 3.87s\n",
      "50:\tlearn: 0.5355250\ttotal: 205ms\tremaining: 3.81s\n",
      "51:\tlearn: 0.5334717\ttotal: 206ms\tremaining: 3.75s\n",
      "52:\tlearn: 0.5308796\ttotal: 207ms\tremaining: 3.7s\n",
      "53:\tlearn: 0.5291891\ttotal: 208ms\tremaining: 3.65s\n",
      "54:\tlearn: 0.5273404\ttotal: 209ms\tremaining: 3.59s\n",
      "55:\tlearn: 0.5252025\ttotal: 210ms\tremaining: 3.54s\n",
      "56:\tlearn: 0.5232146\ttotal: 212ms\tremaining: 3.5s\n",
      "57:\tlearn: 0.5212394\ttotal: 213ms\tremaining: 3.45s\n",
      "58:\tlearn: 0.5188927\ttotal: 214ms\tremaining: 3.41s\n",
      "59:\tlearn: 0.5166496\ttotal: 215ms\tremaining: 3.37s\n",
      "60:\tlearn: 0.5151264\ttotal: 216ms\tremaining: 3.33s\n",
      "61:\tlearn: 0.5128109\ttotal: 217ms\tremaining: 3.28s\n",
      "62:\tlearn: 0.5114747\ttotal: 218ms\tremaining: 3.24s\n",
      "63:\tlearn: 0.5096208\ttotal: 219ms\tremaining: 3.21s\n",
      "64:\tlearn: 0.5072601\ttotal: 220ms\tremaining: 3.17s\n",
      "65:\tlearn: 0.5052770\ttotal: 221ms\tremaining: 3.13s\n",
      "66:\tlearn: 0.5036623\ttotal: 223ms\tremaining: 3.1s\n",
      "67:\tlearn: 0.5017328\ttotal: 224ms\tremaining: 3.06s\n",
      "68:\tlearn: 0.5005425\ttotal: 224ms\tremaining: 3.02s\n",
      "69:\tlearn: 0.4991695\ttotal: 225ms\tremaining: 2.99s\n",
      "70:\tlearn: 0.4976900\ttotal: 227ms\tremaining: 2.96s\n",
      "71:\tlearn: 0.4958907\ttotal: 228ms\tremaining: 2.94s\n",
      "72:\tlearn: 0.4944550\ttotal: 229ms\tremaining: 2.91s\n",
      "73:\tlearn: 0.4929501\ttotal: 230ms\tremaining: 2.88s\n",
      "74:\tlearn: 0.4913299\ttotal: 231ms\tremaining: 2.85s\n",
      "75:\tlearn: 0.4898798\ttotal: 232ms\tremaining: 2.82s\n",
      "76:\tlearn: 0.4882946\ttotal: 233ms\tremaining: 2.79s\n",
      "77:\tlearn: 0.4866733\ttotal: 234ms\tremaining: 2.77s\n",
      "78:\tlearn: 0.4849083\ttotal: 236ms\tremaining: 2.75s\n",
      "79:\tlearn: 0.4832344\ttotal: 237ms\tremaining: 2.73s\n",
      "80:\tlearn: 0.4822155\ttotal: 238ms\tremaining: 2.7s\n",
      "81:\tlearn: 0.4805651\ttotal: 239ms\tremaining: 2.68s\n",
      "82:\tlearn: 0.4789437\ttotal: 241ms\tremaining: 2.66s\n",
      "83:\tlearn: 0.4773680\ttotal: 242ms\tremaining: 2.64s\n",
      "84:\tlearn: 0.4759592\ttotal: 243ms\tremaining: 2.62s\n",
      "85:\tlearn: 0.4743296\ttotal: 244ms\tremaining: 2.6s\n",
      "86:\tlearn: 0.4733053\ttotal: 245ms\tremaining: 2.58s\n",
      "87:\tlearn: 0.4719029\ttotal: 246ms\tremaining: 2.55s\n",
      "88:\tlearn: 0.4704197\ttotal: 248ms\tremaining: 2.53s\n",
      "89:\tlearn: 0.4692434\ttotal: 249ms\tremaining: 2.51s\n",
      "90:\tlearn: 0.4676877\ttotal: 250ms\tremaining: 2.5s\n",
      "91:\tlearn: 0.4663135\ttotal: 251ms\tremaining: 2.48s\n",
      "92:\tlearn: 0.4648501\ttotal: 252ms\tremaining: 2.46s\n",
      "93:\tlearn: 0.4634104\ttotal: 253ms\tremaining: 2.44s\n",
      "94:\tlearn: 0.4622453\ttotal: 254ms\tremaining: 2.42s\n",
      "95:\tlearn: 0.4610022\ttotal: 255ms\tremaining: 2.4s\n",
      "96:\tlearn: 0.4596122\ttotal: 256ms\tremaining: 2.39s\n",
      "97:\tlearn: 0.4586478\ttotal: 258ms\tremaining: 2.37s\n",
      "98:\tlearn: 0.4574414\ttotal: 259ms\tremaining: 2.35s\n",
      "99:\tlearn: 0.4564241\ttotal: 260ms\tremaining: 2.34s\n",
      "100:\tlearn: 0.4550640\ttotal: 261ms\tremaining: 2.32s\n",
      "101:\tlearn: 0.4542409\ttotal: 262ms\tremaining: 2.3s\n",
      "102:\tlearn: 0.4532567\ttotal: 263ms\tremaining: 2.29s\n",
      "103:\tlearn: 0.4520656\ttotal: 264ms\tremaining: 2.27s\n",
      "104:\tlearn: 0.4507238\ttotal: 265ms\tremaining: 2.26s\n",
      "105:\tlearn: 0.4498366\ttotal: 266ms\tremaining: 2.24s\n",
      "106:\tlearn: 0.4487896\ttotal: 267ms\tremaining: 2.23s\n",
      "107:\tlearn: 0.4479770\ttotal: 268ms\tremaining: 2.21s\n",
      "108:\tlearn: 0.4470681\ttotal: 269ms\tremaining: 2.2s\n",
      "109:\tlearn: 0.4461679\ttotal: 270ms\tremaining: 2.19s\n",
      "110:\tlearn: 0.4449306\ttotal: 271ms\tremaining: 2.17s\n",
      "111:\tlearn: 0.4442033\ttotal: 272ms\tremaining: 2.16s\n",
      "112:\tlearn: 0.4431958\ttotal: 273ms\tremaining: 2.15s\n",
      "113:\tlearn: 0.4420872\ttotal: 275ms\tremaining: 2.13s\n",
      "114:\tlearn: 0.4411093\ttotal: 276ms\tremaining: 2.12s\n",
      "115:\tlearn: 0.4404177\ttotal: 277ms\tremaining: 2.11s\n",
      "116:\tlearn: 0.4393393\ttotal: 278ms\tremaining: 2.1s\n",
      "117:\tlearn: 0.4385459\ttotal: 279ms\tremaining: 2.08s\n",
      "118:\tlearn: 0.4376311\ttotal: 280ms\tremaining: 2.07s\n",
      "119:\tlearn: 0.4365919\ttotal: 281ms\tremaining: 2.06s\n",
      "120:\tlearn: 0.4356995\ttotal: 282ms\tremaining: 2.05s\n",
      "121:\tlearn: 0.4348411\ttotal: 283ms\tremaining: 2.04s\n",
      "122:\tlearn: 0.4339453\ttotal: 284ms\tremaining: 2.02s\n",
      "123:\tlearn: 0.4328034\ttotal: 285ms\tremaining: 2.01s\n",
      "124:\tlearn: 0.4319283\ttotal: 286ms\tremaining: 2s\n",
      "125:\tlearn: 0.4312557\ttotal: 287ms\tremaining: 1.99s\n",
      "126:\tlearn: 0.4304026\ttotal: 289ms\tremaining: 1.98s\n",
      "127:\tlearn: 0.4298280\ttotal: 290ms\tremaining: 1.97s\n",
      "128:\tlearn: 0.4289908\ttotal: 291ms\tremaining: 1.97s\n",
      "129:\tlearn: 0.4281060\ttotal: 292ms\tremaining: 1.96s\n",
      "130:\tlearn: 0.4274906\ttotal: 293ms\tremaining: 1.95s\n",
      "131:\tlearn: 0.4263412\ttotal: 294ms\tremaining: 1.94s\n",
      "132:\tlearn: 0.4253331\ttotal: 295ms\tremaining: 1.93s\n",
      "133:\tlearn: 0.4243619\ttotal: 296ms\tremaining: 1.92s\n",
      "134:\tlearn: 0.4236335\ttotal: 297ms\tremaining: 1.91s\n",
      "135:\tlearn: 0.4228861\ttotal: 298ms\tremaining: 1.9s\n",
      "136:\tlearn: 0.4221383\ttotal: 299ms\tremaining: 1.89s\n",
      "137:\tlearn: 0.4212787\ttotal: 300ms\tremaining: 1.88s\n",
      "138:\tlearn: 0.4205727\ttotal: 302ms\tremaining: 1.87s\n",
      "139:\tlearn: 0.4198398\ttotal: 303ms\tremaining: 1.86s\n",
      "140:\tlearn: 0.4190528\ttotal: 304ms\tremaining: 1.85s\n",
      "141:\tlearn: 0.4181762\ttotal: 305ms\tremaining: 1.84s\n",
      "142:\tlearn: 0.4177653\ttotal: 306ms\tremaining: 1.83s\n",
      "143:\tlearn: 0.4171131\ttotal: 307ms\tremaining: 1.82s\n",
      "144:\tlearn: 0.4165639\ttotal: 308ms\tremaining: 1.81s\n",
      "145:\tlearn: 0.4156471\ttotal: 309ms\tremaining: 1.8s\n",
      "146:\tlearn: 0.4153234\ttotal: 310ms\tremaining: 1.8s\n",
      "147:\tlearn: 0.4145420\ttotal: 311ms\tremaining: 1.79s\n",
      "148:\tlearn: 0.4139180\ttotal: 312ms\tremaining: 1.78s\n",
      "149:\tlearn: 0.4128167\ttotal: 313ms\tremaining: 1.77s\n",
      "150:\tlearn: 0.4120071\ttotal: 314ms\tremaining: 1.76s\n",
      "151:\tlearn: 0.4115050\ttotal: 315ms\tremaining: 1.76s\n",
      "152:\tlearn: 0.4103879\ttotal: 316ms\tremaining: 1.75s\n",
      "153:\tlearn: 0.4096975\ttotal: 317ms\tremaining: 1.74s\n",
      "154:\tlearn: 0.4090180\ttotal: 318ms\tremaining: 1.73s\n",
      "155:\tlearn: 0.4084361\ttotal: 319ms\tremaining: 1.73s\n",
      "156:\tlearn: 0.4075079\ttotal: 320ms\tremaining: 1.72s\n",
      "157:\tlearn: 0.4070229\ttotal: 321ms\tremaining: 1.71s\n",
      "158:\tlearn: 0.4060864\ttotal: 322ms\tremaining: 1.7s\n",
      "159:\tlearn: 0.4055216\ttotal: 323ms\tremaining: 1.7s\n",
      "160:\tlearn: 0.4049737\ttotal: 324ms\tremaining: 1.69s\n",
      "161:\tlearn: 0.4043031\ttotal: 325ms\tremaining: 1.68s\n",
      "162:\tlearn: 0.4037889\ttotal: 326ms\tremaining: 1.67s\n",
      "163:\tlearn: 0.4029969\ttotal: 327ms\tremaining: 1.67s\n",
      "164:\tlearn: 0.4019218\ttotal: 328ms\tremaining: 1.66s\n",
      "165:\tlearn: 0.4013294\ttotal: 329ms\tremaining: 1.65s\n",
      "166:\tlearn: 0.4007642\ttotal: 330ms\tremaining: 1.65s\n",
      "167:\tlearn: 0.4000706\ttotal: 332ms\tremaining: 1.64s\n",
      "168:\tlearn: 0.3996680\ttotal: 333ms\tremaining: 1.64s\n",
      "169:\tlearn: 0.3989467\ttotal: 334ms\tremaining: 1.63s\n",
      "170:\tlearn: 0.3983710\ttotal: 335ms\tremaining: 1.63s\n",
      "171:\tlearn: 0.3975278\ttotal: 336ms\tremaining: 1.62s\n",
      "172:\tlearn: 0.3969084\ttotal: 338ms\tremaining: 1.61s\n",
      "173:\tlearn: 0.3965347\ttotal: 339ms\tremaining: 1.61s\n",
      "174:\tlearn: 0.3956732\ttotal: 340ms\tremaining: 1.6s\n",
      "175:\tlearn: 0.3952873\ttotal: 341ms\tremaining: 1.6s\n",
      "176:\tlearn: 0.3945194\ttotal: 342ms\tremaining: 1.59s\n",
      "177:\tlearn: 0.3937662\ttotal: 343ms\tremaining: 1.58s\n",
      "178:\tlearn: 0.3930186\ttotal: 344ms\tremaining: 1.58s\n",
      "179:\tlearn: 0.3923731\ttotal: 345ms\tremaining: 1.57s\n",
      "180:\tlearn: 0.3918567\ttotal: 347ms\tremaining: 1.57s\n",
      "181:\tlearn: 0.3910109\ttotal: 348ms\tremaining: 1.56s\n",
      "182:\tlearn: 0.3904347\ttotal: 349ms\tremaining: 1.56s\n",
      "183:\tlearn: 0.3898631\ttotal: 350ms\tremaining: 1.55s\n",
      "184:\tlearn: 0.3889877\ttotal: 351ms\tremaining: 1.55s\n",
      "185:\tlearn: 0.3883860\ttotal: 353ms\tremaining: 1.54s\n",
      "186:\tlearn: 0.3876585\ttotal: 354ms\tremaining: 1.54s\n",
      "187:\tlearn: 0.3871096\ttotal: 355ms\tremaining: 1.53s\n",
      "188:\tlearn: 0.3866930\ttotal: 356ms\tremaining: 1.53s\n",
      "189:\tlearn: 0.3860056\ttotal: 357ms\tremaining: 1.52s\n",
      "190:\tlearn: 0.3854310\ttotal: 358ms\tremaining: 1.52s\n",
      "191:\tlearn: 0.3848506\ttotal: 359ms\tremaining: 1.51s\n",
      "192:\tlearn: 0.3842016\ttotal: 360ms\tremaining: 1.5s\n",
      "193:\tlearn: 0.3836819\ttotal: 361ms\tremaining: 1.5s\n",
      "194:\tlearn: 0.3830974\ttotal: 362ms\tremaining: 1.5s\n",
      "195:\tlearn: 0.3827259\ttotal: 363ms\tremaining: 1.49s\n",
      "196:\tlearn: 0.3822292\ttotal: 364ms\tremaining: 1.49s\n",
      "197:\tlearn: 0.3818127\ttotal: 366ms\tremaining: 1.48s\n",
      "198:\tlearn: 0.3813381\ttotal: 367ms\tremaining: 1.48s\n",
      "199:\tlearn: 0.3808627\ttotal: 368ms\tremaining: 1.47s\n",
      "200:\tlearn: 0.3802744\ttotal: 369ms\tremaining: 1.47s\n",
      "201:\tlearn: 0.3797151\ttotal: 370ms\tremaining: 1.46s\n",
      "202:\tlearn: 0.3792543\ttotal: 371ms\tremaining: 1.46s\n",
      "203:\tlearn: 0.3787526\ttotal: 372ms\tremaining: 1.45s\n",
      "204:\tlearn: 0.3783154\ttotal: 373ms\tremaining: 1.45s\n",
      "205:\tlearn: 0.3778142\ttotal: 374ms\tremaining: 1.44s\n",
      "206:\tlearn: 0.3770761\ttotal: 375ms\tremaining: 1.44s\n",
      "207:\tlearn: 0.3766516\ttotal: 377ms\tremaining: 1.43s\n",
      "208:\tlearn: 0.3760002\ttotal: 378ms\tremaining: 1.43s\n",
      "209:\tlearn: 0.3753742\ttotal: 379ms\tremaining: 1.42s\n",
      "210:\tlearn: 0.3748945\ttotal: 380ms\tremaining: 1.42s\n",
      "211:\tlearn: 0.3741601\ttotal: 381ms\tremaining: 1.42s\n",
      "212:\tlearn: 0.3737583\ttotal: 382ms\tremaining: 1.41s\n",
      "213:\tlearn: 0.3731306\ttotal: 383ms\tremaining: 1.41s\n",
      "214:\tlearn: 0.3725594\ttotal: 384ms\tremaining: 1.4s\n",
      "215:\tlearn: 0.3717840\ttotal: 385ms\tremaining: 1.4s\n",
      "216:\tlearn: 0.3712366\ttotal: 386ms\tremaining: 1.39s\n",
      "217:\tlearn: 0.3706128\ttotal: 387ms\tremaining: 1.39s\n",
      "218:\tlearn: 0.3701763\ttotal: 388ms\tremaining: 1.38s\n",
      "219:\tlearn: 0.3696732\ttotal: 389ms\tremaining: 1.38s\n",
      "220:\tlearn: 0.3694511\ttotal: 390ms\tremaining: 1.37s\n",
      "221:\tlearn: 0.3691241\ttotal: 391ms\tremaining: 1.37s\n",
      "222:\tlearn: 0.3685841\ttotal: 392ms\tremaining: 1.36s\n",
      "223:\tlearn: 0.3680235\ttotal: 393ms\tremaining: 1.36s\n",
      "224:\tlearn: 0.3674146\ttotal: 394ms\tremaining: 1.36s\n",
      "225:\tlearn: 0.3669959\ttotal: 395ms\tremaining: 1.35s\n",
      "226:\tlearn: 0.3664598\ttotal: 396ms\tremaining: 1.35s\n",
      "227:\tlearn: 0.3660285\ttotal: 397ms\tremaining: 1.34s\n",
      "228:\tlearn: 0.3656118\ttotal: 398ms\tremaining: 1.34s\n",
      "229:\tlearn: 0.3653013\ttotal: 399ms\tremaining: 1.34s\n",
      "230:\tlearn: 0.3648384\ttotal: 400ms\tremaining: 1.33s\n",
      "231:\tlearn: 0.3645751\ttotal: 401ms\tremaining: 1.33s\n",
      "232:\tlearn: 0.3642266\ttotal: 402ms\tremaining: 1.32s\n",
      "233:\tlearn: 0.3638032\ttotal: 403ms\tremaining: 1.32s\n",
      "234:\tlearn: 0.3634127\ttotal: 404ms\tremaining: 1.32s\n",
      "235:\tlearn: 0.3628147\ttotal: 405ms\tremaining: 1.31s\n",
      "236:\tlearn: 0.3624876\ttotal: 406ms\tremaining: 1.31s\n",
      "237:\tlearn: 0.3621678\ttotal: 407ms\tremaining: 1.3s\n",
      "238:\tlearn: 0.3617236\ttotal: 408ms\tremaining: 1.3s\n",
      "239:\tlearn: 0.3613139\ttotal: 409ms\tremaining: 1.3s\n",
      "240:\tlearn: 0.3608153\ttotal: 410ms\tremaining: 1.29s\n",
      "241:\tlearn: 0.3605083\ttotal: 412ms\tremaining: 1.29s\n",
      "242:\tlearn: 0.3600805\ttotal: 413ms\tremaining: 1.28s\n",
      "243:\tlearn: 0.3598540\ttotal: 414ms\tremaining: 1.28s\n",
      "244:\tlearn: 0.3594826\ttotal: 415ms\tremaining: 1.28s\n",
      "245:\tlearn: 0.3589942\ttotal: 416ms\tremaining: 1.27s\n",
      "246:\tlearn: 0.3580868\ttotal: 417ms\tremaining: 1.27s\n",
      "247:\tlearn: 0.3577168\ttotal: 418ms\tremaining: 1.27s\n",
      "248:\tlearn: 0.3572695\ttotal: 419ms\tremaining: 1.26s\n",
      "249:\tlearn: 0.3569883\ttotal: 420ms\tremaining: 1.26s\n",
      "250:\tlearn: 0.3564914\ttotal: 421ms\tremaining: 1.26s\n",
      "251:\tlearn: 0.3563154\ttotal: 422ms\tremaining: 1.25s\n",
      "252:\tlearn: 0.3559500\ttotal: 423ms\tremaining: 1.25s\n",
      "253:\tlearn: 0.3556725\ttotal: 424ms\tremaining: 1.25s\n",
      "254:\tlearn: 0.3554429\ttotal: 425ms\tremaining: 1.24s\n",
      "255:\tlearn: 0.3550410\ttotal: 426ms\tremaining: 1.24s\n",
      "256:\tlearn: 0.3544784\ttotal: 427ms\tremaining: 1.24s\n",
      "257:\tlearn: 0.3541264\ttotal: 428ms\tremaining: 1.23s\n",
      "258:\tlearn: 0.3534407\ttotal: 430ms\tremaining: 1.23s\n",
      "259:\tlearn: 0.3531235\ttotal: 431ms\tremaining: 1.23s\n",
      "260:\tlearn: 0.3527207\ttotal: 432ms\tremaining: 1.22s\n",
      "261:\tlearn: 0.3523243\ttotal: 433ms\tremaining: 1.22s\n",
      "262:\tlearn: 0.3520765\ttotal: 434ms\tremaining: 1.22s\n",
      "263:\tlearn: 0.3515223\ttotal: 435ms\tremaining: 1.21s\n",
      "264:\tlearn: 0.3511085\ttotal: 436ms\tremaining: 1.21s\n",
      "265:\tlearn: 0.3507609\ttotal: 437ms\tremaining: 1.21s\n",
      "266:\tlearn: 0.3505624\ttotal: 438ms\tremaining: 1.2s\n",
      "267:\tlearn: 0.3502285\ttotal: 439ms\tremaining: 1.2s\n",
      "268:\tlearn: 0.3497636\ttotal: 440ms\tremaining: 1.2s\n",
      "269:\tlearn: 0.3493754\ttotal: 441ms\tremaining: 1.19s\n",
      "270:\tlearn: 0.3490792\ttotal: 442ms\tremaining: 1.19s\n",
      "271:\tlearn: 0.3487020\ttotal: 443ms\tremaining: 1.19s\n",
      "272:\tlearn: 0.3483143\ttotal: 444ms\tremaining: 1.18s\n",
      "273:\tlearn: 0.3478934\ttotal: 445ms\tremaining: 1.18s\n",
      "274:\tlearn: 0.3475017\ttotal: 446ms\tremaining: 1.18s\n",
      "275:\tlearn: 0.3471957\ttotal: 447ms\tremaining: 1.17s\n",
      "276:\tlearn: 0.3468656\ttotal: 448ms\tremaining: 1.17s\n",
      "277:\tlearn: 0.3464868\ttotal: 449ms\tremaining: 1.17s\n",
      "278:\tlearn: 0.3462092\ttotal: 450ms\tremaining: 1.16s\n",
      "279:\tlearn: 0.3460606\ttotal: 451ms\tremaining: 1.16s\n",
      "280:\tlearn: 0.3455830\ttotal: 452ms\tremaining: 1.16s\n",
      "281:\tlearn: 0.3453044\ttotal: 453ms\tremaining: 1.15s\n",
      "282:\tlearn: 0.3444292\ttotal: 454ms\tremaining: 1.15s\n",
      "283:\tlearn: 0.3440907\ttotal: 455ms\tremaining: 1.15s\n",
      "284:\tlearn: 0.3435897\ttotal: 456ms\tremaining: 1.14s\n",
      "285:\tlearn: 0.3432924\ttotal: 457ms\tremaining: 1.14s\n",
      "286:\tlearn: 0.3429693\ttotal: 458ms\tremaining: 1.14s\n",
      "287:\tlearn: 0.3423841\ttotal: 459ms\tremaining: 1.14s\n",
      "288:\tlearn: 0.3419082\ttotal: 460ms\tremaining: 1.13s\n",
      "289:\tlearn: 0.3417444\ttotal: 461ms\tremaining: 1.13s\n",
      "290:\tlearn: 0.3413183\ttotal: 462ms\tremaining: 1.13s\n",
      "291:\tlearn: 0.3410967\ttotal: 463ms\tremaining: 1.12s\n",
      "292:\tlearn: 0.3405444\ttotal: 464ms\tremaining: 1.12s\n",
      "293:\tlearn: 0.3400621\ttotal: 465ms\tremaining: 1.12s\n",
      "294:\tlearn: 0.3397168\ttotal: 466ms\tremaining: 1.11s\n",
      "295:\tlearn: 0.3393361\ttotal: 467ms\tremaining: 1.11s\n",
      "296:\tlearn: 0.3390740\ttotal: 468ms\tremaining: 1.11s\n",
      "297:\tlearn: 0.3385868\ttotal: 470ms\tremaining: 1.11s\n",
      "298:\tlearn: 0.3383527\ttotal: 471ms\tremaining: 1.1s\n",
      "299:\tlearn: 0.3381225\ttotal: 472ms\tremaining: 1.1s\n",
      "300:\tlearn: 0.3377180\ttotal: 473ms\tremaining: 1.1s\n",
      "301:\tlearn: 0.3373683\ttotal: 474ms\tremaining: 1.09s\n",
      "302:\tlearn: 0.3369712\ttotal: 475ms\tremaining: 1.09s\n",
      "303:\tlearn: 0.3365943\ttotal: 476ms\tremaining: 1.09s\n",
      "304:\tlearn: 0.3361416\ttotal: 477ms\tremaining: 1.09s\n",
      "305:\tlearn: 0.3357881\ttotal: 478ms\tremaining: 1.08s\n",
      "306:\tlearn: 0.3355420\ttotal: 479ms\tremaining: 1.08s\n",
      "307:\tlearn: 0.3353969\ttotal: 480ms\tremaining: 1.08s\n",
      "308:\tlearn: 0.3350159\ttotal: 481ms\tremaining: 1.08s\n",
      "309:\tlearn: 0.3347592\ttotal: 482ms\tremaining: 1.07s\n",
      "310:\tlearn: 0.3344209\ttotal: 483ms\tremaining: 1.07s\n",
      "311:\tlearn: 0.3340571\ttotal: 484ms\tremaining: 1.07s\n",
      "312:\tlearn: 0.3337410\ttotal: 485ms\tremaining: 1.06s\n",
      "313:\tlearn: 0.3335433\ttotal: 487ms\tremaining: 1.06s\n",
      "314:\tlearn: 0.3331226\ttotal: 488ms\tremaining: 1.06s\n",
      "315:\tlearn: 0.3326529\ttotal: 489ms\tremaining: 1.06s\n",
      "316:\tlearn: 0.3324585\ttotal: 490ms\tremaining: 1.05s\n",
      "317:\tlearn: 0.3319313\ttotal: 491ms\tremaining: 1.05s\n",
      "318:\tlearn: 0.3317666\ttotal: 492ms\tremaining: 1.05s\n",
      "319:\tlearn: 0.3316420\ttotal: 493ms\tremaining: 1.05s\n",
      "320:\tlearn: 0.3313743\ttotal: 494ms\tremaining: 1.04s\n",
      "321:\tlearn: 0.3311034\ttotal: 495ms\tremaining: 1.04s\n",
      "322:\tlearn: 0.3308718\ttotal: 496ms\tremaining: 1.04s\n",
      "323:\tlearn: 0.3305797\ttotal: 497ms\tremaining: 1.04s\n",
      "324:\tlearn: 0.3303344\ttotal: 498ms\tremaining: 1.03s\n",
      "325:\tlearn: 0.3299356\ttotal: 499ms\tremaining: 1.03s\n",
      "326:\tlearn: 0.3297079\ttotal: 500ms\tremaining: 1.03s\n",
      "327:\tlearn: 0.3293339\ttotal: 501ms\tremaining: 1.03s\n",
      "328:\tlearn: 0.3289580\ttotal: 502ms\tremaining: 1.02s\n",
      "329:\tlearn: 0.3285913\ttotal: 503ms\tremaining: 1.02s\n",
      "330:\tlearn: 0.3282758\ttotal: 504ms\tremaining: 1.02s\n",
      "331:\tlearn: 0.3279623\ttotal: 505ms\tremaining: 1.02s\n",
      "332:\tlearn: 0.3274888\ttotal: 507ms\tremaining: 1.01s\n",
      "333:\tlearn: 0.3271103\ttotal: 508ms\tremaining: 1.01s\n",
      "334:\tlearn: 0.3266782\ttotal: 509ms\tremaining: 1.01s\n",
      "335:\tlearn: 0.3263302\ttotal: 510ms\tremaining: 1.01s\n",
      "336:\tlearn: 0.3260965\ttotal: 512ms\tremaining: 1.01s\n",
      "337:\tlearn: 0.3259158\ttotal: 513ms\tremaining: 1s\n",
      "338:\tlearn: 0.3258232\ttotal: 514ms\tremaining: 1s\n",
      "339:\tlearn: 0.3256590\ttotal: 515ms\tremaining: 1s\n",
      "340:\tlearn: 0.3251070\ttotal: 516ms\tremaining: 998ms\n",
      "341:\tlearn: 0.3248128\ttotal: 517ms\tremaining: 996ms\n",
      "342:\tlearn: 0.3245641\ttotal: 518ms\tremaining: 993ms\n",
      "343:\tlearn: 0.3244393\ttotal: 520ms\tremaining: 991ms\n",
      "344:\tlearn: 0.3239917\ttotal: 521ms\tremaining: 989ms\n",
      "345:\tlearn: 0.3236587\ttotal: 522ms\tremaining: 987ms\n",
      "346:\tlearn: 0.3232919\ttotal: 523ms\tremaining: 985ms\n",
      "347:\tlearn: 0.3229349\ttotal: 524ms\tremaining: 983ms\n",
      "348:\tlearn: 0.3227158\ttotal: 526ms\tremaining: 980ms\n",
      "349:\tlearn: 0.3222736\ttotal: 527ms\tremaining: 978ms\n",
      "350:\tlearn: 0.3219319\ttotal: 528ms\tremaining: 976ms\n",
      "351:\tlearn: 0.3216924\ttotal: 529ms\tremaining: 973ms\n",
      "352:\tlearn: 0.3214005\ttotal: 530ms\tremaining: 971ms\n",
      "353:\tlearn: 0.3212561\ttotal: 531ms\tremaining: 969ms\n",
      "354:\tlearn: 0.3210802\ttotal: 532ms\tremaining: 966ms\n",
      "355:\tlearn: 0.3208611\ttotal: 533ms\tremaining: 964ms\n",
      "356:\tlearn: 0.3207409\ttotal: 534ms\tremaining: 962ms\n",
      "357:\tlearn: 0.3204410\ttotal: 535ms\tremaining: 960ms\n",
      "358:\tlearn: 0.3201386\ttotal: 536ms\tremaining: 958ms\n",
      "359:\tlearn: 0.3199546\ttotal: 538ms\tremaining: 956ms\n",
      "360:\tlearn: 0.3196740\ttotal: 539ms\tremaining: 953ms\n",
      "361:\tlearn: 0.3193086\ttotal: 540ms\tremaining: 951ms\n",
      "362:\tlearn: 0.3190555\ttotal: 541ms\tremaining: 949ms\n",
      "363:\tlearn: 0.3186316\ttotal: 542ms\tremaining: 947ms\n",
      "364:\tlearn: 0.3182750\ttotal: 543ms\tremaining: 944ms\n",
      "365:\tlearn: 0.3179150\ttotal: 544ms\tremaining: 942ms\n",
      "366:\tlearn: 0.3176213\ttotal: 545ms\tremaining: 940ms\n",
      "367:\tlearn: 0.3174330\ttotal: 546ms\tremaining: 938ms\n",
      "368:\tlearn: 0.3170058\ttotal: 547ms\tremaining: 935ms\n",
      "369:\tlearn: 0.3167177\ttotal: 548ms\tremaining: 933ms\n",
      "370:\tlearn: 0.3165966\ttotal: 549ms\tremaining: 931ms\n",
      "371:\tlearn: 0.3163434\ttotal: 550ms\tremaining: 929ms\n",
      "372:\tlearn: 0.3158102\ttotal: 552ms\tremaining: 927ms\n",
      "373:\tlearn: 0.3156989\ttotal: 553ms\tremaining: 925ms\n",
      "374:\tlearn: 0.3153516\ttotal: 554ms\tremaining: 923ms\n",
      "375:\tlearn: 0.3151365\ttotal: 555ms\tremaining: 921ms\n",
      "376:\tlearn: 0.3148602\ttotal: 556ms\tremaining: 918ms\n",
      "377:\tlearn: 0.3146425\ttotal: 557ms\tremaining: 916ms\n",
      "378:\tlearn: 0.3140533\ttotal: 558ms\tremaining: 914ms\n",
      "379:\tlearn: 0.3138100\ttotal: 559ms\tremaining: 912ms\n",
      "380:\tlearn: 0.3134537\ttotal: 560ms\tremaining: 910ms\n",
      "381:\tlearn: 0.3131326\ttotal: 561ms\tremaining: 908ms\n",
      "382:\tlearn: 0.3127691\ttotal: 562ms\tremaining: 906ms\n",
      "383:\tlearn: 0.3123777\ttotal: 563ms\tremaining: 903ms\n",
      "384:\tlearn: 0.3120189\ttotal: 564ms\tremaining: 901ms\n",
      "385:\tlearn: 0.3117879\ttotal: 565ms\tremaining: 899ms\n",
      "386:\tlearn: 0.3117281\ttotal: 566ms\tremaining: 897ms\n",
      "387:\tlearn: 0.3114269\ttotal: 567ms\tremaining: 895ms\n",
      "388:\tlearn: 0.3111523\ttotal: 568ms\tremaining: 892ms\n",
      "389:\tlearn: 0.3107485\ttotal: 569ms\tremaining: 890ms\n",
      "390:\tlearn: 0.3104823\ttotal: 570ms\tremaining: 888ms\n",
      "391:\tlearn: 0.3102043\ttotal: 571ms\tremaining: 886ms\n",
      "392:\tlearn: 0.3100756\ttotal: 572ms\tremaining: 884ms\n",
      "393:\tlearn: 0.3096455\ttotal: 573ms\tremaining: 882ms\n",
      "394:\tlearn: 0.3094293\ttotal: 574ms\tremaining: 880ms\n",
      "395:\tlearn: 0.3091670\ttotal: 575ms\tremaining: 878ms\n",
      "396:\tlearn: 0.3089720\ttotal: 576ms\tremaining: 875ms\n",
      "397:\tlearn: 0.3087352\ttotal: 577ms\tremaining: 873ms\n",
      "398:\tlearn: 0.3083025\ttotal: 578ms\tremaining: 871ms\n",
      "399:\tlearn: 0.3080730\ttotal: 579ms\tremaining: 869ms\n",
      "400:\tlearn: 0.3075862\ttotal: 581ms\tremaining: 867ms\n",
      "401:\tlearn: 0.3072950\ttotal: 582ms\tremaining: 865ms\n",
      "402:\tlearn: 0.3069260\ttotal: 583ms\tremaining: 863ms\n",
      "403:\tlearn: 0.3066624\ttotal: 584ms\tremaining: 861ms\n",
      "404:\tlearn: 0.3064005\ttotal: 585ms\tremaining: 859ms\n",
      "405:\tlearn: 0.3062175\ttotal: 586ms\tremaining: 857ms\n",
      "406:\tlearn: 0.3059133\ttotal: 587ms\tremaining: 855ms\n",
      "407:\tlearn: 0.3056401\ttotal: 588ms\tremaining: 853ms\n",
      "408:\tlearn: 0.3053706\ttotal: 589ms\tremaining: 851ms\n",
      "409:\tlearn: 0.3051702\ttotal: 590ms\tremaining: 849ms\n",
      "410:\tlearn: 0.3047998\ttotal: 591ms\tremaining: 847ms\n",
      "411:\tlearn: 0.3044851\ttotal: 592ms\tremaining: 845ms\n",
      "412:\tlearn: 0.3041596\ttotal: 593ms\tremaining: 843ms\n",
      "413:\tlearn: 0.3039484\ttotal: 594ms\tremaining: 841ms\n",
      "414:\tlearn: 0.3035868\ttotal: 595ms\tremaining: 839ms\n",
      "415:\tlearn: 0.3034963\ttotal: 596ms\tremaining: 837ms\n",
      "416:\tlearn: 0.3032978\ttotal: 597ms\tremaining: 835ms\n",
      "417:\tlearn: 0.3029297\ttotal: 598ms\tremaining: 833ms\n",
      "418:\tlearn: 0.3026614\ttotal: 599ms\tremaining: 831ms\n",
      "419:\tlearn: 0.3025338\ttotal: 600ms\tremaining: 829ms\n",
      "420:\tlearn: 0.3023329\ttotal: 601ms\tremaining: 827ms\n",
      "421:\tlearn: 0.3020878\ttotal: 602ms\tremaining: 825ms\n",
      "422:\tlearn: 0.3018350\ttotal: 603ms\tremaining: 823ms\n",
      "423:\tlearn: 0.3016547\ttotal: 604ms\tremaining: 821ms\n",
      "424:\tlearn: 0.3013340\ttotal: 605ms\tremaining: 819ms\n",
      "425:\tlearn: 0.3012067\ttotal: 606ms\tremaining: 817ms\n",
      "426:\tlearn: 0.3010644\ttotal: 607ms\tremaining: 815ms\n",
      "427:\tlearn: 0.3008560\ttotal: 608ms\tremaining: 813ms\n",
      "428:\tlearn: 0.3007435\ttotal: 610ms\tremaining: 811ms\n",
      "429:\tlearn: 0.3005282\ttotal: 611ms\tremaining: 809ms\n",
      "430:\tlearn: 0.3002332\ttotal: 612ms\tremaining: 807ms\n",
      "431:\tlearn: 0.2999973\ttotal: 613ms\tremaining: 805ms\n",
      "432:\tlearn: 0.2998342\ttotal: 614ms\tremaining: 803ms\n",
      "433:\tlearn: 0.2995772\ttotal: 615ms\tremaining: 801ms\n",
      "434:\tlearn: 0.2994191\ttotal: 616ms\tremaining: 799ms\n",
      "435:\tlearn: 0.2992121\ttotal: 617ms\tremaining: 798ms\n",
      "436:\tlearn: 0.2990371\ttotal: 618ms\tremaining: 796ms\n",
      "437:\tlearn: 0.2988313\ttotal: 619ms\tremaining: 794ms\n",
      "438:\tlearn: 0.2986686\ttotal: 620ms\tremaining: 792ms\n",
      "439:\tlearn: 0.2985372\ttotal: 621ms\tremaining: 790ms\n",
      "440:\tlearn: 0.2982802\ttotal: 622ms\tremaining: 788ms\n",
      "441:\tlearn: 0.2978098\ttotal: 623ms\tremaining: 786ms\n",
      "442:\tlearn: 0.2975569\ttotal: 624ms\tremaining: 784ms\n",
      "443:\tlearn: 0.2974696\ttotal: 625ms\tremaining: 782ms\n",
      "444:\tlearn: 0.2971000\ttotal: 626ms\tremaining: 780ms\n",
      "445:\tlearn: 0.2968185\ttotal: 627ms\tremaining: 779ms\n",
      "446:\tlearn: 0.2965820\ttotal: 628ms\tremaining: 777ms\n",
      "447:\tlearn: 0.2963367\ttotal: 629ms\tremaining: 775ms\n",
      "448:\tlearn: 0.2962052\ttotal: 630ms\tremaining: 773ms\n",
      "449:\tlearn: 0.2958710\ttotal: 631ms\tremaining: 771ms\n",
      "450:\tlearn: 0.2957278\ttotal: 632ms\tremaining: 769ms\n",
      "451:\tlearn: 0.2954078\ttotal: 633ms\tremaining: 767ms\n",
      "452:\tlearn: 0.2950464\ttotal: 634ms\tremaining: 766ms\n",
      "453:\tlearn: 0.2943738\ttotal: 635ms\tremaining: 764ms\n",
      "454:\tlearn: 0.2940240\ttotal: 636ms\tremaining: 762ms\n",
      "455:\tlearn: 0.2937387\ttotal: 637ms\tremaining: 760ms\n",
      "456:\tlearn: 0.2932645\ttotal: 638ms\tremaining: 758ms\n",
      "457:\tlearn: 0.2930212\ttotal: 639ms\tremaining: 756ms\n",
      "458:\tlearn: 0.2927047\ttotal: 640ms\tremaining: 755ms\n",
      "459:\tlearn: 0.2925782\ttotal: 641ms\tremaining: 753ms\n",
      "460:\tlearn: 0.2923455\ttotal: 642ms\tremaining: 751ms\n",
      "461:\tlearn: 0.2921114\ttotal: 644ms\tremaining: 749ms\n",
      "462:\tlearn: 0.2918372\ttotal: 645ms\tremaining: 748ms\n",
      "463:\tlearn: 0.2916646\ttotal: 646ms\tremaining: 746ms\n",
      "464:\tlearn: 0.2914858\ttotal: 647ms\tremaining: 744ms\n",
      "465:\tlearn: 0.2913746\ttotal: 648ms\tremaining: 743ms\n",
      "466:\tlearn: 0.2911112\ttotal: 649ms\tremaining: 741ms\n",
      "467:\tlearn: 0.2909419\ttotal: 650ms\tremaining: 739ms\n",
      "468:\tlearn: 0.2907768\ttotal: 652ms\tremaining: 738ms\n",
      "469:\tlearn: 0.2905672\ttotal: 653ms\tremaining: 736ms\n",
      "470:\tlearn: 0.2902868\ttotal: 654ms\tremaining: 734ms\n",
      "471:\tlearn: 0.2901459\ttotal: 655ms\tremaining: 733ms\n",
      "472:\tlearn: 0.2895721\ttotal: 656ms\tremaining: 731ms\n",
      "473:\tlearn: 0.2893069\ttotal: 657ms\tremaining: 729ms\n",
      "474:\tlearn: 0.2892238\ttotal: 658ms\tremaining: 727ms\n",
      "475:\tlearn: 0.2890793\ttotal: 659ms\tremaining: 726ms\n",
      "476:\tlearn: 0.2888606\ttotal: 660ms\tremaining: 724ms\n",
      "477:\tlearn: 0.2885725\ttotal: 661ms\tremaining: 722ms\n",
      "478:\tlearn: 0.2884059\ttotal: 662ms\tremaining: 720ms\n",
      "479:\tlearn: 0.2881226\ttotal: 663ms\tremaining: 719ms\n",
      "480:\tlearn: 0.2878577\ttotal: 664ms\tremaining: 717ms\n",
      "481:\tlearn: 0.2876443\ttotal: 665ms\tremaining: 715ms\n",
      "482:\tlearn: 0.2872679\ttotal: 666ms\tremaining: 713ms\n",
      "483:\tlearn: 0.2869225\ttotal: 667ms\tremaining: 712ms\n",
      "484:\tlearn: 0.2867176\ttotal: 668ms\tremaining: 710ms\n",
      "485:\tlearn: 0.2863829\ttotal: 669ms\tremaining: 708ms\n",
      "486:\tlearn: 0.2862343\ttotal: 670ms\tremaining: 706ms\n",
      "487:\tlearn: 0.2860281\ttotal: 671ms\tremaining: 704ms\n",
      "488:\tlearn: 0.2858158\ttotal: 672ms\tremaining: 703ms\n",
      "489:\tlearn: 0.2857030\ttotal: 673ms\tremaining: 701ms\n",
      "490:\tlearn: 0.2853467\ttotal: 675ms\tremaining: 699ms\n",
      "491:\tlearn: 0.2852238\ttotal: 676ms\tremaining: 698ms\n",
      "492:\tlearn: 0.2848703\ttotal: 677ms\tremaining: 696ms\n",
      "493:\tlearn: 0.2847930\ttotal: 678ms\tremaining: 694ms\n",
      "494:\tlearn: 0.2844460\ttotal: 679ms\tremaining: 692ms\n",
      "495:\tlearn: 0.2842826\ttotal: 680ms\tremaining: 691ms\n",
      "496:\tlearn: 0.2840736\ttotal: 681ms\tremaining: 690ms\n",
      "497:\tlearn: 0.2838086\ttotal: 682ms\tremaining: 688ms\n",
      "498:\tlearn: 0.2836780\ttotal: 683ms\tremaining: 686ms\n",
      "499:\tlearn: 0.2835099\ttotal: 685ms\tremaining: 685ms\n",
      "500:\tlearn: 0.2833241\ttotal: 686ms\tremaining: 683ms\n",
      "501:\tlearn: 0.2831782\ttotal: 687ms\tremaining: 681ms\n",
      "502:\tlearn: 0.2829458\ttotal: 688ms\tremaining: 680ms\n",
      "503:\tlearn: 0.2824786\ttotal: 689ms\tremaining: 678ms\n",
      "504:\tlearn: 0.2823866\ttotal: 690ms\tremaining: 677ms\n",
      "505:\tlearn: 0.2821895\ttotal: 692ms\tremaining: 675ms\n",
      "506:\tlearn: 0.2817553\ttotal: 693ms\tremaining: 673ms\n",
      "507:\tlearn: 0.2815476\ttotal: 694ms\tremaining: 672ms\n",
      "508:\tlearn: 0.2813923\ttotal: 695ms\tremaining: 670ms\n",
      "509:\tlearn: 0.2812253\ttotal: 696ms\tremaining: 668ms\n",
      "510:\tlearn: 0.2811270\ttotal: 697ms\tremaining: 667ms\n",
      "511:\tlearn: 0.2809442\ttotal: 698ms\tremaining: 665ms\n",
      "512:\tlearn: 0.2806583\ttotal: 699ms\tremaining: 664ms\n",
      "513:\tlearn: 0.2804053\ttotal: 700ms\tremaining: 662ms\n",
      "514:\tlearn: 0.2802933\ttotal: 701ms\tremaining: 660ms\n",
      "515:\tlearn: 0.2802130\ttotal: 702ms\tremaining: 659ms\n",
      "516:\tlearn: 0.2800198\ttotal: 703ms\tremaining: 657ms\n",
      "517:\tlearn: 0.2797297\ttotal: 704ms\tremaining: 655ms\n",
      "518:\tlearn: 0.2792613\ttotal: 706ms\tremaining: 654ms\n",
      "519:\tlearn: 0.2791178\ttotal: 707ms\tremaining: 652ms\n",
      "520:\tlearn: 0.2787684\ttotal: 708ms\tremaining: 651ms\n",
      "521:\tlearn: 0.2785238\ttotal: 709ms\tremaining: 649ms\n",
      "522:\tlearn: 0.2784354\ttotal: 710ms\tremaining: 647ms\n",
      "523:\tlearn: 0.2782083\ttotal: 711ms\tremaining: 646ms\n",
      "524:\tlearn: 0.2779862\ttotal: 712ms\tremaining: 644ms\n",
      "525:\tlearn: 0.2778577\ttotal: 713ms\tremaining: 643ms\n",
      "526:\tlearn: 0.2776799\ttotal: 714ms\tremaining: 641ms\n",
      "527:\tlearn: 0.2774047\ttotal: 715ms\tremaining: 639ms\n",
      "528:\tlearn: 0.2770705\ttotal: 716ms\tremaining: 638ms\n",
      "529:\tlearn: 0.2767879\ttotal: 717ms\tremaining: 636ms\n",
      "530:\tlearn: 0.2765573\ttotal: 718ms\tremaining: 634ms\n",
      "531:\tlearn: 0.2762926\ttotal: 720ms\tremaining: 633ms\n",
      "532:\tlearn: 0.2760226\ttotal: 721ms\tremaining: 631ms\n",
      "533:\tlearn: 0.2759634\ttotal: 722ms\tremaining: 630ms\n",
      "534:\tlearn: 0.2755854\ttotal: 723ms\tremaining: 628ms\n",
      "535:\tlearn: 0.2753839\ttotal: 724ms\tremaining: 627ms\n",
      "536:\tlearn: 0.2748993\ttotal: 725ms\tremaining: 625ms\n",
      "537:\tlearn: 0.2747174\ttotal: 726ms\tremaining: 623ms\n",
      "538:\tlearn: 0.2745669\ttotal: 727ms\tremaining: 622ms\n",
      "539:\tlearn: 0.2742959\ttotal: 728ms\tremaining: 620ms\n",
      "540:\tlearn: 0.2740799\ttotal: 730ms\tremaining: 619ms\n",
      "541:\tlearn: 0.2739597\ttotal: 731ms\tremaining: 617ms\n",
      "542:\tlearn: 0.2737468\ttotal: 732ms\tremaining: 616ms\n",
      "543:\tlearn: 0.2736213\ttotal: 733ms\tremaining: 614ms\n",
      "544:\tlearn: 0.2734265\ttotal: 734ms\tremaining: 613ms\n",
      "545:\tlearn: 0.2731554\ttotal: 735ms\tremaining: 611ms\n",
      "546:\tlearn: 0.2730985\ttotal: 736ms\tremaining: 610ms\n",
      "547:\tlearn: 0.2727592\ttotal: 737ms\tremaining: 608ms\n",
      "548:\tlearn: 0.2725759\ttotal: 738ms\tremaining: 606ms\n",
      "549:\tlearn: 0.2723701\ttotal: 739ms\tremaining: 605ms\n",
      "550:\tlearn: 0.2720963\ttotal: 740ms\tremaining: 603ms\n",
      "551:\tlearn: 0.2717838\ttotal: 741ms\tremaining: 602ms\n",
      "552:\tlearn: 0.2716459\ttotal: 742ms\tremaining: 600ms\n",
      "553:\tlearn: 0.2714241\ttotal: 743ms\tremaining: 598ms\n",
      "554:\tlearn: 0.2710796\ttotal: 744ms\tremaining: 597ms\n",
      "555:\tlearn: 0.2708530\ttotal: 745ms\tremaining: 595ms\n",
      "556:\tlearn: 0.2707057\ttotal: 746ms\tremaining: 594ms\n",
      "557:\tlearn: 0.2702598\ttotal: 747ms\tremaining: 592ms\n",
      "558:\tlearn: 0.2701429\ttotal: 748ms\tremaining: 590ms\n",
      "559:\tlearn: 0.2699466\ttotal: 749ms\tremaining: 589ms\n",
      "560:\tlearn: 0.2697293\ttotal: 751ms\tremaining: 587ms\n",
      "561:\tlearn: 0.2694486\ttotal: 752ms\tremaining: 586ms\n",
      "562:\tlearn: 0.2690466\ttotal: 753ms\tremaining: 585ms\n",
      "563:\tlearn: 0.2689248\ttotal: 754ms\tremaining: 583ms\n",
      "564:\tlearn: 0.2686948\ttotal: 755ms\tremaining: 582ms\n",
      "565:\tlearn: 0.2685619\ttotal: 756ms\tremaining: 580ms\n",
      "566:\tlearn: 0.2683828\ttotal: 757ms\tremaining: 578ms\n",
      "567:\tlearn: 0.2679790\ttotal: 758ms\tremaining: 577ms\n",
      "568:\tlearn: 0.2678450\ttotal: 759ms\tremaining: 575ms\n",
      "569:\tlearn: 0.2676119\ttotal: 760ms\tremaining: 574ms\n",
      "570:\tlearn: 0.2673814\ttotal: 761ms\tremaining: 572ms\n",
      "571:\tlearn: 0.2672294\ttotal: 762ms\tremaining: 570ms\n",
      "572:\tlearn: 0.2669753\ttotal: 763ms\tremaining: 569ms\n",
      "573:\tlearn: 0.2668201\ttotal: 764ms\tremaining: 567ms\n",
      "574:\tlearn: 0.2663744\ttotal: 765ms\tremaining: 566ms\n",
      "575:\tlearn: 0.2663089\ttotal: 766ms\tremaining: 564ms\n",
      "576:\tlearn: 0.2661984\ttotal: 767ms\tremaining: 563ms\n",
      "577:\tlearn: 0.2657423\ttotal: 768ms\tremaining: 561ms\n",
      "578:\tlearn: 0.2655906\ttotal: 769ms\tremaining: 560ms\n",
      "579:\tlearn: 0.2652973\ttotal: 770ms\tremaining: 558ms\n",
      "580:\tlearn: 0.2651702\ttotal: 771ms\tremaining: 556ms\n",
      "581:\tlearn: 0.2649804\ttotal: 773ms\tremaining: 555ms\n",
      "582:\tlearn: 0.2648733\ttotal: 774ms\tremaining: 553ms\n",
      "583:\tlearn: 0.2645161\ttotal: 775ms\tremaining: 552ms\n",
      "584:\tlearn: 0.2643629\ttotal: 776ms\tremaining: 550ms\n",
      "585:\tlearn: 0.2640424\ttotal: 777ms\tremaining: 549ms\n",
      "586:\tlearn: 0.2639059\ttotal: 777ms\tremaining: 547ms\n",
      "587:\tlearn: 0.2635783\ttotal: 779ms\tremaining: 546ms\n",
      "588:\tlearn: 0.2633252\ttotal: 780ms\tremaining: 544ms\n",
      "589:\tlearn: 0.2631536\ttotal: 781ms\tremaining: 542ms\n",
      "590:\tlearn: 0.2629800\ttotal: 782ms\tremaining: 541ms\n",
      "591:\tlearn: 0.2626833\ttotal: 783ms\tremaining: 539ms\n",
      "592:\tlearn: 0.2624857\ttotal: 784ms\tremaining: 538ms\n",
      "593:\tlearn: 0.2622796\ttotal: 785ms\tremaining: 536ms\n",
      "594:\tlearn: 0.2619838\ttotal: 786ms\tremaining: 535ms\n",
      "595:\tlearn: 0.2618002\ttotal: 787ms\tremaining: 533ms\n",
      "596:\tlearn: 0.2615721\ttotal: 788ms\tremaining: 532ms\n",
      "597:\tlearn: 0.2615152\ttotal: 789ms\tremaining: 530ms\n",
      "598:\tlearn: 0.2613501\ttotal: 790ms\tremaining: 529ms\n",
      "599:\tlearn: 0.2611080\ttotal: 791ms\tremaining: 527ms\n",
      "600:\tlearn: 0.2609645\ttotal: 792ms\tremaining: 526ms\n",
      "601:\tlearn: 0.2606897\ttotal: 793ms\tremaining: 524ms\n",
      "602:\tlearn: 0.2602639\ttotal: 794ms\tremaining: 523ms\n",
      "603:\tlearn: 0.2599329\ttotal: 795ms\tremaining: 521ms\n",
      "604:\tlearn: 0.2597957\ttotal: 796ms\tremaining: 520ms\n",
      "605:\tlearn: 0.2595943\ttotal: 797ms\tremaining: 518ms\n",
      "606:\tlearn: 0.2593111\ttotal: 798ms\tremaining: 517ms\n",
      "607:\tlearn: 0.2591161\ttotal: 799ms\tremaining: 515ms\n",
      "608:\tlearn: 0.2588429\ttotal: 800ms\tremaining: 514ms\n",
      "609:\tlearn: 0.2586168\ttotal: 801ms\tremaining: 512ms\n",
      "610:\tlearn: 0.2583814\ttotal: 802ms\tremaining: 511ms\n",
      "611:\tlearn: 0.2582859\ttotal: 803ms\tremaining: 509ms\n",
      "612:\tlearn: 0.2581228\ttotal: 804ms\tremaining: 508ms\n",
      "613:\tlearn: 0.2576821\ttotal: 805ms\tremaining: 506ms\n",
      "614:\tlearn: 0.2573665\ttotal: 806ms\tremaining: 505ms\n",
      "615:\tlearn: 0.2571712\ttotal: 807ms\tremaining: 503ms\n",
      "616:\tlearn: 0.2569123\ttotal: 808ms\tremaining: 502ms\n",
      "617:\tlearn: 0.2567421\ttotal: 809ms\tremaining: 500ms\n",
      "618:\tlearn: 0.2565468\ttotal: 810ms\tremaining: 499ms\n",
      "619:\tlearn: 0.2560903\ttotal: 811ms\tremaining: 497ms\n",
      "620:\tlearn: 0.2558848\ttotal: 812ms\tremaining: 496ms\n",
      "621:\tlearn: 0.2557082\ttotal: 813ms\tremaining: 494ms\n",
      "622:\tlearn: 0.2555673\ttotal: 815ms\tremaining: 493ms\n",
      "623:\tlearn: 0.2553104\ttotal: 816ms\tremaining: 491ms\n",
      "624:\tlearn: 0.2551517\ttotal: 817ms\tremaining: 490ms\n",
      "625:\tlearn: 0.2548730\ttotal: 818ms\tremaining: 489ms\n",
      "626:\tlearn: 0.2547001\ttotal: 819ms\tremaining: 487ms\n",
      "627:\tlearn: 0.2545593\ttotal: 820ms\tremaining: 486ms\n",
      "628:\tlearn: 0.2543065\ttotal: 821ms\tremaining: 484ms\n",
      "629:\tlearn: 0.2541924\ttotal: 822ms\tremaining: 483ms\n",
      "630:\tlearn: 0.2540412\ttotal: 823ms\tremaining: 481ms\n",
      "631:\tlearn: 0.2540272\ttotal: 824ms\tremaining: 480ms\n",
      "632:\tlearn: 0.2538574\ttotal: 825ms\tremaining: 478ms\n",
      "633:\tlearn: 0.2535445\ttotal: 826ms\tremaining: 477ms\n",
      "634:\tlearn: 0.2533613\ttotal: 827ms\tremaining: 475ms\n",
      "635:\tlearn: 0.2532291\ttotal: 828ms\tremaining: 474ms\n",
      "636:\tlearn: 0.2529860\ttotal: 829ms\tremaining: 472ms\n",
      "637:\tlearn: 0.2529107\ttotal: 830ms\tremaining: 471ms\n",
      "638:\tlearn: 0.2528306\ttotal: 831ms\tremaining: 469ms\n",
      "639:\tlearn: 0.2527318\ttotal: 832ms\tremaining: 468ms\n",
      "640:\tlearn: 0.2526089\ttotal: 833ms\tremaining: 466ms\n",
      "641:\tlearn: 0.2523294\ttotal: 834ms\tremaining: 465ms\n",
      "642:\tlearn: 0.2521745\ttotal: 835ms\tremaining: 463ms\n",
      "643:\tlearn: 0.2520903\ttotal: 836ms\tremaining: 462ms\n",
      "644:\tlearn: 0.2518111\ttotal: 837ms\tremaining: 461ms\n",
      "645:\tlearn: 0.2517013\ttotal: 838ms\tremaining: 459ms\n",
      "646:\tlearn: 0.2513785\ttotal: 839ms\tremaining: 458ms\n",
      "647:\tlearn: 0.2510264\ttotal: 840ms\tremaining: 456ms\n",
      "648:\tlearn: 0.2509075\ttotal: 841ms\tremaining: 455ms\n",
      "649:\tlearn: 0.2507789\ttotal: 842ms\tremaining: 453ms\n",
      "650:\tlearn: 0.2505793\ttotal: 843ms\tremaining: 452ms\n",
      "651:\tlearn: 0.2504598\ttotal: 844ms\tremaining: 451ms\n",
      "652:\tlearn: 0.2502472\ttotal: 845ms\tremaining: 449ms\n",
      "653:\tlearn: 0.2501631\ttotal: 846ms\tremaining: 448ms\n",
      "654:\tlearn: 0.2500554\ttotal: 847ms\tremaining: 446ms\n",
      "655:\tlearn: 0.2499953\ttotal: 848ms\tremaining: 445ms\n",
      "656:\tlearn: 0.2497997\ttotal: 849ms\tremaining: 443ms\n",
      "657:\tlearn: 0.2496228\ttotal: 850ms\tremaining: 442ms\n",
      "658:\tlearn: 0.2493790\ttotal: 851ms\tremaining: 441ms\n",
      "659:\tlearn: 0.2490870\ttotal: 852ms\tremaining: 439ms\n",
      "660:\tlearn: 0.2489131\ttotal: 854ms\tremaining: 438ms\n",
      "661:\tlearn: 0.2487822\ttotal: 855ms\tremaining: 436ms\n",
      "662:\tlearn: 0.2486344\ttotal: 856ms\tremaining: 435ms\n",
      "663:\tlearn: 0.2485112\ttotal: 857ms\tremaining: 434ms\n",
      "664:\tlearn: 0.2483456\ttotal: 858ms\tremaining: 432ms\n",
      "665:\tlearn: 0.2478812\ttotal: 859ms\tremaining: 431ms\n",
      "666:\tlearn: 0.2477720\ttotal: 861ms\tremaining: 430ms\n",
      "667:\tlearn: 0.2476856\ttotal: 862ms\tremaining: 428ms\n",
      "668:\tlearn: 0.2473703\ttotal: 863ms\tremaining: 427ms\n",
      "669:\tlearn: 0.2469242\ttotal: 864ms\tremaining: 425ms\n",
      "670:\tlearn: 0.2468015\ttotal: 865ms\tremaining: 424ms\n",
      "671:\tlearn: 0.2464829\ttotal: 866ms\tremaining: 423ms\n",
      "672:\tlearn: 0.2462695\ttotal: 867ms\tremaining: 421ms\n",
      "673:\tlearn: 0.2460049\ttotal: 868ms\tremaining: 420ms\n",
      "674:\tlearn: 0.2459397\ttotal: 870ms\tremaining: 419ms\n",
      "675:\tlearn: 0.2457831\ttotal: 871ms\tremaining: 417ms\n",
      "676:\tlearn: 0.2456189\ttotal: 872ms\tremaining: 416ms\n",
      "677:\tlearn: 0.2453592\ttotal: 873ms\tremaining: 415ms\n",
      "678:\tlearn: 0.2450781\ttotal: 874ms\tremaining: 413ms\n",
      "679:\tlearn: 0.2449079\ttotal: 875ms\tremaining: 412ms\n",
      "680:\tlearn: 0.2447622\ttotal: 877ms\tremaining: 411ms\n",
      "681:\tlearn: 0.2446009\ttotal: 878ms\tremaining: 409ms\n",
      "682:\tlearn: 0.2444911\ttotal: 879ms\tremaining: 408ms\n",
      "683:\tlearn: 0.2442647\ttotal: 880ms\tremaining: 407ms\n",
      "684:\tlearn: 0.2439881\ttotal: 881ms\tremaining: 405ms\n",
      "685:\tlearn: 0.2438743\ttotal: 882ms\tremaining: 404ms\n",
      "686:\tlearn: 0.2436232\ttotal: 884ms\tremaining: 403ms\n",
      "687:\tlearn: 0.2432542\ttotal: 885ms\tremaining: 401ms\n",
      "688:\tlearn: 0.2430422\ttotal: 886ms\tremaining: 400ms\n",
      "689:\tlearn: 0.2427875\ttotal: 887ms\tremaining: 399ms\n",
      "690:\tlearn: 0.2426080\ttotal: 888ms\tremaining: 397ms\n",
      "691:\tlearn: 0.2423995\ttotal: 890ms\tremaining: 396ms\n",
      "692:\tlearn: 0.2422839\ttotal: 891ms\tremaining: 395ms\n",
      "693:\tlearn: 0.2419745\ttotal: 892ms\tremaining: 393ms\n",
      "694:\tlearn: 0.2419342\ttotal: 893ms\tremaining: 392ms\n",
      "695:\tlearn: 0.2417488\ttotal: 894ms\tremaining: 391ms\n",
      "696:\tlearn: 0.2416767\ttotal: 896ms\tremaining: 389ms\n",
      "697:\tlearn: 0.2415790\ttotal: 897ms\tremaining: 388ms\n",
      "698:\tlearn: 0.2412939\ttotal: 898ms\tremaining: 387ms\n",
      "699:\tlearn: 0.2411213\ttotal: 899ms\tremaining: 385ms\n",
      "700:\tlearn: 0.2408446\ttotal: 900ms\tremaining: 384ms\n",
      "701:\tlearn: 0.2405587\ttotal: 901ms\tremaining: 382ms\n",
      "702:\tlearn: 0.2403313\ttotal: 902ms\tremaining: 381ms\n",
      "703:\tlearn: 0.2401492\ttotal: 903ms\tremaining: 380ms\n",
      "704:\tlearn: 0.2398918\ttotal: 904ms\tremaining: 378ms\n",
      "705:\tlearn: 0.2396047\ttotal: 905ms\tremaining: 377ms\n",
      "706:\tlearn: 0.2395006\ttotal: 906ms\tremaining: 376ms\n",
      "707:\tlearn: 0.2394055\ttotal: 908ms\tremaining: 374ms\n",
      "708:\tlearn: 0.2392352\ttotal: 909ms\tremaining: 373ms\n",
      "709:\tlearn: 0.2390019\ttotal: 910ms\tremaining: 372ms\n",
      "710:\tlearn: 0.2388457\ttotal: 911ms\tremaining: 370ms\n",
      "711:\tlearn: 0.2386594\ttotal: 913ms\tremaining: 369ms\n",
      "712:\tlearn: 0.2385861\ttotal: 914ms\tremaining: 368ms\n",
      "713:\tlearn: 0.2383764\ttotal: 915ms\tremaining: 366ms\n",
      "714:\tlearn: 0.2382499\ttotal: 916ms\tremaining: 365ms\n",
      "715:\tlearn: 0.2380496\ttotal: 917ms\tremaining: 364ms\n",
      "716:\tlearn: 0.2377915\ttotal: 918ms\tremaining: 362ms\n",
      "717:\tlearn: 0.2376989\ttotal: 919ms\tremaining: 361ms\n",
      "718:\tlearn: 0.2375933\ttotal: 920ms\tremaining: 360ms\n",
      "719:\tlearn: 0.2374398\ttotal: 921ms\tremaining: 358ms\n",
      "720:\tlearn: 0.2372318\ttotal: 923ms\tremaining: 357ms\n",
      "721:\tlearn: 0.2370847\ttotal: 924ms\tremaining: 356ms\n",
      "722:\tlearn: 0.2367496\ttotal: 925ms\tremaining: 354ms\n",
      "723:\tlearn: 0.2363787\ttotal: 926ms\tremaining: 353ms\n",
      "724:\tlearn: 0.2362295\ttotal: 927ms\tremaining: 352ms\n",
      "725:\tlearn: 0.2361886\ttotal: 928ms\tremaining: 350ms\n",
      "726:\tlearn: 0.2360077\ttotal: 929ms\tremaining: 349ms\n",
      "727:\tlearn: 0.2358936\ttotal: 930ms\tremaining: 348ms\n",
      "728:\tlearn: 0.2357625\ttotal: 931ms\tremaining: 346ms\n",
      "729:\tlearn: 0.2356657\ttotal: 933ms\tremaining: 345ms\n",
      "730:\tlearn: 0.2355083\ttotal: 934ms\tremaining: 344ms\n",
      "731:\tlearn: 0.2354345\ttotal: 935ms\tremaining: 342ms\n",
      "732:\tlearn: 0.2353153\ttotal: 936ms\tremaining: 341ms\n",
      "733:\tlearn: 0.2352290\ttotal: 937ms\tremaining: 340ms\n",
      "734:\tlearn: 0.2351001\ttotal: 939ms\tremaining: 338ms\n",
      "735:\tlearn: 0.2349968\ttotal: 940ms\tremaining: 337ms\n",
      "736:\tlearn: 0.2349104\ttotal: 941ms\tremaining: 336ms\n",
      "737:\tlearn: 0.2348057\ttotal: 942ms\tremaining: 334ms\n",
      "738:\tlearn: 0.2346429\ttotal: 943ms\tremaining: 333ms\n",
      "739:\tlearn: 0.2344062\ttotal: 944ms\tremaining: 332ms\n",
      "740:\tlearn: 0.2343251\ttotal: 945ms\tremaining: 330ms\n",
      "741:\tlearn: 0.2339286\ttotal: 947ms\tremaining: 329ms\n",
      "742:\tlearn: 0.2337558\ttotal: 948ms\tremaining: 328ms\n",
      "743:\tlearn: 0.2336824\ttotal: 949ms\tremaining: 326ms\n",
      "744:\tlearn: 0.2336136\ttotal: 950ms\tremaining: 325ms\n",
      "745:\tlearn: 0.2334585\ttotal: 951ms\tremaining: 324ms\n",
      "746:\tlearn: 0.2330439\ttotal: 952ms\tremaining: 322ms\n",
      "747:\tlearn: 0.2327640\ttotal: 953ms\tremaining: 321ms\n",
      "748:\tlearn: 0.2325958\ttotal: 954ms\tremaining: 320ms\n",
      "749:\tlearn: 0.2323885\ttotal: 955ms\tremaining: 318ms\n",
      "750:\tlearn: 0.2321622\ttotal: 956ms\tremaining: 317ms\n",
      "751:\tlearn: 0.2320129\ttotal: 957ms\tremaining: 316ms\n",
      "752:\tlearn: 0.2319447\ttotal: 959ms\tremaining: 314ms\n",
      "753:\tlearn: 0.2318012\ttotal: 960ms\tremaining: 313ms\n",
      "754:\tlearn: 0.2316776\ttotal: 961ms\tremaining: 312ms\n",
      "755:\tlearn: 0.2315503\ttotal: 963ms\tremaining: 311ms\n",
      "756:\tlearn: 0.2313964\ttotal: 965ms\tremaining: 310ms\n",
      "757:\tlearn: 0.2313403\ttotal: 967ms\tremaining: 309ms\n",
      "758:\tlearn: 0.2311582\ttotal: 969ms\tremaining: 308ms\n",
      "759:\tlearn: 0.2309643\ttotal: 970ms\tremaining: 306ms\n",
      "760:\tlearn: 0.2308683\ttotal: 971ms\tremaining: 305ms\n",
      "761:\tlearn: 0.2306519\ttotal: 972ms\tremaining: 304ms\n",
      "762:\tlearn: 0.2304512\ttotal: 974ms\tremaining: 302ms\n",
      "763:\tlearn: 0.2303585\ttotal: 975ms\tremaining: 301ms\n",
      "764:\tlearn: 0.2301186\ttotal: 976ms\tremaining: 300ms\n",
      "765:\tlearn: 0.2299520\ttotal: 977ms\tremaining: 299ms\n",
      "766:\tlearn: 0.2298211\ttotal: 978ms\tremaining: 297ms\n",
      "767:\tlearn: 0.2296461\ttotal: 980ms\tremaining: 296ms\n",
      "768:\tlearn: 0.2294316\ttotal: 981ms\tremaining: 295ms\n",
      "769:\tlearn: 0.2292530\ttotal: 983ms\tremaining: 294ms\n",
      "770:\tlearn: 0.2290728\ttotal: 984ms\tremaining: 292ms\n",
      "771:\tlearn: 0.2288433\ttotal: 985ms\tremaining: 291ms\n",
      "772:\tlearn: 0.2287000\ttotal: 986ms\tremaining: 290ms\n",
      "773:\tlearn: 0.2284832\ttotal: 987ms\tremaining: 288ms\n",
      "774:\tlearn: 0.2283585\ttotal: 988ms\tremaining: 287ms\n",
      "775:\tlearn: 0.2282229\ttotal: 990ms\tremaining: 286ms\n",
      "776:\tlearn: 0.2281303\ttotal: 991ms\tremaining: 284ms\n",
      "777:\tlearn: 0.2279449\ttotal: 992ms\tremaining: 283ms\n",
      "778:\tlearn: 0.2277649\ttotal: 993ms\tremaining: 282ms\n",
      "779:\tlearn: 0.2276696\ttotal: 995ms\tremaining: 281ms\n",
      "780:\tlearn: 0.2274767\ttotal: 996ms\tremaining: 279ms\n",
      "781:\tlearn: 0.2272327\ttotal: 998ms\tremaining: 278ms\n",
      "782:\tlearn: 0.2270917\ttotal: 1000ms\tremaining: 277ms\n",
      "783:\tlearn: 0.2269343\ttotal: 1s\tremaining: 276ms\n",
      "784:\tlearn: 0.2266742\ttotal: 1s\tremaining: 275ms\n",
      "785:\tlearn: 0.2264986\ttotal: 1s\tremaining: 274ms\n",
      "786:\tlearn: 0.2263188\ttotal: 1.01s\tremaining: 272ms\n",
      "787:\tlearn: 0.2261086\ttotal: 1.01s\tremaining: 271ms\n",
      "788:\tlearn: 0.2258824\ttotal: 1.01s\tremaining: 270ms\n",
      "789:\tlearn: 0.2256495\ttotal: 1.01s\tremaining: 269ms\n",
      "790:\tlearn: 0.2253640\ttotal: 1.01s\tremaining: 267ms\n",
      "791:\tlearn: 0.2253015\ttotal: 1.01s\tremaining: 266ms\n",
      "792:\tlearn: 0.2251932\ttotal: 1.01s\tremaining: 265ms\n",
      "793:\tlearn: 0.2250610\ttotal: 1.02s\tremaining: 264ms\n",
      "794:\tlearn: 0.2249378\ttotal: 1.02s\tremaining: 263ms\n",
      "795:\tlearn: 0.2247418\ttotal: 1.02s\tremaining: 261ms\n",
      "796:\tlearn: 0.2243590\ttotal: 1.02s\tremaining: 260ms\n",
      "797:\tlearn: 0.2241881\ttotal: 1.02s\tremaining: 259ms\n",
      "798:\tlearn: 0.2239846\ttotal: 1.02s\tremaining: 257ms\n",
      "799:\tlearn: 0.2238098\ttotal: 1.02s\tremaining: 256ms\n",
      "800:\tlearn: 0.2237013\ttotal: 1.03s\tremaining: 255ms\n",
      "801:\tlearn: 0.2235843\ttotal: 1.03s\tremaining: 254ms\n",
      "802:\tlearn: 0.2234171\ttotal: 1.03s\tremaining: 253ms\n",
      "803:\tlearn: 0.2232202\ttotal: 1.03s\tremaining: 252ms\n",
      "804:\tlearn: 0.2230832\ttotal: 1.03s\tremaining: 251ms\n",
      "805:\tlearn: 0.2229630\ttotal: 1.03s\tremaining: 249ms\n",
      "806:\tlearn: 0.2227556\ttotal: 1.04s\tremaining: 248ms\n",
      "807:\tlearn: 0.2225513\ttotal: 1.04s\tremaining: 247ms\n",
      "808:\tlearn: 0.2224407\ttotal: 1.04s\tremaining: 246ms\n",
      "809:\tlearn: 0.2223815\ttotal: 1.04s\tremaining: 245ms\n",
      "810:\tlearn: 0.2221158\ttotal: 1.05s\tremaining: 244ms\n",
      "811:\tlearn: 0.2218880\ttotal: 1.05s\tremaining: 243ms\n",
      "812:\tlearn: 0.2217191\ttotal: 1.05s\tremaining: 242ms\n",
      "813:\tlearn: 0.2216216\ttotal: 1.05s\tremaining: 241ms\n",
      "814:\tlearn: 0.2214471\ttotal: 1.05s\tremaining: 239ms\n",
      "815:\tlearn: 0.2212460\ttotal: 1.06s\tremaining: 238ms\n",
      "816:\tlearn: 0.2210716\ttotal: 1.06s\tremaining: 237ms\n",
      "817:\tlearn: 0.2207700\ttotal: 1.06s\tremaining: 236ms\n",
      "818:\tlearn: 0.2206518\ttotal: 1.06s\tremaining: 234ms\n",
      "819:\tlearn: 0.2205547\ttotal: 1.06s\tremaining: 233ms\n",
      "820:\tlearn: 0.2202621\ttotal: 1.06s\tremaining: 232ms\n",
      "821:\tlearn: 0.2200709\ttotal: 1.06s\tremaining: 231ms\n",
      "822:\tlearn: 0.2199827\ttotal: 1.06s\tremaining: 229ms\n",
      "823:\tlearn: 0.2198117\ttotal: 1.07s\tremaining: 228ms\n",
      "824:\tlearn: 0.2196338\ttotal: 1.07s\tremaining: 227ms\n",
      "825:\tlearn: 0.2193833\ttotal: 1.07s\tremaining: 226ms\n",
      "826:\tlearn: 0.2191040\ttotal: 1.07s\tremaining: 224ms\n",
      "827:\tlearn: 0.2188188\ttotal: 1.07s\tremaining: 223ms\n",
      "828:\tlearn: 0.2186232\ttotal: 1.07s\tremaining: 222ms\n",
      "829:\tlearn: 0.2184637\ttotal: 1.07s\tremaining: 220ms\n",
      "830:\tlearn: 0.2183447\ttotal: 1.08s\tremaining: 219ms\n",
      "831:\tlearn: 0.2181185\ttotal: 1.08s\tremaining: 218ms\n",
      "832:\tlearn: 0.2179230\ttotal: 1.08s\tremaining: 216ms\n",
      "833:\tlearn: 0.2177289\ttotal: 1.08s\tremaining: 215ms\n",
      "834:\tlearn: 0.2174576\ttotal: 1.08s\tremaining: 214ms\n",
      "835:\tlearn: 0.2173258\ttotal: 1.08s\tremaining: 212ms\n",
      "836:\tlearn: 0.2171739\ttotal: 1.08s\tremaining: 211ms\n",
      "837:\tlearn: 0.2169270\ttotal: 1.08s\tremaining: 210ms\n",
      "838:\tlearn: 0.2166864\ttotal: 1.08s\tremaining: 208ms\n",
      "839:\tlearn: 0.2164157\ttotal: 1.09s\tremaining: 207ms\n",
      "840:\tlearn: 0.2163378\ttotal: 1.09s\tremaining: 206ms\n",
      "841:\tlearn: 0.2162199\ttotal: 1.09s\tremaining: 204ms\n",
      "842:\tlearn: 0.2158899\ttotal: 1.09s\tremaining: 203ms\n",
      "843:\tlearn: 0.2158699\ttotal: 1.09s\tremaining: 202ms\n",
      "844:\tlearn: 0.2157586\ttotal: 1.09s\tremaining: 200ms\n",
      "845:\tlearn: 0.2155410\ttotal: 1.09s\tremaining: 199ms\n",
      "846:\tlearn: 0.2153727\ttotal: 1.09s\tremaining: 198ms\n",
      "847:\tlearn: 0.2151920\ttotal: 1.1s\tremaining: 197ms\n",
      "848:\tlearn: 0.2148853\ttotal: 1.1s\tremaining: 195ms\n",
      "849:\tlearn: 0.2148101\ttotal: 1.1s\tremaining: 194ms\n",
      "850:\tlearn: 0.2146415\ttotal: 1.1s\tremaining: 193ms\n",
      "851:\tlearn: 0.2144046\ttotal: 1.1s\tremaining: 191ms\n",
      "852:\tlearn: 0.2143299\ttotal: 1.1s\tremaining: 190ms\n",
      "853:\tlearn: 0.2141792\ttotal: 1.1s\tremaining: 189ms\n",
      "854:\tlearn: 0.2141206\ttotal: 1.1s\tremaining: 188ms\n",
      "855:\tlearn: 0.2139337\ttotal: 1.11s\tremaining: 186ms\n",
      "856:\tlearn: 0.2136557\ttotal: 1.11s\tremaining: 185ms\n",
      "857:\tlearn: 0.2134691\ttotal: 1.11s\tremaining: 184ms\n",
      "858:\tlearn: 0.2132437\ttotal: 1.11s\tremaining: 182ms\n",
      "859:\tlearn: 0.2130466\ttotal: 1.11s\tremaining: 181ms\n",
      "860:\tlearn: 0.2129277\ttotal: 1.11s\tremaining: 180ms\n",
      "861:\tlearn: 0.2125050\ttotal: 1.11s\tremaining: 178ms\n",
      "862:\tlearn: 0.2122203\ttotal: 1.11s\tremaining: 177ms\n",
      "863:\tlearn: 0.2121312\ttotal: 1.11s\tremaining: 176ms\n",
      "864:\tlearn: 0.2120307\ttotal: 1.12s\tremaining: 174ms\n",
      "865:\tlearn: 0.2118465\ttotal: 1.12s\tremaining: 173ms\n",
      "866:\tlearn: 0.2117302\ttotal: 1.12s\tremaining: 172ms\n",
      "867:\tlearn: 0.2114227\ttotal: 1.12s\tremaining: 170ms\n",
      "868:\tlearn: 0.2113260\ttotal: 1.12s\tremaining: 169ms\n",
      "869:\tlearn: 0.2111942\ttotal: 1.12s\tremaining: 168ms\n",
      "870:\tlearn: 0.2110035\ttotal: 1.12s\tremaining: 166ms\n",
      "871:\tlearn: 0.2107816\ttotal: 1.12s\tremaining: 165ms\n",
      "872:\tlearn: 0.2104724\ttotal: 1.13s\tremaining: 164ms\n",
      "873:\tlearn: 0.2102684\ttotal: 1.13s\tremaining: 162ms\n",
      "874:\tlearn: 0.2101032\ttotal: 1.13s\tremaining: 161ms\n",
      "875:\tlearn: 0.2099989\ttotal: 1.13s\tremaining: 160ms\n",
      "876:\tlearn: 0.2099035\ttotal: 1.13s\tremaining: 158ms\n",
      "877:\tlearn: 0.2097173\ttotal: 1.13s\tremaining: 157ms\n",
      "878:\tlearn: 0.2095486\ttotal: 1.13s\tremaining: 156ms\n",
      "879:\tlearn: 0.2093830\ttotal: 1.13s\tremaining: 155ms\n",
      "880:\tlearn: 0.2092829\ttotal: 1.13s\tremaining: 153ms\n",
      "881:\tlearn: 0.2089713\ttotal: 1.14s\tremaining: 152ms\n",
      "882:\tlearn: 0.2087959\ttotal: 1.14s\tremaining: 151ms\n",
      "883:\tlearn: 0.2087119\ttotal: 1.14s\tremaining: 149ms\n",
      "884:\tlearn: 0.2086137\ttotal: 1.14s\tremaining: 148ms\n",
      "885:\tlearn: 0.2084851\ttotal: 1.14s\tremaining: 147ms\n",
      "886:\tlearn: 0.2082519\ttotal: 1.14s\tremaining: 145ms\n",
      "887:\tlearn: 0.2082281\ttotal: 1.14s\tremaining: 144ms\n",
      "888:\tlearn: 0.2080446\ttotal: 1.14s\tremaining: 143ms\n",
      "889:\tlearn: 0.2079331\ttotal: 1.14s\tremaining: 141ms\n",
      "890:\tlearn: 0.2076840\ttotal: 1.14s\tremaining: 140ms\n",
      "891:\tlearn: 0.2074361\ttotal: 1.15s\tremaining: 139ms\n",
      "892:\tlearn: 0.2072691\ttotal: 1.15s\tremaining: 137ms\n",
      "893:\tlearn: 0.2071863\ttotal: 1.15s\tremaining: 136ms\n",
      "894:\tlearn: 0.2070482\ttotal: 1.15s\tremaining: 135ms\n",
      "895:\tlearn: 0.2068719\ttotal: 1.15s\tremaining: 133ms\n",
      "896:\tlearn: 0.2068010\ttotal: 1.15s\tremaining: 132ms\n",
      "897:\tlearn: 0.2066289\ttotal: 1.15s\tremaining: 131ms\n",
      "898:\tlearn: 0.2065124\ttotal: 1.15s\tremaining: 130ms\n",
      "899:\tlearn: 0.2063746\ttotal: 1.15s\tremaining: 128ms\n",
      "900:\tlearn: 0.2060329\ttotal: 1.16s\tremaining: 127ms\n",
      "901:\tlearn: 0.2059134\ttotal: 1.16s\tremaining: 126ms\n",
      "902:\tlearn: 0.2056670\ttotal: 1.16s\tremaining: 124ms\n",
      "903:\tlearn: 0.2055800\ttotal: 1.16s\tremaining: 123ms\n",
      "904:\tlearn: 0.2054935\ttotal: 1.16s\tremaining: 122ms\n",
      "905:\tlearn: 0.2054216\ttotal: 1.16s\tremaining: 120ms\n",
      "906:\tlearn: 0.2053141\ttotal: 1.16s\tremaining: 119ms\n",
      "907:\tlearn: 0.2051578\ttotal: 1.16s\tremaining: 118ms\n",
      "908:\tlearn: 0.2051277\ttotal: 1.16s\tremaining: 117ms\n",
      "909:\tlearn: 0.2049773\ttotal: 1.16s\tremaining: 115ms\n",
      "910:\tlearn: 0.2049041\ttotal: 1.17s\tremaining: 114ms\n",
      "911:\tlearn: 0.2048033\ttotal: 1.17s\tremaining: 113ms\n",
      "912:\tlearn: 0.2046646\ttotal: 1.17s\tremaining: 111ms\n",
      "913:\tlearn: 0.2045087\ttotal: 1.17s\tremaining: 110ms\n",
      "914:\tlearn: 0.2043556\ttotal: 1.17s\tremaining: 109ms\n",
      "915:\tlearn: 0.2042029\ttotal: 1.17s\tremaining: 107ms\n",
      "916:\tlearn: 0.2041374\ttotal: 1.17s\tremaining: 106ms\n",
      "917:\tlearn: 0.2039668\ttotal: 1.17s\tremaining: 105ms\n",
      "918:\tlearn: 0.2038225\ttotal: 1.17s\tremaining: 104ms\n",
      "919:\tlearn: 0.2037351\ttotal: 1.18s\tremaining: 102ms\n",
      "920:\tlearn: 0.2035562\ttotal: 1.18s\tremaining: 101ms\n",
      "921:\tlearn: 0.2033158\ttotal: 1.18s\tremaining: 99.6ms\n",
      "922:\tlearn: 0.2031272\ttotal: 1.18s\tremaining: 98.3ms\n",
      "923:\tlearn: 0.2028653\ttotal: 1.18s\tremaining: 97ms\n",
      "924:\tlearn: 0.2027730\ttotal: 1.18s\tremaining: 95.7ms\n",
      "925:\tlearn: 0.2025642\ttotal: 1.18s\tremaining: 94.4ms\n",
      "926:\tlearn: 0.2025182\ttotal: 1.18s\tremaining: 93.2ms\n",
      "927:\tlearn: 0.2023242\ttotal: 1.18s\tremaining: 91.9ms\n",
      "928:\tlearn: 0.2021505\ttotal: 1.19s\tremaining: 90.6ms\n",
      "929:\tlearn: 0.2019405\ttotal: 1.19s\tremaining: 89.3ms\n",
      "930:\tlearn: 0.2018581\ttotal: 1.19s\tremaining: 88ms\n",
      "931:\tlearn: 0.2015040\ttotal: 1.19s\tremaining: 86.7ms\n",
      "932:\tlearn: 0.2012963\ttotal: 1.19s\tremaining: 85.4ms\n",
      "933:\tlearn: 0.2011157\ttotal: 1.19s\tremaining: 84.2ms\n",
      "934:\tlearn: 0.2010048\ttotal: 1.19s\tremaining: 82.9ms\n",
      "935:\tlearn: 0.2008797\ttotal: 1.19s\tremaining: 81.6ms\n",
      "936:\tlearn: 0.2006119\ttotal: 1.19s\tremaining: 80.3ms\n",
      "937:\tlearn: 0.2003997\ttotal: 1.19s\tremaining: 79ms\n",
      "938:\tlearn: 0.2002994\ttotal: 1.2s\tremaining: 77.7ms\n",
      "939:\tlearn: 0.2001781\ttotal: 1.2s\tremaining: 76.4ms\n",
      "940:\tlearn: 0.2001108\ttotal: 1.2s\tremaining: 75.1ms\n",
      "941:\tlearn: 0.1998029\ttotal: 1.2s\tremaining: 73.9ms\n",
      "942:\tlearn: 0.1996730\ttotal: 1.2s\tremaining: 72.6ms\n",
      "943:\tlearn: 0.1996001\ttotal: 1.2s\tremaining: 71.3ms\n",
      "944:\tlearn: 0.1995043\ttotal: 1.2s\tremaining: 70ms\n",
      "945:\tlearn: 0.1993791\ttotal: 1.2s\tremaining: 68.7ms\n",
      "946:\tlearn: 0.1993067\ttotal: 1.21s\tremaining: 67.5ms\n",
      "947:\tlearn: 0.1991825\ttotal: 1.21s\tremaining: 66.2ms\n",
      "948:\tlearn: 0.1991477\ttotal: 1.21s\tremaining: 64.9ms\n",
      "949:\tlearn: 0.1989893\ttotal: 1.21s\tremaining: 63.6ms\n",
      "950:\tlearn: 0.1989476\ttotal: 1.21s\tremaining: 62.3ms\n",
      "951:\tlearn: 0.1988571\ttotal: 1.21s\tremaining: 61ms\n",
      "952:\tlearn: 0.1987463\ttotal: 1.21s\tremaining: 59.8ms\n",
      "953:\tlearn: 0.1985914\ttotal: 1.21s\tremaining: 58.5ms\n",
      "954:\tlearn: 0.1984601\ttotal: 1.21s\tremaining: 57.2ms\n",
      "955:\tlearn: 0.1983558\ttotal: 1.21s\tremaining: 55.9ms\n",
      "956:\tlearn: 0.1981887\ttotal: 1.22s\tremaining: 54.6ms\n",
      "957:\tlearn: 0.1979755\ttotal: 1.22s\tremaining: 53.4ms\n",
      "958:\tlearn: 0.1978122\ttotal: 1.22s\tremaining: 52.1ms\n",
      "959:\tlearn: 0.1976791\ttotal: 1.22s\tremaining: 50.8ms\n",
      "960:\tlearn: 0.1976331\ttotal: 1.22s\tremaining: 49.5ms\n",
      "961:\tlearn: 0.1974878\ttotal: 1.22s\tremaining: 48.3ms\n",
      "962:\tlearn: 0.1973825\ttotal: 1.22s\tremaining: 47ms\n",
      "963:\tlearn: 0.1973230\ttotal: 1.22s\tremaining: 45.7ms\n",
      "964:\tlearn: 0.1970565\ttotal: 1.22s\tremaining: 44.4ms\n",
      "965:\tlearn: 0.1969765\ttotal: 1.23s\tremaining: 43.2ms\n",
      "966:\tlearn: 0.1967186\ttotal: 1.23s\tremaining: 41.9ms\n",
      "967:\tlearn: 0.1965649\ttotal: 1.23s\tremaining: 40.6ms\n",
      "968:\tlearn: 0.1964461\ttotal: 1.23s\tremaining: 39.3ms\n",
      "969:\tlearn: 0.1962676\ttotal: 1.23s\tremaining: 38.1ms\n",
      "970:\tlearn: 0.1961347\ttotal: 1.23s\tremaining: 36.8ms\n",
      "971:\tlearn: 0.1960023\ttotal: 1.23s\tremaining: 35.5ms\n",
      "972:\tlearn: 0.1958286\ttotal: 1.23s\tremaining: 34.3ms\n",
      "973:\tlearn: 0.1956880\ttotal: 1.24s\tremaining: 33ms\n",
      "974:\tlearn: 0.1955273\ttotal: 1.24s\tremaining: 31.7ms\n",
      "975:\tlearn: 0.1954718\ttotal: 1.24s\tremaining: 30.4ms\n",
      "976:\tlearn: 0.1954058\ttotal: 1.24s\tremaining: 29.2ms\n",
      "977:\tlearn: 0.1953148\ttotal: 1.24s\tremaining: 27.9ms\n",
      "978:\tlearn: 0.1951338\ttotal: 1.24s\tremaining: 26.6ms\n",
      "979:\tlearn: 0.1950429\ttotal: 1.24s\tremaining: 25.3ms\n",
      "980:\tlearn: 0.1950004\ttotal: 1.24s\tremaining: 24.1ms\n",
      "981:\tlearn: 0.1948226\ttotal: 1.24s\tremaining: 22.8ms\n",
      "982:\tlearn: 0.1946439\ttotal: 1.25s\tremaining: 21.5ms\n",
      "983:\tlearn: 0.1945826\ttotal: 1.25s\tremaining: 20.3ms\n",
      "984:\tlearn: 0.1944658\ttotal: 1.25s\tremaining: 19ms\n",
      "985:\tlearn: 0.1943315\ttotal: 1.25s\tremaining: 17.7ms\n",
      "986:\tlearn: 0.1941699\ttotal: 1.25s\tremaining: 16.5ms\n",
      "987:\tlearn: 0.1939214\ttotal: 1.25s\tremaining: 15.2ms\n",
      "988:\tlearn: 0.1937600\ttotal: 1.25s\tremaining: 13.9ms\n",
      "989:\tlearn: 0.1936543\ttotal: 1.25s\tremaining: 12.7ms\n",
      "990:\tlearn: 0.1935242\ttotal: 1.25s\tremaining: 11.4ms\n",
      "991:\tlearn: 0.1933722\ttotal: 1.25s\tremaining: 10.1ms\n",
      "992:\tlearn: 0.1932137\ttotal: 1.25s\tremaining: 8.85ms\n",
      "993:\tlearn: 0.1931190\ttotal: 1.26s\tremaining: 7.59ms\n",
      "994:\tlearn: 0.1930025\ttotal: 1.26s\tremaining: 6.32ms\n",
      "995:\tlearn: 0.1929036\ttotal: 1.26s\tremaining: 5.06ms\n",
      "996:\tlearn: 0.1927199\ttotal: 1.26s\tremaining: 3.79ms\n",
      "997:\tlearn: 0.1927060\ttotal: 1.26s\tremaining: 2.53ms\n",
      "998:\tlearn: 0.1926449\ttotal: 1.26s\tremaining: 1.26ms\n",
      "999:\tlearn: 0.1925922\ttotal: 1.26s\tremaining: 0us\n"
     ]
    }
   ],
   "source": [
    "cat_model = CatBoostClassifier().fit(X_train, y_train)"
   ]
  },
  {
   "cell_type": "code",
   "execution_count": 164,
   "id": "6c318af4-f1fa-4872-b092-b1a5e5570e20",
   "metadata": {},
   "outputs": [
    {
     "data": {
      "text/plain": [
       "0.7402597402597403"
      ]
     },
     "execution_count": 164,
     "metadata": {},
     "output_type": "execute_result"
    }
   ],
   "source": [
    "y_pred = cat_model.predict(X_test)\n",
    "accuracy_score(y_test, y_pred)"
   ]
  },
  {
   "cell_type": "markdown",
   "id": "51808f86-b23b-42b1-a429-231d61263fb4",
   "metadata": {},
   "source": [
    "## Model Tuning"
   ]
  },
  {
   "cell_type": "code",
   "execution_count": 165,
   "id": "c0021570-ce5e-4b06-9b78-9f8146cad456",
   "metadata": {},
   "outputs": [],
   "source": [
    "catb_params = {\n",
    "    'iterations': [200,500],\n",
    "    'learning_rate': [0.01,0.05, 0.1],\n",
    "    'depth': [3,5,8] }"
   ]
  },
  {
   "cell_type": "code",
   "execution_count": 166,
   "id": "6b6bbf48-f10a-494d-a6f7-4b590b09ccf1",
   "metadata": {},
   "outputs": [
    {
     "name": "stdout",
     "output_type": "stream",
     "text": [
      "Fitting 5 folds for each of 18 candidates, totalling 90 fits\n",
      "0:\tlearn: 0.6863312\ttotal: 3.03ms\tremaining: 602ms\n",
      "1:\tlearn: 0.6811157\ttotal: 6.19ms\tremaining: 613ms\n",
      "2:\tlearn: 0.6752970\ttotal: 9.07ms\tremaining: 596ms\n",
      "3:\tlearn: 0.6697432\ttotal: 12ms\tremaining: 588ms\n",
      "4:\tlearn: 0.6641758\ttotal: 15ms\tremaining: 586ms\n",
      "5:\tlearn: 0.6576656\ttotal: 17.9ms\tremaining: 577ms\n",
      "6:\tlearn: 0.6521870\ttotal: 20.7ms\tremaining: 570ms\n",
      "7:\tlearn: 0.6465564\ttotal: 23.6ms\tremaining: 567ms\n",
      "8:\tlearn: 0.6407595\ttotal: 26.8ms\tremaining: 568ms\n",
      "9:\tlearn: 0.6357725\ttotal: 29.7ms\tremaining: 565ms\n",
      "10:\tlearn: 0.6299942\ttotal: 32.5ms\tremaining: 558ms\n",
      "11:\tlearn: 0.6240480\ttotal: 35.3ms\tremaining: 553ms\n",
      "12:\tlearn: 0.6196095\ttotal: 38.4ms\tremaining: 552ms\n",
      "13:\tlearn: 0.6148715\ttotal: 41.6ms\tremaining: 553ms\n",
      "14:\tlearn: 0.6092626\ttotal: 44.7ms\tremaining: 551ms\n",
      "15:\tlearn: 0.6046764\ttotal: 47.5ms\tremaining: 546ms\n",
      "16:\tlearn: 0.6012725\ttotal: 50.5ms\tremaining: 543ms\n",
      "17:\tlearn: 0.5958121\ttotal: 53.6ms\tremaining: 542ms\n",
      "18:\tlearn: 0.5903243\ttotal: 57ms\tremaining: 543ms\n",
      "19:\tlearn: 0.5866024\ttotal: 59.9ms\tremaining: 539ms\n",
      "20:\tlearn: 0.5831390\ttotal: 62.9ms\tremaining: 536ms\n",
      "21:\tlearn: 0.5787381\ttotal: 65.9ms\tremaining: 533ms\n",
      "22:\tlearn: 0.5749016\ttotal: 69ms\tremaining: 531ms\n",
      "23:\tlearn: 0.5703199\ttotal: 72.2ms\tremaining: 529ms\n",
      "24:\tlearn: 0.5662368\ttotal: 75ms\tremaining: 525ms\n",
      "25:\tlearn: 0.5628682\ttotal: 77.8ms\tremaining: 521ms\n",
      "26:\tlearn: 0.5589082\ttotal: 80.6ms\tremaining: 517ms\n",
      "27:\tlearn: 0.5543910\ttotal: 83.6ms\tremaining: 514ms\n",
      "28:\tlearn: 0.5503864\ttotal: 86.7ms\tremaining: 512ms\n",
      "29:\tlearn: 0.5470574\ttotal: 89.6ms\tremaining: 508ms\n",
      "30:\tlearn: 0.5441267\ttotal: 92.6ms\tremaining: 505ms\n",
      "31:\tlearn: 0.5396280\ttotal: 95.4ms\tremaining: 501ms\n",
      "32:\tlearn: 0.5356242\ttotal: 98.4ms\tremaining: 498ms\n",
      "33:\tlearn: 0.5315397\ttotal: 101ms\tremaining: 494ms\n",
      "34:\tlearn: 0.5279847\ttotal: 104ms\tremaining: 491ms\n",
      "35:\tlearn: 0.5248380\ttotal: 107ms\tremaining: 487ms\n",
      "36:\tlearn: 0.5223885\ttotal: 110ms\tremaining: 483ms\n",
      "37:\tlearn: 0.5198269\ttotal: 112ms\tremaining: 479ms\n",
      "38:\tlearn: 0.5167431\ttotal: 115ms\tremaining: 476ms\n",
      "39:\tlearn: 0.5138833\ttotal: 118ms\tremaining: 473ms\n",
      "40:\tlearn: 0.5101494\ttotal: 122ms\tremaining: 472ms\n",
      "41:\tlearn: 0.5066102\ttotal: 124ms\tremaining: 468ms\n",
      "42:\tlearn: 0.5033714\ttotal: 127ms\tremaining: 463ms\n",
      "43:\tlearn: 0.5005898\ttotal: 129ms\tremaining: 459ms\n",
      "44:\tlearn: 0.4980703\ttotal: 132ms\tremaining: 455ms\n",
      "45:\tlearn: 0.4959251\ttotal: 135ms\tremaining: 451ms\n",
      "46:\tlearn: 0.4933987\ttotal: 138ms\tremaining: 448ms\n",
      "47:\tlearn: 0.4906194\ttotal: 140ms\tremaining: 444ms\n",
      "48:\tlearn: 0.4878359\ttotal: 143ms\tremaining: 440ms\n",
      "49:\tlearn: 0.4850755\ttotal: 146ms\tremaining: 437ms\n",
      "50:\tlearn: 0.4825927\ttotal: 148ms\tremaining: 433ms\n",
      "51:\tlearn: 0.4798298\ttotal: 151ms\tremaining: 431ms\n",
      "52:\tlearn: 0.4776108\ttotal: 154ms\tremaining: 427ms\n",
      "53:\tlearn: 0.4754405\ttotal: 157ms\tremaining: 423ms\n",
      "54:\tlearn: 0.4733501\ttotal: 159ms\tremaining: 420ms\n",
      "55:\tlearn: 0.4706076\ttotal: 162ms\tremaining: 416ms\n",
      "56:\tlearn: 0.4677355\ttotal: 165ms\tremaining: 414ms\n",
      "57:\tlearn: 0.4656740\ttotal: 168ms\tremaining: 411ms\n",
      "58:\tlearn: 0.4637413\ttotal: 170ms\tremaining: 407ms\n",
      "59:\tlearn: 0.4615248\ttotal: 173ms\tremaining: 404ms\n",
      "60:\tlearn: 0.4599759\ttotal: 176ms\tremaining: 400ms\n",
      "61:\tlearn: 0.4583985\ttotal: 177ms\tremaining: 393ms\n",
      "62:\tlearn: 0.4567064\ttotal: 179ms\tremaining: 390ms\n",
      "63:\tlearn: 0.4540942\ttotal: 182ms\tremaining: 387ms\n",
      "64:\tlearn: 0.4529822\ttotal: 183ms\tremaining: 380ms\n",
      "65:\tlearn: 0.4512090\ttotal: 186ms\tremaining: 378ms\n",
      "66:\tlearn: 0.4486739\ttotal: 189ms\tremaining: 375ms\n",
      "67:\tlearn: 0.4467865\ttotal: 192ms\tremaining: 372ms\n",
      "68:\tlearn: 0.4449614\ttotal: 195ms\tremaining: 369ms\n",
      "69:\tlearn: 0.4426120\ttotal: 197ms\tremaining: 366ms\n",
      "70:\tlearn: 0.4401612\ttotal: 200ms\tremaining: 363ms\n",
      "71:\tlearn: 0.4380696\ttotal: 203ms\tremaining: 360ms\n",
      "72:\tlearn: 0.4367153\ttotal: 205ms\tremaining: 357ms\n",
      "73:\tlearn: 0.4353223\ttotal: 208ms\tremaining: 355ms\n",
      "74:\tlearn: 0.4339943\ttotal: 212ms\tremaining: 354ms\n",
      "75:\tlearn: 0.4315641\ttotal: 215ms\tremaining: 351ms\n",
      "76:\tlearn: 0.4298680\ttotal: 218ms\tremaining: 348ms\n",
      "77:\tlearn: 0.4285275\ttotal: 221ms\tremaining: 345ms\n",
      "78:\tlearn: 0.4265791\ttotal: 223ms\tremaining: 342ms\n",
      "79:\tlearn: 0.4244024\ttotal: 226ms\tremaining: 339ms\n",
      "80:\tlearn: 0.4228361\ttotal: 230ms\tremaining: 337ms\n",
      "81:\tlearn: 0.4214212\ttotal: 232ms\tremaining: 334ms\n",
      "82:\tlearn: 0.4200602\ttotal: 235ms\tremaining: 331ms\n",
      "83:\tlearn: 0.4184320\ttotal: 238ms\tremaining: 328ms\n",
      "84:\tlearn: 0.4167986\ttotal: 240ms\tremaining: 325ms\n",
      "85:\tlearn: 0.4156404\ttotal: 243ms\tremaining: 322ms\n",
      "86:\tlearn: 0.4140656\ttotal: 245ms\tremaining: 319ms\n",
      "87:\tlearn: 0.4124223\ttotal: 248ms\tremaining: 316ms\n",
      "88:\tlearn: 0.4107329\ttotal: 251ms\tremaining: 312ms\n",
      "89:\tlearn: 0.4090922\ttotal: 253ms\tremaining: 309ms\n",
      "90:\tlearn: 0.4075416\ttotal: 256ms\tremaining: 306ms\n",
      "91:\tlearn: 0.4062399\ttotal: 258ms\tremaining: 303ms\n",
      "92:\tlearn: 0.4044658\ttotal: 261ms\tremaining: 300ms\n",
      "93:\tlearn: 0.4030179\ttotal: 263ms\tremaining: 297ms\n",
      "94:\tlearn: 0.4012034\ttotal: 266ms\tremaining: 294ms\n",
      "95:\tlearn: 0.3994677\ttotal: 268ms\tremaining: 291ms\n",
      "96:\tlearn: 0.3983236\ttotal: 271ms\tremaining: 288ms\n",
      "97:\tlearn: 0.3969830\ttotal: 275ms\tremaining: 286ms\n",
      "98:\tlearn: 0.3955620\ttotal: 278ms\tremaining: 284ms\n",
      "99:\tlearn: 0.3946122\ttotal: 281ms\tremaining: 281ms\n",
      "100:\tlearn: 0.3932345\ttotal: 284ms\tremaining: 278ms\n",
      "101:\tlearn: 0.3920746\ttotal: 287ms\tremaining: 276ms\n",
      "102:\tlearn: 0.3911707\ttotal: 291ms\tremaining: 274ms\n",
      "103:\tlearn: 0.3895752\ttotal: 294ms\tremaining: 272ms\n",
      "104:\tlearn: 0.3880976\ttotal: 298ms\tremaining: 269ms\n",
      "105:\tlearn: 0.3867508\ttotal: 303ms\tremaining: 268ms\n",
      "106:\tlearn: 0.3855281\ttotal: 307ms\tremaining: 267ms\n",
      "107:\tlearn: 0.3841015\ttotal: 310ms\tremaining: 264ms\n",
      "108:\tlearn: 0.3829276\ttotal: 314ms\tremaining: 262ms\n",
      "109:\tlearn: 0.3818795\ttotal: 318ms\tremaining: 260ms\n",
      "110:\tlearn: 0.3809667\ttotal: 322ms\tremaining: 258ms\n",
      "111:\tlearn: 0.3790017\ttotal: 326ms\tremaining: 256ms\n",
      "112:\tlearn: 0.3774333\ttotal: 329ms\tremaining: 254ms\n",
      "113:\tlearn: 0.3762372\ttotal: 333ms\tremaining: 251ms\n",
      "114:\tlearn: 0.3750418\ttotal: 336ms\tremaining: 248ms\n",
      "115:\tlearn: 0.3735203\ttotal: 339ms\tremaining: 245ms\n",
      "116:\tlearn: 0.3727671\ttotal: 342ms\tremaining: 243ms\n",
      "117:\tlearn: 0.3713847\ttotal: 346ms\tremaining: 240ms\n",
      "118:\tlearn: 0.3705588\ttotal: 348ms\tremaining: 237ms\n",
      "119:\tlearn: 0.3694386\ttotal: 351ms\tremaining: 234ms\n",
      "120:\tlearn: 0.3687438\ttotal: 354ms\tremaining: 231ms\n",
      "121:\tlearn: 0.3679429\ttotal: 357ms\tremaining: 228ms\n",
      "122:\tlearn: 0.3666192\ttotal: 360ms\tremaining: 225ms\n",
      "123:\tlearn: 0.3654787\ttotal: 362ms\tremaining: 222ms\n",
      "124:\tlearn: 0.3643185\ttotal: 365ms\tremaining: 219ms\n",
      "125:\tlearn: 0.3636195\ttotal: 368ms\tremaining: 216ms\n",
      "126:\tlearn: 0.3625184\ttotal: 371ms\tremaining: 213ms\n",
      "127:\tlearn: 0.3609778\ttotal: 374ms\tremaining: 210ms\n",
      "128:\tlearn: 0.3595979\ttotal: 376ms\tremaining: 207ms\n",
      "129:\tlearn: 0.3583702\ttotal: 379ms\tremaining: 204ms\n",
      "130:\tlearn: 0.3569225\ttotal: 381ms\tremaining: 201ms\n",
      "131:\tlearn: 0.3558535\ttotal: 384ms\tremaining: 198ms\n",
      "132:\tlearn: 0.3548312\ttotal: 387ms\tremaining: 195ms\n",
      "133:\tlearn: 0.3533459\ttotal: 389ms\tremaining: 192ms\n",
      "134:\tlearn: 0.3524239\ttotal: 392ms\tremaining: 189ms\n",
      "135:\tlearn: 0.3517958\ttotal: 394ms\tremaining: 186ms\n",
      "136:\tlearn: 0.3504984\ttotal: 397ms\tremaining: 182ms\n",
      "137:\tlearn: 0.3497339\ttotal: 399ms\tremaining: 179ms\n",
      "138:\tlearn: 0.3488643\ttotal: 402ms\tremaining: 176ms\n",
      "139:\tlearn: 0.3482265\ttotal: 404ms\tremaining: 173ms\n",
      "140:\tlearn: 0.3470774\ttotal: 407ms\tremaining: 170ms\n",
      "141:\tlearn: 0.3458237\ttotal: 409ms\tremaining: 167ms\n",
      "142:\tlearn: 0.3445470\ttotal: 411ms\tremaining: 164ms\n",
      "143:\tlearn: 0.3436377\ttotal: 414ms\tremaining: 161ms\n",
      "144:\tlearn: 0.3426585\ttotal: 416ms\tremaining: 158ms\n",
      "145:\tlearn: 0.3417233\ttotal: 419ms\tremaining: 155ms\n",
      "146:\tlearn: 0.3407541\ttotal: 422ms\tremaining: 152ms\n",
      "147:\tlearn: 0.3397798\ttotal: 424ms\tremaining: 149ms\n",
      "148:\tlearn: 0.3390128\ttotal: 426ms\tremaining: 146ms\n",
      "149:\tlearn: 0.3381272\ttotal: 429ms\tremaining: 143ms\n",
      "150:\tlearn: 0.3374740\ttotal: 431ms\tremaining: 140ms\n",
      "151:\tlearn: 0.3365500\ttotal: 434ms\tremaining: 137ms\n",
      "152:\tlearn: 0.3358489\ttotal: 436ms\tremaining: 134ms\n",
      "153:\tlearn: 0.3346096\ttotal: 439ms\tremaining: 131ms\n",
      "154:\tlearn: 0.3335622\ttotal: 441ms\tremaining: 128ms\n",
      "155:\tlearn: 0.3330435\ttotal: 443ms\tremaining: 125ms\n",
      "156:\tlearn: 0.3323843\ttotal: 446ms\tremaining: 122ms\n",
      "157:\tlearn: 0.3312172\ttotal: 448ms\tremaining: 119ms\n",
      "158:\tlearn: 0.3299437\ttotal: 451ms\tremaining: 116ms\n",
      "159:\tlearn: 0.3286515\ttotal: 453ms\tremaining: 113ms\n",
      "160:\tlearn: 0.3275885\ttotal: 455ms\tremaining: 110ms\n",
      "161:\tlearn: 0.3266739\ttotal: 458ms\tremaining: 107ms\n",
      "162:\tlearn: 0.3258986\ttotal: 460ms\tremaining: 105ms\n",
      "163:\tlearn: 0.3249133\ttotal: 463ms\tremaining: 102ms\n",
      "164:\tlearn: 0.3241480\ttotal: 466ms\tremaining: 98.8ms\n",
      "165:\tlearn: 0.3237404\ttotal: 468ms\tremaining: 95.9ms\n",
      "166:\tlearn: 0.3228217\ttotal: 471ms\tremaining: 93ms\n",
      "167:\tlearn: 0.3218088\ttotal: 473ms\tremaining: 90.1ms\n",
      "168:\tlearn: 0.3209179\ttotal: 475ms\tremaining: 87.1ms\n",
      "169:\tlearn: 0.3200101\ttotal: 477ms\tremaining: 84.3ms\n",
      "170:\tlearn: 0.3188984\ttotal: 480ms\tremaining: 81.5ms\n",
      "171:\tlearn: 0.3178642\ttotal: 483ms\tremaining: 78.6ms\n",
      "172:\tlearn: 0.3172455\ttotal: 485ms\tremaining: 75.7ms\n",
      "173:\tlearn: 0.3166261\ttotal: 488ms\tremaining: 72.8ms\n",
      "174:\tlearn: 0.3157320\ttotal: 490ms\tremaining: 70ms\n",
      "175:\tlearn: 0.3149761\ttotal: 492ms\tremaining: 67.1ms\n",
      "176:\tlearn: 0.3142430\ttotal: 495ms\tremaining: 64.3ms\n",
      "177:\tlearn: 0.3138263\ttotal: 497ms\tremaining: 61.5ms\n",
      "178:\tlearn: 0.3133229\ttotal: 500ms\tremaining: 58.6ms\n",
      "179:\tlearn: 0.3124656\ttotal: 502ms\tremaining: 55.8ms\n",
      "180:\tlearn: 0.3114844\ttotal: 505ms\tremaining: 53ms\n",
      "181:\tlearn: 0.3109799\ttotal: 507ms\tremaining: 50.2ms\n",
      "182:\tlearn: 0.3105137\ttotal: 510ms\tremaining: 47.4ms\n",
      "183:\tlearn: 0.3094123\ttotal: 512ms\tremaining: 44.6ms\n",
      "184:\tlearn: 0.3087045\ttotal: 515ms\tremaining: 41.8ms\n",
      "185:\tlearn: 0.3079423\ttotal: 517ms\tremaining: 38.9ms\n",
      "186:\tlearn: 0.3071831\ttotal: 520ms\tremaining: 36.1ms\n",
      "187:\tlearn: 0.3061123\ttotal: 523ms\tremaining: 33.4ms\n",
      "188:\tlearn: 0.3054302\ttotal: 526ms\tremaining: 30.6ms\n",
      "189:\tlearn: 0.3048047\ttotal: 529ms\tremaining: 27.8ms\n",
      "190:\tlearn: 0.3042241\ttotal: 532ms\tremaining: 25ms\n",
      "191:\tlearn: 0.3036602\ttotal: 534ms\tremaining: 22.2ms\n",
      "192:\tlearn: 0.3028507\ttotal: 537ms\tremaining: 19.5ms\n",
      "193:\tlearn: 0.3019733\ttotal: 539ms\tremaining: 16.7ms\n",
      "194:\tlearn: 0.3009586\ttotal: 542ms\tremaining: 13.9ms\n",
      "195:\tlearn: 0.3001835\ttotal: 545ms\tremaining: 11.1ms\n",
      "196:\tlearn: 0.2999266\ttotal: 546ms\tremaining: 8.32ms\n",
      "197:\tlearn: 0.2993811\ttotal: 549ms\tremaining: 5.55ms\n",
      "198:\tlearn: 0.2986293\ttotal: 552ms\tremaining: 2.77ms\n",
      "199:\tlearn: 0.2980044\ttotal: 555ms\tremaining: 0us\n"
     ]
    },
    {
     "data": {
      "text/plain": [
       "{'depth': 8, 'iterations': 200, 'learning_rate': 0.01}"
      ]
     },
     "execution_count": 166,
     "metadata": {},
     "output_type": "execute_result"
    }
   ],
   "source": [
    "catb = CatBoostClassifier()\n",
    "catb_cv_model = GridSearchCV(catb, catb_params, cv=5, n_jobs = -1, verbose = 2)\n",
    "catb_cv_model.fit(X_train, y_train)\n",
    "catb_cv_model.best_params_"
   ]
  },
  {
   "cell_type": "code",
   "execution_count": 167,
   "id": "c308ebbf-82c8-4b48-b050-ce6b9082b422",
   "metadata": {},
   "outputs": [
    {
     "data": {
      "text/plain": [
       "{'depth': 8, 'iterations': 200, 'learning_rate': 0.01}"
      ]
     },
     "execution_count": 167,
     "metadata": {},
     "output_type": "execute_result"
    }
   ],
   "source": [
    "catb_cv_model.best_params_"
   ]
  },
  {
   "cell_type": "code",
   "execution_count": 168,
   "id": "c648fba4-c42b-4511-92cc-2223d1b2b462",
   "metadata": {},
   "outputs": [
    {
     "name": "stdout",
     "output_type": "stream",
     "text": [
      "0:\tlearn: 0.6616270\ttotal: 1.03ms\tremaining: 205ms\n",
      "1:\tlearn: 0.6400322\ttotal: 2.09ms\tremaining: 207ms\n",
      "2:\tlearn: 0.6218089\ttotal: 3.05ms\tremaining: 201ms\n",
      "3:\tlearn: 0.6091426\ttotal: 4.06ms\tremaining: 199ms\n",
      "4:\tlearn: 0.5937764\ttotal: 5.16ms\tremaining: 201ms\n",
      "5:\tlearn: 0.5776944\ttotal: 6.32ms\tremaining: 204ms\n",
      "6:\tlearn: 0.5640806\ttotal: 7.33ms\tremaining: 202ms\n",
      "7:\tlearn: 0.5465023\ttotal: 8.17ms\tremaining: 196ms\n",
      "8:\tlearn: 0.5342910\ttotal: 9.37ms\tremaining: 199ms\n",
      "9:\tlearn: 0.5253110\ttotal: 10.3ms\tremaining: 196ms\n",
      "10:\tlearn: 0.5152173\ttotal: 11.2ms\tremaining: 192ms\n",
      "11:\tlearn: 0.5038768\ttotal: 11.9ms\tremaining: 186ms\n",
      "12:\tlearn: 0.4940545\ttotal: 12.6ms\tremaining: 182ms\n",
      "13:\tlearn: 0.4868880\ttotal: 13.4ms\tremaining: 178ms\n",
      "14:\tlearn: 0.4799839\ttotal: 14.2ms\tremaining: 175ms\n",
      "15:\tlearn: 0.4744068\ttotal: 15ms\tremaining: 173ms\n",
      "16:\tlearn: 0.4684004\ttotal: 15.9ms\tremaining: 171ms\n",
      "17:\tlearn: 0.4618850\ttotal: 16.6ms\tremaining: 168ms\n",
      "18:\tlearn: 0.4560376\ttotal: 17.4ms\tremaining: 166ms\n",
      "19:\tlearn: 0.4520084\ttotal: 18.2ms\tremaining: 164ms\n",
      "20:\tlearn: 0.4496671\ttotal: 18.9ms\tremaining: 161ms\n",
      "21:\tlearn: 0.4455551\ttotal: 19.7ms\tremaining: 160ms\n",
      "22:\tlearn: 0.4422781\ttotal: 20.8ms\tremaining: 160ms\n",
      "23:\tlearn: 0.4386630\ttotal: 21.6ms\tremaining: 158ms\n",
      "24:\tlearn: 0.4349463\ttotal: 22.5ms\tremaining: 158ms\n",
      "25:\tlearn: 0.4309778\ttotal: 24.1ms\tremaining: 161ms\n",
      "26:\tlearn: 0.4266714\ttotal: 26.2ms\tremaining: 168ms\n",
      "27:\tlearn: 0.4234692\ttotal: 27.3ms\tremaining: 168ms\n",
      "28:\tlearn: 0.4208624\ttotal: 28.3ms\tremaining: 167ms\n",
      "29:\tlearn: 0.4172232\ttotal: 29.3ms\tremaining: 166ms\n",
      "30:\tlearn: 0.4133147\ttotal: 30.2ms\tremaining: 165ms\n",
      "31:\tlearn: 0.4101905\ttotal: 31.1ms\tremaining: 163ms\n",
      "32:\tlearn: 0.4066286\ttotal: 32ms\tremaining: 162ms\n",
      "33:\tlearn: 0.4044740\ttotal: 32.9ms\tremaining: 161ms\n",
      "34:\tlearn: 0.4022900\ttotal: 33.7ms\tremaining: 159ms\n",
      "35:\tlearn: 0.3999429\ttotal: 34.4ms\tremaining: 157ms\n",
      "36:\tlearn: 0.3962978\ttotal: 35.2ms\tremaining: 155ms\n",
      "37:\tlearn: 0.3933701\ttotal: 36ms\tremaining: 153ms\n",
      "38:\tlearn: 0.3912523\ttotal: 36.9ms\tremaining: 152ms\n",
      "39:\tlearn: 0.3893302\ttotal: 37.8ms\tremaining: 151ms\n",
      "40:\tlearn: 0.3875203\ttotal: 39ms\tremaining: 151ms\n",
      "41:\tlearn: 0.3849304\ttotal: 40.4ms\tremaining: 152ms\n",
      "42:\tlearn: 0.3813299\ttotal: 41.3ms\tremaining: 151ms\n",
      "43:\tlearn: 0.3795402\ttotal: 42.1ms\tremaining: 149ms\n",
      "44:\tlearn: 0.3777184\ttotal: 42.9ms\tremaining: 148ms\n",
      "45:\tlearn: 0.3756954\ttotal: 43.6ms\tremaining: 146ms\n",
      "46:\tlearn: 0.3745321\ttotal: 44.3ms\tremaining: 144ms\n",
      "47:\tlearn: 0.3721354\ttotal: 45ms\tremaining: 143ms\n",
      "48:\tlearn: 0.3685780\ttotal: 45.7ms\tremaining: 141ms\n",
      "49:\tlearn: 0.3666452\ttotal: 46.4ms\tremaining: 139ms\n",
      "50:\tlearn: 0.3644728\ttotal: 47.2ms\tremaining: 138ms\n",
      "51:\tlearn: 0.3625128\ttotal: 47.9ms\tremaining: 136ms\n",
      "52:\tlearn: 0.3611870\ttotal: 48.6ms\tremaining: 135ms\n",
      "53:\tlearn: 0.3603816\ttotal: 49.3ms\tremaining: 133ms\n",
      "54:\tlearn: 0.3589946\ttotal: 50ms\tremaining: 132ms\n",
      "55:\tlearn: 0.3575038\ttotal: 50.7ms\tremaining: 130ms\n",
      "56:\tlearn: 0.3554533\ttotal: 51.5ms\tremaining: 129ms\n",
      "57:\tlearn: 0.3544004\ttotal: 52.2ms\tremaining: 128ms\n",
      "58:\tlearn: 0.3526026\ttotal: 52.9ms\tremaining: 126ms\n",
      "59:\tlearn: 0.3511301\ttotal: 53.8ms\tremaining: 126ms\n",
      "60:\tlearn: 0.3494133\ttotal: 55.2ms\tremaining: 126ms\n",
      "61:\tlearn: 0.3483027\ttotal: 56.4ms\tremaining: 126ms\n",
      "62:\tlearn: 0.3451450\ttotal: 57.1ms\tremaining: 124ms\n",
      "63:\tlearn: 0.3435204\ttotal: 57.9ms\tremaining: 123ms\n",
      "64:\tlearn: 0.3422728\ttotal: 58.6ms\tremaining: 122ms\n",
      "65:\tlearn: 0.3398199\ttotal: 59.3ms\tremaining: 120ms\n",
      "66:\tlearn: 0.3384822\ttotal: 60.1ms\tremaining: 119ms\n",
      "67:\tlearn: 0.3351317\ttotal: 60.8ms\tremaining: 118ms\n",
      "68:\tlearn: 0.3340115\ttotal: 61.5ms\tremaining: 117ms\n",
      "69:\tlearn: 0.3331121\ttotal: 62.3ms\tremaining: 116ms\n",
      "70:\tlearn: 0.3316302\ttotal: 63ms\tremaining: 114ms\n",
      "71:\tlearn: 0.3301733\ttotal: 63.7ms\tremaining: 113ms\n",
      "72:\tlearn: 0.3295149\ttotal: 64.4ms\tremaining: 112ms\n",
      "73:\tlearn: 0.3284217\ttotal: 65.3ms\tremaining: 111ms\n",
      "74:\tlearn: 0.3279660\ttotal: 66ms\tremaining: 110ms\n",
      "75:\tlearn: 0.3268952\ttotal: 66.7ms\tremaining: 109ms\n",
      "76:\tlearn: 0.3254518\ttotal: 67.4ms\tremaining: 108ms\n",
      "77:\tlearn: 0.3241106\ttotal: 68.2ms\tremaining: 107ms\n",
      "78:\tlearn: 0.3228759\ttotal: 69.1ms\tremaining: 106ms\n",
      "79:\tlearn: 0.3219436\ttotal: 69.9ms\tremaining: 105ms\n",
      "80:\tlearn: 0.3206056\ttotal: 70.7ms\tremaining: 104ms\n",
      "81:\tlearn: 0.3191827\ttotal: 71.4ms\tremaining: 103ms\n",
      "82:\tlearn: 0.3170886\ttotal: 72.1ms\tremaining: 102ms\n",
      "83:\tlearn: 0.3160838\ttotal: 72.9ms\tremaining: 101ms\n",
      "84:\tlearn: 0.3150899\ttotal: 73.6ms\tremaining: 99.6ms\n",
      "85:\tlearn: 0.3140124\ttotal: 74.3ms\tremaining: 98.5ms\n",
      "86:\tlearn: 0.3130193\ttotal: 75ms\tremaining: 97.5ms\n",
      "87:\tlearn: 0.3106871\ttotal: 75.8ms\tremaining: 96.4ms\n",
      "88:\tlearn: 0.3086032\ttotal: 76.5ms\tremaining: 95.4ms\n",
      "89:\tlearn: 0.3064108\ttotal: 77.2ms\tremaining: 94.4ms\n",
      "90:\tlearn: 0.3045562\ttotal: 77.9ms\tremaining: 93.4ms\n",
      "91:\tlearn: 0.3036883\ttotal: 78.7ms\tremaining: 92.3ms\n",
      "92:\tlearn: 0.3032737\ttotal: 79.4ms\tremaining: 91.3ms\n",
      "93:\tlearn: 0.3023179\ttotal: 80.1ms\tremaining: 90.3ms\n",
      "94:\tlearn: 0.3009276\ttotal: 80.8ms\tremaining: 89.4ms\n",
      "95:\tlearn: 0.2995992\ttotal: 81.6ms\tremaining: 88.4ms\n",
      "96:\tlearn: 0.2985231\ttotal: 82.3ms\tremaining: 87.4ms\n",
      "97:\tlearn: 0.2976560\ttotal: 83.2ms\tremaining: 86.6ms\n",
      "98:\tlearn: 0.2963154\ttotal: 84.1ms\tremaining: 85.8ms\n",
      "99:\tlearn: 0.2953531\ttotal: 85ms\tremaining: 85ms\n",
      "100:\tlearn: 0.2938846\ttotal: 86ms\tremaining: 84.3ms\n",
      "101:\tlearn: 0.2921889\ttotal: 86.8ms\tremaining: 83.4ms\n",
      "102:\tlearn: 0.2912674\ttotal: 87.7ms\tremaining: 82.6ms\n",
      "103:\tlearn: 0.2908713\ttotal: 88.4ms\tremaining: 81.6ms\n",
      "104:\tlearn: 0.2899328\ttotal: 89.2ms\tremaining: 80.7ms\n",
      "105:\tlearn: 0.2890519\ttotal: 89.9ms\tremaining: 79.7ms\n",
      "106:\tlearn: 0.2877014\ttotal: 90.6ms\tremaining: 78.8ms\n",
      "107:\tlearn: 0.2861653\ttotal: 91.3ms\tremaining: 77.8ms\n",
      "108:\tlearn: 0.2856113\ttotal: 92.1ms\tremaining: 76.9ms\n",
      "109:\tlearn: 0.2849766\ttotal: 92.9ms\tremaining: 76ms\n",
      "110:\tlearn: 0.2834395\ttotal: 93.6ms\tremaining: 75ms\n",
      "111:\tlearn: 0.2827715\ttotal: 94.3ms\tremaining: 74.1ms\n",
      "112:\tlearn: 0.2818655\ttotal: 95.1ms\tremaining: 73.2ms\n",
      "113:\tlearn: 0.2807385\ttotal: 96.1ms\tremaining: 72.5ms\n",
      "114:\tlearn: 0.2796023\ttotal: 97ms\tremaining: 71.7ms\n",
      "115:\tlearn: 0.2784442\ttotal: 97.8ms\tremaining: 70.8ms\n",
      "116:\tlearn: 0.2768195\ttotal: 98.7ms\tremaining: 70ms\n",
      "117:\tlearn: 0.2764916\ttotal: 99.5ms\tremaining: 69.1ms\n",
      "118:\tlearn: 0.2746645\ttotal: 100ms\tremaining: 68.3ms\n",
      "119:\tlearn: 0.2741106\ttotal: 101ms\tremaining: 67.4ms\n",
      "120:\tlearn: 0.2735159\ttotal: 102ms\tremaining: 66.5ms\n",
      "121:\tlearn: 0.2730517\ttotal: 103ms\tremaining: 65.6ms\n",
      "122:\tlearn: 0.2722698\ttotal: 103ms\tremaining: 64.7ms\n",
      "123:\tlearn: 0.2716146\ttotal: 104ms\tremaining: 63.8ms\n",
      "124:\tlearn: 0.2700179\ttotal: 105ms\tremaining: 62.8ms\n",
      "125:\tlearn: 0.2696332\ttotal: 106ms\tremaining: 62ms\n",
      "126:\tlearn: 0.2687926\ttotal: 106ms\tremaining: 61.1ms\n",
      "127:\tlearn: 0.2678068\ttotal: 107ms\tremaining: 60.2ms\n",
      "128:\tlearn: 0.2670116\ttotal: 108ms\tremaining: 59.4ms\n",
      "129:\tlearn: 0.2661414\ttotal: 109ms\tremaining: 58.5ms\n",
      "130:\tlearn: 0.2650632\ttotal: 109ms\tremaining: 57.7ms\n",
      "131:\tlearn: 0.2648298\ttotal: 110ms\tremaining: 56.8ms\n",
      "132:\tlearn: 0.2641863\ttotal: 111ms\tremaining: 56ms\n",
      "133:\tlearn: 0.2633376\ttotal: 112ms\tremaining: 55.1ms\n",
      "134:\tlearn: 0.2624161\ttotal: 113ms\tremaining: 54.2ms\n",
      "135:\tlearn: 0.2618961\ttotal: 113ms\tremaining: 53.4ms\n",
      "136:\tlearn: 0.2610856\ttotal: 114ms\tremaining: 52.5ms\n",
      "137:\tlearn: 0.2603948\ttotal: 115ms\tremaining: 51.7ms\n",
      "138:\tlearn: 0.2588774\ttotal: 116ms\tremaining: 50.8ms\n",
      "139:\tlearn: 0.2572880\ttotal: 116ms\tremaining: 49.9ms\n",
      "140:\tlearn: 0.2563731\ttotal: 117ms\tremaining: 49ms\n",
      "141:\tlearn: 0.2556204\ttotal: 118ms\tremaining: 48.2ms\n",
      "142:\tlearn: 0.2547857\ttotal: 119ms\tremaining: 47.3ms\n",
      "143:\tlearn: 0.2529240\ttotal: 119ms\tremaining: 46.4ms\n",
      "144:\tlearn: 0.2521550\ttotal: 120ms\tremaining: 45.6ms\n",
      "145:\tlearn: 0.2513649\ttotal: 121ms\tremaining: 44.8ms\n",
      "146:\tlearn: 0.2497788\ttotal: 122ms\tremaining: 44ms\n",
      "147:\tlearn: 0.2479468\ttotal: 123ms\tremaining: 43.1ms\n",
      "148:\tlearn: 0.2466481\ttotal: 124ms\tremaining: 42.3ms\n",
      "149:\tlearn: 0.2460545\ttotal: 124ms\tremaining: 41.4ms\n",
      "150:\tlearn: 0.2452748\ttotal: 125ms\tremaining: 40.6ms\n",
      "151:\tlearn: 0.2450248\ttotal: 126ms\tremaining: 39.7ms\n",
      "152:\tlearn: 0.2444881\ttotal: 127ms\tremaining: 38.9ms\n",
      "153:\tlearn: 0.2432526\ttotal: 128ms\tremaining: 38.1ms\n",
      "154:\tlearn: 0.2427632\ttotal: 128ms\tremaining: 37.3ms\n",
      "155:\tlearn: 0.2425398\ttotal: 129ms\tremaining: 36.4ms\n",
      "156:\tlearn: 0.2416328\ttotal: 130ms\tremaining: 35.7ms\n",
      "157:\tlearn: 0.2409543\ttotal: 131ms\tremaining: 34.8ms\n",
      "158:\tlearn: 0.2403395\ttotal: 132ms\tremaining: 34ms\n",
      "159:\tlearn: 0.2395237\ttotal: 133ms\tremaining: 33.1ms\n",
      "160:\tlearn: 0.2390837\ttotal: 133ms\tremaining: 32.3ms\n",
      "161:\tlearn: 0.2384153\ttotal: 134ms\tremaining: 31.4ms\n",
      "162:\tlearn: 0.2376410\ttotal: 135ms\tremaining: 30.6ms\n",
      "163:\tlearn: 0.2366812\ttotal: 136ms\tremaining: 29.7ms\n",
      "164:\tlearn: 0.2348688\ttotal: 136ms\tremaining: 28.9ms\n",
      "165:\tlearn: 0.2344013\ttotal: 137ms\tremaining: 28ms\n",
      "166:\tlearn: 0.2328825\ttotal: 138ms\tremaining: 27.2ms\n",
      "167:\tlearn: 0.2319733\ttotal: 138ms\tremaining: 26.4ms\n",
      "168:\tlearn: 0.2312842\ttotal: 139ms\tremaining: 25.5ms\n",
      "169:\tlearn: 0.2306607\ttotal: 140ms\tremaining: 24.7ms\n",
      "170:\tlearn: 0.2290393\ttotal: 141ms\tremaining: 23.8ms\n",
      "171:\tlearn: 0.2284539\ttotal: 141ms\tremaining: 23ms\n",
      "172:\tlearn: 0.2277365\ttotal: 142ms\tremaining: 22.2ms\n",
      "173:\tlearn: 0.2257754\ttotal: 143ms\tremaining: 21.3ms\n",
      "174:\tlearn: 0.2252312\ttotal: 143ms\tremaining: 20.5ms\n",
      "175:\tlearn: 0.2233510\ttotal: 144ms\tremaining: 19.7ms\n",
      "176:\tlearn: 0.2228426\ttotal: 145ms\tremaining: 18.8ms\n",
      "177:\tlearn: 0.2223245\ttotal: 146ms\tremaining: 18ms\n",
      "178:\tlearn: 0.2206959\ttotal: 146ms\tremaining: 17.2ms\n",
      "179:\tlearn: 0.2199697\ttotal: 147ms\tremaining: 16.3ms\n",
      "180:\tlearn: 0.2193349\ttotal: 148ms\tremaining: 15.5ms\n",
      "181:\tlearn: 0.2184913\ttotal: 149ms\tremaining: 14.7ms\n",
      "182:\tlearn: 0.2180382\ttotal: 149ms\tremaining: 13.9ms\n",
      "183:\tlearn: 0.2175915\ttotal: 150ms\tremaining: 13ms\n",
      "184:\tlearn: 0.2170264\ttotal: 151ms\tremaining: 12.2ms\n",
      "185:\tlearn: 0.2166247\ttotal: 151ms\tremaining: 11.4ms\n",
      "186:\tlearn: 0.2162110\ttotal: 152ms\tremaining: 10.6ms\n",
      "187:\tlearn: 0.2155026\ttotal: 153ms\tremaining: 9.76ms\n",
      "188:\tlearn: 0.2152076\ttotal: 154ms\tremaining: 8.95ms\n",
      "189:\tlearn: 0.2138091\ttotal: 154ms\tremaining: 8.13ms\n",
      "190:\tlearn: 0.2122243\ttotal: 155ms\tremaining: 7.31ms\n",
      "191:\tlearn: 0.2109937\ttotal: 156ms\tremaining: 6.5ms\n",
      "192:\tlearn: 0.2099906\ttotal: 157ms\tremaining: 5.68ms\n",
      "193:\tlearn: 0.2095110\ttotal: 157ms\tremaining: 4.87ms\n",
      "194:\tlearn: 0.2084723\ttotal: 158ms\tremaining: 4.05ms\n",
      "195:\tlearn: 0.2076215\ttotal: 159ms\tremaining: 3.24ms\n",
      "196:\tlearn: 0.2071555\ttotal: 159ms\tremaining: 2.43ms\n",
      "197:\tlearn: 0.2064088\ttotal: 160ms\tremaining: 1.62ms\n",
      "198:\tlearn: 0.2062316\ttotal: 161ms\tremaining: 808us\n",
      "199:\tlearn: 0.2056560\ttotal: 162ms\tremaining: 0us\n"
     ]
    }
   ],
   "source": [
    "catb = CatBoostClassifier(iterations = 200, \n",
    "                          learning_rate = 0.05, \n",
    "                          depth = 5)\n",
    "\n",
    "catb_tuned = catb.fit(X_train, y_train)\n",
    "y_pred = catb_tuned.predict(X_test)"
   ]
  },
  {
   "cell_type": "code",
   "execution_count": 169,
   "id": "cdc5ce75-1a03-4750-a461-5cc2d39bd16f",
   "metadata": {},
   "outputs": [
    {
     "data": {
      "text/plain": [
       "0.7445887445887446"
      ]
     },
     "execution_count": 169,
     "metadata": {},
     "output_type": "execute_result"
    }
   ],
   "source": [
    "y_pred = catb_tuned.predict(X_test)\n",
    "accuracy_score(y_test, y_pred)"
   ]
  },
  {
   "cell_type": "markdown",
   "id": "27efe077-4052-4505-a97e-947e44797270",
   "metadata": {},
   "source": [
    "# Tüm Modellerin Karşılaştırılması"
   ]
  },
  {
   "cell_type": "code",
   "execution_count": 170,
   "id": "92105c8f-0be9-4a14-99b1-3be3a399e965",
   "metadata": {},
   "outputs": [
    {
     "name": "stdout",
     "output_type": "stream",
     "text": [
      "----------------------------\n",
      "KNeighborsClassifier:\n",
      "Accuracy: 73.1602%\n",
      "----------------------------\n",
      "LogisticRegression:\n",
      "Accuracy: 75.3247%\n",
      "----------------------------\n",
      "SVC:\n",
      "Accuracy: 73.5931%\n",
      "----------------------------\n",
      "GaussianNB:\n",
      "Accuracy: 74.4589%\n",
      "----------------------------\n",
      "MLPClassifier:\n",
      "Accuracy: 34.6320%\n",
      "----------------------------\n",
      "DecisionTreeClassifier:\n",
      "Accuracy: 75.3247%\n",
      "----------------------------\n",
      "RandomForestClassifier:\n",
      "Accuracy: 75.7576%\n",
      "----------------------------\n",
      "GradientBoostingClassifier:\n",
      "Accuracy: 74.8918%\n",
      "----------------------------\n",
      "CatBoostClassifier:\n",
      "Accuracy: 74.4589%\n",
      "----------------------------\n",
      "LGBMClassifier:\n",
      "Accuracy: 75.3247%\n",
      "----------------------------\n",
      "XGBClassifier:\n",
      "Accuracy: 74.4589%\n"
     ]
    }
   ],
   "source": [
    "modeller = [\n",
    "    knn_tuned,\n",
    "    loj_model,\n",
    "    svc_tuned,\n",
    "    nb_model,\n",
    "    mlpc_tuned,\n",
    "    cart_tuned,\n",
    "    rf_tuned,\n",
    "    gbm_tuned,\n",
    "    catb_tuned,\n",
    "    lgbm_tuned,\n",
    "    xgb_tuned\n",
    "    \n",
    "]\n",
    "\n",
    "\n",
    "for model in modeller:\n",
    "    isimler = model.__class__.__name__\n",
    "    y_pred = model.predict(X_test)\n",
    "    dogruluk = accuracy_score(y_test, y_pred)\n",
    "    print(\"-\"*28)\n",
    "    print(isimler + \":\" )\n",
    "    print(\"Accuracy: {:.4%}\".format(dogruluk))"
   ]
  },
  {
   "cell_type": "code",
   "execution_count": 171,
   "id": "1f5c77e8-74b2-4ff2-af0c-58977e014c21",
   "metadata": {},
   "outputs": [
    {
     "data": {
      "image/png": "[encoded data removed]",
      "text/plain": [
       "<Figure size 432x288 with 1 Axes>"
      ]
     },
     "metadata": {
      "needs_background": "light"
     },
     "output_type": "display_data"
    }
   ],
   "source": [
    "sonuc = []\n",
    "\n",
    "sonuclar = pd.DataFrame(columns= [\"Modeller\",\"Accuracy\"])\n",
    "\n",
    "for model in modeller:\n",
    "    isimler = model.__class__.__name__\n",
    "    y_pred = model.predict(X_test)\n",
    "    dogruluk = accuracy_score(y_test, y_pred)    \n",
    "    sonuc = pd.DataFrame([[isimler, dogruluk*100]], columns= [\"Modeller\",\"Accuracy\"])\n",
    "    sonuclar = sonuclar.append(sonuc)\n",
    "    \n",
    "    \n",
    "sns.barplot(x= 'Accuracy', y = 'Modeller', data=sonuclar, color=\"r\")\n",
    "plt.xlabel('Accuracy %')\n",
    "plt.title('Modellerin Doğruluk Oranları');    "
   ]
  },
  {
   "cell_type": "code",
   "execution_count": null,
   "id": "034efb5a-c4c1-4df4-a4ae-ff31ccda74ed",
   "metadata": {},
   "outputs": [],
   "source": []
  }
 ],
 "metadata": {
  "kernelspec": {
   "display_name": "Python 3 (ipykernel)",
   "language": "python",
   "name": "python3"
  },
  "language_info": {
   "codemirror_mode": {
    "name": "ipython",
    "version": 3
   },
   "file_extension": ".py",
   "mimetype": "text/x-python",
   "name": "python",
   "nbconvert_exporter": "python",
   "pygments_lexer": "ipython3",
   "version": "3.9.7"
  }
 },
 "nbformat": 4,
 "nbformat_minor": 5
}
